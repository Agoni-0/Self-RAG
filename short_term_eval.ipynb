{
 "cells": [
  {
   "cell_type": "markdown",
   "id": "356702d9-8762-4786-a1be-38215a53eac6",
   "metadata": {},
   "source": [
    "短文本"
   ]
  },
  {
   "cell_type": "code",
   "execution_count": 1,
   "id": "d948f049-ce1d-47b6-9110-34497173a529",
   "metadata": {},
   "outputs": [],
   "source": [
    "#!/usr/bin/python\n",
    "# -*- coding: UTF-8 -*-\n",
    "\n",
    "import spacy\n",
    "import jsonlines\n",
    "from transformers import AutoTokenizer, AutoModelForCausalLM\n",
    "from vllm import LLM, SamplingParams\n",
    "import random\n",
    "import torch\n",
    "import os\n",
    "import numpy as np\n",
    "import openai\n",
    "from tqdm import tqdm\n",
    "import json\n",
    "import argparse\n",
    "import ast\n",
    "import re\n",
    "from tqdm import tqdm\n",
    "from collections import Counter\n",
    "import string\n",
    "import sys\n",
    "import time\n",
    "from utils import PROMPT_DICT, TASK_INST, load_jsonlines, control_tokens, load_special_tokens\n",
    "from metrics import match, accuracy\n",
    "\n",
    "import torch, gc"
   ]
  },
  {
   "cell_type": "code",
   "execution_count": 2,
   "id": "598514b9-c527-4420-b62f-a589dfb7618a",
   "metadata": {},
   "outputs": [],
   "source": [
    "gc.collect()\n",
    "torch.cuda.empty_cache()\n",
    "\n",
    "\n",
    "seed = 633\n",
    "\n",
    "torch.backends.cudnn.deterministic = True\n",
    "random.seed(seed)\n",
    "np.random.seed(seed)\n",
    "torch.manual_seed(seed)\n",
    "torch.cuda.manual_seed_all(seed)\n",
    "\n",
    "\n",
    "def postprocess_answer_option_conditioned(answer):\n",
    "    for token in control_tokens:\n",
    "        answer = answer.replace(token, \"\")\n",
    "\n",
    "    if \"</s>\" in answer:\n",
    "        answer = answer.replace(\"</s>\", \"\")\n",
    "    if \"\\n\" in answer:\n",
    "        answer = answer.replace(\"\\n\", \"\")\n",
    "\n",
    "    if \"<|endoftext|>\" in answer:\n",
    "        answer = answer.replace(\"<|endoftext|>\", \"\")\n",
    "\n",
    "    return answer\n",
    "\n",
    "\n",
    "def call_model_rerank_w_scores_batch(prompt, evidences, model, max_new_tokens=15,\n",
    "                                     ret_tokens=None, rel_tokens=None, grd_tokens=None, ut_tokens=None,\n",
    "                                     use_seqscore=False, threshold=0.5,\n",
    "                                     w_rel=1.0, w_sup=1.0, w_use=0.5, mode=\"adaptive_retrieval\", closed=False):\n",
    "    results = {}\n",
    "    score_dict = {}\n",
    "    if mode != \"always_retrieve\":\n",
    "        sampling_params = SamplingParams(\n",
    "            temperature=0.0, top_p=1.0, max_tokens=max_new_tokens, logprobs=32016)\n",
    "        preds = model.generate([prompt], sampling_params)\n",
    "        pred_token_ids = preds[0].outputs[0].token_ids\n",
    "        pred_text = preds[0].outputs[0].text\n",
    "        pred_log_probs = preds[0].outputs[0].logprobs\n",
    "        results[\"no_retrieval\"] = pred_text\n",
    "\n",
    "    # save relevance token scores\n",
    "    if mode == \"always_retrieve\":\n",
    "        do_retrieve = True\n",
    "\n",
    "    elif mode == \"no_retrieval\":\n",
    "        do_retrieve = False\n",
    "\n",
    "    else:\n",
    "        for tok, id in ret_tokens.items():\n",
    "            if id not in pred_log_probs[0]:\n",
    "                score_dict[tok] = 0\n",
    "            else:\n",
    "                prob = pred_log_probs[0][id]\n",
    "                score_dict[tok] = np.exp(float(prob))\n",
    "        do_retrieve = score_dict[\"[Retrieval]\"] / (\n",
    "            score_dict[\"[Retrieval]\"] + score_dict[\"[No Retrieval]\"]) > threshold\n",
    "    if do_retrieve:\n",
    "        evidence_augmented_inputs = [prompt + \"[Retrieval]<paragraph>{0}\\n{1}</paragraph>\".format(\n",
    "            para[\"title\"], para[\"text\"]) for para in evidences]\n",
    "        sampling_params = SamplingParams(\n",
    "            temperature=0.0, top_p=1.0, max_tokens=max_new_tokens, logprobs=5000)\n",
    "        preds = model.generate(evidence_augmented_inputs, sampling_params)\n",
    "\n",
    "        relevance_score_dict = {}\n",
    "        grd_score_dict = {}\n",
    "        ut_score_dict = {}\n",
    "        overall_scores = {}\n",
    "        for p_idx, pred in enumerate(preds):\n",
    "            pred_token_ids = pred.outputs[0].token_ids\n",
    "            pred_text = pred.outputs[0].text\n",
    "            pred_log_probs = pred.outputs[0].logprobs\n",
    "            seq_score = pred.outputs[0].cumulative_logprob / \\\n",
    "                max(len(pred.outputs[0].token_ids), 1)\n",
    "\n",
    "            relevance_score_dict.setdefault(p_idx, {})\n",
    "            grd_score_dict.setdefault(p_idx, {})\n",
    "            ut_score_dict.setdefault(p_idx, {})\n",
    "            # Compute reward scores\n",
    "            for tok, id in rel_tokens.items():\n",
    "                prob = pred_log_probs[0][id] if id in pred_log_probs[0] else -100\n",
    "                relevance_score_dict[p_idx][tok] = np.exp(float(prob))\n",
    "\n",
    "            if grd_tokens is not None:\n",
    "                groundness_token_appear_indices = []\n",
    "                for tok_idx, tok in enumerate(pred_token_ids):\n",
    "                    if tok in list(grd_tokens.values()):\n",
    "                        groundness_token_appear_indices.append(tok_idx)\n",
    "                        break\n",
    "                if len(groundness_token_appear_indices) > 0:\n",
    "                    idx = groundness_token_appear_indices[0]\n",
    "                    for token, token_id in grd_tokens.items():\n",
    "                        prob = pred_log_probs[idx][token_id] if token_id in pred_log_probs[idx] else -100\n",
    "                        grd_score_dict[p_idx][token] = np.exp(float(prob))\n",
    "\n",
    "            if ut_tokens is not None:\n",
    "                utility_token_appear_indices = []\n",
    "                for tok_idx, tok in enumerate(pred_token_ids):\n",
    "                    if tok in list(ut_tokens.values()):\n",
    "                        utility_token_appear_indices.append(tok_idx)\n",
    "                if len(utility_token_appear_indices) > 0:\n",
    "                    idx = utility_token_appear_indices[0]\n",
    "                    for token, token_id in ut_tokens.items():\n",
    "                        prob = pred_log_probs[idx][token_id] if token_id in pred_log_probs[idx] else -100\n",
    "                        ut_score_dict[p_idx][token] = np.exp(float(prob))\n",
    "\n",
    "            relevance_score = relevance_score_dict[p_idx][\"[Relevant]\"] / (\n",
    "                np.sum(list(relevance_score_dict[p_idx].values())))\n",
    "\n",
    "            if len(grd_score_dict[p_idx]) == 3:\n",
    "                gt_sum = np.sum(list(grd_score_dict[p_idx].values()))\n",
    "                ground_score = (grd_score_dict[p_idx][\"[Fully supported]\"] / gt_sum) + 0.5 * (\n",
    "                    grd_score_dict[p_idx][\"[Partially supported]\"] / gt_sum)\n",
    "            else:\n",
    "                ground_score = 0.0\n",
    "\n",
    "            if len(ut_score_dict[p_idx]) == 5:\n",
    "                ut_sum = np.sum(list(ut_score_dict[p_idx].values()))\n",
    "                ut_scores = [-1, -0.5, 0, 0.5, 1]\n",
    "                utility_score = np.sum(\n",
    "                    [ut_scores[i] * (ut_score_dict[p_idx][\"[Utility:{}]\".format(i+1)] / ut_sum) for i in range(len(ut_scores))])\n",
    "            else:\n",
    "                utility_score = 0.0\n",
    "\n",
    "            if use_seqscore is True:\n",
    "                final_score = np.exp(seq_score) + w_rel * relevance_score + \\\n",
    "                    w_sup * ground_score + w_use * utility_score\n",
    "            else:\n",
    "                final_score = w_rel * relevance_score + \\\n",
    "                    w_sup * ground_score + w_use * utility_score\n",
    "\n",
    "            overall_scores[p_idx] = {\"final_score\": final_score,\n",
    "                                     \"relevance_score\": relevance_score,\n",
    "                                     \"ground_score\": ground_score,\n",
    "                                     \"utility_score\": utility_score,\n",
    "                                     \"relevance_score_dict\": relevance_score_dict,\n",
    "                                     \"grd_score_dict\": grd_score_dict,\n",
    "                                     \"ut_score_dict\": utility_score}\n",
    "            score_dict = {\"final_score\": final_score,\n",
    "                          \"relevance_score\": relevance_score,\n",
    "                          \"ground_score\": ground_score,\n",
    "                          \"utility_score\": utility_score}\n",
    "            results[\"retrieval_{}\".format(p_idx)] = {\n",
    "                \"pred\": pred_text, \"score\": final_score, \"score_dict\": score_dict, \"ctx\": evidences[p_idx]}\n",
    "\n",
    "    else:\n",
    "        sampling_params = SamplingParams(\n",
    "            temperature=0.0, top_p=1.0, max_tokens=max_new_tokens)\n",
    "        prompt += \"[No Retrieval]\"\n",
    "        preds = model.generate([prompt], sampling_params)\n",
    "\n",
    "        pred = preds[0].outputs[0].text\n",
    "\n",
    "    # Aggregating answers\n",
    "    if len(results) == 1:\n",
    "        postprocessed_pred = postprocess_answer_option_conditioned(pred)\n",
    "        return postprocessed_pred, results, do_retrieve, score_dict\n",
    "    else:\n",
    "        answer2score = {}\n",
    "        if closed is True:\n",
    "            for key, result in results.items():\n",
    "                if key == \"no_retrieval\":\n",
    "                    continue\n",
    "                answer = postprocess_answer_option_conditioned(result[\"pred\"])\n",
    "                score = result[\"score\"]\n",
    "                answer2score.setdefault(answer, 0)\n",
    "                answer2score[answer] += score\n",
    "            sorted_answers = sorted(\n",
    "                answer2score.items(), key=lambda x: x[1], reverse=True)\n",
    "            best_option = sorted_answers[0][0]\n",
    "        else:\n",
    "            path2score = {key: item[\"score\"] for key,\n",
    "                          item in results.items() if key != \"no_retrieval\"}\n",
    "            best_path = sorted(path2score.items(),\n",
    "                               key=lambda x: x[1], reverse=True)[0][0]\n",
    "            best_option = results[best_path][\"pred\"]\n",
    "        return best_option, results, do_retrieve, score_dict\n",
    "\n",
    "\n",
    "def process_data_evidences(demonstration, top_n):\n",
    "    ctx_key = \"ctxs\" if \"ctxs\" in demonstration else \"top_contexts\"\n",
    "    prompt = PROMPT_DICT[\"prompt_no_input\"].format_map(demonstration)\n",
    "    evidences = demonstration[ctx_key][:top_n]\n",
    "    return prompt, evidences\n",
    "\n",
    "\n",
    "def preprocess_input_data(dataset, task=None):\n",
    "    new_data = []\n",
    "    if task in TASK_INST:\n",
    "        instruction = TASK_INST[task]\n",
    "    else:\n",
    "        instruction = None\n",
    "    for item in dataset:\n",
    "        if task == \"arc_c\":\n",
    "            choices = item[\"choices\"]\n",
    "            answer_labels = {}\n",
    "            for i in range(len(choices[\"label\"])):\n",
    "                answer_key = choices[\"label\"][i]\n",
    "                text = choices[\"text\"][i]\n",
    "                if answer_key == \"1\":\n",
    "                    answer_labels[\"A\"] = text\n",
    "                if answer_key == \"2\":\n",
    "                    answer_labels[\"B\"] = text\n",
    "                if answer_key == \"3\":\n",
    "                    answer_labels[\"C\"] = text\n",
    "                if answer_key == \"4\":\n",
    "                    answer_labels[\"D\"] = text\n",
    "                if answer_key in [\"A\", \"B\", \"C\", \"D\"]:\n",
    "                    answer_labels[answer_key] = text\n",
    "\n",
    "            if \"D\" not in answer_labels:\n",
    "                answer_labels[\"D\"] = \"\"\n",
    "            choices = \"\\nA: {0}\\nB: {1}\\nC: {2}\\nD: {3}\".format(\n",
    "                answer_labels[\"A\"], answer_labels[\"B\"], answer_labels[\"C\"], answer_labels[\"D\"])\n",
    "            if \"E\" in answer_labels:\n",
    "                choices += \"\\nE: {}\".format(answer_labels[\"E\"])\n",
    "            item[\"instruction\"] = instruction + \\\n",
    "                \"\\n\\n### Input:\\n\" + item[\"question\"] + choices\n",
    "            item[\"answers\"] = [item[\"answerKey\"]]\n",
    "        else:\n",
    "            prompt = instruction + \"\\n\\n## Input:\\n\\n\" + \\\n",
    "                item[\"question\"] if instruction is not None else item[\"question\"]\n",
    "            item[\"instruction\"] = prompt\n",
    "        new_data.append(item)\n",
    "\n",
    "    return new_data"
   ]
  },
  {
   "cell_type": "markdown",
   "id": "c9dca16f-b1fa-48da-94cc-723341db8c63",
   "metadata": {},
   "source": [
    "模型设置"
   ]
  },
  {
   "cell_type": "code",
   "execution_count": 3,
   "id": "b2651a4a-04f0-4609-a31c-7de9edde71e9",
   "metadata": {},
   "outputs": [],
   "source": [
    "model_name = \"self-rag-model\"\n",
    "download_dir = \"self-rag-model\"\n",
    "beam_width = 2\n",
    "world_size = 1\n",
    "dtype = \"half\"\n",
    "device = \"cuda\"\n",
    "max_depth = 5\n",
    "ignore_cont = True\n",
    "\n",
    "use_grounding = True\n",
    "use_utility = True\n",
    "use_seqscore = True"
   ]
  },
  {
   "cell_type": "code",
   "execution_count": 4,
   "id": "18d3b90d-d0fe-46c6-a099-b360ca490483",
   "metadata": {},
   "outputs": [
    {
     "name": "stderr",
     "output_type": "stream",
     "text": [
      "Special tokens have been added in the vocabulary, make sure the associated word embeddings are fine-tuned or trained.\n",
      "Special tokens have been added in the vocabulary, make sure the associated word embeddings are fine-tuned or trained.\n"
     ]
    },
    {
     "name": "stdout",
     "output_type": "stream",
     "text": [
      "WARNING 12-15 14:55:51 config.py:467] Casting torch.bfloat16 to torch.float16.\n",
      "INFO 12-15 14:55:51 llm_engine.py:73] Initializing an LLM engine with config: model='self-rag-model', tokenizer='self-rag-model', tokenizer_mode=auto, revision=None, tokenizer_revision=None, trust_remote_code=False, dtype=torch.float16, max_seq_len=4096, download_dir='self-rag-model', load_format=auto, tensor_parallel_size=1, quantization=None, enforce_eager=False, seed=0)\n"
     ]
    },
    {
     "name": "stderr",
     "output_type": "stream",
     "text": [
      "Special tokens have been added in the vocabulary, make sure the associated word embeddings are fine-tuned or trained.\n",
      "Special tokens have been added in the vocabulary, make sure the associated word embeddings are fine-tuned or trained.\n"
     ]
    },
    {
     "name": "stdout",
     "output_type": "stream",
     "text": [
      "INFO 12-15 14:56:14 llm_engine.py:223] # GPU blocks: 986, # CPU blocks: 512\n",
      "INFO 12-15 14:56:15 model_runner.py:394] Capturing the model for CUDA graphs. This may lead to unexpected consequences if the model is not static. To run the model in eager mode, set 'enforce_eager=True' or use '--enforce-eager' in the CLI.\n",
      "INFO 12-15 14:56:21 model_runner.py:437] Graph capturing finished in 6 secs.\n"
     ]
    }
   ],
   "source": [
    "tokenizer = AutoTokenizer.from_pretrained(\n",
    "        model_name, padding_side=\"left\")\n",
    "\n",
    "# Get token ids for reflection tokens.\n",
    "ret_tokens, rel_tokens, grd_tokens, ut_tokens = load_special_tokens(\n",
    "    tokenizer, use_grounding=use_grounding, use_utility=use_utility)\n",
    "\n",
    "if world_size is not None:\n",
    "    model = LLM(model=model_name, download_dir=download_dir,\n",
    "                dtype=dtype, tensor_parallel_size=world_size,)\n",
    "\n",
    "else:\n",
    "    model = LLM(model=model_name,\n",
    "                download_dir=download_dir, dtype=dtype)"
   ]
  },
  {
   "cell_type": "code",
   "execution_count": 27,
   "id": "5623b780-f192-4e70-8dd9-ba83d4f595fd",
   "metadata": {},
   "outputs": [],
   "source": [
    "# input_file = \"../../eval_data/popqa_longtail_w_gs.jsonl\"\n",
    "# input_file = \"../../eval_data/test.jsonl\"\n",
    "# output_file = \"../../output_data/test\"\n",
    "input_file = \"../../eval_data/health_claims_processed.jsonl\"\n",
    "output_file = \"../../output_data/health_claims_processed\"\n",
    "task = \"fever\"\n",
    "# task = None\n",
    "max_new_tokens = 50\n",
    "ndocs = 5\n",
    "threshold = 0.9\n",
    "metric = \"match\"\n",
    "\n",
    "w_rel = 1\n",
    "w_sup = 0.5\n",
    "w_use = 1\n",
    "# mode = \"no_retrieval\"\n",
    "mode = \"adaptive_retrieval\"\n",
    "# mode = \"always_retrieve\"\n",
    "\n"
   ]
  },
  {
   "cell_type": "code",
   "execution_count": 6,
   "id": "4e7a837e-fe6a-44e7-9ee7-53911f07412c",
   "metadata": {},
   "outputs": [],
   "source": [
    "def main():\n",
    "    input_path = input_file\n",
    "    if input_path.endswith(\".json\"):\n",
    "        input_data = json.load(open(input_path))\n",
    "    else:\n",
    "        input_data = load_jsonlines(input_path)\n",
    "\n",
    "    input_data = preprocess_input_data(\n",
    "        input_data, task=task)\n",
    "\n",
    "    def generate(prompt, evidences, max_new_tokens):\n",
    "        return call_model_rerank_w_scores_batch(prompt, evidences=evidences, model=model, max_new_tokens=max_new_tokens,\n",
    "                                                rel_tokens=rel_tokens, ret_tokens=ret_tokens, grd_tokens=grd_tokens, ut_tokens=ut_tokens,\n",
    "                                                threshold=threshold, use_seqscore=use_seqscore,\n",
    "                                                w_rel=w_rel, w_sup=w_sup, w_use=w_use, mode=mode, closed=task in [\"fever\", \"arc_c\"])\n",
    "\n",
    "    preds = []\n",
    "    prompts = []\n",
    "    golds = []\n",
    "    metric_results = []\n",
    "    scores = []\n",
    "    all_results = []\n",
    "    count = 1\n",
    "    tem_metric_results = []\n",
    "    partitial_right = {}\n",
    "    for i, row in enumerate(tqdm(input_data)):\n",
    "        prompt = PROMPT_DICT[\"prompt_no_input\"].format_map(row)\n",
    "        _, evidences = process_data_evidences(row, top_n=ndocs)\n",
    "        pred, results, do_retrieve, probs = generate(\n",
    "            prompt, evidences, max_new_tokens=max_new_tokens)\n",
    "        all_results.append(results)\n",
    "        if type(pred) is str and pred[0] == \"#\" or pred[0] == \":\":\n",
    "            pred = pred[1:]\n",
    "        prompts.append(prompt)\n",
    "        preds.append(pred)\n",
    "        all_results.append(results)\n",
    "        # i_1 = -1\n",
    "        # for result in results.keys():\n",
    "        #     print(f\"{i_1}:{results[result]}\")\n",
    "        #     i_1 += 1\n",
    "        if do_retrieve:\n",
    "            print(f\"当前查询次数{count}\")\n",
    "            count += 1\n",
    "        if \"answers\" not in row and \"answer\" in row:\n",
    "            row[\"answers\"] = [row[\"answer\"]] if type(\n",
    "                row[\"answer\"]) is str else row[\"answer\"]\n",
    "        if metric == \"accuracy\":\n",
    "            metric_result = accuracy(pred, row[\"output\"])\n",
    "                \n",
    "        elif metric == \"match\":\n",
    "            if \"SUPPORTS\" in pred:\n",
    "                pred = \"true\"\n",
    "            elif \"REFUTES\" in pred:\n",
    "                pred = \"false\"\n",
    "            metric_result = match(pred, row[\"answers\"])\n",
    "        else:\n",
    "            raise NotImplementedError\n",
    "\n",
    "        if metric_result == 0:\n",
    "            correct_list = []\n",
    "            best_index = \"\"\n",
    "            for key in results.keys():\n",
    "                \n",
    "                if key == \"no_retrieval\":\n",
    "                    tmp_pred = results[key]\n",
    "                else:\n",
    "                    tmp_pred = results[key][\"pred\"]\n",
    "                if tmp_pred == pred:\n",
    "                    best_index = key\n",
    "                if metric == \"accuracy\":\n",
    "                    tmp_metric_result = accuracy(tmp_pred, row[\"output\"])\n",
    "                        \n",
    "                elif metric == \"match\":\n",
    "                    if \"SUPPORTS\" in pred:\n",
    "                        pred = \"true\"\n",
    "                    elif \"REFUTES\" in pred:\n",
    "                        pred = \"false\"\n",
    "                    tmp_metric_result = match(tmp_pred, row[\"answers\"])\n",
    "                \n",
    "                if tmp_metric_result != 0:\n",
    "                    correct_list.append(key)\n",
    "            correct_list.append(best_index)\n",
    "            if len(correct_list) != 0:\n",
    "                partitial_right[str(i)] = correct_list \n",
    "        \n",
    "        metric_results.append(metric_result)\n",
    "        tem_metric_results.append(metric_result)\n",
    "        if i % 10 == 9:\n",
    "            print(\"average: {}\".format(np.mean(tem_metric_results)))\n",
    "            tem_metric_results.clear()\n",
    "\n",
    "    final_results = {\"preds\": preds, \"prompts\": prompts, \"metric_results\": metric_results, \"all_results\": all_results,\n",
    "                     \"golds\": golds,  \"metric\":  metric, \"metric_mean\": np.mean(metric_results), \"scores\": scores}\n",
    "    with open(output_file, \"w\") as outfile:\n",
    "        json.dump(final_results, outfile)\n",
    "\n",
    "    print(\"Retrieval Frequencies: {0}\".format((count -1) / len(metric_results)))\n",
    "    return metric_results, all_results,partitial_right"
   ]
  },
  {
   "cell_type": "code",
   "execution_count": 28,
   "id": "95656bc4-2eda-45fb-9cdf-cf5580ea208c",
   "metadata": {
    "scrolled": true
   },
   "outputs": [
    {
     "name": "stderr",
     "output_type": "stream",
     "text": [
      "  0%|          | 0/987 [00:00<?, ?it/s]\n",
      "Processed prompts: 100%|██████████| 1/1 [00:00<00:00, 14.81it/s]\n",
      "\n",
      "Processed prompts: 100%|██████████| 1/1 [00:00<00:00, 19.53it/s]\n",
      "  0%|          | 1/987 [00:00<02:03,  7.98it/s]\n",
      "Processed prompts: 100%|██████████| 1/1 [00:00<00:00, 16.54it/s]\n",
      "\n",
      "Processed prompts: 100%|██████████| 1/1 [00:00<00:00, 19.35it/s]\n",
      "  0%|          | 2/987 [00:00<01:59,  8.23it/s]\n",
      "Processed prompts: 100%|██████████| 1/1 [00:00<00:00, 16.50it/s]\n",
      "\n",
      "Processed prompts:   0%|          | 0/5 [00:00<?, ?it/s]\u001b[A\n",
      "Processed prompts: 100%|██████████| 5/5 [00:00<00:00, 20.37it/s]\u001b[A\n",
      "  0%|          | 3/987 [00:00<03:27,  4.74it/s]"
     ]
    },
    {
     "name": "stdout",
     "output_type": "stream",
     "text": [
      "当前查询次数1\n"
     ]
    },
    {
     "name": "stderr",
     "output_type": "stream",
     "text": [
      "\n",
      "Processed prompts: 100%|██████████| 1/1 [00:00<00:00, 16.09it/s]\n",
      "\n",
      "Processed prompts: 100%|██████████| 1/1 [00:00<00:00, 18.79it/s]\n",
      "  0%|          | 4/987 [00:00<02:53,  5.68it/s]\n",
      "Processed prompts: 100%|██████████| 1/1 [00:00<00:00, 16.58it/s]\n",
      "\n",
      "Processed prompts:   0%|          | 0/5 [00:00<?, ?it/s]\u001b[A\n",
      "Processed prompts: 100%|██████████| 5/5 [00:00<00:00, 20.66it/s]\u001b[A\n",
      "  1%|          | 5/987 [00:00<03:41,  4.43it/s]"
     ]
    },
    {
     "name": "stdout",
     "output_type": "stream",
     "text": [
      "当前查询次数2\n"
     ]
    },
    {
     "name": "stderr",
     "output_type": "stream",
     "text": [
      "\n",
      "Processed prompts: 100%|██████████| 1/1 [00:00<00:00, 16.36it/s]\n",
      "\n",
      "Processed prompts:   0%|          | 0/5 [00:00<?, ?it/s]\u001b[A\n",
      "Processed prompts: 100%|██████████| 5/5 [00:00<00:00, 21.53it/s]\u001b[A\n",
      "  1%|          | 6/987 [00:01<04:07,  3.97it/s]"
     ]
    },
    {
     "name": "stdout",
     "output_type": "stream",
     "text": [
      "当前查询次数3\n"
     ]
    },
    {
     "name": "stderr",
     "output_type": "stream",
     "text": [
      "\n",
      "Processed prompts: 100%|██████████| 1/1 [00:00<00:00, 16.35it/s]\n",
      "\n",
      "Processed prompts: 100%|██████████| 1/1 [00:00<00:00, 19.20it/s]\n",
      "  1%|          | 7/987 [00:01<03:24,  4.78it/s]\n",
      "Processed prompts: 100%|██████████| 1/1 [00:00<00:00, 16.37it/s]\n",
      "\n",
      "Processed prompts:   0%|          | 0/5 [00:00<?, ?it/s]\u001b[A\n",
      "Processed prompts: 100%|██████████| 5/5 [00:00<00:00, 23.55it/s]\u001b[A\n",
      "  1%|          | 8/987 [00:01<03:48,  4.29it/s]"
     ]
    },
    {
     "name": "stdout",
     "output_type": "stream",
     "text": [
      "当前查询次数4\n"
     ]
    },
    {
     "name": "stderr",
     "output_type": "stream",
     "text": [
      "\n",
      "Processed prompts: 100%|██████████| 1/1 [00:00<00:00, 16.53it/s]\n",
      "\n",
      "Processed prompts:   0%|          | 0/5 [00:00<?, ?it/s]\u001b[A\n",
      "Processed prompts: 100%|██████████| 5/5 [00:00<00:00, 23.45it/s]\u001b[A\n",
      "  1%|          | 9/987 [00:01<04:03,  4.01it/s]"
     ]
    },
    {
     "name": "stdout",
     "output_type": "stream",
     "text": [
      "当前查询次数5\n"
     ]
    },
    {
     "name": "stderr",
     "output_type": "stream",
     "text": [
      "\n",
      "Processed prompts: 100%|██████████| 1/1 [00:00<00:00, 16.52it/s]\n",
      "\n",
      "Processed prompts: 100%|██████████| 1/1 [00:00<00:00, 19.48it/s]\n",
      "  1%|          | 10/987 [00:02<03:24,  4.79it/s]"
     ]
    },
    {
     "name": "stdout",
     "output_type": "stream",
     "text": [
      "average: 0.6\n"
     ]
    },
    {
     "name": "stderr",
     "output_type": "stream",
     "text": [
      "\n",
      "Processed prompts: 100%|██████████| 1/1 [00:00<00:00, 16.64it/s]\n",
      "\n",
      "Processed prompts:   0%|          | 0/5 [00:00<?, ?it/s]\u001b[A\n",
      "Processed prompts: 100%|██████████| 5/5 [00:00<00:00, 25.63it/s]\u001b[A\n",
      "  1%|          | 11/987 [00:02<03:40,  4.42it/s]"
     ]
    },
    {
     "name": "stdout",
     "output_type": "stream",
     "text": [
      "当前查询次数6\n"
     ]
    },
    {
     "name": "stderr",
     "output_type": "stream",
     "text": [
      "\n",
      "Processed prompts: 100%|██████████| 1/1 [00:00<00:00, 16.47it/s]\n",
      "\n",
      "Processed prompts:   0%|          | 0/5 [00:00<?, ?it/s]\u001b[A\n",
      "Processed prompts: 100%|██████████| 5/5 [00:00<00:00, 23.54it/s]\u001b[A\n",
      "  1%|          | 12/987 [00:02<03:58,  4.10it/s]"
     ]
    },
    {
     "name": "stdout",
     "output_type": "stream",
     "text": [
      "当前查询次数7\n"
     ]
    },
    {
     "name": "stderr",
     "output_type": "stream",
     "text": [
      "\n",
      "Processed prompts: 100%|██████████| 1/1 [00:00<00:00, 16.59it/s]\n",
      "\n",
      "Processed prompts:   0%|          | 0/5 [00:00<?, ?it/s]\u001b[A\n",
      "Processed prompts: 100%|██████████| 5/5 [00:00<00:00, 21.47it/s]\u001b[A\n",
      "  1%|▏         | 13/987 [00:02<04:15,  3.81it/s]"
     ]
    },
    {
     "name": "stdout",
     "output_type": "stream",
     "text": [
      "当前查询次数8\n"
     ]
    },
    {
     "name": "stderr",
     "output_type": "stream",
     "text": [
      "\n",
      "Processed prompts: 100%|██████████| 1/1 [00:00<00:00, 16.66it/s]\n",
      "\n",
      "Processed prompts: 100%|██████████| 1/1 [00:00<00:00, 19.62it/s]\n",
      "  1%|▏         | 14/987 [00:03<03:33,  4.57it/s]\n",
      "Processed prompts: 100%|██████████| 1/1 [00:00<00:00, 16.61it/s]\n",
      "\n",
      "Processed prompts:   0%|          | 0/5 [00:00<?, ?it/s]\u001b[A\n",
      "Processed prompts: 100%|██████████| 5/5 [00:00<00:00, 23.50it/s]\u001b[A\n",
      "  2%|▏         | 15/987 [00:03<03:51,  4.19it/s]"
     ]
    },
    {
     "name": "stdout",
     "output_type": "stream",
     "text": [
      "当前查询次数9\n"
     ]
    },
    {
     "name": "stderr",
     "output_type": "stream",
     "text": [
      "\n",
      "Processed prompts: 100%|██████████| 1/1 [00:00<00:00, 16.28it/s]\n",
      "\n",
      "Processed prompts:   0%|          | 0/5 [00:00<?, ?it/s]\u001b[A\n",
      "Processed prompts: 100%|██████████| 5/5 [00:00<00:00, 23.84it/s]\u001b[A\n",
      "  2%|▏         | 16/987 [00:03<04:04,  3.98it/s]"
     ]
    },
    {
     "name": "stdout",
     "output_type": "stream",
     "text": [
      "当前查询次数10\n"
     ]
    },
    {
     "name": "stderr",
     "output_type": "stream",
     "text": [
      "\n",
      "Processed prompts: 100%|██████████| 1/1 [00:00<00:00, 16.60it/s]\n",
      "\n",
      "Processed prompts:   0%|          | 0/5 [00:00<?, ?it/s]\u001b[A\n",
      "Processed prompts: 100%|██████████| 5/5 [00:00<00:00, 23.44it/s]\u001b[A\n",
      "  2%|▏         | 17/987 [00:03<04:13,  3.83it/s]"
     ]
    },
    {
     "name": "stdout",
     "output_type": "stream",
     "text": [
      "当前查询次数11\n"
     ]
    },
    {
     "name": "stderr",
     "output_type": "stream",
     "text": [
      "\n",
      "Processed prompts: 100%|██████████| 1/1 [00:00<00:00, 16.56it/s]\n",
      "\n",
      "Processed prompts:   0%|          | 0/5 [00:00<?, ?it/s]\u001b[A\n",
      "Processed prompts: 100%|██████████| 5/5 [00:00<00:00, 21.48it/s]\u001b[A\n",
      "  2%|▏         | 18/987 [00:04<04:25,  3.65it/s]"
     ]
    },
    {
     "name": "stdout",
     "output_type": "stream",
     "text": [
      "当前查询次数12\n"
     ]
    },
    {
     "name": "stderr",
     "output_type": "stream",
     "text": [
      "\n",
      "Processed prompts: 100%|██████████| 1/1 [00:00<00:00, 16.73it/s]\n",
      "\n",
      "Processed prompts:   0%|          | 0/5 [00:00<?, ?it/s]\u001b[A\n",
      "Processed prompts: 100%|██████████| 5/5 [00:00<00:00, 23.53it/s]\u001b[A\n",
      "  2%|▏         | 19/987 [00:04<04:28,  3.61it/s]"
     ]
    },
    {
     "name": "stdout",
     "output_type": "stream",
     "text": [
      "当前查询次数13\n"
     ]
    },
    {
     "name": "stderr",
     "output_type": "stream",
     "text": [
      "\n",
      "Processed prompts: 100%|██████████| 1/1 [00:00<00:00, 16.57it/s]\n",
      "\n",
      "Processed prompts: 100%|██████████| 1/1 [00:00<00:00, 19.62it/s]\n",
      "  2%|▏         | 20/987 [00:04<03:42,  4.35it/s]"
     ]
    },
    {
     "name": "stdout",
     "output_type": "stream",
     "text": [
      "average: 0.8\n"
     ]
    },
    {
     "name": "stderr",
     "output_type": "stream",
     "text": [
      "\n",
      "Processed prompts: 100%|██████████| 1/1 [00:00<00:00, 16.64it/s]\n",
      "\n",
      "Processed prompts:   0%|          | 0/5 [00:00<?, ?it/s]\u001b[A\n",
      "Processed prompts: 100%|██████████| 5/5 [00:00<00:00, 21.52it/s]\u001b[A\n",
      "  2%|▏         | 21/987 [00:04<04:03,  3.97it/s]"
     ]
    },
    {
     "name": "stdout",
     "output_type": "stream",
     "text": [
      "当前查询次数14\n"
     ]
    },
    {
     "name": "stderr",
     "output_type": "stream",
     "text": [
      "\n",
      "Processed prompts: 100%|██████████| 1/1 [00:00<00:00, 16.48it/s]\n",
      "\n",
      "Processed prompts: 100%|██████████| 1/1 [00:00<00:00, 19.21it/s]\n",
      "  2%|▏         | 22/987 [00:05<03:25,  4.71it/s]\n",
      "Processed prompts: 100%|██████████| 1/1 [00:00<00:00, 16.39it/s]\n",
      "\n",
      "Processed prompts: 100%|██████████| 1/1 [00:00<00:00, 19.19it/s]\n",
      "  2%|▏         | 23/987 [00:05<02:58,  5.41it/s]\n",
      "Processed prompts: 100%|██████████| 1/1 [00:00<00:00, 16.77it/s]\n",
      "\n",
      "Processed prompts: 100%|██████████| 1/1 [00:00<00:00, 19.46it/s]\n",
      "  2%|▏         | 24/987 [00:05<02:38,  6.08it/s]\n",
      "Processed prompts: 100%|██████████| 1/1 [00:00<00:00, 16.63it/s]\n",
      "\n",
      "Processed prompts:   0%|          | 0/5 [00:00<?, ?it/s]\u001b[A\n",
      "Processed prompts: 100%|██████████| 5/5 [00:00<00:00, 21.54it/s]\u001b[A\n",
      "  3%|▎         | 25/987 [00:05<03:18,  4.85it/s]"
     ]
    },
    {
     "name": "stdout",
     "output_type": "stream",
     "text": [
      "当前查询次数15\n"
     ]
    },
    {
     "name": "stderr",
     "output_type": "stream",
     "text": [
      "\n",
      "Processed prompts: 100%|██████████| 1/1 [00:00<00:00, 16.57it/s]\n",
      "\n",
      "Processed prompts: 100%|██████████| 1/1 [00:00<00:00, 19.44it/s]\n",
      "  3%|▎         | 26/987 [00:05<02:52,  5.56it/s]\n",
      "Processed prompts: 100%|██████████| 1/1 [00:00<00:00, 16.81it/s]\n",
      "\n",
      "Processed prompts:   0%|          | 0/5 [00:00<?, ?it/s]\u001b[A\n",
      "Processed prompts: 100%|██████████| 5/5 [00:00<00:00, 23.72it/s]\u001b[A\n",
      "  3%|▎         | 27/987 [00:06<03:21,  4.76it/s]"
     ]
    },
    {
     "name": "stdout",
     "output_type": "stream",
     "text": [
      "当前查询次数16\n"
     ]
    },
    {
     "name": "stderr",
     "output_type": "stream",
     "text": [
      "\n",
      "Processed prompts: 100%|██████████| 1/1 [00:00<00:00, 16.49it/s]\n",
      "\n",
      "Processed prompts: 100%|██████████| 1/1 [00:00<00:00, 19.35it/s]\n",
      "  3%|▎         | 28/987 [00:06<02:55,  5.46it/s]\n",
      "Processed prompts: 100%|██████████| 1/1 [00:00<00:00, 16.60it/s]\n",
      "\n",
      "Processed prompts: 100%|██████████| 1/1 [00:00<00:00, 19.43it/s]\n",
      "  3%|▎         | 29/987 [00:06<02:36,  6.10it/s]\n",
      "Processed prompts: 100%|██████████| 1/1 [00:00<00:00, 16.71it/s]\n",
      "\n",
      "Processed prompts:   0%|          | 0/5 [00:00<?, ?it/s]\u001b[A\n",
      "Processed prompts: 100%|██████████| 5/5 [00:00<00:00, 21.34it/s]\u001b[A\n",
      "  3%|▎         | 30/987 [00:06<03:17,  4.85it/s]"
     ]
    },
    {
     "name": "stdout",
     "output_type": "stream",
     "text": [
      "当前查询次数17\n",
      "average: 0.7\n"
     ]
    },
    {
     "name": "stderr",
     "output_type": "stream",
     "text": [
      "\n",
      "Processed prompts: 100%|██████████| 1/1 [00:00<00:00, 16.58it/s]\n",
      "\n",
      "Processed prompts: 100%|██████████| 1/1 [00:00<00:00, 19.38it/s]\n",
      "  3%|▎         | 31/987 [00:06<02:52,  5.55it/s]\n",
      "Processed prompts: 100%|██████████| 1/1 [00:00<00:00, 16.76it/s]\n",
      "\n",
      "Processed prompts:   0%|          | 0/5 [00:00<?, ?it/s]\u001b[A\n",
      "Processed prompts: 100%|██████████| 5/5 [00:00<00:00, 23.55it/s]\u001b[A\n",
      "  3%|▎         | 32/987 [00:06<03:21,  4.74it/s]"
     ]
    },
    {
     "name": "stdout",
     "output_type": "stream",
     "text": [
      "当前查询次数18\n"
     ]
    },
    {
     "name": "stderr",
     "output_type": "stream",
     "text": [
      "\n",
      "Processed prompts: 100%|██████████| 1/1 [00:00<00:00, 16.68it/s]\n",
      "\n",
      "Processed prompts: 100%|██████████| 1/1 [00:00<00:00, 19.55it/s]\n",
      "  3%|▎         | 33/987 [00:07<02:54,  5.46it/s]\n",
      "Processed prompts: 100%|██████████| 1/1 [00:00<00:00, 16.69it/s]\n",
      "\n",
      "Processed prompts: 100%|██████████| 1/1 [00:00<00:00, 19.41it/s]\n",
      "  3%|▎         | 34/987 [00:07<02:36,  6.10it/s]\n",
      "Processed prompts: 100%|██████████| 1/1 [00:00<00:00, 16.77it/s]\n",
      "\n",
      "Processed prompts:   0%|          | 0/5 [00:00<?, ?it/s]\u001b[A\n",
      "Processed prompts: 100%|██████████| 5/5 [00:00<00:00, 23.46it/s]\u001b[A\n",
      "  4%|▎         | 35/987 [00:07<03:10,  5.00it/s]"
     ]
    },
    {
     "name": "stdout",
     "output_type": "stream",
     "text": [
      "当前查询次数19\n"
     ]
    },
    {
     "name": "stderr",
     "output_type": "stream",
     "text": [
      "\n",
      "Processed prompts: 100%|██████████| 1/1 [00:00<00:00, 14.53it/s]\n",
      "\n",
      "Processed prompts: 100%|██████████| 1/1 [00:00<00:00, 16.73it/s]\n",
      "  4%|▎         | 36/987 [00:07<02:51,  5.54it/s]\n",
      "Processed prompts: 100%|██████████| 1/1 [00:00<00:00, 16.58it/s]\n",
      "\n",
      "Processed prompts: 100%|██████████| 1/1 [00:00<00:00, 19.37it/s]\n",
      "  4%|▎         | 37/987 [00:07<02:34,  6.17it/s]\n",
      "Processed prompts: 100%|██████████| 1/1 [00:00<00:00, 16.68it/s]\n",
      "\n",
      "Processed prompts: 100%|██████████| 1/1 [00:00<00:00, 19.20it/s]\n",
      "  4%|▍         | 38/987 [00:07<02:21,  6.70it/s]\n",
      "Processed prompts: 100%|██████████| 1/1 [00:00<00:00, 16.47it/s]\n",
      "\n",
      "Processed prompts: 100%|██████████| 1/1 [00:00<00:00, 19.23it/s]\n",
      "  4%|▍         | 39/987 [00:07<02:13,  7.12it/s]\n",
      "Processed prompts: 100%|██████████| 1/1 [00:00<00:00, 16.65it/s]\n",
      "\n",
      "Processed prompts:   0%|          | 0/5 [00:00<?, ?it/s]\u001b[A\n",
      "Processed prompts: 100%|██████████| 5/5 [00:00<00:00, 21.15it/s]\u001b[A\n",
      "  4%|▍         | 40/987 [00:08<03:00,  5.25it/s]"
     ]
    },
    {
     "name": "stdout",
     "output_type": "stream",
     "text": [
      "当前查询次数20\n",
      "average: 0.7\n"
     ]
    },
    {
     "name": "stderr",
     "output_type": "stream",
     "text": [
      "\n",
      "Processed prompts: 100%|██████████| 1/1 [00:00<00:00, 16.49it/s]\n",
      "\n",
      "Processed prompts: 100%|██████████| 1/1 [00:00<00:00, 19.33it/s]\n",
      "  4%|▍         | 41/987 [00:08<02:39,  5.91it/s]\n",
      "Processed prompts: 100%|██████████| 1/1 [00:00<00:00, 16.48it/s]\n",
      "\n",
      "Processed prompts: 100%|██████████| 1/1 [00:00<00:00, 19.49it/s]\n",
      "  4%|▍         | 42/987 [00:08<02:25,  6.49it/s]\n",
      "Processed prompts: 100%|██████████| 1/1 [00:00<00:00, 16.64it/s]\n",
      "\n",
      "Processed prompts:   0%|          | 0/5 [00:00<?, ?it/s]\u001b[A\n",
      "Processed prompts: 100%|██████████| 5/5 [00:00<00:00, 26.05it/s]\u001b[A\n",
      "  4%|▍         | 43/987 [00:08<02:56,  5.36it/s]"
     ]
    },
    {
     "name": "stdout",
     "output_type": "stream",
     "text": [
      "当前查询次数21\n"
     ]
    },
    {
     "name": "stderr",
     "output_type": "stream",
     "text": [
      "\n",
      "Processed prompts: 100%|██████████| 1/1 [00:00<00:00, 16.56it/s]\n",
      "\n",
      "Processed prompts: 100%|██████████| 1/1 [00:00<00:00, 19.34it/s]\n",
      "  4%|▍         | 44/987 [00:08<02:36,  6.01it/s]\n",
      "Processed prompts: 100%|██████████| 1/1 [00:00<00:00, 16.46it/s]\n",
      "\n",
      "Processed prompts:   0%|          | 0/5 [00:00<?, ?it/s]\u001b[A\n",
      "Processed prompts: 100%|██████████| 5/5 [00:00<00:00, 21.41it/s]\u001b[A\n",
      "  5%|▍         | 45/987 [00:09<03:15,  4.81it/s]"
     ]
    },
    {
     "name": "stdout",
     "output_type": "stream",
     "text": [
      "当前查询次数22\n"
     ]
    },
    {
     "name": "stderr",
     "output_type": "stream",
     "text": [
      "\n",
      "Processed prompts: 100%|██████████| 1/1 [00:00<00:00, 16.52it/s]\n",
      "\n",
      "Processed prompts:   0%|          | 0/5 [00:00<?, ?it/s]\u001b[A\n",
      "Processed prompts: 100%|██████████| 5/5 [00:00<00:00, 23.34it/s]\u001b[A\n",
      "  5%|▍         | 46/987 [00:09<03:37,  4.32it/s]"
     ]
    },
    {
     "name": "stdout",
     "output_type": "stream",
     "text": [
      "当前查询次数23\n"
     ]
    },
    {
     "name": "stderr",
     "output_type": "stream",
     "text": [
      "\n",
      "Processed prompts: 100%|██████████| 1/1 [00:00<00:00, 16.60it/s]\n",
      "\n",
      "Processed prompts: 100%|██████████| 1/1 [00:00<00:00, 19.47it/s]\n",
      "  5%|▍         | 47/987 [00:09<03:05,  5.06it/s]\n",
      "Processed prompts: 100%|██████████| 1/1 [00:00<00:00, 16.74it/s]\n",
      "\n",
      "Processed prompts: 100%|██████████| 1/1 [00:00<00:00, 19.28it/s]\n",
      "  5%|▍         | 48/987 [00:09<02:43,  5.75it/s]\n",
      "Processed prompts: 100%|██████████| 1/1 [00:00<00:00, 16.78it/s]\n",
      "\n",
      "Processed prompts: 100%|██████████| 1/1 [00:00<00:00, 19.40it/s]\n",
      "  5%|▍         | 49/987 [00:09<02:27,  6.34it/s]\n",
      "Processed prompts: 100%|██████████| 1/1 [00:00<00:00, 16.72it/s]\n",
      "\n",
      "Processed prompts: 100%|██████████| 1/1 [00:00<00:00, 19.19it/s]\n",
      "  5%|▌         | 50/987 [00:09<02:17,  6.82it/s]"
     ]
    },
    {
     "name": "stdout",
     "output_type": "stream",
     "text": [
      "average: 0.6\n"
     ]
    },
    {
     "name": "stderr",
     "output_type": "stream",
     "text": [
      "\n",
      "Processed prompts: 100%|██████████| 1/1 [00:00<00:00, 16.38it/s]\n",
      "\n",
      "Processed prompts: 100%|██████████| 1/1 [00:00<00:00, 19.21it/s]\n",
      "  5%|▌         | 51/987 [00:10<02:09,  7.20it/s]\n",
      "Processed prompts: 100%|██████████| 1/1 [00:00<00:00, 16.68it/s]\n",
      "\n",
      "Processed prompts:   0%|          | 0/5 [00:00<?, ?it/s]\u001b[A\n",
      "Processed prompts: 100%|██████████| 5/5 [00:00<00:00, 23.47it/s]\u001b[A\n",
      "  5%|▌         | 52/987 [00:10<02:50,  5.49it/s]"
     ]
    },
    {
     "name": "stdout",
     "output_type": "stream",
     "text": [
      "当前查询次数24\n"
     ]
    },
    {
     "name": "stderr",
     "output_type": "stream",
     "text": [
      "\n",
      "Processed prompts: 100%|██████████| 1/1 [00:00<00:00, 16.29it/s]\n",
      "\n",
      "Processed prompts:   0%|          | 0/5 [00:00<?, ?it/s]\u001b[A\n",
      "Processed prompts: 100%|██████████| 5/5 [00:00<00:00, 23.71it/s]\u001b[A\n",
      "  5%|▌         | 53/987 [00:10<03:18,  4.71it/s]"
     ]
    },
    {
     "name": "stdout",
     "output_type": "stream",
     "text": [
      "当前查询次数25\n"
     ]
    },
    {
     "name": "stderr",
     "output_type": "stream",
     "text": [
      "\n",
      "Processed prompts: 100%|██████████| 1/1 [00:00<00:00, 16.49it/s]\n",
      "\n",
      "Processed prompts:   0%|          | 0/5 [00:00<?, ?it/s]\u001b[A\n",
      "Processed prompts: 100%|██████████| 5/5 [00:00<00:00, 23.43it/s]\u001b[A\n",
      "  5%|▌         | 54/987 [00:10<03:38,  4.27it/s]"
     ]
    },
    {
     "name": "stdout",
     "output_type": "stream",
     "text": [
      "当前查询次数26\n"
     ]
    },
    {
     "name": "stderr",
     "output_type": "stream",
     "text": [
      "\n",
      "Processed prompts: 100%|██████████| 1/1 [00:00<00:00, 16.42it/s]\n",
      "\n",
      "Processed prompts:   0%|          | 0/5 [00:00<?, ?it/s]\u001b[A\n",
      "Processed prompts: 100%|██████████| 5/5 [00:00<00:00, 23.28it/s]\u001b[A\n",
      "  6%|▌         | 55/987 [00:11<03:53,  3.99it/s]"
     ]
    },
    {
     "name": "stdout",
     "output_type": "stream",
     "text": [
      "当前查询次数27\n"
     ]
    },
    {
     "name": "stderr",
     "output_type": "stream",
     "text": [
      "\n",
      "Processed prompts: 100%|██████████| 1/1 [00:00<00:00, 16.52it/s]\n",
      "\n",
      "Processed prompts: 100%|██████████| 1/1 [00:00<00:00, 19.52it/s]\n",
      "  6%|▌         | 56/987 [00:11<03:16,  4.73it/s]\n",
      "Processed prompts: 100%|██████████| 1/1 [00:00<00:00, 16.31it/s]\n",
      "\n",
      "Processed prompts: 100%|██████████| 1/1 [00:00<00:00, 19.38it/s]\n",
      "  6%|▌         | 57/987 [00:11<02:51,  5.43it/s]\n",
      "Processed prompts: 100%|██████████| 1/1 [00:00<00:00, 16.58it/s]\n",
      "\n",
      "Processed prompts:   0%|          | 0/5 [00:00<?, ?it/s]\u001b[A\n",
      "Processed prompts: 100%|██████████| 5/5 [00:00<00:00, 23.41it/s]\u001b[A\n",
      "  6%|▌         | 58/987 [00:11<03:18,  4.67it/s]"
     ]
    },
    {
     "name": "stdout",
     "output_type": "stream",
     "text": [
      "当前查询次数28\n"
     ]
    },
    {
     "name": "stderr",
     "output_type": "stream",
     "text": [
      "\n",
      "Processed prompts: 100%|██████████| 1/1 [00:00<00:00, 16.50it/s]\n",
      "\n",
      "Processed prompts: 100%|██████████| 1/1 [00:00<00:00, 19.25it/s]\n",
      "  6%|▌         | 59/987 [00:11<02:52,  5.39it/s]\n",
      "Processed prompts: 100%|██████████| 1/1 [00:00<00:00, 16.25it/s]\n",
      "\n",
      "Processed prompts: 100%|██████████| 1/1 [00:00<00:00, 19.40it/s]\n",
      "  6%|▌         | 60/987 [00:11<02:33,  6.03it/s]"
     ]
    },
    {
     "name": "stdout",
     "output_type": "stream",
     "text": [
      "average: 0.8\n"
     ]
    },
    {
     "name": "stderr",
     "output_type": "stream",
     "text": [
      "\n",
      "Processed prompts: 100%|██████████| 1/1 [00:00<00:00, 16.64it/s]\n",
      "\n",
      "Processed prompts: 100%|██████████| 1/1 [00:00<00:00, 19.38it/s]\n",
      "  6%|▌         | 61/987 [00:12<02:20,  6.59it/s]\n",
      "Processed prompts: 100%|██████████| 1/1 [00:00<00:00, 16.48it/s]\n",
      "\n",
      "Processed prompts: 100%|██████████| 1/1 [00:00<00:00, 19.40it/s]\n",
      "  6%|▋         | 62/987 [00:12<02:11,  7.05it/s]\n",
      "Processed prompts: 100%|██████████| 1/1 [00:00<00:00, 16.53it/s]\n",
      "\n",
      "Processed prompts: 100%|██████████| 1/1 [00:00<00:00, 19.44it/s]\n",
      "  6%|▋         | 63/987 [00:12<02:04,  7.42it/s]\n",
      "Processed prompts: 100%|██████████| 1/1 [00:00<00:00, 16.38it/s]\n",
      "\n",
      "Processed prompts:   0%|          | 0/5 [00:00<?, ?it/s]\u001b[A\n",
      "Processed prompts: 100%|██████████| 5/5 [00:00<00:00, 21.06it/s]\u001b[A\n",
      "  6%|▋         | 64/987 [00:12<02:52,  5.35it/s]"
     ]
    },
    {
     "name": "stdout",
     "output_type": "stream",
     "text": [
      "当前查询次数29\n"
     ]
    },
    {
     "name": "stderr",
     "output_type": "stream",
     "text": [
      "\n",
      "Processed prompts: 100%|██████████| 1/1 [00:00<00:00, 16.43it/s]\n",
      "\n",
      "Processed prompts: 100%|██████████| 1/1 [00:00<00:00, 19.38it/s]\n",
      "  7%|▋         | 65/987 [00:12<02:33,  6.00it/s]\n",
      "Processed prompts: 100%|██████████| 1/1 [00:00<00:00, 16.55it/s]\n",
      "\n",
      "Processed prompts:   0%|          | 0/5 [00:00<?, ?it/s]\u001b[A\n",
      "Processed prompts: 100%|██████████| 5/5 [00:00<00:00, 25.89it/s]\u001b[A\n",
      "  7%|▋         | 66/987 [00:13<03:00,  5.11it/s]"
     ]
    },
    {
     "name": "stdout",
     "output_type": "stream",
     "text": [
      "当前查询次数30\n"
     ]
    },
    {
     "name": "stderr",
     "output_type": "stream",
     "text": [
      "\n",
      "Processed prompts: 100%|██████████| 1/1 [00:00<00:00, 16.50it/s]\n",
      "\n",
      "Processed prompts: 100%|██████████| 1/1 [00:00<00:00, 19.38it/s]\n",
      "  7%|▋         | 67/987 [00:13<02:39,  5.78it/s]\n",
      "Processed prompts: 100%|██████████| 1/1 [00:00<00:00, 16.61it/s]\n",
      "\n",
      "Processed prompts: 100%|██████████| 1/1 [00:00<00:00, 19.26it/s]\n",
      "  7%|▋         | 68/987 [00:13<02:24,  6.37it/s]\n",
      "Processed prompts: 100%|██████████| 1/1 [00:00<00:00, 16.59it/s]\n",
      "\n",
      "Processed prompts: 100%|██████████| 1/1 [00:00<00:00, 19.32it/s]\n",
      "  7%|▋         | 69/987 [00:13<02:13,  6.86it/s]\n",
      "Processed prompts: 100%|██████████| 1/1 [00:00<00:00, 16.34it/s]\n",
      "\n",
      "Processed prompts:   0%|          | 0/5 [00:00<?, ?it/s]\u001b[A\n",
      "Processed prompts: 100%|██████████| 5/5 [00:00<00:00, 26.06it/s]\u001b[A\n",
      "  7%|▋         | 70/987 [00:13<02:46,  5.52it/s]"
     ]
    },
    {
     "name": "stdout",
     "output_type": "stream",
     "text": [
      "当前查询次数31\n",
      "average: 0.7\n"
     ]
    },
    {
     "name": "stderr",
     "output_type": "stream",
     "text": [
      "\n",
      "Processed prompts: 100%|██████████| 1/1 [00:00<00:00, 16.24it/s]\n",
      "\n",
      "Processed prompts: 100%|██████████| 1/1 [00:00<00:00, 19.39it/s]\n",
      "  7%|▋         | 71/987 [00:13<02:28,  6.15it/s]\n",
      "Processed prompts: 100%|██████████| 1/1 [00:00<00:00, 16.50it/s]\n",
      "\n",
      "Processed prompts:   0%|          | 0/5 [00:00<?, ?it/s]\u001b[A\n",
      "Processed prompts: 100%|██████████| 5/5 [00:00<00:00, 23.59it/s]\u001b[A\n",
      "  7%|▋         | 72/987 [00:14<03:01,  5.04it/s]"
     ]
    },
    {
     "name": "stdout",
     "output_type": "stream",
     "text": [
      "当前查询次数32\n"
     ]
    },
    {
     "name": "stderr",
     "output_type": "stream",
     "text": [
      "\n",
      "Processed prompts: 100%|██████████| 1/1 [00:00<00:00, 16.53it/s]\n",
      "\n",
      "Processed prompts: 100%|██████████| 1/1 [00:00<00:00, 19.43it/s]\n",
      "  7%|▋         | 73/987 [00:14<02:39,  5.72it/s]\n",
      "Processed prompts: 100%|██████████| 1/1 [00:00<00:00, 16.52it/s]\n",
      "\n",
      "Processed prompts: 100%|██████████| 1/1 [00:00<00:00, 19.46it/s]\n",
      "  7%|▋         | 74/987 [00:14<02:24,  6.34it/s]\n",
      "Processed prompts: 100%|██████████| 1/1 [00:00<00:00, 16.53it/s]\n",
      "\n",
      "Processed prompts:   0%|          | 0/5 [00:00<?, ?it/s]\u001b[A\n",
      "Processed prompts: 100%|██████████| 5/5 [00:00<00:00, 23.79it/s]\u001b[A\n",
      "  8%|▊         | 75/987 [00:14<02:57,  5.14it/s]"
     ]
    },
    {
     "name": "stdout",
     "output_type": "stream",
     "text": [
      "当前查询次数33\n"
     ]
    },
    {
     "name": "stderr",
     "output_type": "stream",
     "text": [
      "\n",
      "Processed prompts: 100%|██████████| 1/1 [00:00<00:00, 16.38it/s]\n",
      "\n",
      "Processed prompts:   0%|          | 0/5 [00:00<?, ?it/s]\u001b[A\n",
      "Processed prompts: 100%|██████████| 5/5 [00:00<00:00, 21.28it/s]\u001b[A\n",
      "  8%|▊         | 76/987 [00:14<03:27,  4.38it/s]"
     ]
    },
    {
     "name": "stdout",
     "output_type": "stream",
     "text": [
      "当前查询次数34\n"
     ]
    },
    {
     "name": "stderr",
     "output_type": "stream",
     "text": [
      "\n",
      "Processed prompts: 100%|██████████| 1/1 [00:00<00:00, 16.43it/s]\n",
      "\n",
      "Processed prompts:   0%|          | 0/5 [00:00<?, ?it/s]\u001b[A\n",
      "Processed prompts: 100%|██████████| 5/5 [00:00<00:00, 21.48it/s]\u001b[A\n",
      "  8%|▊         | 77/987 [00:15<03:48,  3.98it/s]"
     ]
    },
    {
     "name": "stdout",
     "output_type": "stream",
     "text": [
      "当前查询次数35\n"
     ]
    },
    {
     "name": "stderr",
     "output_type": "stream",
     "text": [
      "\n",
      "Processed prompts: 100%|██████████| 1/1 [00:00<00:00, 16.43it/s]\n",
      "\n",
      "Processed prompts:   0%|          | 0/5 [00:00<?, ?it/s]\u001b[A\n",
      "Processed prompts: 100%|██████████| 5/5 [00:00<00:00, 23.21it/s]\u001b[A\n",
      "  8%|▊         | 78/987 [00:15<03:57,  3.82it/s]"
     ]
    },
    {
     "name": "stdout",
     "output_type": "stream",
     "text": [
      "当前查询次数36\n"
     ]
    },
    {
     "name": "stderr",
     "output_type": "stream",
     "text": [
      "\n",
      "Processed prompts: 100%|██████████| 1/1 [00:00<00:00, 16.46it/s]\n",
      "\n",
      "Processed prompts:   0%|          | 0/5 [00:00<?, ?it/s]\u001b[A\n",
      "Processed prompts: 100%|██████████| 5/5 [00:00<00:00, 25.71it/s]\u001b[A\n",
      "  8%|▊         | 79/987 [00:15<03:58,  3.81it/s]"
     ]
    },
    {
     "name": "stdout",
     "output_type": "stream",
     "text": [
      "当前查询次数37\n"
     ]
    },
    {
     "name": "stderr",
     "output_type": "stream",
     "text": [
      "\n",
      "Processed prompts: 100%|██████████| 1/1 [00:00<00:00, 16.50it/s]\n",
      "\n",
      "Processed prompts:   0%|          | 0/5 [00:00<?, ?it/s]\u001b[A\n",
      "Processed prompts: 100%|██████████| 5/5 [00:00<00:00, 23.66it/s]\u001b[A\n",
      "  8%|▊         | 80/987 [00:16<04:03,  3.72it/s]"
     ]
    },
    {
     "name": "stdout",
     "output_type": "stream",
     "text": [
      "当前查询次数38\n",
      "average: 0.5\n"
     ]
    },
    {
     "name": "stderr",
     "output_type": "stream",
     "text": [
      "\n",
      "Processed prompts: 100%|██████████| 1/1 [00:00<00:00, 16.57it/s]\n",
      "\n",
      "Processed prompts: 100%|██████████| 1/1 [00:00<00:00, 19.51it/s]\n",
      "  8%|▊         | 81/987 [00:16<03:22,  4.47it/s]\n",
      "Processed prompts: 100%|██████████| 1/1 [00:00<00:00, 16.52it/s]\n",
      "\n",
      "Processed prompts:   0%|          | 0/5 [00:00<?, ?it/s]\u001b[A\n",
      "Processed prompts: 100%|██████████| 5/5 [00:00<00:00, 21.38it/s]\u001b[A\n",
      "  8%|▊         | 82/987 [00:16<03:44,  4.03it/s]"
     ]
    },
    {
     "name": "stdout",
     "output_type": "stream",
     "text": [
      "当前查询次数39\n"
     ]
    },
    {
     "name": "stderr",
     "output_type": "stream",
     "text": [
      "\n",
      "Processed prompts: 100%|██████████| 1/1 [00:00<00:00, 16.64it/s]\n",
      "\n",
      "Processed prompts:   0%|          | 0/5 [00:00<?, ?it/s]\u001b[A\n",
      "Processed prompts: 100%|██████████| 5/5 [00:00<00:00, 23.67it/s]\u001b[A\n",
      "  8%|▊         | 83/987 [00:16<03:53,  3.87it/s]"
     ]
    },
    {
     "name": "stdout",
     "output_type": "stream",
     "text": [
      "当前查询次数40\n"
     ]
    },
    {
     "name": "stderr",
     "output_type": "stream",
     "text": [
      "\n",
      "Processed prompts: 100%|██████████| 1/1 [00:00<00:00, 16.32it/s]\n",
      "\n",
      "Processed prompts: 100%|██████████| 1/1 [00:00<00:00, 19.35it/s]\n",
      "  9%|▊         | 84/987 [00:16<03:15,  4.61it/s]\n",
      "Processed prompts: 100%|██████████| 1/1 [00:00<00:00, 16.63it/s]\n",
      "\n",
      "Processed prompts: 100%|██████████| 1/1 [00:00<00:00, 19.24it/s]\n",
      "  9%|▊         | 85/987 [00:16<02:49,  5.33it/s]\n",
      "Processed prompts: 100%|██████████| 1/1 [00:00<00:00, 16.67it/s]\n",
      "\n",
      "Processed prompts:   0%|          | 0/5 [00:00<?, ?it/s]\u001b[A\n",
      "Processed prompts: 100%|██████████| 5/5 [00:00<00:00, 23.40it/s]\u001b[A\n",
      "  9%|▊         | 86/987 [00:17<03:15,  4.61it/s]"
     ]
    },
    {
     "name": "stdout",
     "output_type": "stream",
     "text": [
      "当前查询次数41\n"
     ]
    },
    {
     "name": "stderr",
     "output_type": "stream",
     "text": [
      "\n",
      "Processed prompts: 100%|██████████| 1/1 [00:00<00:00, 16.42it/s]\n",
      "\n",
      "Processed prompts: 100%|██████████| 1/1 [00:00<00:00, 19.36it/s]\n",
      "  9%|▉         | 87/987 [00:17<02:49,  5.32it/s]\n",
      "Processed prompts: 100%|██████████| 1/1 [00:00<00:00, 16.22it/s]\n",
      "\n",
      "Processed prompts: 100%|██████████| 1/1 [00:00<00:00, 19.08it/s]\n",
      "  9%|▉         | 88/987 [00:17<02:31,  5.95it/s]\n",
      "Processed prompts: 100%|██████████| 1/1 [00:00<00:00, 16.50it/s]\n",
      "\n",
      "Processed prompts:   0%|          | 0/5 [00:00<?, ?it/s]\u001b[A\n",
      "Processed prompts: 100%|██████████| 5/5 [00:00<00:00, 23.40it/s]\u001b[A\n",
      "  9%|▉         | 89/987 [00:17<03:02,  4.92it/s]"
     ]
    },
    {
     "name": "stdout",
     "output_type": "stream",
     "text": [
      "当前查询次数42\n"
     ]
    },
    {
     "name": "stderr",
     "output_type": "stream",
     "text": [
      "\n",
      "Processed prompts: 100%|██████████| 1/1 [00:00<00:00, 15.93it/s]\n",
      "\n",
      "Processed prompts: 100%|██████████| 1/1 [00:00<00:00, 19.12it/s]\n",
      "  9%|▉         | 90/987 [00:17<02:41,  5.57it/s]"
     ]
    },
    {
     "name": "stdout",
     "output_type": "stream",
     "text": [
      "average: 0.8\n"
     ]
    },
    {
     "name": "stderr",
     "output_type": "stream",
     "text": [
      "\n",
      "Processed prompts: 100%|██████████| 1/1 [00:00<00:00, 16.58it/s]\n",
      "\n",
      "Processed prompts:   0%|          | 0/5 [00:00<?, ?it/s]\u001b[A\n",
      "Processed prompts: 100%|██████████| 5/5 [00:00<00:00, 23.25it/s]\u001b[A\n",
      "  9%|▉         | 91/987 [00:18<03:09,  4.72it/s]"
     ]
    },
    {
     "name": "stdout",
     "output_type": "stream",
     "text": [
      "当前查询次数43\n"
     ]
    },
    {
     "name": "stderr",
     "output_type": "stream",
     "text": [
      "\n",
      "Processed prompts: 100%|██████████| 1/1 [00:00<00:00, 16.48it/s]\n",
      "\n",
      "Processed prompts: 100%|██████████| 1/1 [00:00<00:00, 19.36it/s]\n",
      "  9%|▉         | 92/987 [00:18<02:45,  5.41it/s]\n",
      "Processed prompts: 100%|██████████| 1/1 [00:00<00:00, 16.68it/s]\n",
      "\n",
      "Processed prompts:   0%|          | 0/5 [00:00<?, ?it/s]\u001b[A\n",
      "Processed prompts: 100%|██████████| 5/5 [00:00<00:00, 23.80it/s]\u001b[A\n",
      "  9%|▉         | 93/987 [00:18<03:10,  4.68it/s]"
     ]
    },
    {
     "name": "stdout",
     "output_type": "stream",
     "text": [
      "当前查询次数44\n"
     ]
    },
    {
     "name": "stderr",
     "output_type": "stream",
     "text": [
      "\n",
      "Processed prompts: 100%|██████████| 1/1 [00:00<00:00, 16.52it/s]\n",
      "\n",
      "Processed prompts: 100%|██████████| 1/1 [00:00<00:00, 19.38it/s]\n",
      " 10%|▉         | 94/987 [00:18<02:45,  5.40it/s]\n",
      "Processed prompts: 100%|██████████| 1/1 [00:00<00:00, 16.46it/s]\n",
      "\n",
      "Processed prompts: 100%|██████████| 1/1 [00:00<00:00, 19.34it/s]\n",
      " 10%|▉         | 95/987 [00:18<02:27,  6.04it/s]\n",
      "Processed prompts: 100%|██████████| 1/1 [00:00<00:00, 16.56it/s]\n",
      "\n",
      "Processed prompts:   0%|          | 0/5 [00:00<?, ?it/s]\u001b[A\n",
      "Processed prompts: 100%|██████████| 5/5 [00:00<00:00, 23.69it/s]\u001b[A\n",
      " 10%|▉         | 96/987 [00:19<02:58,  4.99it/s]"
     ]
    },
    {
     "name": "stdout",
     "output_type": "stream",
     "text": [
      "当前查询次数45\n"
     ]
    },
    {
     "name": "stderr",
     "output_type": "stream",
     "text": [
      "\n",
      "Processed prompts: 100%|██████████| 1/1 [00:00<00:00, 16.70it/s]\n",
      "\n",
      "Processed prompts:   0%|          | 0/5 [00:00<?, ?it/s]\u001b[A\n",
      "Processed prompts: 100%|██████████| 5/5 [00:00<00:00, 23.77it/s]\u001b[A\n",
      " 10%|▉         | 97/987 [00:19<03:19,  4.45it/s]"
     ]
    },
    {
     "name": "stdout",
     "output_type": "stream",
     "text": [
      "当前查询次数46\n"
     ]
    },
    {
     "name": "stderr",
     "output_type": "stream",
     "text": [
      "\n",
      "Processed prompts: 100%|██████████| 1/1 [00:00<00:00, 16.57it/s]\n",
      "\n",
      "Processed prompts:   0%|          | 0/5 [00:00<?, ?it/s]\u001b[A\n",
      "Processed prompts: 100%|██████████| 5/5 [00:00<00:00, 25.67it/s]\u001b[A\n",
      " 10%|▉         | 98/987 [00:19<03:30,  4.22it/s]"
     ]
    },
    {
     "name": "stdout",
     "output_type": "stream",
     "text": [
      "当前查询次数47\n"
     ]
    },
    {
     "name": "stderr",
     "output_type": "stream",
     "text": [
      "\n",
      "Processed prompts: 100%|██████████| 1/1 [00:00<00:00, 16.12it/s]\n",
      "\n",
      "Processed prompts:   0%|          | 0/5 [00:00<?, ?it/s]\u001b[A\n",
      "Processed prompts: 100%|██████████| 5/5 [00:00<00:00, 21.17it/s]\u001b[A\n",
      " 10%|█         | 99/987 [00:19<03:49,  3.86it/s]"
     ]
    },
    {
     "name": "stdout",
     "output_type": "stream",
     "text": [
      "当前查询次数48\n"
     ]
    },
    {
     "name": "stderr",
     "output_type": "stream",
     "text": [
      "\n",
      "Processed prompts: 100%|██████████| 1/1 [00:00<00:00, 16.43it/s]\n",
      "\n",
      "Processed prompts:   0%|          | 0/5 [00:00<?, ?it/s]\u001b[A\n",
      "Processed prompts: 100%|██████████| 5/5 [00:00<00:00, 21.17it/s]\u001b[A\n",
      " 10%|█         | 100/987 [00:20<04:02,  3.65it/s]"
     ]
    },
    {
     "name": "stdout",
     "output_type": "stream",
     "text": [
      "当前查询次数49\n",
      "average: 0.8\n"
     ]
    },
    {
     "name": "stderr",
     "output_type": "stream",
     "text": [
      "\n",
      "Processed prompts: 100%|██████████| 1/1 [00:00<00:00, 16.44it/s]\n",
      "\n",
      "Processed prompts: 100%|██████████| 1/1 [00:00<00:00, 19.44it/s]\n",
      " 10%|█         | 101/987 [00:20<03:21,  4.39it/s]\n",
      "Processed prompts: 100%|██████████| 1/1 [00:00<00:00, 16.62it/s]\n",
      "\n",
      "Processed prompts:   0%|          | 0/5 [00:00<?, ?it/s]\u001b[A\n",
      "Processed prompts: 100%|██████████| 5/5 [00:00<00:00, 25.81it/s]\u001b[A\n",
      " 10%|█         | 102/987 [00:20<03:31,  4.19it/s]"
     ]
    },
    {
     "name": "stdout",
     "output_type": "stream",
     "text": [
      "当前查询次数50\n"
     ]
    },
    {
     "name": "stderr",
     "output_type": "stream",
     "text": [
      "\n",
      "Processed prompts: 100%|██████████| 1/1 [00:00<00:00, 16.47it/s]\n",
      "\n",
      "Processed prompts:   0%|          | 0/5 [00:00<?, ?it/s]\u001b[A\n",
      "Processed prompts: 100%|██████████| 5/5 [00:00<00:00, 23.84it/s]\u001b[A\n",
      " 10%|█         | 103/987 [00:20<03:42,  3.97it/s]"
     ]
    },
    {
     "name": "stdout",
     "output_type": "stream",
     "text": [
      "当前查询次数51\n"
     ]
    },
    {
     "name": "stderr",
     "output_type": "stream",
     "text": [
      "\n",
      "Processed prompts: 100%|██████████| 1/1 [00:00<00:00, 16.32it/s]\n",
      "\n",
      "Processed prompts: 100%|██████████| 1/1 [00:00<00:00, 19.34it/s]\n",
      " 11%|█         | 104/987 [00:21<03:07,  4.71it/s]\n",
      "Processed prompts: 100%|██████████| 1/1 [00:00<00:00, 16.44it/s]\n",
      "\n",
      "Processed prompts: 100%|██████████| 1/1 [00:00<00:00, 18.94it/s]\n",
      " 11%|█         | 105/987 [00:21<02:42,  5.41it/s]\n",
      "Processed prompts: 100%|██████████| 1/1 [00:00<00:00, 16.58it/s]\n",
      "\n",
      "Processed prompts: 100%|██████████| 1/1 [00:00<00:00, 19.31it/s]\n",
      " 11%|█         | 106/987 [00:21<02:25,  6.06it/s]\n",
      "Processed prompts: 100%|██████████| 1/1 [00:00<00:00, 16.64it/s]\n",
      "\n",
      "Processed prompts:   0%|          | 0/5 [00:00<?, ?it/s]\u001b[A\n",
      "Processed prompts: 100%|██████████| 5/5 [00:00<00:00, 23.46it/s]\u001b[A\n",
      " 11%|█         | 107/987 [00:21<02:56,  4.98it/s]"
     ]
    },
    {
     "name": "stdout",
     "output_type": "stream",
     "text": [
      "当前查询次数52\n"
     ]
    },
    {
     "name": "stderr",
     "output_type": "stream",
     "text": [
      "\n",
      "Processed prompts: 100%|██████████| 1/1 [00:00<00:00, 16.32it/s]\n",
      "\n",
      "Processed prompts:   0%|          | 0/5 [00:00<?, ?it/s]\u001b[A\n",
      "Processed prompts: 100%|██████████| 5/5 [00:00<00:00, 20.33it/s]\u001b[A\n",
      " 11%|█         | 108/987 [00:21<03:27,  4.23it/s]"
     ]
    },
    {
     "name": "stdout",
     "output_type": "stream",
     "text": [
      "当前查询次数53\n"
     ]
    },
    {
     "name": "stderr",
     "output_type": "stream",
     "text": [
      "\n",
      "Processed prompts: 100%|██████████| 1/1 [00:00<00:00, 16.33it/s]\n",
      "\n",
      "Processed prompts:   0%|          | 0/5 [00:00<?, ?it/s]\u001b[A\n",
      "Processed prompts: 100%|██████████| 5/5 [00:00<00:00, 23.52it/s]\u001b[A\n",
      " 11%|█         | 109/987 [00:22<03:40,  3.98it/s]"
     ]
    },
    {
     "name": "stdout",
     "output_type": "stream",
     "text": [
      "当前查询次数54\n"
     ]
    },
    {
     "name": "stderr",
     "output_type": "stream",
     "text": [
      "\n",
      "Processed prompts: 100%|██████████| 1/1 [00:00<00:00, 16.35it/s]\n",
      "\n",
      "Processed prompts: 100%|██████████| 1/1 [00:00<00:00, 19.18it/s]\n",
      " 11%|█         | 110/987 [00:22<03:06,  4.71it/s]"
     ]
    },
    {
     "name": "stdout",
     "output_type": "stream",
     "text": [
      "average: 0.6\n"
     ]
    },
    {
     "name": "stderr",
     "output_type": "stream",
     "text": [
      "\n",
      "Processed prompts: 100%|██████████| 1/1 [00:00<00:00, 16.45it/s]\n",
      "\n",
      "Processed prompts: 100%|██████████| 1/1 [00:00<00:00, 19.21it/s]\n",
      " 11%|█         | 111/987 [00:22<02:41,  5.42it/s]\n",
      "Processed prompts: 100%|██████████| 1/1 [00:00<00:00, 16.49it/s]\n",
      "\n",
      "Processed prompts:   0%|          | 0/5 [00:00<?, ?it/s]\u001b[A\n",
      "Processed prompts: 100%|██████████| 5/5 [00:00<00:00, 23.65it/s]\u001b[A\n",
      " 11%|█▏        | 112/987 [00:22<03:07,  4.66it/s]"
     ]
    },
    {
     "name": "stdout",
     "output_type": "stream",
     "text": [
      "当前查询次数55\n"
     ]
    },
    {
     "name": "stderr",
     "output_type": "stream",
     "text": [
      "\n",
      "Processed prompts: 100%|██████████| 1/1 [00:00<00:00, 16.37it/s]\n",
      "\n",
      "Processed prompts:   0%|          | 0/5 [00:00<?, ?it/s]\u001b[A\n",
      "Processed prompts: 100%|██████████| 5/5 [00:00<00:00, 23.54it/s]\u001b[A\n",
      " 11%|█▏        | 113/987 [00:23<03:25,  4.24it/s]"
     ]
    },
    {
     "name": "stdout",
     "output_type": "stream",
     "text": [
      "当前查询次数56\n"
     ]
    },
    {
     "name": "stderr",
     "output_type": "stream",
     "text": [
      "\n",
      "Processed prompts: 100%|██████████| 1/1 [00:00<00:00, 16.36it/s]\n",
      "\n",
      "Processed prompts: 100%|██████████| 1/1 [00:00<00:00, 19.25it/s]\n",
      " 12%|█▏        | 114/987 [00:23<02:55,  4.97it/s]\n",
      "Processed prompts: 100%|██████████| 1/1 [00:00<00:00, 16.55it/s]\n",
      "\n",
      "Processed prompts:   0%|          | 0/5 [00:00<?, ?it/s]\u001b[A\n",
      "Processed prompts: 100%|██████████| 5/5 [00:00<00:00, 21.35it/s]\u001b[A\n",
      " 12%|█▏        | 115/987 [00:23<03:22,  4.30it/s]"
     ]
    },
    {
     "name": "stdout",
     "output_type": "stream",
     "text": [
      "当前查询次数57\n"
     ]
    },
    {
     "name": "stderr",
     "output_type": "stream",
     "text": [
      "\n",
      "Processed prompts: 100%|██████████| 1/1 [00:00<00:00, 16.37it/s]\n",
      "\n",
      "Processed prompts: 100%|██████████| 1/1 [00:00<00:00, 19.05it/s]\n",
      " 12%|█▏        | 116/987 [00:23<02:53,  5.03it/s]\n",
      "Processed prompts: 100%|██████████| 1/1 [00:00<00:00, 16.45it/s]\n",
      "\n",
      "Processed prompts:   0%|          | 0/5 [00:00<?, ?it/s]\u001b[A\n",
      "Processed prompts: 100%|██████████| 5/5 [00:00<00:00, 23.34it/s]\u001b[A\n",
      " 12%|█▏        | 117/987 [00:23<03:15,  4.45it/s]"
     ]
    },
    {
     "name": "stdout",
     "output_type": "stream",
     "text": [
      "当前查询次数58\n"
     ]
    },
    {
     "name": "stderr",
     "output_type": "stream",
     "text": [
      "\n",
      "Processed prompts: 100%|██████████| 1/1 [00:00<00:00, 16.31it/s]\n",
      "\n",
      "Processed prompts: 100%|██████████| 1/1 [00:00<00:00, 19.26it/s]\n",
      " 12%|█▏        | 118/987 [00:23<02:48,  5.17it/s]\n",
      "Processed prompts: 100%|██████████| 1/1 [00:00<00:00, 16.42it/s]\n",
      "\n",
      "Processed prompts:   0%|          | 0/5 [00:00<?, ?it/s]\u001b[A\n",
      "Processed prompts: 100%|██████████| 5/5 [00:00<00:00, 23.67it/s]\u001b[A\n",
      " 12%|█▏        | 119/987 [00:24<03:11,  4.54it/s]"
     ]
    },
    {
     "name": "stdout",
     "output_type": "stream",
     "text": [
      "当前查询次数59\n"
     ]
    },
    {
     "name": "stderr",
     "output_type": "stream",
     "text": [
      "\n",
      "Processed prompts: 100%|██████████| 1/1 [00:00<00:00, 16.46it/s]\n",
      "\n",
      "Processed prompts:   0%|          | 0/5 [00:00<?, ?it/s]\u001b[A\n",
      "Processed prompts: 100%|██████████| 5/5 [00:00<00:00, 23.76it/s]\u001b[A\n",
      " 12%|█▏        | 120/987 [00:24<03:27,  4.18it/s]"
     ]
    },
    {
     "name": "stdout",
     "output_type": "stream",
     "text": [
      "当前查询次数60\n",
      "average: 0.8\n"
     ]
    },
    {
     "name": "stderr",
     "output_type": "stream",
     "text": [
      "\n",
      "Processed prompts: 100%|██████████| 1/1 [00:00<00:00, 16.48it/s]\n",
      "\n",
      "Processed prompts:   0%|          | 0/5 [00:00<?, ?it/s]\u001b[A\n",
      "Processed prompts: 100%|██████████| 5/5 [00:00<00:00, 23.43it/s]\u001b[A\n",
      " 12%|█▏        | 121/987 [00:24<03:38,  3.96it/s]"
     ]
    },
    {
     "name": "stdout",
     "output_type": "stream",
     "text": [
      "当前查询次数61\n"
     ]
    },
    {
     "name": "stderr",
     "output_type": "stream",
     "text": [
      "\n",
      "Processed prompts: 100%|██████████| 1/1 [00:00<00:00, 16.49it/s]\n",
      "\n",
      "Processed prompts: 100%|██████████| 1/1 [00:00<00:00, 19.42it/s]\n",
      " 12%|█▏        | 122/987 [00:24<03:04,  4.70it/s]\n",
      "Processed prompts: 100%|██████████| 1/1 [00:00<00:00, 16.42it/s]\n",
      "\n",
      "Processed prompts: 100%|██████████| 1/1 [00:00<00:00, 19.03it/s]\n",
      " 12%|█▏        | 123/987 [00:25<02:39,  5.41it/s]\n",
      "Processed prompts: 100%|██████████| 1/1 [00:00<00:00, 16.43it/s]\n",
      "\n",
      "Processed prompts: 100%|██████████| 1/1 [00:00<00:00, 19.32it/s]\n",
      " 13%|█▎        | 124/987 [00:25<02:22,  6.05it/s]\n",
      "Processed prompts: 100%|██████████| 1/1 [00:00<00:00, 16.68it/s]\n",
      "\n",
      "Processed prompts: 100%|██████████| 1/1 [00:00<00:00, 19.46it/s]\n",
      " 13%|█▎        | 125/987 [00:25<02:10,  6.62it/s]\n",
      "Processed prompts: 100%|██████████| 1/1 [00:00<00:00, 16.21it/s]\n",
      "\n",
      "Processed prompts: 100%|██████████| 1/1 [00:00<00:00, 19.31it/s]\n",
      " 13%|█▎        | 126/987 [00:25<02:02,  7.05it/s]\n",
      "Processed prompts: 100%|██████████| 1/1 [00:00<00:00, 16.56it/s]\n",
      "\n",
      "Processed prompts: 100%|██████████| 1/1 [00:00<00:00, 19.19it/s]\n",
      " 13%|█▎        | 127/987 [00:25<01:56,  7.41it/s]\n",
      "Processed prompts: 100%|██████████| 1/1 [00:00<00:00, 16.59it/s]\n",
      "\n",
      "Processed prompts:   0%|          | 0/5 [00:00<?, ?it/s]\u001b[A\n",
      "Processed prompts: 100%|██████████| 5/5 [00:00<00:00, 20.60it/s]\u001b[A\n",
      " 13%|█▎        | 128/987 [00:25<02:41,  5.31it/s]"
     ]
    },
    {
     "name": "stdout",
     "output_type": "stream",
     "text": [
      "当前查询次数62\n"
     ]
    },
    {
     "name": "stderr",
     "output_type": "stream",
     "text": [
      "\n",
      "Processed prompts: 100%|██████████| 1/1 [00:00<00:00, 16.49it/s]\n",
      "\n",
      "Processed prompts: 100%|██████████| 1/1 [00:00<00:00, 19.45it/s]\n",
      " 13%|█▎        | 129/987 [00:25<02:23,  5.96it/s]\n",
      "Processed prompts: 100%|██████████| 1/1 [00:00<00:00, 16.45it/s]\n",
      "\n",
      "Processed prompts:   0%|          | 0/5 [00:00<?, ?it/s]\u001b[A\n",
      "Processed prompts: 100%|██████████| 5/5 [00:00<00:00, 21.54it/s]\u001b[A\n",
      " 13%|█▎        | 130/987 [00:26<02:58,  4.80it/s]"
     ]
    },
    {
     "name": "stdout",
     "output_type": "stream",
     "text": [
      "当前查询次数63\n",
      "average: 0.6\n"
     ]
    },
    {
     "name": "stderr",
     "output_type": "stream",
     "text": [
      "\n",
      "Processed prompts: 100%|██████████| 1/1 [00:00<00:00, 16.33it/s]\n",
      "\n",
      "Processed prompts: 100%|██████████| 1/1 [00:00<00:00, 19.33it/s]\n",
      " 13%|█▎        | 131/987 [00:26<02:35,  5.50it/s]\n",
      "Processed prompts: 100%|██████████| 1/1 [00:00<00:00, 16.56it/s]\n",
      "\n",
      "Processed prompts:   0%|          | 0/5 [00:00<?, ?it/s]\u001b[A\n",
      "Processed prompts: 100%|██████████| 5/5 [00:00<00:00, 24.00it/s]\u001b[A\n",
      " 13%|█▎        | 132/987 [00:26<03:00,  4.74it/s]"
     ]
    },
    {
     "name": "stdout",
     "output_type": "stream",
     "text": [
      "当前查询次数64\n"
     ]
    },
    {
     "name": "stderr",
     "output_type": "stream",
     "text": [
      "\n",
      "Processed prompts: 100%|██████████| 1/1 [00:00<00:00, 16.33it/s]\n",
      "\n",
      "Processed prompts:   0%|          | 0/5 [00:00<?, ?it/s]\u001b[A\n",
      "Processed prompts: 100%|██████████| 5/5 [00:00<00:00, 23.46it/s]\u001b[A\n",
      " 13%|█▎        | 133/987 [00:26<03:19,  4.28it/s]"
     ]
    },
    {
     "name": "stdout",
     "output_type": "stream",
     "text": [
      "当前查询次数65\n"
     ]
    },
    {
     "name": "stderr",
     "output_type": "stream",
     "text": [
      "\n",
      "Processed prompts: 100%|██████████| 1/1 [00:00<00:00, 16.43it/s]\n",
      "\n",
      "Processed prompts:   0%|          | 0/5 [00:00<?, ?it/s]\u001b[A\n",
      "Processed prompts: 100%|██████████| 5/5 [00:00<00:00, 23.51it/s]\u001b[A\n",
      " 14%|█▎        | 134/987 [00:27<03:32,  4.02it/s]"
     ]
    },
    {
     "name": "stdout",
     "output_type": "stream",
     "text": [
      "当前查询次数66\n"
     ]
    },
    {
     "name": "stderr",
     "output_type": "stream",
     "text": [
      "\n",
      "Processed prompts: 100%|██████████| 1/1 [00:00<00:00, 16.54it/s]\n",
      "\n",
      "Processed prompts: 100%|██████████| 1/1 [00:00<00:00, 19.25it/s]\n",
      " 14%|█▎        | 135/987 [00:27<02:59,  4.76it/s]\n",
      "Processed prompts: 100%|██████████| 1/1 [00:00<00:00, 16.61it/s]\n",
      "\n",
      "Processed prompts:   0%|          | 0/5 [00:00<?, ?it/s]\u001b[A\n",
      "Processed prompts: 100%|██████████| 5/5 [00:00<00:00, 23.65it/s]\u001b[A\n",
      " 14%|█▍        | 136/987 [00:27<03:17,  4.32it/s]"
     ]
    },
    {
     "name": "stdout",
     "output_type": "stream",
     "text": [
      "当前查询次数67\n"
     ]
    },
    {
     "name": "stderr",
     "output_type": "stream",
     "text": [
      "\n",
      "Processed prompts: 100%|██████████| 1/1 [00:00<00:00, 16.58it/s]\n",
      "\n",
      "Processed prompts:   0%|          | 0/5 [00:00<?, ?it/s]\u001b[A\n",
      "Processed prompts: 100%|██████████| 5/5 [00:00<00:00, 23.35it/s]\u001b[A\n",
      " 14%|█▍        | 137/987 [00:27<03:30,  4.03it/s]"
     ]
    },
    {
     "name": "stdout",
     "output_type": "stream",
     "text": [
      "当前查询次数68\n"
     ]
    },
    {
     "name": "stderr",
     "output_type": "stream",
     "text": [
      "\n",
      "Processed prompts: 100%|██████████| 1/1 [00:00<00:00, 16.23it/s]\n",
      "\n",
      "Processed prompts:   0%|          | 0/5 [00:00<?, ?it/s]\u001b[A\n",
      "Processed prompts: 100%|██████████| 5/5 [00:00<00:00, 25.50it/s]\u001b[A\n",
      " 14%|█▍        | 138/987 [00:28<03:36,  3.93it/s]"
     ]
    },
    {
     "name": "stdout",
     "output_type": "stream",
     "text": [
      "当前查询次数69\n"
     ]
    },
    {
     "name": "stderr",
     "output_type": "stream",
     "text": [
      "\n",
      "Processed prompts: 100%|██████████| 1/1 [00:00<00:00, 16.46it/s]\n",
      "\n",
      "Processed prompts:   0%|          | 0/5 [00:00<?, ?it/s]\u001b[A\n",
      "Processed prompts: 100%|██████████| 5/5 [00:00<00:00, 23.48it/s]\u001b[A\n",
      " 14%|█▍        | 139/987 [00:28<03:43,  3.79it/s]"
     ]
    },
    {
     "name": "stdout",
     "output_type": "stream",
     "text": [
      "当前查询次数70\n"
     ]
    },
    {
     "name": "stderr",
     "output_type": "stream",
     "text": [
      "\n",
      "Processed prompts: 100%|██████████| 1/1 [00:00<00:00, 16.29it/s]\n",
      "\n",
      "Processed prompts: 100%|██████████| 1/1 [00:00<00:00, 19.25it/s]\n",
      " 14%|█▍        | 140/987 [00:28<03:06,  4.53it/s]"
     ]
    },
    {
     "name": "stdout",
     "output_type": "stream",
     "text": [
      "average: 0.8\n"
     ]
    },
    {
     "name": "stderr",
     "output_type": "stream",
     "text": [
      "\n",
      "Processed prompts: 100%|██████████| 1/1 [00:00<00:00, 16.78it/s]\n",
      "\n",
      "Processed prompts:   0%|          | 0/5 [00:00<?, ?it/s]\u001b[A\n",
      "Processed prompts: 100%|██████████| 5/5 [00:00<00:00, 21.24it/s]\u001b[A\n",
      " 14%|█▍        | 141/987 [00:28<03:28,  4.06it/s]"
     ]
    },
    {
     "name": "stdout",
     "output_type": "stream",
     "text": [
      "当前查询次数71\n"
     ]
    },
    {
     "name": "stderr",
     "output_type": "stream",
     "text": [
      "\n",
      "Processed prompts: 100%|██████████| 1/1 [00:00<00:00, 16.50it/s]\n",
      "\n",
      "Processed prompts:   0%|          | 0/5 [00:00<?, ?it/s]\u001b[A\n",
      "Processed prompts: 100%|██████████| 5/5 [00:00<00:00, 23.30it/s]\u001b[A\n",
      " 14%|█▍        | 142/987 [00:29<03:38,  3.87it/s]"
     ]
    },
    {
     "name": "stdout",
     "output_type": "stream",
     "text": [
      "当前查询次数72\n"
     ]
    },
    {
     "name": "stderr",
     "output_type": "stream",
     "text": [
      "\n",
      "Processed prompts: 100%|██████████| 1/1 [00:00<00:00, 16.34it/s]\n",
      "\n",
      "Processed prompts:   0%|          | 0/5 [00:00<?, ?it/s]\u001b[A\n",
      "Processed prompts: 100%|██████████| 5/5 [00:00<00:00, 20.66it/s]\u001b[A\n",
      " 14%|█▍        | 143/987 [00:29<03:52,  3.64it/s]"
     ]
    },
    {
     "name": "stdout",
     "output_type": "stream",
     "text": [
      "当前查询次数73\n"
     ]
    },
    {
     "name": "stderr",
     "output_type": "stream",
     "text": [
      "\n",
      "Processed prompts: 100%|██████████| 1/1 [00:00<00:00, 16.50it/s]\n",
      "\n",
      "Processed prompts: 100%|██████████| 1/1 [00:00<00:00, 19.36it/s]\n",
      " 15%|█▍        | 144/987 [00:29<03:12,  4.38it/s]\n",
      "Processed prompts: 100%|██████████| 1/1 [00:00<00:00, 16.73it/s]\n",
      "\n",
      "Processed prompts: 100%|██████████| 1/1 [00:00<00:00, 19.34it/s]\n",
      " 15%|█▍        | 145/987 [00:29<02:44,  5.13it/s]\n",
      "Processed prompts: 100%|██████████| 1/1 [00:00<00:00, 16.67it/s]\n",
      "\n",
      "Processed prompts: 100%|██████████| 1/1 [00:00<00:00, 19.46it/s]\n",
      " 15%|█▍        | 146/987 [00:29<02:24,  5.81it/s]\n",
      "Processed prompts: 100%|██████████| 1/1 [00:00<00:00, 16.27it/s]\n",
      "\n",
      "Processed prompts: 100%|██████████| 1/1 [00:00<00:00, 19.40it/s]\n",
      " 15%|█▍        | 147/987 [00:29<02:11,  6.40it/s]\n",
      "Processed prompts: 100%|██████████| 1/1 [00:00<00:00, 16.40it/s]\n",
      "\n",
      "Processed prompts:   0%|          | 0/5 [00:00<?, ?it/s]\u001b[A\n",
      "Processed prompts: 100%|██████████| 5/5 [00:00<00:00, 23.88it/s]\u001b[A\n",
      " 15%|█▍        | 148/987 [00:30<02:42,  5.16it/s]"
     ]
    },
    {
     "name": "stdout",
     "output_type": "stream",
     "text": [
      "当前查询次数74\n"
     ]
    },
    {
     "name": "stderr",
     "output_type": "stream",
     "text": [
      "\n",
      "Processed prompts: 100%|██████████| 1/1 [00:00<00:00, 16.59it/s]\n",
      "\n",
      "Processed prompts:   0%|          | 0/5 [00:00<?, ?it/s]\u001b[A\n",
      "Processed prompts: 100%|██████████| 5/5 [00:00<00:00, 23.47it/s]\u001b[A\n",
      " 15%|█▌        | 149/987 [00:30<03:05,  4.53it/s]"
     ]
    },
    {
     "name": "stdout",
     "output_type": "stream",
     "text": [
      "当前查询次数75\n"
     ]
    },
    {
     "name": "stderr",
     "output_type": "stream",
     "text": [
      "\n",
      "Processed prompts: 100%|██████████| 1/1 [00:00<00:00, 16.49it/s]\n",
      "\n",
      "Processed prompts: 100%|██████████| 1/1 [00:00<00:00, 19.44it/s]\n",
      " 15%|█▌        | 150/987 [00:30<02:39,  5.25it/s]"
     ]
    },
    {
     "name": "stdout",
     "output_type": "stream",
     "text": [
      "average: 0.6\n"
     ]
    },
    {
     "name": "stderr",
     "output_type": "stream",
     "text": [
      "\n",
      "Processed prompts: 100%|██████████| 1/1 [00:00<00:00, 16.79it/s]\n",
      "\n",
      "Processed prompts:   0%|          | 0/5 [00:00<?, ?it/s]\u001b[A\n",
      "Processed prompts: 100%|██████████| 5/5 [00:00<00:00, 21.29it/s]\u001b[A\n",
      " 15%|█▌        | 151/987 [00:30<03:07,  4.45it/s]"
     ]
    },
    {
     "name": "stdout",
     "output_type": "stream",
     "text": [
      "当前查询次数76\n"
     ]
    },
    {
     "name": "stderr",
     "output_type": "stream",
     "text": [
      "\n",
      "Processed prompts: 100%|██████████| 1/1 [00:00<00:00, 16.40it/s]\n",
      "\n",
      "Processed prompts: 100%|██████████| 1/1 [00:00<00:00, 19.28it/s]\n",
      " 15%|█▌        | 152/987 [00:31<02:41,  5.17it/s]\n",
      "Processed prompts: 100%|██████████| 1/1 [00:00<00:00, 16.68it/s]\n",
      "\n",
      "Processed prompts: 100%|██████████| 1/1 [00:00<00:00, 19.42it/s]\n",
      " 16%|█▌        | 153/987 [00:31<02:22,  5.85it/s]\n",
      "Processed prompts: 100%|██████████| 1/1 [00:00<00:00, 16.49it/s]\n",
      "\n",
      "Processed prompts:   0%|          | 0/5 [00:00<?, ?it/s]\u001b[A\n",
      "Processed prompts: 100%|██████████| 5/5 [00:00<00:00, 21.13it/s]\u001b[A\n",
      " 16%|█▌        | 154/987 [00:31<02:56,  4.71it/s]"
     ]
    },
    {
     "name": "stdout",
     "output_type": "stream",
     "text": [
      "当前查询次数77\n"
     ]
    },
    {
     "name": "stderr",
     "output_type": "stream",
     "text": [
      "\n",
      "Processed prompts: 100%|██████████| 1/1 [00:00<00:00, 16.65it/s]\n",
      "\n",
      "Processed prompts:   0%|          | 0/5 [00:00<?, ?it/s]\u001b[A\n",
      "Processed prompts: 100%|██████████| 5/5 [00:00<00:00, 26.07it/s]\u001b[A\n",
      " 16%|█▌        | 155/987 [00:31<03:09,  4.40it/s]"
     ]
    },
    {
     "name": "stdout",
     "output_type": "stream",
     "text": [
      "当前查询次数78\n"
     ]
    },
    {
     "name": "stderr",
     "output_type": "stream",
     "text": [
      "\n",
      "Processed prompts: 100%|██████████| 1/1 [00:00<00:00, 16.60it/s]\n",
      "\n",
      "Processed prompts:   0%|          | 0/5 [00:00<?, ?it/s]\u001b[A\n",
      "Processed prompts: 100%|██████████| 5/5 [00:00<00:00, 23.71it/s]\u001b[A\n",
      " 16%|█▌        | 156/987 [00:32<03:22,  4.10it/s]"
     ]
    },
    {
     "name": "stdout",
     "output_type": "stream",
     "text": [
      "当前查询次数79\n"
     ]
    },
    {
     "name": "stderr",
     "output_type": "stream",
     "text": [
      "\n",
      "Processed prompts: 100%|██████████| 1/1 [00:00<00:00, 16.43it/s]\n",
      "\n",
      "Processed prompts: 100%|██████████| 1/1 [00:00<00:00, 19.27it/s]\n",
      " 16%|█▌        | 157/987 [00:32<02:51,  4.83it/s]\n",
      "Processed prompts: 100%|██████████| 1/1 [00:00<00:00, 16.75it/s]\n",
      "\n",
      "Processed prompts: 100%|██████████| 1/1 [00:00<00:00, 19.38it/s]\n",
      " 16%|█▌        | 158/987 [00:32<02:29,  5.55it/s]\n",
      "Processed prompts: 100%|██████████| 1/1 [00:00<00:00, 16.88it/s]\n",
      "\n",
      "Processed prompts:   0%|          | 0/5 [00:00<?, ?it/s]\u001b[A\n",
      "Processed prompts: 100%|██████████| 5/5 [00:00<00:00, 23.38it/s]\u001b[A\n",
      " 16%|█▌        | 159/987 [00:32<02:55,  4.73it/s]"
     ]
    },
    {
     "name": "stdout",
     "output_type": "stream",
     "text": [
      "当前查询次数80\n"
     ]
    },
    {
     "name": "stderr",
     "output_type": "stream",
     "text": [
      "\n",
      "Processed prompts: 100%|██████████| 1/1 [00:00<00:00, 16.55it/s]\n",
      "\n",
      "Processed prompts: 100%|██████████| 1/1 [00:00<00:00, 19.47it/s]\n",
      " 16%|█▌        | 160/987 [00:32<02:32,  5.44it/s]"
     ]
    },
    {
     "name": "stdout",
     "output_type": "stream",
     "text": [
      "average: 0.8\n"
     ]
    },
    {
     "name": "stderr",
     "output_type": "stream",
     "text": [
      "\n",
      "Processed prompts: 100%|██████████| 1/1 [00:00<00:00, 16.77it/s]\n",
      "\n",
      "Processed prompts: 100%|██████████| 1/1 [00:00<00:00, 19.51it/s]\n",
      " 16%|█▋        | 161/987 [00:32<02:15,  6.09it/s]\n",
      "Processed prompts: 100%|██████████| 1/1 [00:00<00:00, 16.54it/s]\n",
      "\n",
      "Processed prompts: 100%|██████████| 1/1 [00:00<00:00, 19.13it/s]\n",
      " 16%|█▋        | 162/987 [00:32<02:04,  6.63it/s]\n",
      "Processed prompts: 100%|██████████| 1/1 [00:00<00:00, 15.98it/s]\n",
      "\n",
      "Processed prompts: 100%|██████████| 1/1 [00:00<00:00, 18.86it/s]\n",
      " 17%|█▋        | 163/987 [00:33<01:57,  7.01it/s]\n",
      "Processed prompts: 100%|██████████| 1/1 [00:00<00:00, 16.50it/s]\n",
      "\n",
      "Processed prompts:   0%|          | 0/5 [00:00<?, ?it/s]\u001b[A\n",
      "Processed prompts: 100%|██████████| 5/5 [00:00<00:00, 23.79it/s]\u001b[A\n",
      " 17%|█▋        | 164/987 [00:33<02:31,  5.41it/s]"
     ]
    },
    {
     "name": "stdout",
     "output_type": "stream",
     "text": [
      "当前查询次数81\n"
     ]
    },
    {
     "name": "stderr",
     "output_type": "stream",
     "text": [
      "\n",
      "Processed prompts: 100%|██████████| 1/1 [00:00<00:00, 16.56it/s]\n",
      "\n",
      "Processed prompts:   0%|          | 0/5 [00:00<?, ?it/s]\u001b[A\n",
      "Processed prompts: 100%|██████████| 5/5 [00:00<00:00, 23.53it/s]\u001b[A\n",
      " 17%|█▋        | 165/987 [00:33<02:56,  4.66it/s]"
     ]
    },
    {
     "name": "stdout",
     "output_type": "stream",
     "text": [
      "当前查询次数82\n"
     ]
    },
    {
     "name": "stderr",
     "output_type": "stream",
     "text": [
      "\n",
      "Processed prompts: 100%|██████████| 1/1 [00:00<00:00, 16.53it/s]\n",
      "\n",
      "Processed prompts:   0%|          | 0/5 [00:00<?, ?it/s]\u001b[A\n",
      "Processed prompts: 100%|██████████| 5/5 [00:00<00:00, 23.58it/s]\u001b[A\n",
      " 17%|█▋        | 166/987 [00:33<03:13,  4.24it/s]"
     ]
    },
    {
     "name": "stdout",
     "output_type": "stream",
     "text": [
      "当前查询次数83\n"
     ]
    },
    {
     "name": "stderr",
     "output_type": "stream",
     "text": [
      "\n",
      "Processed prompts: 100%|██████████| 1/1 [00:00<00:00, 16.68it/s]\n",
      "\n",
      "Processed prompts: 100%|██████████| 1/1 [00:00<00:00, 19.42it/s]\n",
      " 17%|█▋        | 167/987 [00:34<02:45,  4.97it/s]\n",
      "Processed prompts: 100%|██████████| 1/1 [00:00<00:00, 16.58it/s]\n",
      "\n",
      "Processed prompts:   0%|          | 0/5 [00:00<?, ?it/s]\u001b[A\n",
      "Processed prompts: 100%|██████████| 5/5 [00:00<00:00, 23.72it/s]\u001b[A\n",
      " 17%|█▋        | 168/987 [00:34<03:04,  4.43it/s]"
     ]
    },
    {
     "name": "stdout",
     "output_type": "stream",
     "text": [
      "当前查询次数84\n"
     ]
    },
    {
     "name": "stderr",
     "output_type": "stream",
     "text": [
      "\n",
      "Processed prompts: 100%|██████████| 1/1 [00:00<00:00, 16.38it/s]\n",
      "\n",
      "Processed prompts:   0%|          | 0/5 [00:00<?, ?it/s]\u001b[A\n",
      "Processed prompts: 100%|██████████| 5/5 [00:00<00:00, 23.67it/s]\u001b[A\n",
      " 17%|█▋        | 169/987 [00:34<03:18,  4.11it/s]"
     ]
    },
    {
     "name": "stdout",
     "output_type": "stream",
     "text": [
      "当前查询次数85\n"
     ]
    },
    {
     "name": "stderr",
     "output_type": "stream",
     "text": [
      "\n",
      "Processed prompts: 100%|██████████| 1/1 [00:00<00:00, 16.69it/s]\n",
      "\n",
      "Processed prompts:   0%|          | 0/5 [00:00<?, ?it/s]\u001b[A\n",
      "Processed prompts: 100%|██████████| 5/5 [00:00<00:00, 23.60it/s]\u001b[A\n",
      " 17%|█▋        | 170/987 [00:34<03:28,  3.91it/s]"
     ]
    },
    {
     "name": "stdout",
     "output_type": "stream",
     "text": [
      "当前查询次数86\n",
      "average: 0.6\n"
     ]
    },
    {
     "name": "stderr",
     "output_type": "stream",
     "text": [
      "\n",
      "Processed prompts: 100%|██████████| 1/1 [00:00<00:00, 16.56it/s]\n",
      "\n",
      "Processed prompts: 100%|██████████| 1/1 [00:00<00:00, 19.32it/s]\n",
      " 17%|█▋        | 171/987 [00:35<02:55,  4.65it/s]\n",
      "Processed prompts: 100%|██████████| 1/1 [00:00<00:00, 16.64it/s]\n",
      "\n",
      "Processed prompts:   0%|          | 0/5 [00:00<?, ?it/s]\u001b[A\n",
      "Processed prompts: 100%|██████████| 5/5 [00:00<00:00, 21.25it/s]\u001b[A\n",
      " 17%|█▋        | 172/987 [00:35<03:17,  4.12it/s]"
     ]
    },
    {
     "name": "stdout",
     "output_type": "stream",
     "text": [
      "当前查询次数87\n"
     ]
    },
    {
     "name": "stderr",
     "output_type": "stream",
     "text": [
      "\n",
      "Processed prompts: 100%|██████████| 1/1 [00:00<00:00, 16.52it/s]\n",
      "\n",
      "Processed prompts:   0%|          | 0/5 [00:00<?, ?it/s]\u001b[A\n",
      "Processed prompts: 100%|██████████| 5/5 [00:00<00:00, 23.55it/s]\u001b[A\n",
      " 18%|█▊        | 173/987 [00:35<03:27,  3.92it/s]"
     ]
    },
    {
     "name": "stdout",
     "output_type": "stream",
     "text": [
      "当前查询次数88\n"
     ]
    },
    {
     "name": "stderr",
     "output_type": "stream",
     "text": [
      "\n",
      "Processed prompts: 100%|██████████| 1/1 [00:00<00:00, 16.19it/s]\n",
      "\n",
      "Processed prompts:   0%|          | 0/5 [00:00<?, ?it/s]\u001b[A\n",
      "Processed prompts: 100%|██████████| 5/5 [00:00<00:00, 23.54it/s]\u001b[A\n",
      " 18%|█▊        | 174/987 [00:35<03:34,  3.79it/s]"
     ]
    },
    {
     "name": "stdout",
     "output_type": "stream",
     "text": [
      "当前查询次数89\n"
     ]
    },
    {
     "name": "stderr",
     "output_type": "stream",
     "text": [
      "\n",
      "Processed prompts: 100%|██████████| 1/1 [00:00<00:00, 16.43it/s]\n",
      "\n",
      "Processed prompts:   0%|          | 0/5 [00:00<?, ?it/s]\u001b[A\n",
      "Processed prompts: 100%|██████████| 5/5 [00:00<00:00, 21.26it/s]\u001b[A\n",
      " 18%|█▊        | 175/987 [00:36<03:44,  3.61it/s]"
     ]
    },
    {
     "name": "stdout",
     "output_type": "stream",
     "text": [
      "当前查询次数90\n"
     ]
    },
    {
     "name": "stderr",
     "output_type": "stream",
     "text": [
      "\n",
      "Processed prompts: 100%|██████████| 1/1 [00:00<00:00, 16.50it/s]\n",
      "\n",
      "Processed prompts: 100%|██████████| 1/1 [00:00<00:00, 19.01it/s]\n",
      " 18%|█▊        | 176/987 [00:36<03:06,  4.35it/s]\n",
      "Processed prompts: 100%|██████████| 1/1 [00:00<00:00, 16.53it/s]\n",
      "\n",
      "Processed prompts:   0%|          | 0/5 [00:00<?, ?it/s]\u001b[A\n",
      "Processed prompts: 100%|██████████| 5/5 [00:00<00:00, 23.82it/s]\u001b[A\n",
      " 18%|█▊        | 177/987 [00:36<03:18,  4.08it/s]"
     ]
    },
    {
     "name": "stdout",
     "output_type": "stream",
     "text": [
      "当前查询次数91\n"
     ]
    },
    {
     "name": "stderr",
     "output_type": "stream",
     "text": [
      "\n",
      "Processed prompts: 100%|██████████| 1/1 [00:00<00:00, 16.56it/s]\n",
      "\n",
      "Processed prompts:   0%|          | 0/5 [00:00<?, ?it/s]\u001b[A\n",
      "Processed prompts: 100%|██████████| 5/5 [00:00<00:00, 23.72it/s]\u001b[A\n",
      " 18%|█▊        | 178/987 [00:36<03:27,  3.90it/s]"
     ]
    },
    {
     "name": "stdout",
     "output_type": "stream",
     "text": [
      "当前查询次数92\n"
     ]
    },
    {
     "name": "stderr",
     "output_type": "stream",
     "text": [
      "\n",
      "Processed prompts: 100%|██████████| 1/1 [00:00<00:00, 16.58it/s]\n",
      "\n",
      "Processed prompts:   0%|          | 0/5 [00:00<?, ?it/s]\u001b[A\n",
      "Processed prompts: 100%|██████████| 5/5 [00:00<00:00, 23.47it/s]\u001b[A\n",
      " 18%|█▊        | 179/987 [00:37<03:33,  3.78it/s]"
     ]
    },
    {
     "name": "stdout",
     "output_type": "stream",
     "text": [
      "当前查询次数93\n"
     ]
    },
    {
     "name": "stderr",
     "output_type": "stream",
     "text": [
      "\n",
      "Processed prompts: 100%|██████████| 1/1 [00:00<00:00, 16.43it/s]\n",
      "\n",
      "Processed prompts:   0%|          | 0/5 [00:00<?, ?it/s]\u001b[A\n",
      "Processed prompts: 100%|██████████| 5/5 [00:00<00:00, 25.61it/s]\u001b[A\n",
      " 18%|█▊        | 180/987 [00:37<03:34,  3.77it/s]"
     ]
    },
    {
     "name": "stdout",
     "output_type": "stream",
     "text": [
      "当前查询次数94\n",
      "average: 0.9\n"
     ]
    },
    {
     "name": "stderr",
     "output_type": "stream",
     "text": [
      "\n",
      "Processed prompts: 100%|██████████| 1/1 [00:00<00:00, 16.56it/s]\n",
      "\n",
      "Processed prompts:   0%|          | 0/5 [00:00<?, ?it/s]\u001b[A\n",
      "Processed prompts: 100%|██████████| 5/5 [00:00<00:00, 25.90it/s]\u001b[A\n",
      " 18%|█▊        | 181/987 [00:37<03:33,  3.77it/s]"
     ]
    },
    {
     "name": "stdout",
     "output_type": "stream",
     "text": [
      "当前查询次数95\n"
     ]
    },
    {
     "name": "stderr",
     "output_type": "stream",
     "text": [
      "\n",
      "Processed prompts: 100%|██████████| 1/1 [00:00<00:00, 16.52it/s]\n",
      "\n",
      "Processed prompts:   0%|          | 0/5 [00:00<?, ?it/s]\u001b[A\n",
      "Processed prompts: 100%|██████████| 5/5 [00:00<00:00, 23.62it/s]\u001b[A\n",
      " 18%|█▊        | 182/987 [00:37<03:37,  3.70it/s]"
     ]
    },
    {
     "name": "stdout",
     "output_type": "stream",
     "text": [
      "当前查询次数96\n"
     ]
    },
    {
     "name": "stderr",
     "output_type": "stream",
     "text": [
      "\n",
      "Processed prompts: 100%|██████████| 1/1 [00:00<00:00, 16.13it/s]\n",
      "\n",
      "Processed prompts:   0%|          | 0/5 [00:00<?, ?it/s]\u001b[A\n",
      "Processed prompts: 100%|██████████| 5/5 [00:00<00:00, 23.60it/s]\u001b[A\n",
      " 19%|█▊        | 183/987 [00:38<03:41,  3.64it/s]"
     ]
    },
    {
     "name": "stdout",
     "output_type": "stream",
     "text": [
      "当前查询次数97\n"
     ]
    },
    {
     "name": "stderr",
     "output_type": "stream",
     "text": [
      "\n",
      "Processed prompts: 100%|██████████| 1/1 [00:00<00:00, 16.37it/s]\n",
      "\n",
      "Processed prompts:   0%|          | 0/5 [00:00<?, ?it/s]\u001b[A\n",
      "Processed prompts: 100%|██████████| 5/5 [00:00<00:00, 23.64it/s]\u001b[A\n",
      " 19%|█▊        | 184/987 [00:38<03:42,  3.60it/s]"
     ]
    },
    {
     "name": "stdout",
     "output_type": "stream",
     "text": [
      "当前查询次数98\n"
     ]
    },
    {
     "name": "stderr",
     "output_type": "stream",
     "text": [
      "\n",
      "Processed prompts: 100%|██████████| 1/1 [00:00<00:00, 16.58it/s]\n",
      "\n",
      "Processed prompts: 100%|██████████| 1/1 [00:00<00:00, 19.44it/s]\n",
      " 19%|█▊        | 185/987 [00:38<03:04,  4.35it/s]\n",
      "Processed prompts: 100%|██████████| 1/1 [00:00<00:00, 16.55it/s]\n",
      "\n",
      "Processed prompts: 100%|██████████| 1/1 [00:00<00:00, 19.60it/s]\n",
      " 19%|█▉        | 186/987 [00:38<02:37,  5.09it/s]\n",
      "Processed prompts: 100%|██████████| 1/1 [00:00<00:00, 16.66it/s]\n",
      "\n",
      "Processed prompts:   0%|          | 0/5 [00:00<?, ?it/s]\u001b[A\n",
      "Processed prompts: 100%|██████████| 5/5 [00:00<00:00, 23.64it/s]\u001b[A\n",
      " 19%|█▉        | 187/987 [00:39<02:57,  4.50it/s]"
     ]
    },
    {
     "name": "stdout",
     "output_type": "stream",
     "text": [
      "当前查询次数99\n"
     ]
    },
    {
     "name": "stderr",
     "output_type": "stream",
     "text": [
      "\n",
      "Processed prompts: 100%|██████████| 1/1 [00:00<00:00, 16.55it/s]\n",
      "\n",
      "Processed prompts:   0%|          | 0/5 [00:00<?, ?it/s]\u001b[A\n",
      "Processed prompts: 100%|██████████| 5/5 [00:00<00:00, 23.62it/s]\u001b[A\n",
      " 19%|█▉        | 188/987 [00:39<03:12,  4.16it/s]"
     ]
    },
    {
     "name": "stdout",
     "output_type": "stream",
     "text": [
      "当前查询次数100\n"
     ]
    },
    {
     "name": "stderr",
     "output_type": "stream",
     "text": [
      "\n",
      "Processed prompts: 100%|██████████| 1/1 [00:00<00:00, 16.36it/s]\n",
      "\n",
      "Processed prompts:   0%|          | 0/5 [00:00<?, ?it/s]\u001b[A\n",
      "Processed prompts: 100%|██████████| 5/5 [00:00<00:00, 21.15it/s]\u001b[A\n",
      " 19%|█▉        | 189/987 [00:39<03:28,  3.83it/s]"
     ]
    },
    {
     "name": "stdout",
     "output_type": "stream",
     "text": [
      "当前查询次数101\n"
     ]
    },
    {
     "name": "stderr",
     "output_type": "stream",
     "text": [
      "\n",
      "Processed prompts: 100%|██████████| 1/1 [00:00<00:00, 16.46it/s]\n",
      "\n",
      "Processed prompts:   0%|          | 0/5 [00:00<?, ?it/s]\u001b[A\n",
      "Processed prompts: 100%|██████████| 5/5 [00:00<00:00, 23.58it/s]\u001b[A\n",
      " 19%|█▉        | 190/987 [00:39<03:33,  3.73it/s]"
     ]
    },
    {
     "name": "stdout",
     "output_type": "stream",
     "text": [
      "当前查询次数102\n",
      "average: 0.9\n"
     ]
    },
    {
     "name": "stderr",
     "output_type": "stream",
     "text": [
      "\n",
      "Processed prompts: 100%|██████████| 1/1 [00:00<00:00, 16.52it/s]\n",
      "\n",
      "Processed prompts:   0%|          | 0/5 [00:00<?, ?it/s]\u001b[A\n",
      "Processed prompts: 100%|██████████| 5/5 [00:00<00:00, 26.06it/s]\u001b[A\n",
      " 19%|█▉        | 191/987 [00:40<03:32,  3.75it/s]"
     ]
    },
    {
     "name": "stdout",
     "output_type": "stream",
     "text": [
      "当前查询次数103\n"
     ]
    },
    {
     "name": "stderr",
     "output_type": "stream",
     "text": [
      "\n",
      "Processed prompts: 100%|██████████| 1/1 [00:00<00:00, 16.57it/s]\n",
      "\n",
      "Processed prompts:   0%|          | 0/5 [00:00<?, ?it/s]\u001b[A\n",
      "Processed prompts: 100%|██████████| 5/5 [00:00<00:00, 18.68it/s]\u001b[A\n",
      " 19%|█▉        | 192/987 [00:40<03:49,  3.47it/s]"
     ]
    },
    {
     "name": "stdout",
     "output_type": "stream",
     "text": [
      "当前查询次数104\n"
     ]
    },
    {
     "name": "stderr",
     "output_type": "stream",
     "text": [
      "\n",
      "Processed prompts: 100%|██████████| 1/1 [00:00<00:00, 16.19it/s]\n",
      "\n",
      "Processed prompts: 100%|██████████| 1/1 [00:00<00:00, 19.47it/s]\n",
      " 20%|█▉        | 193/987 [00:40<03:09,  4.20it/s]\n",
      "Processed prompts: 100%|██████████| 1/1 [00:00<00:00, 16.63it/s]\n",
      "\n",
      "Processed prompts:   0%|          | 0/5 [00:00<?, ?it/s]\u001b[A\n",
      "Processed prompts: 100%|██████████| 5/5 [00:00<00:00, 22.96it/s]\u001b[A\n",
      " 20%|█▉        | 194/987 [00:40<03:20,  3.95it/s]"
     ]
    },
    {
     "name": "stdout",
     "output_type": "stream",
     "text": [
      "当前查询次数105\n"
     ]
    },
    {
     "name": "stderr",
     "output_type": "stream",
     "text": [
      "\n",
      "Processed prompts: 100%|██████████| 1/1 [00:00<00:00, 16.58it/s]\n",
      "\n",
      "Processed prompts:   0%|          | 0/5 [00:00<?, ?it/s]\u001b[A\n",
      "Processed prompts: 100%|██████████| 5/5 [00:00<00:00, 21.23it/s]\u001b[A\n",
      " 20%|█▉        | 195/987 [00:41<03:33,  3.71it/s]"
     ]
    },
    {
     "name": "stdout",
     "output_type": "stream",
     "text": [
      "当前查询次数106\n"
     ]
    },
    {
     "name": "stderr",
     "output_type": "stream",
     "text": [
      "\n",
      "Processed prompts: 100%|██████████| 1/1 [00:00<00:00, 16.32it/s]\n",
      "\n",
      "Processed prompts:   0%|          | 0/5 [00:00<?, ?it/s]\u001b[A\n",
      "Processed prompts: 100%|██████████| 5/5 [00:00<00:00, 23.78it/s]\u001b[A\n",
      " 20%|█▉        | 196/987 [00:41<03:36,  3.66it/s]"
     ]
    },
    {
     "name": "stdout",
     "output_type": "stream",
     "text": [
      "当前查询次数107\n"
     ]
    },
    {
     "name": "stderr",
     "output_type": "stream",
     "text": [
      "\n",
      "Processed prompts: 100%|██████████| 1/1 [00:00<00:00, 16.45it/s]\n",
      "\n",
      "Processed prompts:   0%|          | 0/5 [00:00<?, ?it/s]\u001b[A\n",
      "Processed prompts: 100%|██████████| 5/5 [00:00<00:00, 23.61it/s]\u001b[A\n",
      " 20%|█▉        | 197/987 [00:41<03:38,  3.62it/s]"
     ]
    },
    {
     "name": "stdout",
     "output_type": "stream",
     "text": [
      "当前查询次数108\n"
     ]
    },
    {
     "name": "stderr",
     "output_type": "stream",
     "text": [
      "\n",
      "Processed prompts: 100%|██████████| 1/1 [00:00<00:00, 16.50it/s]\n",
      "\n",
      "Processed prompts: 100%|██████████| 1/1 [00:00<00:00, 19.37it/s]\n",
      " 20%|██        | 198/987 [00:41<03:00,  4.36it/s]\n",
      "Processed prompts: 100%|██████████| 1/1 [00:00<00:00, 16.67it/s]\n",
      "\n",
      "Processed prompts:   0%|          | 0/5 [00:00<?, ?it/s]\u001b[A\n",
      "Processed prompts: 100%|██████████| 5/5 [00:00<00:00, 23.50it/s]\u001b[A\n",
      " 20%|██        | 199/987 [00:42<03:13,  4.07it/s]"
     ]
    },
    {
     "name": "stdout",
     "output_type": "stream",
     "text": [
      "当前查询次数109\n"
     ]
    },
    {
     "name": "stderr",
     "output_type": "stream",
     "text": [
      "\n",
      "Processed prompts: 100%|██████████| 1/1 [00:00<00:00, 16.58it/s]\n",
      "\n",
      "Processed prompts:   0%|          | 0/5 [00:00<?, ?it/s]\u001b[A\n",
      "Processed prompts: 100%|██████████| 5/5 [00:00<00:00, 21.01it/s]\u001b[A\n",
      " 20%|██        | 200/987 [00:42<03:28,  3.77it/s]"
     ]
    },
    {
     "name": "stdout",
     "output_type": "stream",
     "text": [
      "当前查询次数110\n",
      "average: 0.6\n"
     ]
    },
    {
     "name": "stderr",
     "output_type": "stream",
     "text": [
      "\n",
      "Processed prompts: 100%|██████████| 1/1 [00:00<00:00, 16.58it/s]\n",
      "\n",
      "Processed prompts:   0%|          | 0/5 [00:00<?, ?it/s]\u001b[A\n",
      "Processed prompts: 100%|██████████| 5/5 [00:00<00:00, 23.44it/s]\u001b[A\n",
      " 20%|██        | 201/987 [00:42<03:33,  3.69it/s]"
     ]
    },
    {
     "name": "stdout",
     "output_type": "stream",
     "text": [
      "当前查询次数111\n"
     ]
    },
    {
     "name": "stderr",
     "output_type": "stream",
     "text": [
      "\n",
      "Processed prompts: 100%|██████████| 1/1 [00:00<00:00, 16.57it/s]\n",
      "\n",
      "Processed prompts:   0%|          | 0/5 [00:00<?, ?it/s]\u001b[A\n",
      "Processed prompts: 100%|██████████| 5/5 [00:00<00:00, 23.35it/s]\u001b[A\n",
      " 20%|██        | 202/987 [00:43<03:36,  3.63it/s]"
     ]
    },
    {
     "name": "stdout",
     "output_type": "stream",
     "text": [
      "当前查询次数112\n"
     ]
    },
    {
     "name": "stderr",
     "output_type": "stream",
     "text": [
      "\n",
      "Processed prompts: 100%|██████████| 1/1 [00:00<00:00, 16.38it/s]\n",
      "\n",
      "Processed prompts:   0%|          | 0/5 [00:00<?, ?it/s]\u001b[A\n",
      "Processed prompts: 100%|██████████| 5/5 [00:00<00:00, 23.61it/s]\u001b[A\n",
      " 21%|██        | 203/987 [00:43<03:38,  3.60it/s]"
     ]
    },
    {
     "name": "stdout",
     "output_type": "stream",
     "text": [
      "当前查询次数113\n"
     ]
    },
    {
     "name": "stderr",
     "output_type": "stream",
     "text": [
      "\n",
      "Processed prompts: 100%|██████████| 1/1 [00:00<00:00, 16.38it/s]\n",
      "\n",
      "Processed prompts: 100%|██████████| 1/1 [00:00<00:00, 19.41it/s]\n",
      " 21%|██        | 204/987 [00:43<03:00,  4.34it/s]\n",
      "Processed prompts: 100%|██████████| 1/1 [00:00<00:00, 16.65it/s]\n",
      "\n",
      "Processed prompts:   0%|          | 0/5 [00:00<?, ?it/s]\u001b[A\n",
      "Processed prompts: 100%|██████████| 5/5 [00:00<00:00, 23.45it/s]\u001b[A\n",
      " 21%|██        | 205/987 [00:43<03:13,  4.05it/s]"
     ]
    },
    {
     "name": "stdout",
     "output_type": "stream",
     "text": [
      "当前查询次数114\n"
     ]
    },
    {
     "name": "stderr",
     "output_type": "stream",
     "text": [
      "\n",
      "Processed prompts: 100%|██████████| 1/1 [00:00<00:00, 15.86it/s]\n",
      "\n",
      "Processed prompts:   0%|          | 0/5 [00:00<?, ?it/s]\u001b[A\n",
      "Processed prompts: 100%|██████████| 5/5 [00:00<00:00, 22.87it/s]\u001b[A\n",
      " 21%|██        | 206/987 [00:44<03:23,  3.83it/s]"
     ]
    },
    {
     "name": "stdout",
     "output_type": "stream",
     "text": [
      "当前查询次数115\n"
     ]
    },
    {
     "name": "stderr",
     "output_type": "stream",
     "text": [
      "\n",
      "Processed prompts: 100%|██████████| 1/1 [00:00<00:00, 16.53it/s]\n",
      "\n",
      "Processed prompts:   0%|          | 0/5 [00:00<?, ?it/s]\u001b[A\n",
      "Processed prompts: 100%|██████████| 5/5 [00:00<00:00, 23.73it/s]\u001b[A\n",
      " 21%|██        | 207/987 [00:44<03:28,  3.74it/s]"
     ]
    },
    {
     "name": "stdout",
     "output_type": "stream",
     "text": [
      "当前查询次数116\n"
     ]
    },
    {
     "name": "stderr",
     "output_type": "stream",
     "text": [
      "\n",
      "Processed prompts: 100%|██████████| 1/1 [00:00<00:00, 16.44it/s]\n",
      "\n",
      "Processed prompts:   0%|          | 0/5 [00:00<?, ?it/s]\u001b[A\n",
      "Processed prompts: 100%|██████████| 5/5 [00:00<00:00, 23.44it/s]\u001b[A\n",
      " 21%|██        | 208/987 [00:44<03:32,  3.67it/s]"
     ]
    },
    {
     "name": "stdout",
     "output_type": "stream",
     "text": [
      "当前查询次数117\n"
     ]
    },
    {
     "name": "stderr",
     "output_type": "stream",
     "text": [
      "\n",
      "Processed prompts: 100%|██████████| 1/1 [00:00<00:00, 16.53it/s]\n",
      "\n",
      "Processed prompts:   0%|          | 0/5 [00:00<?, ?it/s]\u001b[A\n",
      "Processed prompts: 100%|██████████| 5/5 [00:00<00:00, 23.62it/s]\u001b[A\n",
      " 21%|██        | 209/987 [00:44<03:34,  3.63it/s]"
     ]
    },
    {
     "name": "stdout",
     "output_type": "stream",
     "text": [
      "当前查询次数118\n"
     ]
    },
    {
     "name": "stderr",
     "output_type": "stream",
     "text": [
      "\n",
      "Processed prompts: 100%|██████████| 1/1 [00:00<00:00, 16.41it/s]\n",
      "\n",
      "Processed prompts: 100%|██████████| 1/1 [00:00<00:00, 19.13it/s]\n",
      " 21%|██▏       | 210/987 [00:45<02:58,  4.36it/s]"
     ]
    },
    {
     "name": "stdout",
     "output_type": "stream",
     "text": [
      "average: 0.8\n"
     ]
    },
    {
     "name": "stderr",
     "output_type": "stream",
     "text": [
      "\n",
      "Processed prompts: 100%|██████████| 1/1 [00:00<00:00, 16.58it/s]\n",
      "\n",
      "Processed prompts:   0%|          | 0/5 [00:00<?, ?it/s]\u001b[A\n",
      "Processed prompts: 100%|██████████| 5/5 [00:00<00:00, 23.70it/s]\u001b[A\n",
      " 21%|██▏       | 211/987 [00:45<03:10,  4.08it/s]"
     ]
    },
    {
     "name": "stdout",
     "output_type": "stream",
     "text": [
      "当前查询次数119\n"
     ]
    },
    {
     "name": "stderr",
     "output_type": "stream",
     "text": [
      "\n",
      "Processed prompts: 100%|██████████| 1/1 [00:00<00:00, 16.47it/s]\n",
      "\n",
      "Processed prompts:   0%|          | 0/5 [00:00<?, ?it/s]\u001b[A\n",
      "Processed prompts: 100%|██████████| 5/5 [00:00<00:00, 23.64it/s]\u001b[A\n",
      " 21%|██▏       | 212/987 [00:45<03:19,  3.89it/s]"
     ]
    },
    {
     "name": "stdout",
     "output_type": "stream",
     "text": [
      "当前查询次数120\n"
     ]
    },
    {
     "name": "stderr",
     "output_type": "stream",
     "text": [
      "\n",
      "Processed prompts: 100%|██████████| 1/1 [00:00<00:00, 16.36it/s]\n",
      "\n",
      "Processed prompts:   0%|          | 0/5 [00:00<?, ?it/s]\u001b[A\n",
      "Processed prompts: 100%|██████████| 5/5 [00:00<00:00, 23.75it/s]\u001b[A\n",
      " 22%|██▏       | 213/987 [00:45<03:25,  3.77it/s]"
     ]
    },
    {
     "name": "stdout",
     "output_type": "stream",
     "text": [
      "当前查询次数121\n"
     ]
    },
    {
     "name": "stderr",
     "output_type": "stream",
     "text": [
      "\n",
      "Processed prompts: 100%|██████████| 1/1 [00:00<00:00, 16.39it/s]\n",
      "\n",
      "Processed prompts:   0%|          | 0/5 [00:00<?, ?it/s]\u001b[A\n",
      "Processed prompts: 100%|██████████| 5/5 [00:00<00:00, 25.83it/s]\u001b[A\n",
      " 22%|██▏       | 214/987 [00:46<03:25,  3.77it/s]"
     ]
    },
    {
     "name": "stdout",
     "output_type": "stream",
     "text": [
      "当前查询次数122\n"
     ]
    },
    {
     "name": "stderr",
     "output_type": "stream",
     "text": [
      "\n",
      "Processed prompts: 100%|██████████| 1/1 [00:00<00:00, 16.43it/s]\n",
      "\n",
      "Processed prompts:   0%|          | 0/5 [00:00<?, ?it/s]\u001b[A\n",
      "Processed prompts: 100%|██████████| 5/5 [00:00<00:00, 21.10it/s]\u001b[A\n",
      " 22%|██▏       | 215/987 [00:46<03:35,  3.59it/s]"
     ]
    },
    {
     "name": "stdout",
     "output_type": "stream",
     "text": [
      "当前查询次数123\n"
     ]
    },
    {
     "name": "stderr",
     "output_type": "stream",
     "text": [
      "\n",
      "Processed prompts: 100%|██████████| 1/1 [00:00<00:00, 16.46it/s]\n",
      "\n",
      "Processed prompts:   0%|          | 0/5 [00:00<?, ?it/s]\u001b[A\n",
      "Processed prompts: 100%|██████████| 5/5 [00:00<00:00, 21.49it/s]\u001b[A\n",
      " 22%|██▏       | 216/987 [00:46<03:41,  3.48it/s]"
     ]
    },
    {
     "name": "stdout",
     "output_type": "stream",
     "text": [
      "当前查询次数124\n"
     ]
    },
    {
     "name": "stderr",
     "output_type": "stream",
     "text": [
      "\n",
      "Processed prompts: 100%|██████████| 1/1 [00:00<00:00, 16.46it/s]\n",
      "\n",
      "Processed prompts:   0%|          | 0/5 [00:00<?, ?it/s]\u001b[A\n",
      "Processed prompts: 100%|██████████| 5/5 [00:00<00:00, 23.74it/s]\u001b[A\n",
      " 22%|██▏       | 217/987 [00:47<03:39,  3.50it/s]"
     ]
    },
    {
     "name": "stdout",
     "output_type": "stream",
     "text": [
      "当前查询次数125\n"
     ]
    },
    {
     "name": "stderr",
     "output_type": "stream",
     "text": [
      "\n",
      "Processed prompts: 100%|██████████| 1/1 [00:00<00:00, 16.50it/s]\n",
      "\n",
      "Processed prompts:   0%|          | 0/5 [00:00<?, ?it/s]\u001b[A\n",
      "Processed prompts: 100%|██████████| 5/5 [00:00<00:00, 26.13it/s]\u001b[A\n",
      " 22%|██▏       | 218/987 [00:47<03:34,  3.59it/s]"
     ]
    },
    {
     "name": "stdout",
     "output_type": "stream",
     "text": [
      "当前查询次数126\n"
     ]
    },
    {
     "name": "stderr",
     "output_type": "stream",
     "text": [
      "\n",
      "Processed prompts: 100%|██████████| 1/1 [00:00<00:00, 16.39it/s]\n",
      "\n",
      "Processed prompts: 100%|██████████| 1/1 [00:00<00:00, 19.46it/s]\n",
      " 22%|██▏       | 219/987 [00:47<02:57,  4.33it/s]\n",
      "Processed prompts: 100%|██████████| 1/1 [00:00<00:00, 16.61it/s]\n",
      "\n",
      "Processed prompts: 100%|██████████| 1/1 [00:00<00:00, 18.95it/s]\n",
      " 22%|██▏       | 220/987 [00:47<02:31,  5.06it/s]"
     ]
    },
    {
     "name": "stdout",
     "output_type": "stream",
     "text": [
      "average: 0.6\n"
     ]
    },
    {
     "name": "stderr",
     "output_type": "stream",
     "text": [
      "\n",
      "Processed prompts: 100%|██████████| 1/1 [00:00<00:00, 16.57it/s]\n",
      "\n",
      "Processed prompts: 100%|██████████| 1/1 [00:00<00:00, 19.30it/s]\n",
      " 22%|██▏       | 221/987 [00:47<02:13,  5.74it/s]\n",
      "Processed prompts: 100%|██████████| 1/1 [00:00<00:00, 16.66it/s]\n",
      "\n",
      "Processed prompts:   0%|          | 0/5 [00:00<?, ?it/s]\u001b[A\n",
      "Processed prompts: 100%|██████████| 5/5 [00:00<00:00, 26.38it/s]\u001b[A\n",
      " 22%|██▏       | 222/987 [00:47<02:33,  5.00it/s]"
     ]
    },
    {
     "name": "stdout",
     "output_type": "stream",
     "text": [
      "当前查询次数127\n"
     ]
    },
    {
     "name": "stderr",
     "output_type": "stream",
     "text": [
      "\n",
      "Processed prompts: 100%|██████████| 1/1 [00:00<00:00, 16.16it/s]\n",
      "\n",
      "Processed prompts: 100%|██████████| 1/1 [00:00<00:00, 18.38it/s]\n",
      " 23%|██▎       | 223/987 [00:48<02:15,  5.64it/s]\n",
      "Processed prompts: 100%|██████████| 1/1 [00:00<00:00, 16.15it/s]\n",
      "\n",
      "Processed prompts: 100%|██████████| 1/1 [00:00<00:00, 19.40it/s]\n",
      " 23%|██▎       | 224/987 [00:48<02:02,  6.24it/s]\n",
      "Processed prompts: 100%|██████████| 1/1 [00:00<00:00, 16.68it/s]\n",
      "\n",
      "Processed prompts:   0%|          | 0/5 [00:00<?, ?it/s]\u001b[A\n",
      "Processed prompts: 100%|██████████| 5/5 [00:00<00:00, 23.71it/s]\u001b[A\n",
      " 23%|██▎       | 225/987 [00:48<02:29,  5.08it/s]"
     ]
    },
    {
     "name": "stdout",
     "output_type": "stream",
     "text": [
      "当前查询次数128\n"
     ]
    },
    {
     "name": "stderr",
     "output_type": "stream",
     "text": [
      "\n",
      "Processed prompts: 100%|██████████| 1/1 [00:00<00:00, 16.33it/s]\n",
      "\n",
      "Processed prompts:   0%|          | 0/5 [00:00<?, ?it/s]\u001b[A\n",
      "Processed prompts: 100%|██████████| 5/5 [00:00<00:00, 21.21it/s]\u001b[A\n",
      " 23%|██▎       | 226/987 [00:48<02:55,  4.34it/s]"
     ]
    },
    {
     "name": "stdout",
     "output_type": "stream",
     "text": [
      "当前查询次数129\n"
     ]
    },
    {
     "name": "stderr",
     "output_type": "stream",
     "text": [
      "\n",
      "Processed prompts: 100%|██████████| 1/1 [00:00<00:00, 16.62it/s]\n",
      "\n",
      "Processed prompts:   0%|          | 0/5 [00:00<?, ?it/s]\u001b[A\n",
      "Processed prompts: 100%|██████████| 5/5 [00:00<00:00, 23.53it/s]\u001b[A\n",
      " 23%|██▎       | 227/987 [00:49<03:07,  4.06it/s]"
     ]
    },
    {
     "name": "stdout",
     "output_type": "stream",
     "text": [
      "当前查询次数130\n"
     ]
    },
    {
     "name": "stderr",
     "output_type": "stream",
     "text": [
      "\n",
      "Processed prompts: 100%|██████████| 1/1 [00:00<00:00, 16.58it/s]\n",
      "\n",
      "Processed prompts:   0%|          | 0/5 [00:00<?, ?it/s]\u001b[A\n",
      "Processed prompts: 100%|██████████| 5/5 [00:00<00:00, 21.35it/s]\u001b[A\n",
      " 23%|██▎       | 228/987 [00:49<03:20,  3.79it/s]"
     ]
    },
    {
     "name": "stdout",
     "output_type": "stream",
     "text": [
      "当前查询次数131\n"
     ]
    },
    {
     "name": "stderr",
     "output_type": "stream",
     "text": [
      "\n",
      "Processed prompts: 100%|██████████| 1/1 [00:00<00:00, 16.59it/s]\n",
      "\n",
      "Processed prompts:   0%|          | 0/5 [00:00<?, ?it/s]\u001b[A\n",
      "Processed prompts: 100%|██████████| 5/5 [00:00<00:00, 23.69it/s]\u001b[A\n",
      " 23%|██▎       | 229/987 [00:49<03:24,  3.71it/s]"
     ]
    },
    {
     "name": "stdout",
     "output_type": "stream",
     "text": [
      "当前查询次数132\n"
     ]
    },
    {
     "name": "stderr",
     "output_type": "stream",
     "text": [
      "\n",
      "Processed prompts: 100%|██████████| 1/1 [00:00<00:00, 16.53it/s]\n",
      "\n",
      "Processed prompts: 100%|██████████| 1/1 [00:00<00:00, 19.51it/s]\n",
      " 23%|██▎       | 230/987 [00:49<02:49,  4.46it/s]"
     ]
    },
    {
     "name": "stdout",
     "output_type": "stream",
     "text": [
      "average: 0.9\n"
     ]
    },
    {
     "name": "stderr",
     "output_type": "stream",
     "text": [
      "\n",
      "Processed prompts: 100%|██████████| 1/1 [00:00<00:00, 16.64it/s]\n",
      "\n",
      "Processed prompts: 100%|██████████| 1/1 [00:00<00:00, 19.42it/s]\n",
      " 23%|██▎       | 231/987 [00:49<02:25,  5.19it/s]\n",
      "Processed prompts: 100%|██████████| 1/1 [00:00<00:00, 16.55it/s]\n",
      "\n",
      "Processed prompts: 100%|██████████| 1/1 [00:00<00:00, 19.48it/s]\n",
      " 24%|██▎       | 232/987 [00:50<02:08,  5.88it/s]\n",
      "Processed prompts: 100%|██████████| 1/1 [00:00<00:00, 16.62it/s]\n",
      "\n",
      "Processed prompts: 100%|██████████| 1/1 [00:00<00:00, 19.47it/s]\n",
      " 24%|██▎       | 233/987 [00:50<01:56,  6.47it/s]\n",
      "Processed prompts: 100%|██████████| 1/1 [00:00<00:00, 15.99it/s]\n",
      "\n",
      "Processed prompts: 100%|██████████| 1/1 [00:00<00:00, 18.96it/s]\n",
      " 24%|██▎       | 234/987 [00:50<01:49,  6.90it/s]\n",
      "Processed prompts: 100%|██████████| 1/1 [00:00<00:00, 16.62it/s]\n",
      "\n",
      "Processed prompts:   0%|          | 0/5 [00:00<?, ?it/s]\u001b[A\n",
      "Processed prompts: 100%|██████████| 5/5 [00:00<00:00, 25.78it/s]\u001b[A\n",
      " 24%|██▍       | 235/987 [00:50<02:16,  5.53it/s]"
     ]
    },
    {
     "name": "stdout",
     "output_type": "stream",
     "text": [
      "当前查询次数133\n"
     ]
    },
    {
     "name": "stderr",
     "output_type": "stream",
     "text": [
      "\n",
      "Processed prompts: 100%|██████████| 1/1 [00:00<00:00, 16.38it/s]\n",
      "\n",
      "Processed prompts: 100%|██████████| 1/1 [00:00<00:00, 19.41it/s]\n",
      " 24%|██▍       | 236/987 [00:50<02:02,  6.15it/s]\n",
      "Processed prompts: 100%|██████████| 1/1 [00:00<00:00, 16.64it/s]\n",
      "\n",
      "Processed prompts:   0%|          | 0/5 [00:00<?, ?it/s]\u001b[A\n",
      "Processed prompts: 100%|██████████| 5/5 [00:00<00:00, 23.57it/s]\u001b[A\n",
      " 24%|██▍       | 237/987 [00:50<02:29,  5.03it/s]"
     ]
    },
    {
     "name": "stdout",
     "output_type": "stream",
     "text": [
      "当前查询次数134\n"
     ]
    },
    {
     "name": "stderr",
     "output_type": "stream",
     "text": [
      "\n",
      "Processed prompts: 100%|██████████| 1/1 [00:00<00:00, 16.41it/s]\n",
      "\n",
      "Processed prompts:   0%|          | 0/5 [00:00<?, ?it/s]\u001b[A\n",
      "Processed prompts: 100%|██████████| 5/5 [00:00<00:00, 23.76it/s]\u001b[A\n",
      " 24%|██▍       | 238/987 [00:51<02:47,  4.46it/s]"
     ]
    },
    {
     "name": "stdout",
     "output_type": "stream",
     "text": [
      "当前查询次数135\n"
     ]
    },
    {
     "name": "stderr",
     "output_type": "stream",
     "text": [
      "\n",
      "Processed prompts: 100%|██████████| 1/1 [00:00<00:00, 16.44it/s]\n",
      "\n",
      "Processed prompts: 100%|██████████| 1/1 [00:00<00:00, 19.24it/s]\n",
      " 24%|██▍       | 239/987 [00:51<02:24,  5.18it/s]\n",
      "Processed prompts: 100%|██████████| 1/1 [00:00<00:00, 16.79it/s]\n",
      "\n",
      "Processed prompts:   0%|          | 0/5 [00:00<?, ?it/s]\u001b[A\n",
      "Processed prompts: 100%|██████████| 5/5 [00:00<00:00, 23.00it/s]\u001b[A\n",
      " 24%|██▍       | 240/987 [00:51<02:45,  4.51it/s]"
     ]
    },
    {
     "name": "stdout",
     "output_type": "stream",
     "text": [
      "当前查询次数136\n",
      "average: 0.9\n"
     ]
    },
    {
     "name": "stderr",
     "output_type": "stream",
     "text": [
      "\n",
      "Processed prompts: 100%|██████████| 1/1 [00:00<00:00, 16.66it/s]\n",
      "\n",
      "Processed prompts:   0%|          | 0/5 [00:00<?, ?it/s]\u001b[A\n",
      "Processed prompts: 100%|██████████| 5/5 [00:00<00:00, 23.74it/s]\u001b[A\n",
      " 24%|██▍       | 241/987 [00:51<02:58,  4.18it/s]"
     ]
    },
    {
     "name": "stdout",
     "output_type": "stream",
     "text": [
      "当前查询次数137\n"
     ]
    },
    {
     "name": "stderr",
     "output_type": "stream",
     "text": [
      "\n",
      "Processed prompts: 100%|██████████| 1/1 [00:00<00:00, 16.58it/s]\n",
      "\n",
      "Processed prompts: 100%|██████████| 1/1 [00:00<00:00, 19.56it/s]\n",
      " 25%|██▍       | 242/987 [00:52<02:31,  4.91it/s]\n",
      "Processed prompts: 100%|██████████| 1/1 [00:00<00:00, 16.53it/s]\n",
      "\n",
      "Processed prompts:   0%|          | 0/5 [00:00<?, ?it/s]\u001b[A\n",
      "Processed prompts: 100%|██████████| 5/5 [00:00<00:00, 23.36it/s]\u001b[A\n",
      " 25%|██▍       | 243/987 [00:52<02:49,  4.38it/s]"
     ]
    },
    {
     "name": "stdout",
     "output_type": "stream",
     "text": [
      "当前查询次数138\n"
     ]
    },
    {
     "name": "stderr",
     "output_type": "stream",
     "text": [
      "\n",
      "Processed prompts: 100%|██████████| 1/1 [00:00<00:00, 16.14it/s]\n",
      "\n",
      "Processed prompts: 100%|██████████| 1/1 [00:00<00:00, 19.50it/s]\n",
      " 25%|██▍       | 244/987 [00:52<02:25,  5.10it/s]\n",
      "Processed prompts: 100%|██████████| 1/1 [00:00<00:00, 16.46it/s]\n",
      "\n",
      "Processed prompts: 100%|██████████| 1/1 [00:00<00:00, 19.33it/s]\n",
      " 25%|██▍       | 245/987 [00:52<02:08,  5.77it/s]\n",
      "Processed prompts: 100%|██████████| 1/1 [00:00<00:00, 16.21it/s]\n",
      "\n",
      "Processed prompts:   0%|          | 0/5 [00:00<?, ?it/s]\u001b[A\n",
      "Processed prompts: 100%|██████████| 5/5 [00:00<00:00, 20.24it/s]\u001b[A\n",
      " 25%|██▍       | 246/987 [00:52<02:40,  4.60it/s]"
     ]
    },
    {
     "name": "stdout",
     "output_type": "stream",
     "text": [
      "当前查询次数139\n"
     ]
    },
    {
     "name": "stderr",
     "output_type": "stream",
     "text": [
      "\n",
      "Processed prompts: 100%|██████████| 1/1 [00:00<00:00, 16.52it/s]\n",
      "\n",
      "Processed prompts: 100%|██████████| 1/1 [00:00<00:00, 19.39it/s]\n",
      " 25%|██▌       | 247/987 [00:52<02:18,  5.33it/s]\n",
      "Processed prompts: 100%|██████████| 1/1 [00:00<00:00, 16.73it/s]\n",
      "\n",
      "Processed prompts:   0%|          | 0/5 [00:00<?, ?it/s]\u001b[A\n",
      "Processed prompts: 100%|██████████| 5/5 [00:00<00:00, 23.19it/s]\u001b[A\n",
      " 25%|██▌       | 248/987 [00:53<02:40,  4.60it/s]"
     ]
    },
    {
     "name": "stdout",
     "output_type": "stream",
     "text": [
      "当前查询次数140\n"
     ]
    },
    {
     "name": "stderr",
     "output_type": "stream",
     "text": [
      "\n",
      "Processed prompts: 100%|██████████| 1/1 [00:00<00:00, 16.43it/s]\n",
      "\n",
      "Processed prompts: 100%|██████████| 1/1 [00:00<00:00, 19.46it/s]\n",
      " 25%|██▌       | 249/987 [00:53<02:18,  5.32it/s]\n",
      "Processed prompts: 100%|██████████| 1/1 [00:00<00:00, 16.66it/s]\n",
      "\n",
      "Processed prompts: 100%|██████████| 1/1 [00:00<00:00, 19.05it/s]\n",
      " 25%|██▌       | 250/987 [00:53<02:03,  5.96it/s]"
     ]
    },
    {
     "name": "stdout",
     "output_type": "stream",
     "text": [
      "average: 0.7\n"
     ]
    },
    {
     "name": "stderr",
     "output_type": "stream",
     "text": [
      "\n",
      "Processed prompts: 100%|██████████| 1/1 [00:00<00:00, 16.34it/s]\n",
      "\n",
      "Processed prompts: 100%|██████████| 1/1 [00:00<00:00, 19.43it/s]\n",
      " 25%|██▌       | 251/987 [00:53<01:53,  6.50it/s]\n",
      "Processed prompts: 100%|██████████| 1/1 [00:00<00:00, 16.67it/s]\n",
      "\n",
      "Processed prompts:   0%|          | 0/5 [00:00<?, ?it/s]\u001b[A\n",
      "Processed prompts: 100%|██████████| 5/5 [00:00<00:00, 20.55it/s]\u001b[A\n",
      " 26%|██▌       | 252/987 [00:53<02:28,  4.95it/s]"
     ]
    },
    {
     "name": "stdout",
     "output_type": "stream",
     "text": [
      "当前查询次数141\n"
     ]
    },
    {
     "name": "stderr",
     "output_type": "stream",
     "text": [
      "\n",
      "Processed prompts: 100%|██████████| 1/1 [00:00<00:00, 16.55it/s]\n",
      "\n",
      "Processed prompts:   0%|          | 0/5 [00:00<?, ?it/s]\u001b[A\n",
      "Processed prompts: 100%|██████████| 5/5 [00:00<00:00, 23.72it/s]\u001b[A\n",
      " 26%|██▌       | 253/987 [00:54<02:45,  4.43it/s]"
     ]
    },
    {
     "name": "stdout",
     "output_type": "stream",
     "text": [
      "当前查询次数142\n"
     ]
    },
    {
     "name": "stderr",
     "output_type": "stream",
     "text": [
      "\n",
      "Processed prompts: 100%|██████████| 1/1 [00:00<00:00, 16.56it/s]\n",
      "\n",
      "Processed prompts: 100%|██████████| 1/1 [00:00<00:00, 19.56it/s]\n",
      " 26%|██▌       | 254/987 [00:54<02:22,  5.16it/s]\n",
      "Processed prompts: 100%|██████████| 1/1 [00:00<00:00, 16.63it/s]\n",
      "\n",
      "Processed prompts:   0%|          | 0/5 [00:00<?, ?it/s]\u001b[A\n",
      "Processed prompts: 100%|██████████| 5/5 [00:00<00:00, 25.88it/s]\u001b[A\n",
      " 26%|██▌       | 255/987 [00:54<02:37,  4.65it/s]"
     ]
    },
    {
     "name": "stdout",
     "output_type": "stream",
     "text": [
      "当前查询次数143\n"
     ]
    },
    {
     "name": "stderr",
     "output_type": "stream",
     "text": [
      "\n",
      "Processed prompts: 100%|██████████| 1/1 [00:00<00:00, 16.50it/s]\n",
      "\n",
      "Processed prompts: 100%|██████████| 1/1 [00:00<00:00, 19.39it/s]\n",
      " 26%|██▌       | 256/987 [00:54<02:16,  5.36it/s]\n",
      "Processed prompts: 100%|██████████| 1/1 [00:00<00:00, 16.66it/s]\n",
      "\n",
      "Processed prompts: 100%|██████████| 1/1 [00:00<00:00, 19.55it/s]\n",
      " 26%|██▌       | 257/987 [00:54<02:01,  6.01it/s]\n",
      "Processed prompts: 100%|██████████| 1/1 [00:00<00:00, 16.57it/s]\n",
      "\n",
      "Processed prompts: 100%|██████████| 1/1 [00:00<00:00, 19.21it/s]\n",
      " 26%|██▌       | 258/987 [00:54<01:51,  6.55it/s]\n",
      "Processed prompts: 100%|██████████| 1/1 [00:00<00:00, 16.70it/s]\n",
      "\n",
      "Processed prompts:   0%|          | 0/5 [00:00<?, ?it/s]\u001b[A\n",
      "Processed prompts: 100%|██████████| 5/5 [00:00<00:00, 23.53it/s]\u001b[A\n",
      " 26%|██▌       | 259/987 [00:55<02:19,  5.20it/s]"
     ]
    },
    {
     "name": "stdout",
     "output_type": "stream",
     "text": [
      "当前查询次数144\n"
     ]
    },
    {
     "name": "stderr",
     "output_type": "stream",
     "text": [
      "\n",
      "Processed prompts: 100%|██████████| 1/1 [00:00<00:00, 16.60it/s]\n",
      "\n",
      "Processed prompts:   0%|          | 0/5 [00:00<?, ?it/s]\u001b[A\n",
      "Processed prompts: 100%|██████████| 5/5 [00:00<00:00, 23.86it/s]\u001b[A\n",
      " 26%|██▋       | 260/987 [00:55<02:39,  4.57it/s]"
     ]
    },
    {
     "name": "stdout",
     "output_type": "stream",
     "text": [
      "当前查询次数145\n",
      "average: 0.7\n"
     ]
    },
    {
     "name": "stderr",
     "output_type": "stream",
     "text": [
      "\n",
      "Processed prompts: 100%|██████████| 1/1 [00:00<00:00, 16.48it/s]\n",
      "\n",
      "Processed prompts: 100%|██████████| 1/1 [00:00<00:00, 19.36it/s]\n",
      " 26%|██▋       | 261/987 [00:55<02:17,  5.27it/s]\n",
      "Processed prompts: 100%|██████████| 1/1 [00:00<00:00, 16.66it/s]\n",
      "\n",
      "Processed prompts: 100%|██████████| 1/1 [00:00<00:00, 19.29it/s]\n",
      " 27%|██▋       | 262/987 [00:55<02:02,  5.93it/s]\n",
      "Processed prompts: 100%|██████████| 1/1 [00:00<00:00, 16.62it/s]\n",
      "\n",
      "Processed prompts:   0%|          | 0/5 [00:00<?, ?it/s]\u001b[A\n",
      "Processed prompts: 100%|██████████| 5/5 [00:00<00:00, 23.26it/s]\u001b[A\n",
      " 27%|██▋       | 263/987 [00:56<02:27,  4.90it/s]"
     ]
    },
    {
     "name": "stdout",
     "output_type": "stream",
     "text": [
      "当前查询次数146\n"
     ]
    },
    {
     "name": "stderr",
     "output_type": "stream",
     "text": [
      "\n",
      "Processed prompts: 100%|██████████| 1/1 [00:00<00:00, 16.56it/s]\n",
      "\n",
      "Processed prompts:   0%|          | 0/5 [00:00<?, ?it/s]\u001b[A\n",
      "Processed prompts: 100%|██████████| 5/5 [00:00<00:00, 22.90it/s]\u001b[A\n",
      " 27%|██▋       | 264/987 [00:56<02:46,  4.35it/s]"
     ]
    },
    {
     "name": "stdout",
     "output_type": "stream",
     "text": [
      "当前查询次数147\n"
     ]
    },
    {
     "name": "stderr",
     "output_type": "stream",
     "text": [
      "\n",
      "Processed prompts: 100%|██████████| 1/1 [00:00<00:00, 16.43it/s]\n",
      "\n",
      "Processed prompts:   0%|          | 0/5 [00:00<?, ?it/s]\u001b[A\n",
      "Processed prompts: 100%|██████████| 5/5 [00:00<00:00, 23.24it/s]\u001b[A\n",
      " 27%|██▋       | 265/987 [00:56<02:58,  4.04it/s]"
     ]
    },
    {
     "name": "stdout",
     "output_type": "stream",
     "text": [
      "当前查询次数148\n"
     ]
    },
    {
     "name": "stderr",
     "output_type": "stream",
     "text": [
      "\n",
      "Processed prompts: 100%|██████████| 1/1 [00:00<00:00, 16.55it/s]\n",
      "\n",
      "Processed prompts: 100%|██████████| 1/1 [00:00<00:00, 19.46it/s]\n",
      " 27%|██▋       | 266/987 [00:56<02:30,  4.78it/s]\n",
      "Processed prompts: 100%|██████████| 1/1 [00:00<00:00, 16.67it/s]\n",
      "\n",
      "Processed prompts:   0%|          | 0/5 [00:00<?, ?it/s]\u001b[A\n",
      "Processed prompts: 100%|██████████| 5/5 [00:00<00:00, 25.66it/s]\u001b[A\n",
      " 27%|██▋       | 267/987 [00:57<02:42,  4.42it/s]"
     ]
    },
    {
     "name": "stdout",
     "output_type": "stream",
     "text": [
      "当前查询次数149\n"
     ]
    },
    {
     "name": "stderr",
     "output_type": "stream",
     "text": [
      "\n",
      "Processed prompts: 100%|██████████| 1/1 [00:00<00:00, 16.20it/s]\n",
      "\n",
      "Processed prompts:   0%|          | 0/5 [00:00<?, ?it/s]\u001b[A\n",
      "Processed prompts: 100%|██████████| 5/5 [00:00<00:00, 25.48it/s]\u001b[A\n",
      " 27%|██▋       | 268/987 [00:57<02:52,  4.18it/s]"
     ]
    },
    {
     "name": "stdout",
     "output_type": "stream",
     "text": [
      "当前查询次数150\n"
     ]
    },
    {
     "name": "stderr",
     "output_type": "stream",
     "text": [
      "\n",
      "Processed prompts: 100%|██████████| 1/1 [00:00<00:00, 16.37it/s]\n",
      "\n",
      "Processed prompts:   0%|          | 0/5 [00:00<?, ?it/s]\u001b[A\n",
      "Processed prompts: 100%|██████████| 5/5 [00:00<00:00, 23.77it/s]\u001b[A\n",
      " 27%|██▋       | 269/987 [00:57<03:01,  3.96it/s]"
     ]
    },
    {
     "name": "stdout",
     "output_type": "stream",
     "text": [
      "当前查询次数151\n"
     ]
    },
    {
     "name": "stderr",
     "output_type": "stream",
     "text": [
      "\n",
      "Processed prompts: 100%|██████████| 1/1 [00:00<00:00, 16.33it/s]\n",
      "\n",
      "Processed prompts: 100%|██████████| 1/1 [00:00<00:00, 19.38it/s]\n",
      " 27%|██▋       | 270/987 [00:57<02:32,  4.69it/s]"
     ]
    },
    {
     "name": "stdout",
     "output_type": "stream",
     "text": [
      "average: 0.7\n"
     ]
    },
    {
     "name": "stderr",
     "output_type": "stream",
     "text": [
      "\n",
      "Processed prompts: 100%|██████████| 1/1 [00:00<00:00, 16.66it/s]\n",
      "\n",
      "Processed prompts:   0%|          | 0/5 [00:00<?, ?it/s]\u001b[A\n",
      "Processed prompts: 100%|██████████| 5/5 [00:00<00:00, 23.81it/s]\u001b[A\n",
      " 27%|██▋       | 271/987 [00:57<02:47,  4.28it/s]"
     ]
    },
    {
     "name": "stdout",
     "output_type": "stream",
     "text": [
      "当前查询次数152\n"
     ]
    },
    {
     "name": "stderr",
     "output_type": "stream",
     "text": [
      "\n",
      "Processed prompts: 100%|██████████| 1/1 [00:00<00:00, 16.55it/s]\n",
      "\n",
      "Processed prompts:   0%|          | 0/5 [00:00<?, ?it/s]\u001b[A\n",
      "Processed prompts: 100%|██████████| 5/5 [00:00<00:00, 22.88it/s]\u001b[A\n",
      " 28%|██▊       | 272/987 [00:58<02:58,  3.99it/s]"
     ]
    },
    {
     "name": "stdout",
     "output_type": "stream",
     "text": [
      "当前查询次数153\n"
     ]
    },
    {
     "name": "stderr",
     "output_type": "stream",
     "text": [
      "\n",
      "Processed prompts: 100%|██████████| 1/1 [00:00<00:00, 16.41it/s]\n",
      "\n",
      "Processed prompts:   0%|          | 0/5 [00:00<?, ?it/s]\u001b[A\n",
      "Processed prompts: 100%|██████████| 5/5 [00:00<00:00, 20.99it/s]\u001b[A\n",
      " 28%|██▊       | 273/987 [00:58<03:11,  3.72it/s]"
     ]
    },
    {
     "name": "stdout",
     "output_type": "stream",
     "text": [
      "当前查询次数154\n"
     ]
    },
    {
     "name": "stderr",
     "output_type": "stream",
     "text": [
      "\n",
      "Processed prompts: 100%|██████████| 1/1 [00:00<00:00, 16.30it/s]\n",
      "\n",
      "Processed prompts: 100%|██████████| 1/1 [00:00<00:00, 19.14it/s]\n",
      " 28%|██▊       | 274/987 [00:58<02:39,  4.46it/s]\n",
      "Processed prompts: 100%|██████████| 1/1 [00:00<00:00, 16.19it/s]\n",
      "\n",
      "Processed prompts: 100%|██████████| 1/1 [00:00<00:00, 19.31it/s]\n",
      " 28%|██▊       | 275/987 [00:58<02:17,  5.17it/s]\n",
      "Processed prompts: 100%|██████████| 1/1 [00:00<00:00, 16.36it/s]\n",
      "\n",
      "Processed prompts:   0%|          | 0/5 [00:00<?, ?it/s]\u001b[A\n",
      "Processed prompts: 100%|██████████| 5/5 [00:00<00:00, 23.68it/s]\u001b[A\n",
      " 28%|██▊       | 276/987 [00:59<02:36,  4.54it/s]"
     ]
    },
    {
     "name": "stdout",
     "output_type": "stream",
     "text": [
      "当前查询次数155\n"
     ]
    },
    {
     "name": "stderr",
     "output_type": "stream",
     "text": [
      "\n",
      "Processed prompts: 100%|██████████| 1/1 [00:00<00:00, 16.40it/s]\n",
      "\n",
      "Processed prompts: 100%|██████████| 1/1 [00:00<00:00, 19.17it/s]\n",
      " 28%|██▊       | 277/987 [00:59<02:15,  5.26it/s]\n",
      "Processed prompts: 100%|██████████| 1/1 [00:00<00:00, 16.39it/s]\n",
      "\n",
      "Processed prompts: 100%|██████████| 1/1 [00:00<00:00, 19.25it/s]\n",
      " 28%|██▊       | 278/987 [00:59<01:59,  5.92it/s]\n",
      "Processed prompts: 100%|██████████| 1/1 [00:00<00:00, 16.59it/s]\n",
      "\n",
      "Processed prompts:   0%|          | 0/5 [00:00<?, ?it/s]\u001b[A\n",
      "Processed prompts: 100%|██████████| 5/5 [00:00<00:00, 25.97it/s]\u001b[A\n",
      " 28%|██▊       | 279/987 [00:59<02:19,  5.07it/s]"
     ]
    },
    {
     "name": "stdout",
     "output_type": "stream",
     "text": [
      "当前查询次数156\n"
     ]
    },
    {
     "name": "stderr",
     "output_type": "stream",
     "text": [
      "\n",
      "Processed prompts: 100%|██████████| 1/1 [00:00<00:00, 16.46it/s]\n",
      "\n",
      "Processed prompts:   0%|          | 0/5 [00:00<?, ?it/s]\u001b[A\n",
      "Processed prompts: 100%|██████████| 5/5 [00:00<00:00, 22.36it/s]\u001b[A\n",
      " 28%|██▊       | 280/987 [00:59<02:40,  4.41it/s]"
     ]
    },
    {
     "name": "stdout",
     "output_type": "stream",
     "text": [
      "当前查询次数157\n",
      "average: 0.6\n"
     ]
    },
    {
     "name": "stderr",
     "output_type": "stream",
     "text": [
      "\n",
      "Processed prompts: 100%|██████████| 1/1 [00:00<00:00, 16.43it/s]\n",
      "\n",
      "Processed prompts:   0%|          | 0/5 [00:00<?, ?it/s]\u001b[A\n",
      "Processed prompts: 100%|██████████| 5/5 [00:00<00:00, 25.59it/s]\u001b[A\n",
      " 28%|██▊       | 281/987 [01:00<02:48,  4.18it/s]"
     ]
    },
    {
     "name": "stdout",
     "output_type": "stream",
     "text": [
      "当前查询次数158\n"
     ]
    },
    {
     "name": "stderr",
     "output_type": "stream",
     "text": [
      "\n",
      "Processed prompts: 100%|██████████| 1/1 [00:00<00:00, 16.35it/s]\n",
      "\n",
      "Processed prompts: 100%|██████████| 1/1 [00:00<00:00, 19.35it/s]\n",
      " 29%|██▊       | 282/987 [01:00<02:23,  4.91it/s]\n",
      "Processed prompts: 100%|██████████| 1/1 [00:00<00:00, 16.40it/s]\n",
      "\n",
      "Processed prompts:   0%|          | 0/5 [00:00<?, ?it/s]\u001b[A\n",
      "Processed prompts: 100%|██████████| 5/5 [00:00<00:00, 23.25it/s]\u001b[A\n",
      " 29%|██▊       | 283/987 [01:00<02:40,  4.37it/s]"
     ]
    },
    {
     "name": "stdout",
     "output_type": "stream",
     "text": [
      "当前查询次数159\n"
     ]
    },
    {
     "name": "stderr",
     "output_type": "stream",
     "text": [
      "\n",
      "Processed prompts: 100%|██████████| 1/1 [00:00<00:00, 16.20it/s]\n",
      "\n",
      "Processed prompts: 100%|██████████| 1/1 [00:00<00:00, 19.22it/s]\n",
      " 29%|██▉       | 284/987 [01:00<02:18,  5.08it/s]\n",
      "Processed prompts: 100%|██████████| 1/1 [00:00<00:00, 16.25it/s]\n",
      "\n",
      "Processed prompts: 100%|██████████| 1/1 [00:00<00:00, 18.76it/s]\n",
      " 29%|██▉       | 285/987 [01:00<02:02,  5.72it/s]\n",
      "Processed prompts: 100%|██████████| 1/1 [00:00<00:00, 16.31it/s]\n",
      "\n",
      "Processed prompts: 100%|██████████| 1/1 [00:00<00:00, 19.35it/s]\n",
      " 29%|██▉       | 286/987 [01:00<01:51,  6.30it/s]\n",
      "Processed prompts: 100%|██████████| 1/1 [00:00<00:00, 16.74it/s]\n",
      "\n",
      "Processed prompts:   0%|          | 0/5 [00:00<?, ?it/s]\u001b[A\n",
      "Processed prompts: 100%|██████████| 5/5 [00:00<00:00, 25.53it/s]\u001b[A\n",
      " 29%|██▉       | 287/987 [01:01<02:14,  5.22it/s]"
     ]
    },
    {
     "name": "stdout",
     "output_type": "stream",
     "text": [
      "当前查询次数160\n"
     ]
    },
    {
     "name": "stderr",
     "output_type": "stream",
     "text": [
      "\n",
      "Processed prompts: 100%|██████████| 1/1 [00:00<00:00, 16.27it/s]\n",
      "\n",
      "Processed prompts: 100%|██████████| 1/1 [00:00<00:00, 19.13it/s]\n",
      " 29%|██▉       | 288/987 [01:01<01:59,  5.85it/s]\n",
      "Processed prompts: 100%|██████████| 1/1 [00:00<00:00, 16.51it/s]\n",
      "\n",
      "Processed prompts:   0%|          | 0/5 [00:00<?, ?it/s]\u001b[A\n",
      "Processed prompts: 100%|██████████| 5/5 [00:00<00:00, 22.82it/s]\u001b[A\n",
      " 29%|██▉       | 289/987 [01:01<02:24,  4.83it/s]"
     ]
    },
    {
     "name": "stdout",
     "output_type": "stream",
     "text": [
      "当前查询次数161\n"
     ]
    },
    {
     "name": "stderr",
     "output_type": "stream",
     "text": [
      "\n",
      "Processed prompts: 100%|██████████| 1/1 [00:00<00:00, 16.38it/s]\n",
      "\n",
      "Processed prompts: 100%|██████████| 1/1 [00:00<00:00, 19.29it/s]\n",
      " 29%|██▉       | 290/987 [01:01<02:06,  5.53it/s]"
     ]
    },
    {
     "name": "stdout",
     "output_type": "stream",
     "text": [
      "average: 0.6\n"
     ]
    },
    {
     "name": "stderr",
     "output_type": "stream",
     "text": [
      "\n",
      "Processed prompts: 100%|██████████| 1/1 [00:00<00:00, 16.54it/s]\n",
      "\n",
      "Processed prompts:   0%|          | 0/5 [00:00<?, ?it/s]\u001b[A\n",
      "Processed prompts: 100%|██████████| 5/5 [00:00<00:00, 21.26it/s]\u001b[A\n",
      " 29%|██▉       | 291/987 [01:02<02:32,  4.58it/s]"
     ]
    },
    {
     "name": "stdout",
     "output_type": "stream",
     "text": [
      "当前查询次数162\n"
     ]
    },
    {
     "name": "stderr",
     "output_type": "stream",
     "text": [
      "\n",
      "Processed prompts: 100%|██████████| 1/1 [00:00<00:00, 16.40it/s]\n",
      "\n",
      "Processed prompts:   0%|          | 0/5 [00:00<?, ?it/s]\u001b[A\n",
      "Processed prompts: 100%|██████████| 5/5 [00:00<00:00, 22.17it/s]\u001b[A\n",
      " 30%|██▉       | 292/987 [01:02<02:48,  4.13it/s]"
     ]
    },
    {
     "name": "stdout",
     "output_type": "stream",
     "text": [
      "当前查询次数163\n"
     ]
    },
    {
     "name": "stderr",
     "output_type": "stream",
     "text": [
      "\n",
      "Processed prompts: 100%|██████████| 1/1 [00:00<00:00, 16.40it/s]\n",
      "\n",
      "Processed prompts:   0%|          | 0/5 [00:00<?, ?it/s]\u001b[A\n",
      "Processed prompts: 100%|██████████| 5/5 [00:00<00:00, 23.49it/s]\u001b[A\n",
      " 30%|██▉       | 293/987 [01:02<02:57,  3.92it/s]"
     ]
    },
    {
     "name": "stdout",
     "output_type": "stream",
     "text": [
      "当前查询次数164\n"
     ]
    },
    {
     "name": "stderr",
     "output_type": "stream",
     "text": [
      "\n",
      "Processed prompts: 100%|██████████| 1/1 [00:00<00:00, 16.43it/s]\n",
      "\n",
      "Processed prompts: 100%|██████████| 1/1 [00:00<00:00, 19.31it/s]\n",
      " 30%|██▉       | 294/987 [01:02<02:28,  4.66it/s]\n",
      "Processed prompts: 100%|██████████| 1/1 [00:00<00:00, 16.54it/s]\n",
      "\n",
      "Processed prompts: 100%|██████████| 1/1 [00:00<00:00, 19.20it/s]\n",
      " 30%|██▉       | 295/987 [01:02<02:08,  5.37it/s]\n",
      "Processed prompts: 100%|██████████| 1/1 [00:00<00:00, 16.24it/s]\n",
      "\n",
      "Processed prompts: 100%|██████████| 1/1 [00:00<00:00, 19.25it/s]\n",
      " 30%|██▉       | 296/987 [01:03<01:55,  6.00it/s]\n",
      "Processed prompts: 100%|██████████| 1/1 [00:00<00:00, 16.73it/s]\n",
      "\n",
      "Processed prompts:   0%|          | 0/5 [00:00<?, ?it/s]\u001b[A\n",
      "Processed prompts: 100%|██████████| 5/5 [00:00<00:00, 23.48it/s]\u001b[A\n",
      " 30%|███       | 297/987 [01:03<02:19,  4.96it/s]"
     ]
    },
    {
     "name": "stdout",
     "output_type": "stream",
     "text": [
      "当前查询次数165\n"
     ]
    },
    {
     "name": "stderr",
     "output_type": "stream",
     "text": [
      "\n",
      "Processed prompts: 100%|██████████| 1/1 [00:00<00:00, 16.30it/s]\n",
      "\n",
      "Processed prompts:   0%|          | 0/5 [00:00<?, ?it/s]\u001b[A\n",
      "Processed prompts: 100%|██████████| 5/5 [00:00<00:00, 23.49it/s]\u001b[A\n",
      " 30%|███       | 298/987 [01:03<02:36,  4.41it/s]"
     ]
    },
    {
     "name": "stdout",
     "output_type": "stream",
     "text": [
      "当前查询次数166\n"
     ]
    },
    {
     "name": "stderr",
     "output_type": "stream",
     "text": [
      "\n",
      "Processed prompts: 100%|██████████| 1/1 [00:00<00:00, 16.46it/s]\n",
      "\n",
      "Processed prompts: 100%|██████████| 1/1 [00:00<00:00, 19.46it/s]\n",
      " 30%|███       | 299/987 [01:03<02:13,  5.14it/s]\n",
      "Processed prompts: 100%|██████████| 1/1 [00:00<00:00, 16.65it/s]\n",
      "\n",
      "Processed prompts: 100%|██████████| 1/1 [00:00<00:00, 19.40it/s]\n",
      " 30%|███       | 300/987 [01:03<01:58,  5.82it/s]"
     ]
    },
    {
     "name": "stdout",
     "output_type": "stream",
     "text": [
      "average: 0.8\n"
     ]
    },
    {
     "name": "stderr",
     "output_type": "stream",
     "text": [
      "\n",
      "Processed prompts: 100%|██████████| 1/1 [00:00<00:00, 16.63it/s]\n",
      "\n",
      "Processed prompts:   0%|          | 0/5 [00:00<?, ?it/s]\u001b[A\n",
      "Processed prompts: 100%|██████████| 5/5 [00:00<00:00, 23.43it/s]\u001b[A\n",
      " 30%|███       | 301/987 [01:04<02:21,  4.86it/s]"
     ]
    },
    {
     "name": "stdout",
     "output_type": "stream",
     "text": [
      "当前查询次数167\n"
     ]
    },
    {
     "name": "stderr",
     "output_type": "stream",
     "text": [
      "\n",
      "Processed prompts: 100%|██████████| 1/1 [00:00<00:00, 16.46it/s]\n",
      "\n",
      "Processed prompts: 100%|██████████| 1/1 [00:00<00:00, 19.47it/s]\n",
      " 31%|███       | 302/987 [01:04<02:03,  5.57it/s]\n",
      "Processed prompts: 100%|██████████| 1/1 [00:00<00:00, 16.65it/s]\n",
      "\n",
      "Processed prompts: 100%|██████████| 1/1 [00:00<00:00, 19.37it/s]\n",
      " 31%|███       | 303/987 [01:04<01:50,  6.19it/s]\n",
      "Processed prompts: 100%|██████████| 1/1 [00:00<00:00, 16.66it/s]\n",
      "\n",
      "Processed prompts:   0%|          | 0/5 [00:00<?, ?it/s]\u001b[A\n",
      "Processed prompts: 100%|██████████| 5/5 [00:00<00:00, 23.21it/s]\u001b[A\n",
      " 31%|███       | 304/987 [01:04<02:15,  5.03it/s]"
     ]
    },
    {
     "name": "stdout",
     "output_type": "stream",
     "text": [
      "当前查询次数168\n"
     ]
    },
    {
     "name": "stderr",
     "output_type": "stream",
     "text": [
      "\n",
      "Processed prompts: 100%|██████████| 1/1 [00:00<00:00, 16.66it/s]\n",
      "\n",
      "Processed prompts:   0%|          | 0/5 [00:00<?, ?it/s]\u001b[A\n",
      "Processed prompts: 100%|██████████| 5/5 [00:00<00:00, 23.50it/s]\u001b[A\n",
      " 31%|███       | 305/987 [01:04<02:32,  4.46it/s]"
     ]
    },
    {
     "name": "stdout",
     "output_type": "stream",
     "text": [
      "当前查询次数169\n"
     ]
    },
    {
     "name": "stderr",
     "output_type": "stream",
     "text": [
      "\n",
      "Processed prompts: 100%|██████████| 1/1 [00:00<00:00, 16.63it/s]\n",
      "\n",
      "Processed prompts:   0%|          | 0/5 [00:00<?, ?it/s]\u001b[A\n",
      "Processed prompts: 100%|██████████| 5/5 [00:00<00:00, 23.40it/s]\u001b[A\n",
      " 31%|███       | 306/987 [01:05<02:45,  4.13it/s]"
     ]
    },
    {
     "name": "stdout",
     "output_type": "stream",
     "text": [
      "当前查询次数170\n"
     ]
    },
    {
     "name": "stderr",
     "output_type": "stream",
     "text": [
      "\n",
      "Processed prompts: 100%|██████████| 1/1 [00:00<00:00, 16.43it/s]\n",
      "\n",
      "Processed prompts:   0%|          | 0/5 [00:00<?, ?it/s]\u001b[A\n",
      "Processed prompts: 100%|██████████| 5/5 [00:00<00:00, 21.38it/s]\u001b[A\n",
      " 31%|███       | 307/987 [01:05<02:57,  3.83it/s]"
     ]
    },
    {
     "name": "stdout",
     "output_type": "stream",
     "text": [
      "当前查询次数171\n"
     ]
    },
    {
     "name": "stderr",
     "output_type": "stream",
     "text": [
      "\n",
      "Processed prompts: 100%|██████████| 1/1 [00:00<00:00, 16.68it/s]\n",
      "\n",
      "Processed prompts:   0%|          | 0/5 [00:00<?, ?it/s]\u001b[A\n",
      "Processed prompts: 100%|██████████| 5/5 [00:00<00:00, 23.93it/s]\u001b[A\n",
      " 31%|███       | 308/987 [01:05<03:01,  3.75it/s]"
     ]
    },
    {
     "name": "stdout",
     "output_type": "stream",
     "text": [
      "当前查询次数172\n"
     ]
    },
    {
     "name": "stderr",
     "output_type": "stream",
     "text": [
      "\n",
      "Processed prompts: 100%|██████████| 1/1 [00:00<00:00, 16.54it/s]\n",
      "\n",
      "Processed prompts:   0%|          | 0/5 [00:00<?, ?it/s]\u001b[A\n",
      "Processed prompts: 100%|██████████| 5/5 [00:00<00:00, 23.48it/s]\u001b[A\n",
      " 31%|███▏      | 309/987 [01:06<03:04,  3.67it/s]"
     ]
    },
    {
     "name": "stdout",
     "output_type": "stream",
     "text": [
      "当前查询次数173\n"
     ]
    },
    {
     "name": "stderr",
     "output_type": "stream",
     "text": [
      "\n",
      "Processed prompts: 100%|██████████| 1/1 [00:00<00:00, 16.61it/s]\n",
      "\n",
      "Processed prompts:   0%|          | 0/5 [00:00<?, ?it/s]\u001b[A\n",
      "Processed prompts: 100%|██████████| 5/5 [00:00<00:00, 23.55it/s]\u001b[A\n",
      " 31%|███▏      | 310/987 [01:06<03:06,  3.63it/s]"
     ]
    },
    {
     "name": "stdout",
     "output_type": "stream",
     "text": [
      "当前查询次数174\n",
      "average: 1.0\n"
     ]
    },
    {
     "name": "stderr",
     "output_type": "stream",
     "text": [
      "\n",
      "Processed prompts: 100%|██████████| 1/1 [00:00<00:00, 16.54it/s]\n",
      "\n",
      "Processed prompts: 100%|██████████| 1/1 [00:00<00:00, 19.30it/s]\n",
      " 32%|███▏      | 311/987 [01:06<02:34,  4.37it/s]\n",
      "Processed prompts: 100%|██████████| 1/1 [00:00<00:00, 16.72it/s]\n",
      "\n",
      "Processed prompts: 100%|██████████| 1/1 [00:00<00:00, 19.50it/s]\n",
      " 32%|███▏      | 312/987 [01:06<02:11,  5.12it/s]\n",
      "Processed prompts: 100%|██████████| 1/1 [00:00<00:00, 16.67it/s]\n",
      "\n",
      "Processed prompts:   0%|          | 0/5 [00:00<?, ?it/s]\u001b[A\n",
      "Processed prompts: 100%|██████████| 5/5 [00:00<00:00, 21.40it/s]\u001b[A\n",
      " 32%|███▏      | 313/987 [01:06<02:33,  4.38it/s]"
     ]
    },
    {
     "name": "stdout",
     "output_type": "stream",
     "text": [
      "当前查询次数175\n"
     ]
    },
    {
     "name": "stderr",
     "output_type": "stream",
     "text": [
      "\n",
      "Processed prompts: 100%|██████████| 1/1 [00:00<00:00, 16.51it/s]\n",
      "\n",
      "Processed prompts: 100%|██████████| 1/1 [00:00<00:00, 19.37it/s]\n",
      " 32%|███▏      | 314/987 [01:07<02:11,  5.11it/s]\n",
      "Processed prompts: 100%|██████████| 1/1 [00:00<00:00, 16.81it/s]\n",
      "\n",
      "Processed prompts:   0%|          | 0/5 [00:00<?, ?it/s]\u001b[A\n",
      "Processed prompts: 100%|██████████| 5/5 [00:00<00:00, 21.39it/s]\u001b[A\n",
      " 32%|███▏      | 315/987 [01:07<02:33,  4.38it/s]"
     ]
    },
    {
     "name": "stdout",
     "output_type": "stream",
     "text": [
      "当前查询次数176\n"
     ]
    },
    {
     "name": "stderr",
     "output_type": "stream",
     "text": [
      "\n",
      "Processed prompts: 100%|██████████| 1/1 [00:00<00:00, 16.50it/s]\n",
      "\n",
      "Processed prompts:   0%|          | 0/5 [00:00<?, ?it/s]\u001b[A\n",
      "Processed prompts: 100%|██████████| 5/5 [00:00<00:00, 25.97it/s]\u001b[A\n",
      " 32%|███▏      | 316/987 [01:07<02:40,  4.18it/s]"
     ]
    },
    {
     "name": "stdout",
     "output_type": "stream",
     "text": [
      "当前查询次数177\n"
     ]
    },
    {
     "name": "stderr",
     "output_type": "stream",
     "text": [
      "\n",
      "Processed prompts: 100%|██████████| 1/1 [00:00<00:00, 16.35it/s]\n",
      "\n",
      "Processed prompts:   0%|          | 0/5 [00:00<?, ?it/s]\u001b[A\n",
      "Processed prompts: 100%|██████████| 5/5 [00:00<00:00, 23.54it/s]\u001b[A\n",
      " 32%|███▏      | 317/987 [01:07<02:49,  3.96it/s]"
     ]
    },
    {
     "name": "stdout",
     "output_type": "stream",
     "text": [
      "当前查询次数178\n"
     ]
    },
    {
     "name": "stderr",
     "output_type": "stream",
     "text": [
      "\n",
      "Processed prompts: 100%|██████████| 1/1 [00:00<00:00, 16.53it/s]\n",
      "\n",
      "Processed prompts:   0%|          | 0/5 [00:00<?, ?it/s]\u001b[A\n",
      "Processed prompts: 100%|██████████| 5/5 [00:00<00:00, 23.84it/s]\u001b[A\n",
      " 32%|███▏      | 318/987 [01:08<02:54,  3.83it/s]"
     ]
    },
    {
     "name": "stdout",
     "output_type": "stream",
     "text": [
      "当前查询次数179\n"
     ]
    },
    {
     "name": "stderr",
     "output_type": "stream",
     "text": [
      "\n",
      "Processed prompts: 100%|██████████| 1/1 [00:00<00:00, 16.59it/s]\n",
      "\n",
      "Processed prompts:   0%|          | 0/5 [00:00<?, ?it/s]\u001b[A\n",
      "Processed prompts: 100%|██████████| 5/5 [00:00<00:00, 23.48it/s]\u001b[A\n",
      " 32%|███▏      | 319/987 [01:08<02:59,  3.73it/s]"
     ]
    },
    {
     "name": "stdout",
     "output_type": "stream",
     "text": [
      "当前查询次数180\n"
     ]
    },
    {
     "name": "stderr",
     "output_type": "stream",
     "text": [
      "\n",
      "Processed prompts: 100%|██████████| 1/1 [00:00<00:00, 16.51it/s]\n",
      "\n",
      "Processed prompts:   0%|          | 0/5 [00:00<?, ?it/s]\u001b[A\n",
      "Processed prompts: 100%|██████████| 5/5 [00:00<00:00, 23.49it/s]\u001b[A\n",
      " 32%|███▏      | 320/987 [01:08<03:02,  3.66it/s]"
     ]
    },
    {
     "name": "stdout",
     "output_type": "stream",
     "text": [
      "当前查询次数181\n",
      "average: 0.6\n"
     ]
    },
    {
     "name": "stderr",
     "output_type": "stream",
     "text": [
      "\n",
      "Processed prompts: 100%|██████████| 1/1 [00:00<00:00, 16.48it/s]\n",
      "\n",
      "Processed prompts: 100%|██████████| 1/1 [00:00<00:00, 19.40it/s]\n",
      " 33%|███▎      | 321/987 [01:08<02:31,  4.40it/s]\n",
      "Processed prompts: 100%|██████████| 1/1 [00:00<00:00, 16.57it/s]\n",
      "\n",
      "Processed prompts:   0%|          | 0/5 [00:00<?, ?it/s]\u001b[A\n",
      "Processed prompts: 100%|██████████| 5/5 [00:00<00:00, 21.35it/s]\u001b[A\n",
      " 33%|███▎      | 322/987 [01:09<02:46,  3.99it/s]"
     ]
    },
    {
     "name": "stdout",
     "output_type": "stream",
     "text": [
      "当前查询次数182\n"
     ]
    },
    {
     "name": "stderr",
     "output_type": "stream",
     "text": [
      "\n",
      "Processed prompts: 100%|██████████| 1/1 [00:00<00:00, 16.50it/s]\n",
      "\n",
      "Processed prompts: 100%|██████████| 1/1 [00:00<00:00, 19.41it/s]\n",
      " 33%|███▎      | 323/987 [01:09<02:20,  4.73it/s]\n",
      "Processed prompts: 100%|██████████| 1/1 [00:00<00:00, 16.65it/s]\n",
      "\n",
      "Processed prompts:   0%|          | 0/5 [00:00<?, ?it/s]\u001b[A\n",
      "Processed prompts: 100%|██████████| 5/5 [00:00<00:00, 23.89it/s]\u001b[A\n",
      " 33%|███▎      | 324/987 [01:09<02:33,  4.31it/s]"
     ]
    },
    {
     "name": "stdout",
     "output_type": "stream",
     "text": [
      "当前查询次数183\n"
     ]
    },
    {
     "name": "stderr",
     "output_type": "stream",
     "text": [
      "\n",
      "Processed prompts: 100%|██████████| 1/1 [00:00<00:00, 16.57it/s]\n",
      "\n",
      "Processed prompts: 100%|██████████| 1/1 [00:00<00:00, 19.65it/s]\n",
      " 33%|███▎      | 325/987 [01:09<02:11,  5.04it/s]\n",
      "Processed prompts: 100%|██████████| 1/1 [00:00<00:00, 16.58it/s]\n",
      "\n",
      "Processed prompts:   0%|          | 0/5 [00:00<?, ?it/s]\u001b[A\n",
      "Processed prompts: 100%|██████████| 5/5 [00:00<00:00, 23.78it/s]\u001b[A\n",
      " 33%|███▎      | 326/987 [01:09<02:27,  4.48it/s]"
     ]
    },
    {
     "name": "stdout",
     "output_type": "stream",
     "text": [
      "当前查询次数184\n"
     ]
    },
    {
     "name": "stderr",
     "output_type": "stream",
     "text": [
      "\n",
      "Processed prompts: 100%|██████████| 1/1 [00:00<00:00, 16.68it/s]\n",
      "\n",
      "Processed prompts:   0%|          | 0/5 [00:00<?, ?it/s]\u001b[A\n",
      "Processed prompts: 100%|██████████| 5/5 [00:00<00:00, 25.92it/s]\u001b[A\n",
      " 33%|███▎      | 327/987 [01:10<02:35,  4.25it/s]"
     ]
    },
    {
     "name": "stdout",
     "output_type": "stream",
     "text": [
      "当前查询次数185\n"
     ]
    },
    {
     "name": "stderr",
     "output_type": "stream",
     "text": [
      "\n",
      "Processed prompts: 100%|██████████| 1/1 [00:00<00:00, 16.15it/s]\n",
      "\n",
      "Processed prompts:   0%|          | 0/5 [00:00<?, ?it/s]\u001b[A\n",
      "Processed prompts: 100%|██████████| 5/5 [00:00<00:00, 23.16it/s]\u001b[A\n",
      " 33%|███▎      | 328/987 [01:10<02:45,  3.97it/s]"
     ]
    },
    {
     "name": "stdout",
     "output_type": "stream",
     "text": [
      "当前查询次数186\n"
     ]
    },
    {
     "name": "stderr",
     "output_type": "stream",
     "text": [
      "\n",
      "Processed prompts: 100%|██████████| 1/1 [00:00<00:00, 16.51it/s]\n",
      "\n",
      "Processed prompts:   0%|          | 0/5 [00:00<?, ?it/s]\u001b[A\n",
      "Processed prompts: 100%|██████████| 5/5 [00:00<00:00, 21.31it/s]\u001b[A\n",
      " 33%|███▎      | 329/987 [01:10<02:56,  3.72it/s]"
     ]
    },
    {
     "name": "stdout",
     "output_type": "stream",
     "text": [
      "当前查询次数187\n"
     ]
    },
    {
     "name": "stderr",
     "output_type": "stream",
     "text": [
      "\n",
      "Processed prompts: 100%|██████████| 1/1 [00:00<00:00, 16.50it/s]\n",
      "\n",
      "Processed prompts:   0%|          | 0/5 [00:00<?, ?it/s]\u001b[A\n",
      "Processed prompts: 100%|██████████| 5/5 [00:00<00:00, 23.69it/s]\u001b[A\n",
      " 33%|███▎      | 330/987 [01:11<02:59,  3.67it/s]"
     ]
    },
    {
     "name": "stdout",
     "output_type": "stream",
     "text": [
      "当前查询次数188\n",
      "average: 0.9\n"
     ]
    },
    {
     "name": "stderr",
     "output_type": "stream",
     "text": [
      "\n",
      "Processed prompts: 100%|██████████| 1/1 [00:00<00:00, 16.52it/s]\n",
      "\n",
      "Processed prompts:   0%|          | 0/5 [00:00<?, ?it/s]\u001b[A\n",
      "Processed prompts: 100%|██████████| 5/5 [00:00<00:00, 21.62it/s]\u001b[A\n",
      " 34%|███▎      | 331/987 [01:11<03:04,  3.55it/s]"
     ]
    },
    {
     "name": "stdout",
     "output_type": "stream",
     "text": [
      "当前查询次数189\n"
     ]
    },
    {
     "name": "stderr",
     "output_type": "stream",
     "text": [
      "\n",
      "Processed prompts: 100%|██████████| 1/1 [00:00<00:00, 16.53it/s]\n",
      "\n",
      "Processed prompts: 100%|██████████| 1/1 [00:00<00:00, 19.40it/s]\n",
      " 34%|███▎      | 332/987 [01:11<02:32,  4.29it/s]\n",
      "Processed prompts: 100%|██████████| 1/1 [00:00<00:00, 16.55it/s]\n",
      "\n",
      "Processed prompts: 100%|██████████| 1/1 [00:00<00:00, 19.39it/s]\n",
      " 34%|███▎      | 333/987 [01:11<02:10,  5.03it/s]\n",
      "Processed prompts: 100%|██████████| 1/1 [00:00<00:00, 16.20it/s]\n",
      "\n",
      "Processed prompts:   0%|          | 0/5 [00:00<?, ?it/s]\u001b[A\n",
      "Processed prompts: 100%|██████████| 5/5 [00:00<00:00, 23.46it/s]\u001b[A\n",
      " 34%|███▍      | 334/987 [01:11<02:27,  4.44it/s]"
     ]
    },
    {
     "name": "stdout",
     "output_type": "stream",
     "text": [
      "当前查询次数190\n"
     ]
    },
    {
     "name": "stderr",
     "output_type": "stream",
     "text": [
      "\n",
      "Processed prompts: 100%|██████████| 1/1 [00:00<00:00, 15.92it/s]\n",
      "\n",
      "Processed prompts: 100%|██████████| 1/1 [00:00<00:00, 19.39it/s]\n",
      " 34%|███▍      | 335/987 [01:12<02:06,  5.15it/s]\n",
      "Processed prompts: 100%|██████████| 1/1 [00:00<00:00, 16.62it/s]\n",
      "\n",
      "Processed prompts:   0%|          | 0/5 [00:00<?, ?it/s]\u001b[A\n",
      "Processed prompts: 100%|██████████| 5/5 [00:00<00:00, 23.97it/s]\u001b[A\n",
      " 34%|███▍      | 336/987 [01:12<02:23,  4.55it/s]"
     ]
    },
    {
     "name": "stdout",
     "output_type": "stream",
     "text": [
      "当前查询次数191\n"
     ]
    },
    {
     "name": "stderr",
     "output_type": "stream",
     "text": [
      "\n",
      "Processed prompts: 100%|██████████| 1/1 [00:00<00:00, 16.56it/s]\n",
      "\n",
      "Processed prompts:   0%|          | 0/5 [00:00<?, ?it/s]\u001b[A\n",
      "Processed prompts: 100%|██████████| 5/5 [00:00<00:00, 23.09it/s]\u001b[A\n",
      " 34%|███▍      | 337/987 [01:12<02:36,  4.16it/s]"
     ]
    },
    {
     "name": "stdout",
     "output_type": "stream",
     "text": [
      "当前查询次数192\n"
     ]
    },
    {
     "name": "stderr",
     "output_type": "stream",
     "text": [
      "\n",
      "Processed prompts: 100%|██████████| 1/1 [00:00<00:00, 16.50it/s]\n",
      "\n",
      "Processed prompts:   0%|          | 0/5 [00:00<?, ?it/s]\u001b[A\n",
      "Processed prompts: 100%|██████████| 5/5 [00:00<00:00, 23.70it/s]\u001b[A\n",
      " 34%|███▍      | 338/987 [01:12<02:44,  3.96it/s]"
     ]
    },
    {
     "name": "stdout",
     "output_type": "stream",
     "text": [
      "当前查询次数193\n"
     ]
    },
    {
     "name": "stderr",
     "output_type": "stream",
     "text": [
      "\n",
      "Processed prompts: 100%|██████████| 1/1 [00:00<00:00, 16.46it/s]\n",
      "\n",
      "Processed prompts: 100%|██████████| 1/1 [00:00<00:00, 19.27it/s]\n",
      " 34%|███▍      | 339/987 [01:12<02:17,  4.70it/s]\n",
      "Processed prompts: 100%|██████████| 1/1 [00:00<00:00, 16.69it/s]\n",
      "\n",
      "Processed prompts: 100%|██████████| 1/1 [00:00<00:00, 19.36it/s]\n",
      " 34%|███▍      | 340/987 [01:13<01:59,  5.42it/s]"
     ]
    },
    {
     "name": "stdout",
     "output_type": "stream",
     "text": [
      "average: 0.4\n"
     ]
    },
    {
     "name": "stderr",
     "output_type": "stream",
     "text": [
      "\n",
      "Processed prompts: 100%|██████████| 1/1 [00:00<00:00, 16.50it/s]\n",
      "\n",
      "Processed prompts: 100%|██████████| 1/1 [00:00<00:00, 18.98it/s]\n",
      " 35%|███▍      | 341/987 [01:13<01:46,  6.05it/s]\n",
      "Processed prompts: 100%|██████████| 1/1 [00:00<00:00, 16.16it/s]\n",
      "\n",
      "Processed prompts:   0%|          | 0/5 [00:00<?, ?it/s]\u001b[A\n",
      "Processed prompts: 100%|██████████| 5/5 [00:00<00:00, 21.45it/s]\u001b[A\n",
      " 35%|███▍      | 342/987 [01:13<02:13,  4.82it/s]"
     ]
    },
    {
     "name": "stdout",
     "output_type": "stream",
     "text": [
      "当前查询次数194\n"
     ]
    },
    {
     "name": "stderr",
     "output_type": "stream",
     "text": [
      "\n",
      "Processed prompts: 100%|██████████| 1/1 [00:00<00:00, 16.40it/s]\n",
      "\n",
      "Processed prompts:   0%|          | 0/5 [00:00<?, ?it/s]\u001b[A\n",
      "Processed prompts: 100%|██████████| 5/5 [00:00<00:00, 22.92it/s]\u001b[A\n",
      " 35%|███▍      | 343/987 [01:13<02:29,  4.30it/s]"
     ]
    },
    {
     "name": "stdout",
     "output_type": "stream",
     "text": [
      "当前查询次数195\n"
     ]
    },
    {
     "name": "stderr",
     "output_type": "stream",
     "text": [
      "\n",
      "Processed prompts: 100%|██████████| 1/1 [00:00<00:00, 16.31it/s]\n",
      "\n",
      "Processed prompts: 100%|██████████| 1/1 [00:00<00:00, 19.58it/s]\n",
      " 35%|███▍      | 344/987 [01:13<02:07,  5.03it/s]\n",
      "Processed prompts: 100%|██████████| 1/1 [00:00<00:00, 16.74it/s]\n",
      "\n",
      "Processed prompts:   0%|          | 0/5 [00:00<?, ?it/s]\u001b[A\n",
      "Processed prompts: 100%|██████████| 5/5 [00:00<00:00, 23.25it/s]\u001b[A\n",
      " 35%|███▍      | 345/987 [01:14<02:24,  4.45it/s]"
     ]
    },
    {
     "name": "stdout",
     "output_type": "stream",
     "text": [
      "当前查询次数196\n"
     ]
    },
    {
     "name": "stderr",
     "output_type": "stream",
     "text": [
      "\n",
      "Processed prompts: 100%|██████████| 1/1 [00:00<00:00, 16.61it/s]\n",
      "\n",
      "Processed prompts: 100%|██████████| 1/1 [00:00<00:00, 19.33it/s]\n",
      " 35%|███▌      | 346/987 [01:14<02:03,  5.17it/s]\n",
      "Processed prompts: 100%|██████████| 1/1 [00:00<00:00, 16.73it/s]\n",
      "\n",
      "Processed prompts: 100%|██████████| 1/1 [00:00<00:00, 19.46it/s]\n",
      " 35%|███▌      | 347/987 [01:14<01:49,  5.86it/s]\n",
      "Processed prompts: 100%|██████████| 1/1 [00:00<00:00, 16.37it/s]\n",
      "\n",
      "Processed prompts:   0%|          | 0/5 [00:00<?, ?it/s]\u001b[A\n",
      "Processed prompts: 100%|██████████| 5/5 [00:00<00:00, 23.42it/s]\u001b[A\n",
      " 35%|███▌      | 348/987 [01:14<02:11,  4.87it/s]"
     ]
    },
    {
     "name": "stdout",
     "output_type": "stream",
     "text": [
      "当前查询次数197\n"
     ]
    },
    {
     "name": "stderr",
     "output_type": "stream",
     "text": [
      "\n",
      "Processed prompts: 100%|██████████| 1/1 [00:00<00:00, 16.53it/s]\n",
      "\n",
      "Processed prompts:   0%|          | 0/5 [00:00<?, ?it/s]\u001b[A\n",
      "Processed prompts: 100%|██████████| 5/5 [00:00<00:00, 21.08it/s]\u001b[A\n",
      " 35%|███▌      | 349/987 [01:15<02:30,  4.23it/s]"
     ]
    },
    {
     "name": "stdout",
     "output_type": "stream",
     "text": [
      "当前查询次数198\n"
     ]
    },
    {
     "name": "stderr",
     "output_type": "stream",
     "text": [
      "\n",
      "Processed prompts: 100%|██████████| 1/1 [00:00<00:00, 16.21it/s]\n",
      "\n",
      "Processed prompts:   0%|          | 0/5 [00:00<?, ?it/s]\u001b[A\n",
      "Processed prompts: 100%|██████████| 5/5 [00:00<00:00, 23.88it/s]\u001b[A\n",
      " 35%|███▌      | 350/987 [01:15<02:39,  3.99it/s]"
     ]
    },
    {
     "name": "stdout",
     "output_type": "stream",
     "text": [
      "当前查询次数199\n",
      "average: 0.8\n"
     ]
    },
    {
     "name": "stderr",
     "output_type": "stream",
     "text": [
      "\n",
      "Processed prompts: 100%|██████████| 1/1 [00:00<00:00, 16.36it/s]\n",
      "\n",
      "Processed prompts:   0%|          | 0/5 [00:00<?, ?it/s]\u001b[A\n",
      "Processed prompts: 100%|██████████| 5/5 [00:00<00:00, 21.64it/s]\u001b[A\n",
      " 36%|███▌      | 351/987 [01:15<02:49,  3.75it/s]"
     ]
    },
    {
     "name": "stdout",
     "output_type": "stream",
     "text": [
      "当前查询次数200\n"
     ]
    },
    {
     "name": "stderr",
     "output_type": "stream",
     "text": [
      "\n",
      "Processed prompts: 100%|██████████| 1/1 [00:00<00:00, 16.38it/s]\n",
      "\n",
      "Processed prompts:   0%|          | 0/5 [00:00<?, ?it/s]\u001b[A\n",
      "Processed prompts: 100%|██████████| 5/5 [00:00<00:00, 23.34it/s]\u001b[A\n",
      " 36%|███▌      | 352/987 [01:15<02:52,  3.67it/s]"
     ]
    },
    {
     "name": "stdout",
     "output_type": "stream",
     "text": [
      "当前查询次数201\n"
     ]
    },
    {
     "name": "stderr",
     "output_type": "stream",
     "text": [
      "\n",
      "Processed prompts: 100%|██████████| 1/1 [00:00<00:00, 16.46it/s]\n",
      "\n",
      "Processed prompts:   0%|          | 0/5 [00:00<?, ?it/s]\u001b[A\n",
      "Processed prompts: 100%|██████████| 5/5 [00:00<00:00, 23.51it/s]\u001b[A\n",
      " 36%|███▌      | 353/987 [01:16<02:55,  3.62it/s]"
     ]
    },
    {
     "name": "stdout",
     "output_type": "stream",
     "text": [
      "当前查询次数202\n"
     ]
    },
    {
     "name": "stderr",
     "output_type": "stream",
     "text": [
      "\n",
      "Processed prompts: 100%|██████████| 1/1 [00:00<00:00, 16.46it/s]\n",
      "\n",
      "Processed prompts:   0%|          | 0/5 [00:00<?, ?it/s]\u001b[A\n",
      "Processed prompts: 100%|██████████| 5/5 [00:00<00:00, 23.56it/s]\u001b[A\n",
      " 36%|███▌      | 354/987 [01:16<02:56,  3.58it/s]"
     ]
    },
    {
     "name": "stdout",
     "output_type": "stream",
     "text": [
      "当前查询次数203\n"
     ]
    },
    {
     "name": "stderr",
     "output_type": "stream",
     "text": [
      "\n",
      "Processed prompts: 100%|██████████| 1/1 [00:00<00:00, 16.52it/s]\n",
      "\n",
      "Processed prompts:   0%|          | 0/5 [00:00<?, ?it/s]\u001b[A\n",
      "Processed prompts: 100%|██████████| 5/5 [00:00<00:00, 21.23it/s]\u001b[A\n",
      " 36%|███▌      | 355/987 [01:16<03:01,  3.47it/s]"
     ]
    },
    {
     "name": "stdout",
     "output_type": "stream",
     "text": [
      "当前查询次数204\n"
     ]
    },
    {
     "name": "stderr",
     "output_type": "stream",
     "text": [
      "\n",
      "Processed prompts: 100%|██████████| 1/1 [00:00<00:00, 16.33it/s]\n",
      "\n",
      "Processed prompts: 100%|██████████| 1/1 [00:00<00:00, 19.33it/s]\n",
      " 36%|███▌      | 356/987 [01:16<02:30,  4.20it/s]\n",
      "Processed prompts: 100%|██████████| 1/1 [00:00<00:00, 16.46it/s]\n",
      "\n",
      "Processed prompts:   0%|          | 0/5 [00:00<?, ?it/s]\u001b[A\n",
      "Processed prompts: 100%|██████████| 5/5 [00:00<00:00, 23.82it/s]\u001b[A\n",
      " 36%|███▌      | 357/987 [01:17<02:38,  3.98it/s]"
     ]
    },
    {
     "name": "stdout",
     "output_type": "stream",
     "text": [
      "当前查询次数205\n"
     ]
    },
    {
     "name": "stderr",
     "output_type": "stream",
     "text": [
      "\n",
      "Processed prompts: 100%|██████████| 1/1 [00:00<00:00, 16.49it/s]\n",
      "\n",
      "Processed prompts: 100%|██████████| 1/1 [00:00<00:00, 19.49it/s]\n",
      " 36%|███▋      | 358/987 [01:17<02:13,  4.72it/s]\n",
      "Processed prompts: 100%|██████████| 1/1 [00:00<00:00, 16.67it/s]\n",
      "\n",
      "Processed prompts:   0%|          | 0/5 [00:00<?, ?it/s]\u001b[A\n",
      "Processed prompts: 100%|██████████| 5/5 [00:00<00:00, 21.22it/s]\u001b[A\n",
      " 36%|███▋      | 359/987 [01:17<02:31,  4.16it/s]"
     ]
    },
    {
     "name": "stdout",
     "output_type": "stream",
     "text": [
      "当前查询次数206\n"
     ]
    },
    {
     "name": "stderr",
     "output_type": "stream",
     "text": [
      "\n",
      "Processed prompts: 100%|██████████| 1/1 [00:00<00:00, 16.61it/s]\n",
      "\n",
      "Processed prompts: 100%|██████████| 1/1 [00:00<00:00, 19.53it/s]\n",
      " 36%|███▋      | 360/987 [01:17<02:07,  4.90it/s]"
     ]
    },
    {
     "name": "stdout",
     "output_type": "stream",
     "text": [
      "average: 0.7\n"
     ]
    },
    {
     "name": "stderr",
     "output_type": "stream",
     "text": [
      "\n",
      "Processed prompts: 100%|██████████| 1/1 [00:00<00:00, 16.61it/s]\n",
      "\n",
      "Processed prompts:   0%|          | 0/5 [00:00<?, ?it/s]\u001b[A\n",
      "Processed prompts: 100%|██████████| 5/5 [00:00<00:00, 23.63it/s]\u001b[A\n",
      " 37%|███▋      | 361/987 [01:18<02:22,  4.39it/s]"
     ]
    },
    {
     "name": "stdout",
     "output_type": "stream",
     "text": [
      "当前查询次数207\n"
     ]
    },
    {
     "name": "stderr",
     "output_type": "stream",
     "text": [
      "\n",
      "Processed prompts: 100%|██████████| 1/1 [00:00<00:00, 16.58it/s]\n",
      "\n",
      "Processed prompts: 100%|██████████| 1/1 [00:00<00:00, 19.41it/s]\n",
      " 37%|███▋      | 362/987 [01:18<02:01,  5.13it/s]\n",
      "Processed prompts: 100%|██████████| 1/1 [00:00<00:00, 16.62it/s]\n",
      "\n",
      "Processed prompts:   0%|          | 0/5 [00:00<?, ?it/s]\u001b[A\n",
      "Processed prompts: 100%|██████████| 5/5 [00:00<00:00, 23.77it/s]\u001b[A\n",
      " 37%|███▋      | 363/987 [01:18<02:17,  4.53it/s]"
     ]
    },
    {
     "name": "stdout",
     "output_type": "stream",
     "text": [
      "当前查询次数208\n"
     ]
    },
    {
     "name": "stderr",
     "output_type": "stream",
     "text": [
      "\n",
      "Processed prompts: 100%|██████████| 1/1 [00:00<00:00, 16.07it/s]\n",
      "\n",
      "Processed prompts:   0%|          | 0/5 [00:00<?, ?it/s]\u001b[A\n",
      "Processed prompts: 100%|██████████| 5/5 [00:00<00:00, 21.27it/s]\u001b[A\n",
      " 37%|███▋      | 364/987 [01:18<02:34,  4.04it/s]"
     ]
    },
    {
     "name": "stdout",
     "output_type": "stream",
     "text": [
      "当前查询次数209\n"
     ]
    },
    {
     "name": "stderr",
     "output_type": "stream",
     "text": [
      "\n",
      "Processed prompts: 100%|██████████| 1/1 [00:00<00:00, 16.61it/s]\n",
      "\n",
      "Processed prompts:   0%|          | 0/5 [00:00<?, ?it/s]\u001b[A\n",
      "Processed prompts: 100%|██████████| 5/5 [00:00<00:00, 23.39it/s]\u001b[A\n",
      " 37%|███▋      | 365/987 [01:19<02:41,  3.86it/s]"
     ]
    },
    {
     "name": "stdout",
     "output_type": "stream",
     "text": [
      "当前查询次数210\n"
     ]
    },
    {
     "name": "stderr",
     "output_type": "stream",
     "text": [
      "\n",
      "Processed prompts: 100%|██████████| 1/1 [00:00<00:00, 16.45it/s]\n",
      "\n",
      "Processed prompts:   0%|          | 0/5 [00:00<?, ?it/s]\u001b[A\n",
      "Processed prompts: 100%|██████████| 5/5 [00:00<00:00, 23.66it/s]\u001b[A\n",
      " 37%|███▋      | 366/987 [01:19<02:45,  3.76it/s]"
     ]
    },
    {
     "name": "stdout",
     "output_type": "stream",
     "text": [
      "当前查询次数211\n"
     ]
    },
    {
     "name": "stderr",
     "output_type": "stream",
     "text": [
      "\n",
      "Processed prompts: 100%|██████████| 1/1 [00:00<00:00, 16.52it/s]\n",
      "\n",
      "Processed prompts: 100%|██████████| 1/1 [00:00<00:00, 19.39it/s]\n",
      " 37%|███▋      | 367/987 [01:19<02:17,  4.51it/s]\n",
      "Processed prompts: 100%|██████████| 1/1 [00:00<00:00, 16.59it/s]\n",
      "\n",
      "Processed prompts: 100%|██████████| 1/1 [00:00<00:00, 19.37it/s]\n",
      " 37%|███▋      | 368/987 [01:19<01:58,  5.22it/s]\n",
      "Processed prompts: 100%|██████████| 1/1 [00:00<00:00, 16.62it/s]\n",
      "\n",
      "Processed prompts:   0%|          | 0/5 [00:00<?, ?it/s]\u001b[A\n",
      "Processed prompts: 100%|██████████| 5/5 [00:00<00:00, 22.97it/s]\u001b[A\n",
      " 37%|███▋      | 369/987 [01:19<02:16,  4.53it/s]"
     ]
    },
    {
     "name": "stdout",
     "output_type": "stream",
     "text": [
      "当前查询次数212\n"
     ]
    },
    {
     "name": "stderr",
     "output_type": "stream",
     "text": [
      "\n",
      "Processed prompts: 100%|██████████| 1/1 [00:00<00:00, 16.57it/s]\n",
      "\n",
      "Processed prompts: 100%|██████████| 1/1 [00:00<00:00, 19.31it/s]\n",
      " 37%|███▋      | 370/987 [01:19<01:57,  5.24it/s]"
     ]
    },
    {
     "name": "stdout",
     "output_type": "stream",
     "text": [
      "average: 0.6\n"
     ]
    },
    {
     "name": "stderr",
     "output_type": "stream",
     "text": [
      "\n",
      "Processed prompts: 100%|██████████| 1/1 [00:00<00:00, 16.46it/s]\n",
      "\n",
      "Processed prompts: 100%|██████████| 1/1 [00:00<00:00, 19.41it/s]\n",
      " 38%|███▊      | 371/987 [01:20<01:44,  5.90it/s]\n",
      "Processed prompts: 100%|██████████| 1/1 [00:00<00:00, 16.60it/s]\n",
      "\n",
      "Processed prompts:   0%|          | 0/5 [00:00<?, ?it/s]\u001b[A\n",
      "Processed prompts: 100%|██████████| 5/5 [00:00<00:00, 23.34it/s]\u001b[A\n",
      " 38%|███▊      | 372/987 [01:20<02:05,  4.89it/s]"
     ]
    },
    {
     "name": "stdout",
     "output_type": "stream",
     "text": [
      "当前查询次数213\n"
     ]
    },
    {
     "name": "stderr",
     "output_type": "stream",
     "text": [
      "\n",
      "Processed prompts: 100%|██████████| 1/1 [00:00<00:00, 16.62it/s]\n",
      "\n",
      "Processed prompts:   0%|          | 0/5 [00:00<?, ?it/s]\u001b[A\n",
      "Processed prompts: 100%|██████████| 5/5 [00:00<00:00, 23.76it/s]\u001b[A\n",
      " 38%|███▊      | 373/987 [01:20<02:19,  4.39it/s]"
     ]
    },
    {
     "name": "stdout",
     "output_type": "stream",
     "text": [
      "当前查询次数214\n"
     ]
    },
    {
     "name": "stderr",
     "output_type": "stream",
     "text": [
      "\n",
      "Processed prompts: 100%|██████████| 1/1 [00:00<00:00, 16.24it/s]\n",
      "\n",
      "Processed prompts:   0%|          | 0/5 [00:00<?, ?it/s]\u001b[A\n",
      "Processed prompts: 100%|██████████| 5/5 [00:00<00:00, 23.08it/s]\u001b[A\n",
      " 38%|███▊      | 374/987 [01:20<02:30,  4.07it/s]"
     ]
    },
    {
     "name": "stdout",
     "output_type": "stream",
     "text": [
      "当前查询次数215\n"
     ]
    },
    {
     "name": "stderr",
     "output_type": "stream",
     "text": [
      "\n",
      "Processed prompts: 100%|██████████| 1/1 [00:00<00:00, 16.42it/s]\n",
      "\n",
      "Processed prompts: 100%|██████████| 1/1 [00:00<00:00, 19.22it/s]\n",
      " 38%|███▊      | 375/987 [01:21<02:07,  4.80it/s]\n",
      "Processed prompts: 100%|██████████| 1/1 [00:00<00:00, 16.47it/s]\n",
      "\n",
      "Processed prompts:   0%|          | 0/5 [00:00<?, ?it/s]\u001b[A\n",
      "Processed prompts: 100%|██████████| 5/5 [00:00<00:00, 25.62it/s]\u001b[A\n",
      " 38%|███▊      | 376/987 [01:21<02:17,  4.43it/s]"
     ]
    },
    {
     "name": "stdout",
     "output_type": "stream",
     "text": [
      "当前查询次数216\n"
     ]
    },
    {
     "name": "stderr",
     "output_type": "stream",
     "text": [
      "\n",
      "Processed prompts: 100%|██████████| 1/1 [00:00<00:00, 16.53it/s]\n",
      "\n",
      "Processed prompts: 100%|██████████| 1/1 [00:00<00:00, 19.47it/s]\n",
      " 38%|███▊      | 377/987 [01:21<01:58,  5.16it/s]\n",
      "Processed prompts: 100%|██████████| 1/1 [00:00<00:00, 16.43it/s]\n",
      "\n",
      "Processed prompts: 100%|██████████| 1/1 [00:00<00:00, 19.45it/s]\n",
      " 38%|███▊      | 378/987 [01:21<01:44,  5.83it/s]\n",
      "Processed prompts: 100%|██████████| 1/1 [00:00<00:00, 15.93it/s]\n",
      "\n",
      "Processed prompts:   0%|          | 0/5 [00:00<?, ?it/s]\u001b[A\n",
      "Processed prompts: 100%|██████████| 5/5 [00:00<00:00, 23.65it/s]\u001b[A\n",
      " 38%|███▊      | 379/987 [01:21<02:05,  4.85it/s]"
     ]
    },
    {
     "name": "stdout",
     "output_type": "stream",
     "text": [
      "当前查询次数217\n"
     ]
    },
    {
     "name": "stderr",
     "output_type": "stream",
     "text": [
      "\n",
      "Processed prompts: 100%|██████████| 1/1 [00:00<00:00, 16.13it/s]\n",
      "\n",
      "Processed prompts:   0%|          | 0/5 [00:00<?, ?it/s]\u001b[A\n",
      "Processed prompts: 100%|██████████| 5/5 [00:00<00:00, 25.77it/s]\u001b[A\n",
      " 39%|███▊      | 380/987 [01:22<02:16,  4.45it/s]"
     ]
    },
    {
     "name": "stdout",
     "output_type": "stream",
     "text": [
      "当前查询次数218\n",
      "average: 0.8\n"
     ]
    },
    {
     "name": "stderr",
     "output_type": "stream",
     "text": [
      "\n",
      "Processed prompts: 100%|██████████| 1/1 [00:00<00:00, 16.50it/s]\n",
      "\n",
      "Processed prompts: 100%|██████████| 1/1 [00:00<00:00, 19.29it/s]\n",
      " 39%|███▊      | 381/987 [01:22<01:57,  5.18it/s]\n",
      "Processed prompts: 100%|██████████| 1/1 [00:00<00:00, 16.76it/s]\n",
      "\n",
      "Processed prompts: 100%|██████████| 1/1 [00:00<00:00, 19.60it/s]\n",
      " 39%|███▊      | 382/987 [01:22<01:43,  5.86it/s]\n",
      "Processed prompts: 100%|██████████| 1/1 [00:00<00:00, 16.73it/s]\n",
      "\n",
      "Processed prompts: 100%|██████████| 1/1 [00:00<00:00, 19.44it/s]\n",
      " 39%|███▉      | 383/987 [01:22<01:33,  6.46it/s]\n",
      "Processed prompts: 100%|██████████| 1/1 [00:00<00:00, 16.58it/s]\n",
      "\n",
      "Processed prompts:   0%|          | 0/5 [00:00<?, ?it/s]\u001b[A\n",
      "Processed prompts: 100%|██████████| 5/5 [00:00<00:00, 25.77it/s]\u001b[A\n",
      " 39%|███▉      | 384/987 [01:22<01:53,  5.33it/s]"
     ]
    },
    {
     "name": "stdout",
     "output_type": "stream",
     "text": [
      "当前查询次数219\n"
     ]
    },
    {
     "name": "stderr",
     "output_type": "stream",
     "text": [
      "\n",
      "Processed prompts: 100%|██████████| 1/1 [00:00<00:00, 16.57it/s]\n",
      "\n",
      "Processed prompts:   0%|          | 0/5 [00:00<?, ?it/s]\u001b[A\n",
      "Processed prompts: 100%|██████████| 5/5 [00:00<00:00, 21.28it/s]\u001b[A\n",
      " 39%|███▉      | 385/987 [01:23<02:14,  4.48it/s]"
     ]
    },
    {
     "name": "stdout",
     "output_type": "stream",
     "text": [
      "当前查询次数220\n"
     ]
    },
    {
     "name": "stderr",
     "output_type": "stream",
     "text": [
      "\n",
      "Processed prompts: 100%|██████████| 1/1 [00:00<00:00, 16.51it/s]\n",
      "\n",
      "Processed prompts:   0%|          | 0/5 [00:00<?, ?it/s]\u001b[A\n",
      "Processed prompts: 100%|██████████| 5/5 [00:00<00:00, 23.62it/s]\u001b[A\n",
      " 39%|███▉      | 386/987 [01:23<02:25,  4.14it/s]"
     ]
    },
    {
     "name": "stdout",
     "output_type": "stream",
     "text": [
      "当前查询次数221\n"
     ]
    },
    {
     "name": "stderr",
     "output_type": "stream",
     "text": [
      "\n",
      "Processed prompts: 100%|██████████| 1/1 [00:00<00:00, 16.37it/s]\n",
      "\n",
      "Processed prompts:   0%|          | 0/5 [00:00<?, ?it/s]\u001b[A\n",
      "Processed prompts: 100%|██████████| 5/5 [00:00<00:00, 20.65it/s]\u001b[A\n",
      " 39%|███▉      | 387/987 [01:23<02:38,  3.79it/s]"
     ]
    },
    {
     "name": "stdout",
     "output_type": "stream",
     "text": [
      "当前查询次数222\n"
     ]
    },
    {
     "name": "stderr",
     "output_type": "stream",
     "text": [
      "\n",
      "Processed prompts: 100%|██████████| 1/1 [00:00<00:00, 16.43it/s]\n",
      "\n",
      "Processed prompts:   0%|          | 0/5 [00:00<?, ?it/s]\u001b[A\n",
      "Processed prompts: 100%|██████████| 5/5 [00:00<00:00, 21.14it/s]\u001b[A\n",
      " 39%|███▉      | 388/987 [01:23<02:46,  3.60it/s]"
     ]
    },
    {
     "name": "stdout",
     "output_type": "stream",
     "text": [
      "当前查询次数223\n"
     ]
    },
    {
     "name": "stderr",
     "output_type": "stream",
     "text": [
      "\n",
      "Processed prompts: 100%|██████████| 1/1 [00:00<00:00, 15.82it/s]\n",
      "\n",
      "Processed prompts: 100%|██████████| 1/1 [00:00<00:00, 19.10it/s]\n",
      " 39%|███▉      | 389/987 [01:24<02:18,  4.32it/s]\n",
      "Processed prompts: 100%|██████████| 1/1 [00:00<00:00, 16.55it/s]\n",
      "\n",
      "Processed prompts: 100%|██████████| 1/1 [00:00<00:00, 19.35it/s]\n",
      " 40%|███▉      | 390/987 [01:24<01:58,  5.04it/s]"
     ]
    },
    {
     "name": "stdout",
     "output_type": "stream",
     "text": [
      "average: 0.6\n"
     ]
    },
    {
     "name": "stderr",
     "output_type": "stream",
     "text": [
      "\n",
      "Processed prompts: 100%|██████████| 1/1 [00:00<00:00, 16.56it/s]\n",
      "\n",
      "Processed prompts: 100%|██████████| 1/1 [00:00<00:00, 19.49it/s]\n",
      " 40%|███▉      | 391/987 [01:24<01:43,  5.73it/s]\n",
      "Processed prompts: 100%|██████████| 1/1 [00:00<00:00, 16.71it/s]\n",
      "\n",
      "Processed prompts:   0%|          | 0/5 [00:00<?, ?it/s]\u001b[A\n",
      "Processed prompts: 100%|██████████| 5/5 [00:00<00:00, 23.77it/s]\u001b[A\n",
      " 40%|███▉      | 392/987 [01:24<02:02,  4.85it/s]"
     ]
    },
    {
     "name": "stdout",
     "output_type": "stream",
     "text": [
      "当前查询次数224\n"
     ]
    },
    {
     "name": "stderr",
     "output_type": "stream",
     "text": [
      "\n",
      "Processed prompts: 100%|██████████| 1/1 [00:00<00:00, 16.37it/s]\n",
      "\n",
      "Processed prompts: 100%|██████████| 1/1 [00:00<00:00, 19.39it/s]\n",
      " 40%|███▉      | 393/987 [01:24<01:47,  5.55it/s]\n",
      "Processed prompts: 100%|██████████| 1/1 [00:00<00:00, 16.44it/s]\n",
      "\n",
      "Processed prompts: 100%|██████████| 1/1 [00:00<00:00, 19.42it/s]\n",
      " 40%|███▉      | 394/987 [01:24<01:36,  6.18it/s]\n",
      "Processed prompts: 100%|██████████| 1/1 [00:00<00:00, 16.62it/s]\n",
      "\n",
      "Processed prompts:   0%|          | 0/5 [00:00<?, ?it/s]\u001b[A\n",
      "Processed prompts: 100%|██████████| 5/5 [00:00<00:00, 23.55it/s]\u001b[A\n",
      " 40%|████      | 395/987 [01:25<01:57,  5.04it/s]"
     ]
    },
    {
     "name": "stdout",
     "output_type": "stream",
     "text": [
      "当前查询次数225\n"
     ]
    },
    {
     "name": "stderr",
     "output_type": "stream",
     "text": [
      "\n",
      "Processed prompts: 100%|██████████| 1/1 [00:00<00:00, 16.56it/s]\n",
      "\n",
      "Processed prompts:   0%|          | 0/5 [00:00<?, ?it/s]\u001b[A\n",
      "Processed prompts: 100%|██████████| 5/5 [00:00<00:00, 21.57it/s]\u001b[A\n",
      " 40%|████      | 396/987 [01:25<02:15,  4.35it/s]"
     ]
    },
    {
     "name": "stdout",
     "output_type": "stream",
     "text": [
      "当前查询次数226\n"
     ]
    },
    {
     "name": "stderr",
     "output_type": "stream",
     "text": [
      "\n",
      "Processed prompts: 100%|██████████| 1/1 [00:00<00:00, 16.35it/s]\n",
      "\n",
      "Processed prompts: 100%|██████████| 1/1 [00:00<00:00, 19.11it/s]\n",
      " 40%|████      | 397/987 [01:25<01:56,  5.07it/s]\n",
      "Processed prompts: 100%|██████████| 1/1 [00:00<00:00, 16.69it/s]\n",
      "\n",
      "Processed prompts:   0%|          | 0/5 [00:00<?, ?it/s]\u001b[A\n",
      "Processed prompts: 100%|██████████| 5/5 [00:00<00:00, 23.10it/s]\u001b[A\n",
      " 40%|████      | 398/987 [01:25<02:12,  4.45it/s]"
     ]
    },
    {
     "name": "stdout",
     "output_type": "stream",
     "text": [
      "当前查询次数227\n"
     ]
    },
    {
     "name": "stderr",
     "output_type": "stream",
     "text": [
      "\n",
      "Processed prompts: 100%|██████████| 1/1 [00:00<00:00, 16.38it/s]\n",
      "\n",
      "Processed prompts:   0%|          | 0/5 [00:00<?, ?it/s]\u001b[A\n",
      "Processed prompts: 100%|██████████| 5/5 [00:00<00:00, 23.42it/s]\u001b[A\n",
      " 40%|████      | 399/987 [01:26<02:22,  4.12it/s]"
     ]
    },
    {
     "name": "stdout",
     "output_type": "stream",
     "text": [
      "当前查询次数228\n"
     ]
    },
    {
     "name": "stderr",
     "output_type": "stream",
     "text": [
      "\n",
      "Processed prompts: 100%|██████████| 1/1 [00:00<00:00, 16.36it/s]\n",
      "\n",
      "Processed prompts:   0%|          | 0/5 [00:00<?, ?it/s]\u001b[A\n",
      "Processed prompts: 100%|██████████| 5/5 [00:00<00:00, 23.50it/s]\u001b[A\n",
      " 41%|████      | 400/987 [01:26<02:30,  3.91it/s]"
     ]
    },
    {
     "name": "stdout",
     "output_type": "stream",
     "text": [
      "当前查询次数229\n",
      "average: 0.6\n"
     ]
    },
    {
     "name": "stderr",
     "output_type": "stream",
     "text": [
      "\n",
      "Processed prompts: 100%|██████████| 1/1 [00:00<00:00, 16.42it/s]\n",
      "\n",
      "Processed prompts: 100%|██████████| 1/1 [00:00<00:00, 19.29it/s]\n",
      " 41%|████      | 401/987 [01:26<02:06,  4.65it/s]\n",
      "Processed prompts: 100%|██████████| 1/1 [00:00<00:00, 16.60it/s]\n",
      "\n",
      "Processed prompts:   0%|          | 0/5 [00:00<?, ?it/s]\u001b[A\n",
      "Processed prompts: 100%|██████████| 5/5 [00:00<00:00, 24.05it/s]\u001b[A\n",
      " 41%|████      | 402/987 [01:26<02:17,  4.27it/s]"
     ]
    },
    {
     "name": "stdout",
     "output_type": "stream",
     "text": [
      "当前查询次数230\n"
     ]
    },
    {
     "name": "stderr",
     "output_type": "stream",
     "text": [
      "\n",
      "Processed prompts: 100%|██████████| 1/1 [00:00<00:00, 16.28it/s]\n",
      "\n",
      "Processed prompts: 100%|██████████| 1/1 [00:00<00:00, 19.05it/s]\n",
      " 41%|████      | 403/987 [01:26<01:57,  4.97it/s]\n",
      "Processed prompts: 100%|██████████| 1/1 [00:00<00:00, 16.32it/s]\n",
      "\n",
      "Processed prompts: 100%|██████████| 1/1 [00:00<00:00, 19.17it/s]\n",
      " 41%|████      | 404/987 [01:27<01:43,  5.65it/s]\n",
      "Processed prompts: 100%|██████████| 1/1 [00:00<00:00, 16.45it/s]\n",
      "\n",
      "Processed prompts:   0%|          | 0/5 [00:00<?, ?it/s]\u001b[A\n",
      "Processed prompts: 100%|██████████| 5/5 [00:00<00:00, 23.70it/s]\u001b[A\n",
      " 41%|████      | 405/987 [01:27<02:01,  4.78it/s]"
     ]
    },
    {
     "name": "stdout",
     "output_type": "stream",
     "text": [
      "当前查询次数231\n"
     ]
    },
    {
     "name": "stderr",
     "output_type": "stream",
     "text": [
      "\n",
      "Processed prompts: 100%|██████████| 1/1 [00:00<00:00, 16.25it/s]\n",
      "\n",
      "Processed prompts:   0%|          | 0/5 [00:00<?, ?it/s]\u001b[A\n",
      "Processed prompts: 100%|██████████| 5/5 [00:00<00:00, 23.66it/s]\u001b[A\n",
      " 41%|████      | 406/987 [01:27<02:14,  4.32it/s]"
     ]
    },
    {
     "name": "stdout",
     "output_type": "stream",
     "text": [
      "当前查询次数232\n"
     ]
    },
    {
     "name": "stderr",
     "output_type": "stream",
     "text": [
      "\n",
      "Processed prompts: 100%|██████████| 1/1 [00:00<00:00, 16.30it/s]\n",
      "\n",
      "Processed prompts: 100%|██████████| 1/1 [00:00<00:00, 19.25it/s]\n",
      " 41%|████      | 407/987 [01:27<01:55,  5.04it/s]\n",
      "Processed prompts: 100%|██████████| 1/1 [00:00<00:00, 16.44it/s]\n",
      "\n",
      "Processed prompts:   0%|          | 0/5 [00:00<?, ?it/s]\u001b[A\n",
      "Processed prompts: 100%|██████████| 5/5 [00:00<00:00, 20.47it/s]\u001b[A\n",
      " 41%|████▏     | 408/987 [01:28<02:15,  4.27it/s]"
     ]
    },
    {
     "name": "stdout",
     "output_type": "stream",
     "text": [
      "当前查询次数233\n"
     ]
    },
    {
     "name": "stderr",
     "output_type": "stream",
     "text": [
      "\n",
      "Processed prompts: 100%|██████████| 1/1 [00:00<00:00, 16.51it/s]\n",
      "\n",
      "Processed prompts:   0%|          | 0/5 [00:00<?, ?it/s]\u001b[A\n",
      "Processed prompts: 100%|██████████| 5/5 [00:00<00:00, 23.80it/s]\u001b[A\n",
      " 41%|████▏     | 409/987 [01:28<02:23,  4.03it/s]"
     ]
    },
    {
     "name": "stdout",
     "output_type": "stream",
     "text": [
      "当前查询次数234\n"
     ]
    },
    {
     "name": "stderr",
     "output_type": "stream",
     "text": [
      "\n",
      "Processed prompts: 100%|██████████| 1/1 [00:00<00:00, 16.47it/s]\n",
      "\n",
      "Processed prompts:   0%|          | 0/5 [00:00<?, ?it/s]\u001b[A\n",
      "Processed prompts: 100%|██████████| 5/5 [00:00<00:00, 21.18it/s]\u001b[A\n",
      " 42%|████▏     | 410/987 [01:28<02:33,  3.76it/s]"
     ]
    },
    {
     "name": "stdout",
     "output_type": "stream",
     "text": [
      "当前查询次数235\n",
      "average: 0.8\n"
     ]
    },
    {
     "name": "stderr",
     "output_type": "stream",
     "text": [
      "\n",
      "Processed prompts: 100%|██████████| 1/1 [00:00<00:00, 16.42it/s]\n",
      "\n",
      "Processed prompts:   0%|          | 0/5 [00:00<?, ?it/s]\u001b[A\n",
      "Processed prompts: 100%|██████████| 5/5 [00:00<00:00, 23.67it/s]\u001b[A\n",
      " 42%|████▏     | 411/987 [01:28<02:36,  3.69it/s]"
     ]
    },
    {
     "name": "stdout",
     "output_type": "stream",
     "text": [
      "当前查询次数236\n"
     ]
    },
    {
     "name": "stderr",
     "output_type": "stream",
     "text": [
      "\n",
      "Processed prompts: 100%|██████████| 1/1 [00:00<00:00, 16.35it/s]\n",
      "\n",
      "Processed prompts:   0%|          | 0/5 [00:00<?, ?it/s]\u001b[A\n",
      "Processed prompts: 100%|██████████| 5/5 [00:00<00:00, 20.94it/s]\u001b[A\n",
      " 42%|████▏     | 412/987 [01:29<02:43,  3.52it/s]"
     ]
    },
    {
     "name": "stdout",
     "output_type": "stream",
     "text": [
      "当前查询次数237\n"
     ]
    },
    {
     "name": "stderr",
     "output_type": "stream",
     "text": [
      "\n",
      "Processed prompts: 100%|██████████| 1/1 [00:00<00:00, 16.50it/s]\n",
      "\n",
      "Processed prompts: 100%|██████████| 1/1 [00:00<00:00, 19.45it/s]\n",
      " 42%|████▏     | 413/987 [01:29<02:14,  4.26it/s]\n",
      "Processed prompts: 100%|██████████| 1/1 [00:00<00:00, 16.49it/s]\n",
      "\n",
      "Processed prompts:   0%|          | 0/5 [00:00<?, ?it/s]\u001b[A\n",
      "Processed prompts: 100%|██████████| 5/5 [00:00<00:00, 25.81it/s]\u001b[A\n",
      " 42%|████▏     | 414/987 [01:29<02:19,  4.11it/s]"
     ]
    },
    {
     "name": "stdout",
     "output_type": "stream",
     "text": [
      "当前查询次数238\n"
     ]
    },
    {
     "name": "stderr",
     "output_type": "stream",
     "text": [
      "\n",
      "Processed prompts: 100%|██████████| 1/1 [00:00<00:00, 16.50it/s]\n",
      "\n",
      "Processed prompts:   0%|          | 0/5 [00:00<?, ?it/s]\u001b[A\n",
      "Processed prompts: 100%|██████████| 5/5 [00:00<00:00, 23.13it/s]\u001b[A\n",
      " 42%|████▏     | 415/987 [01:29<02:26,  3.89it/s]"
     ]
    },
    {
     "name": "stdout",
     "output_type": "stream",
     "text": [
      "当前查询次数239\n"
     ]
    },
    {
     "name": "stderr",
     "output_type": "stream",
     "text": [
      "\n",
      "Processed prompts: 100%|██████████| 1/1 [00:00<00:00, 16.55it/s]\n",
      "\n",
      "Processed prompts:   0%|          | 0/5 [00:00<?, ?it/s]\u001b[A\n",
      "Processed prompts: 100%|██████████| 5/5 [00:00<00:00, 21.38it/s]\u001b[A\n",
      " 42%|████▏     | 416/987 [01:30<02:34,  3.68it/s]"
     ]
    },
    {
     "name": "stdout",
     "output_type": "stream",
     "text": [
      "当前查询次数240\n"
     ]
    },
    {
     "name": "stderr",
     "output_type": "stream",
     "text": [
      "\n",
      "Processed prompts: 100%|██████████| 1/1 [00:00<00:00, 16.46it/s]\n",
      "\n",
      "Processed prompts:   0%|          | 0/5 [00:00<?, ?it/s]\u001b[A\n",
      "Processed prompts: 100%|██████████| 5/5 [00:00<00:00, 26.06it/s]\u001b[A\n",
      " 42%|████▏     | 417/987 [01:30<02:33,  3.72it/s]"
     ]
    },
    {
     "name": "stdout",
     "output_type": "stream",
     "text": [
      "当前查询次数241\n"
     ]
    },
    {
     "name": "stderr",
     "output_type": "stream",
     "text": [
      "\n",
      "Processed prompts: 100%|██████████| 1/1 [00:00<00:00, 16.62it/s]\n",
      "\n",
      "Processed prompts:   0%|          | 0/5 [00:00<?, ?it/s]\u001b[A\n",
      "Processed prompts: 100%|██████████| 5/5 [00:00<00:00, 23.62it/s]\u001b[A\n",
      " 42%|████▏     | 418/987 [01:30<02:35,  3.66it/s]"
     ]
    },
    {
     "name": "stdout",
     "output_type": "stream",
     "text": [
      "当前查询次数242\n"
     ]
    },
    {
     "name": "stderr",
     "output_type": "stream",
     "text": [
      "\n",
      "Processed prompts: 100%|██████████| 1/1 [00:00<00:00, 16.35it/s]\n",
      "\n",
      "Processed prompts: 100%|██████████| 1/1 [00:00<00:00, 19.54it/s]\n",
      " 42%|████▏     | 419/987 [01:30<02:09,  4.39it/s]\n",
      "Processed prompts: 100%|██████████| 1/1 [00:00<00:00, 16.36it/s]\n",
      "\n",
      "Processed prompts:   0%|          | 0/5 [00:00<?, ?it/s]\u001b[A\n",
      "Processed prompts: 100%|██████████| 5/5 [00:00<00:00, 22.91it/s]\u001b[A\n",
      " 43%|████▎     | 420/987 [01:31<02:19,  4.06it/s]"
     ]
    },
    {
     "name": "stdout",
     "output_type": "stream",
     "text": [
      "当前查询次数243\n",
      "average: 1.0\n"
     ]
    },
    {
     "name": "stderr",
     "output_type": "stream",
     "text": [
      "\n",
      "Processed prompts: 100%|██████████| 1/1 [00:00<00:00, 16.54it/s]\n",
      "\n",
      "Processed prompts: 100%|██████████| 1/1 [00:00<00:00, 19.45it/s]\n",
      " 43%|████▎     | 421/987 [01:31<01:57,  4.80it/s]\n",
      "Processed prompts: 100%|██████████| 1/1 [00:00<00:00, 16.66it/s]\n",
      "\n",
      "Processed prompts: 100%|██████████| 1/1 [00:00<00:00, 19.35it/s]\n",
      " 43%|████▎     | 422/987 [01:31<01:42,  5.51it/s]\n",
      "Processed prompts: 100%|██████████| 1/1 [00:00<00:00, 16.43it/s]\n",
      "\n",
      "Processed prompts:   0%|          | 0/5 [00:00<?, ?it/s]\u001b[A\n",
      "Processed prompts: 100%|██████████| 5/5 [00:00<00:00, 21.32it/s]\u001b[A\n",
      " 43%|████▎     | 423/987 [01:31<02:03,  4.56it/s]"
     ]
    },
    {
     "name": "stdout",
     "output_type": "stream",
     "text": [
      "当前查询次数244\n"
     ]
    },
    {
     "name": "stderr",
     "output_type": "stream",
     "text": [
      "\n",
      "Processed prompts: 100%|██████████| 1/1 [00:00<00:00, 16.48it/s]\n",
      "\n",
      "Processed prompts: 100%|██████████| 1/1 [00:00<00:00, 19.39it/s]\n",
      " 43%|████▎     | 424/987 [01:31<01:46,  5.29it/s]\n",
      "Processed prompts: 100%|██████████| 1/1 [00:00<00:00, 16.72it/s]\n",
      "\n",
      "Processed prompts:   0%|          | 0/5 [00:00<?, ?it/s]\u001b[A\n",
      "Processed prompts: 100%|██████████| 5/5 [00:00<00:00, 20.63it/s]\u001b[A\n",
      " 43%|████▎     | 425/987 [01:32<02:07,  4.42it/s]"
     ]
    },
    {
     "name": "stdout",
     "output_type": "stream",
     "text": [
      "当前查询次数245\n"
     ]
    },
    {
     "name": "stderr",
     "output_type": "stream",
     "text": [
      "\n",
      "Processed prompts: 100%|██████████| 1/1 [00:00<00:00, 16.41it/s]\n",
      "\n",
      "Processed prompts:   0%|          | 0/5 [00:00<?, ?it/s]\u001b[A\n",
      "Processed prompts: 100%|██████████| 5/5 [00:00<00:00, 23.55it/s]\u001b[A\n",
      " 43%|████▎     | 426/987 [01:32<02:16,  4.10it/s]"
     ]
    },
    {
     "name": "stdout",
     "output_type": "stream",
     "text": [
      "当前查询次数246\n"
     ]
    },
    {
     "name": "stderr",
     "output_type": "stream",
     "text": [
      "\n",
      "Processed prompts: 100%|██████████| 1/1 [00:00<00:00, 16.53it/s]\n",
      "\n",
      "Processed prompts: 100%|██████████| 1/1 [00:00<00:00, 19.43it/s]\n",
      " 43%|████▎     | 427/987 [01:32<01:55,  4.84it/s]\n",
      "Processed prompts: 100%|██████████| 1/1 [00:00<00:00, 16.30it/s]\n",
      "\n",
      "Processed prompts: 100%|██████████| 1/1 [00:00<00:00, 19.51it/s]\n",
      " 43%|████▎     | 428/987 [01:32<01:41,  5.53it/s]\n",
      "Processed prompts: 100%|██████████| 1/1 [00:00<00:00, 16.51it/s]\n",
      "\n",
      "Processed prompts:   0%|          | 0/5 [00:00<?, ?it/s]\u001b[A\n",
      "Processed prompts: 100%|██████████| 5/5 [00:00<00:00, 25.83it/s]\u001b[A\n",
      " 43%|████▎     | 429/987 [01:32<01:54,  4.86it/s]"
     ]
    },
    {
     "name": "stdout",
     "output_type": "stream",
     "text": [
      "当前查询次数247\n"
     ]
    },
    {
     "name": "stderr",
     "output_type": "stream",
     "text": [
      "\n",
      "Processed prompts: 100%|██████████| 1/1 [00:00<00:00, 16.46it/s]\n",
      "\n",
      "Processed prompts: 100%|██████████| 1/1 [00:00<00:00, 19.30it/s]\n",
      " 44%|████▎     | 430/987 [01:33<01:40,  5.54it/s]"
     ]
    },
    {
     "name": "stdout",
     "output_type": "stream",
     "text": [
      "average: 0.6\n"
     ]
    },
    {
     "name": "stderr",
     "output_type": "stream",
     "text": [
      "\n",
      "Processed prompts: 100%|██████████| 1/1 [00:00<00:00, 16.42it/s]\n",
      "\n",
      "Processed prompts:   0%|          | 0/5 [00:00<?, ?it/s]\u001b[A\n",
      "Processed prompts: 100%|██████████| 5/5 [00:00<00:00, 21.36it/s]\u001b[A\n",
      " 44%|████▎     | 431/987 [01:33<02:01,  4.58it/s]"
     ]
    },
    {
     "name": "stdout",
     "output_type": "stream",
     "text": [
      "当前查询次数248\n"
     ]
    },
    {
     "name": "stderr",
     "output_type": "stream",
     "text": [
      "\n",
      "Processed prompts: 100%|██████████| 1/1 [00:00<00:00, 16.53it/s]\n",
      "\n",
      "Processed prompts:   0%|          | 0/5 [00:00<?, ?it/s]\u001b[A\n",
      "Processed prompts: 100%|██████████| 5/5 [00:00<00:00, 23.44it/s]\u001b[A\n",
      " 44%|████▍     | 432/987 [01:33<02:12,  4.19it/s]"
     ]
    },
    {
     "name": "stdout",
     "output_type": "stream",
     "text": [
      "当前查询次数249\n"
     ]
    },
    {
     "name": "stderr",
     "output_type": "stream",
     "text": [
      "\n",
      "Processed prompts: 100%|██████████| 1/1 [00:00<00:00, 16.29it/s]\n",
      "\n",
      "Processed prompts: 100%|██████████| 1/1 [00:00<00:00, 19.27it/s]\n",
      " 44%|████▍     | 433/987 [01:33<01:52,  4.92it/s]\n",
      "Processed prompts: 100%|██████████| 1/1 [00:00<00:00, 16.32it/s]\n",
      "\n",
      "Processed prompts: 100%|██████████| 1/1 [00:00<00:00, 19.41it/s]\n",
      " 44%|████▍     | 434/987 [01:33<01:38,  5.61it/s]\n",
      "Processed prompts: 100%|██████████| 1/1 [00:00<00:00, 16.55it/s]\n",
      "\n",
      "Processed prompts: 100%|██████████| 1/1 [00:00<00:00, 19.43it/s]\n",
      " 44%|████▍     | 435/987 [01:34<01:28,  6.21it/s]\n",
      "Processed prompts: 100%|██████████| 1/1 [00:00<00:00, 16.37it/s]\n",
      "\n",
      "Processed prompts:   0%|          | 0/5 [00:00<?, ?it/s]\u001b[A\n",
      "Processed prompts: 100%|██████████| 5/5 [00:00<00:00, 23.72it/s]\u001b[A\n",
      " 44%|████▍     | 436/987 [01:34<01:49,  5.05it/s]"
     ]
    },
    {
     "name": "stdout",
     "output_type": "stream",
     "text": [
      "当前查询次数250\n"
     ]
    },
    {
     "name": "stderr",
     "output_type": "stream",
     "text": [
      "\n",
      "Processed prompts: 100%|██████████| 1/1 [00:00<00:00, 16.34it/s]\n",
      "\n",
      "Processed prompts: 100%|██████████| 1/1 [00:00<00:00, 19.21it/s]\n",
      " 44%|████▍     | 437/987 [01:34<01:36,  5.72it/s]\n",
      "Processed prompts: 100%|██████████| 1/1 [00:00<00:00, 16.40it/s]\n",
      "\n",
      "Processed prompts:   0%|          | 0/5 [00:00<?, ?it/s]\u001b[A\n",
      "Processed prompts: 100%|██████████| 5/5 [00:00<00:00, 23.73it/s]\u001b[A\n",
      " 44%|████▍     | 438/987 [01:34<01:53,  4.83it/s]"
     ]
    },
    {
     "name": "stdout",
     "output_type": "stream",
     "text": [
      "当前查询次数251\n"
     ]
    },
    {
     "name": "stderr",
     "output_type": "stream",
     "text": [
      "\n",
      "Processed prompts: 100%|██████████| 1/1 [00:00<00:00, 16.50it/s]\n",
      "\n",
      "Processed prompts:   0%|          | 0/5 [00:00<?, ?it/s]\u001b[A\n",
      "Processed prompts: 100%|██████████| 5/5 [00:00<00:00, 23.43it/s]\u001b[A\n",
      " 44%|████▍     | 439/987 [01:35<02:06,  4.34it/s]"
     ]
    },
    {
     "name": "stdout",
     "output_type": "stream",
     "text": [
      "当前查询次数252\n"
     ]
    },
    {
     "name": "stderr",
     "output_type": "stream",
     "text": [
      "\n",
      "Processed prompts: 100%|██████████| 1/1 [00:00<00:00, 16.60it/s]\n",
      "\n",
      "Processed prompts: 100%|██████████| 1/1 [00:00<00:00, 19.52it/s]\n",
      " 45%|████▍     | 440/987 [01:35<01:47,  5.07it/s]"
     ]
    },
    {
     "name": "stdout",
     "output_type": "stream",
     "text": [
      "average: 0.6\n"
     ]
    },
    {
     "name": "stderr",
     "output_type": "stream",
     "text": [
      "\n",
      "Processed prompts: 100%|██████████| 1/1 [00:00<00:00, 16.61it/s]\n",
      "\n",
      "Processed prompts:   0%|          | 0/5 [00:00<?, ?it/s]\u001b[A\n",
      "Processed prompts: 100%|██████████| 5/5 [00:00<00:00, 23.46it/s]\u001b[A\n",
      " 45%|████▍     | 441/987 [01:35<02:02,  4.47it/s]"
     ]
    },
    {
     "name": "stdout",
     "output_type": "stream",
     "text": [
      "当前查询次数253\n"
     ]
    },
    {
     "name": "stderr",
     "output_type": "stream",
     "text": [
      "\n",
      "Processed prompts: 100%|██████████| 1/1 [00:00<00:00, 16.43it/s]\n",
      "\n",
      "Processed prompts: 100%|██████████| 1/1 [00:00<00:00, 19.59it/s]\n",
      " 45%|████▍     | 442/987 [01:35<01:44,  5.20it/s]\n",
      "Processed prompts: 100%|██████████| 1/1 [00:00<00:00, 16.70it/s]\n",
      "\n",
      "Processed prompts:   0%|          | 0/5 [00:00<?, ?it/s]\u001b[A\n",
      "Processed prompts: 100%|██████████| 5/5 [00:00<00:00, 21.41it/s]\u001b[A\n",
      " 45%|████▍     | 443/987 [01:35<02:02,  4.43it/s]"
     ]
    },
    {
     "name": "stdout",
     "output_type": "stream",
     "text": [
      "当前查询次数254\n"
     ]
    },
    {
     "name": "stderr",
     "output_type": "stream",
     "text": [
      "\n",
      "Processed prompts: 100%|██████████| 1/1 [00:00<00:00, 16.55it/s]\n",
      "\n",
      "Processed prompts:   0%|          | 0/5 [00:00<?, ?it/s]\u001b[A\n",
      "Processed prompts: 100%|██████████| 5/5 [00:00<00:00, 25.75it/s]\u001b[A\n",
      " 45%|████▍     | 444/987 [01:36<02:09,  4.21it/s]"
     ]
    },
    {
     "name": "stdout",
     "output_type": "stream",
     "text": [
      "当前查询次数255\n"
     ]
    },
    {
     "name": "stderr",
     "output_type": "stream",
     "text": [
      "\n",
      "Processed prompts: 100%|██████████| 1/1 [00:00<00:00, 16.49it/s]\n",
      "\n",
      "Processed prompts: 100%|██████████| 1/1 [00:00<00:00, 19.31it/s]\n",
      " 45%|████▌     | 445/987 [01:36<01:49,  4.94it/s]\n",
      "Processed prompts: 100%|██████████| 1/1 [00:00<00:00, 16.71it/s]\n",
      "\n",
      "Processed prompts:   0%|          | 0/5 [00:00<?, ?it/s]\u001b[A\n",
      "Processed prompts: 100%|██████████| 5/5 [00:00<00:00, 23.69it/s]\u001b[A\n",
      " 45%|████▌     | 446/987 [01:36<02:02,  4.42it/s]"
     ]
    },
    {
     "name": "stdout",
     "output_type": "stream",
     "text": [
      "当前查询次数256\n"
     ]
    },
    {
     "name": "stderr",
     "output_type": "stream",
     "text": [
      "\n",
      "Processed prompts: 100%|██████████| 1/1 [00:00<00:00, 16.44it/s]\n",
      "\n",
      "Processed prompts:   0%|          | 0/5 [00:00<?, ?it/s]\u001b[A\n",
      "Processed prompts: 100%|██████████| 5/5 [00:00<00:00, 23.41it/s]\u001b[A\n",
      " 45%|████▌     | 447/987 [01:36<02:11,  4.10it/s]"
     ]
    },
    {
     "name": "stdout",
     "output_type": "stream",
     "text": [
      "当前查询次数257\n"
     ]
    },
    {
     "name": "stderr",
     "output_type": "stream",
     "text": [
      "\n",
      "Processed prompts: 100%|██████████| 1/1 [00:00<00:00, 16.44it/s]\n",
      "\n",
      "Processed prompts: 100%|██████████| 1/1 [00:00<00:00, 19.27it/s]\n",
      " 45%|████▌     | 448/987 [01:36<01:51,  4.84it/s]\n",
      "Processed prompts: 100%|██████████| 1/1 [00:00<00:00, 16.68it/s]\n",
      "\n",
      "Processed prompts: 100%|██████████| 1/1 [00:00<00:00, 19.40it/s]\n",
      " 45%|████▌     | 449/987 [01:37<01:36,  5.55it/s]\n",
      "Processed prompts: 100%|██████████| 1/1 [00:00<00:00, 16.59it/s]\n",
      "\n",
      "Processed prompts:   0%|          | 0/5 [00:00<?, ?it/s]\u001b[A\n",
      "Processed prompts: 100%|██████████| 5/5 [00:00<00:00, 25.53it/s]\u001b[A\n",
      " 46%|████▌     | 450/987 [01:37<01:50,  4.85it/s]"
     ]
    },
    {
     "name": "stdout",
     "output_type": "stream",
     "text": [
      "当前查询次数258\n",
      "average: 0.8\n"
     ]
    },
    {
     "name": "stderr",
     "output_type": "stream",
     "text": [
      "\n",
      "Processed prompts: 100%|██████████| 1/1 [00:00<00:00, 16.46it/s]\n",
      "\n",
      "Processed prompts:   0%|          | 0/5 [00:00<?, ?it/s]\u001b[A\n",
      "Processed prompts: 100%|██████████| 5/5 [00:00<00:00, 21.20it/s]\u001b[A\n",
      " 46%|████▌     | 451/987 [01:37<02:06,  4.22it/s]"
     ]
    },
    {
     "name": "stdout",
     "output_type": "stream",
     "text": [
      "当前查询次数259\n"
     ]
    },
    {
     "name": "stderr",
     "output_type": "stream",
     "text": [
      "\n",
      "Processed prompts: 100%|██████████| 1/1 [00:00<00:00, 16.10it/s]\n",
      "\n",
      "Processed prompts:   0%|          | 0/5 [00:00<?, ?it/s]\u001b[A\n",
      "Processed prompts: 100%|██████████| 5/5 [00:00<00:00, 23.08it/s]\u001b[A\n",
      " 46%|████▌     | 452/987 [01:37<02:15,  3.96it/s]"
     ]
    },
    {
     "name": "stdout",
     "output_type": "stream",
     "text": [
      "当前查询次数260\n"
     ]
    },
    {
     "name": "stderr",
     "output_type": "stream",
     "text": [
      "\n",
      "Processed prompts: 100%|██████████| 1/1 [00:00<00:00, 16.51it/s]\n",
      "\n",
      "Processed prompts: 100%|██████████| 1/1 [00:00<00:00, 19.60it/s]\n",
      " 46%|████▌     | 453/987 [01:38<01:53,  4.71it/s]\n",
      "Processed prompts: 100%|██████████| 1/1 [00:00<00:00, 16.78it/s]\n",
      "\n",
      "Processed prompts:   0%|          | 0/5 [00:00<?, ?it/s]\u001b[A\n",
      "Processed prompts: 100%|██████████| 5/5 [00:00<00:00, 21.19it/s]\u001b[A\n",
      " 46%|████▌     | 454/987 [01:38<02:08,  4.15it/s]"
     ]
    },
    {
     "name": "stdout",
     "output_type": "stream",
     "text": [
      "当前查询次数261\n"
     ]
    },
    {
     "name": "stderr",
     "output_type": "stream",
     "text": [
      "\n",
      "Processed prompts: 100%|██████████| 1/1 [00:00<00:00, 16.44it/s]\n",
      "\n",
      "Processed prompts: 100%|██████████| 1/1 [00:00<00:00, 19.46it/s]\n",
      " 46%|████▌     | 455/987 [01:38<01:48,  4.89it/s]\n",
      "Processed prompts: 100%|██████████| 1/1 [00:00<00:00, 16.63it/s]\n",
      "\n",
      "Processed prompts:   0%|          | 0/5 [00:00<?, ?it/s]\u001b[A\n",
      "Processed prompts: 100%|██████████| 5/5 [00:00<00:00, 23.75it/s]\u001b[A\n",
      " 46%|████▌     | 456/987 [01:38<02:00,  4.40it/s]"
     ]
    },
    {
     "name": "stdout",
     "output_type": "stream",
     "text": [
      "当前查询次数262\n"
     ]
    },
    {
     "name": "stderr",
     "output_type": "stream",
     "text": [
      "\n",
      "Processed prompts: 100%|██████████| 1/1 [00:00<00:00, 16.44it/s]\n",
      "\n",
      "Processed prompts:   0%|          | 0/5 [00:00<?, ?it/s]\u001b[A\n",
      "Processed prompts: 100%|██████████| 5/5 [00:00<00:00, 25.61it/s]\u001b[A\n",
      " 46%|████▋     | 457/987 [01:38<02:06,  4.18it/s]"
     ]
    },
    {
     "name": "stdout",
     "output_type": "stream",
     "text": [
      "当前查询次数263\n"
     ]
    },
    {
     "name": "stderr",
     "output_type": "stream",
     "text": [
      "\n",
      "Processed prompts: 100%|██████████| 1/1 [00:00<00:00, 16.53it/s]\n",
      "\n",
      "Processed prompts: 100%|██████████| 1/1 [00:00<00:00, 19.54it/s]\n",
      " 46%|████▋     | 458/987 [01:39<01:47,  4.92it/s]\n",
      "Processed prompts: 100%|██████████| 1/1 [00:00<00:00, 16.57it/s]\n",
      "\n",
      "Processed prompts:   0%|          | 0/5 [00:00<?, ?it/s]\u001b[A\n",
      "Processed prompts: 100%|██████████| 5/5 [00:00<00:00, 21.34it/s]\u001b[A\n",
      " 47%|████▋     | 459/987 [01:39<02:03,  4.27it/s]"
     ]
    },
    {
     "name": "stdout",
     "output_type": "stream",
     "text": [
      "当前查询次数264\n"
     ]
    },
    {
     "name": "stderr",
     "output_type": "stream",
     "text": [
      "\n",
      "Processed prompts: 100%|██████████| 1/1 [00:00<00:00, 16.47it/s]\n",
      "\n",
      "Processed prompts:   0%|          | 0/5 [00:00<?, ?it/s]\u001b[A\n",
      "Processed prompts: 100%|██████████| 5/5 [00:00<00:00, 25.79it/s]\u001b[A\n",
      " 47%|████▋     | 460/987 [01:39<02:08,  4.10it/s]"
     ]
    },
    {
     "name": "stdout",
     "output_type": "stream",
     "text": [
      "当前查询次数265\n",
      "average: 0.8\n"
     ]
    },
    {
     "name": "stderr",
     "output_type": "stream",
     "text": [
      "\n",
      "Processed prompts: 100%|██████████| 1/1 [00:00<00:00, 16.55it/s]\n",
      "\n",
      "Processed prompts: 100%|██████████| 1/1 [00:00<00:00, 19.24it/s]\n",
      " 47%|████▋     | 461/987 [01:39<01:48,  4.85it/s]\n",
      "Processed prompts: 100%|██████████| 1/1 [00:00<00:00, 16.66it/s]\n",
      "\n",
      "Processed prompts: 100%|██████████| 1/1 [00:00<00:00, 19.35it/s]\n",
      " 47%|████▋     | 462/987 [01:39<01:34,  5.56it/s]\n",
      "Processed prompts: 100%|██████████| 1/1 [00:00<00:00, 16.54it/s]\n",
      "\n",
      "Processed prompts:   0%|          | 0/5 [00:00<?, ?it/s]\u001b[A\n",
      "Processed prompts: 100%|██████████| 5/5 [00:00<00:00, 26.02it/s]\u001b[A\n",
      " 47%|████▋     | 463/987 [01:40<01:47,  4.88it/s]"
     ]
    },
    {
     "name": "stdout",
     "output_type": "stream",
     "text": [
      "当前查询次数266\n"
     ]
    },
    {
     "name": "stderr",
     "output_type": "stream",
     "text": [
      "\n",
      "Processed prompts: 100%|██████████| 1/1 [00:00<00:00, 16.31it/s]\n",
      "\n",
      "Processed prompts:   0%|          | 0/5 [00:00<?, ?it/s]\u001b[A\n",
      "Processed prompts: 100%|██████████| 5/5 [00:00<00:00, 23.73it/s]\u001b[A\n",
      " 47%|████▋     | 464/987 [01:40<01:59,  4.37it/s]"
     ]
    },
    {
     "name": "stdout",
     "output_type": "stream",
     "text": [
      "当前查询次数267\n"
     ]
    },
    {
     "name": "stderr",
     "output_type": "stream",
     "text": [
      "\n",
      "Processed prompts: 100%|██████████| 1/1 [00:00<00:00, 16.46it/s]\n",
      "\n",
      "Processed prompts: 100%|██████████| 1/1 [00:00<00:00, 19.28it/s]\n",
      " 47%|████▋     | 465/987 [01:40<01:42,  5.09it/s]\n",
      "Processed prompts: 100%|██████████| 1/1 [00:00<00:00, 16.61it/s]\n",
      "\n",
      "Processed prompts: 100%|██████████| 1/1 [00:00<00:00, 19.32it/s]\n",
      " 47%|████▋     | 466/987 [01:40<01:30,  5.76it/s]\n",
      "Processed prompts: 100%|██████████| 1/1 [00:00<00:00, 16.30it/s]\n",
      "\n",
      "Processed prompts: 100%|██████████| 1/1 [00:00<00:00, 19.54it/s]\n",
      " 47%|████▋     | 467/987 [01:40<01:21,  6.35it/s]\n",
      "Processed prompts: 100%|██████████| 1/1 [00:00<00:00, 16.68it/s]\n",
      "\n",
      "Processed prompts: 100%|██████████| 1/1 [00:00<00:00, 19.36it/s]\n",
      " 47%|████▋     | 468/987 [01:40<01:15,  6.86it/s]\n",
      "Processed prompts: 100%|██████████| 1/1 [00:00<00:00, 16.54it/s]\n",
      "\n",
      "Processed prompts: 100%|██████████| 1/1 [00:00<00:00, 19.51it/s]\n",
      " 48%|████▊     | 469/987 [01:41<01:11,  7.26it/s]\n",
      "Processed prompts: 100%|██████████| 1/1 [00:00<00:00, 16.61it/s]\n",
      "\n",
      "Processed prompts:   0%|          | 0/5 [00:00<?, ?it/s]\u001b[A\n",
      "Processed prompts: 100%|██████████| 5/5 [00:00<00:00, 23.47it/s]\u001b[A\n",
      " 48%|████▊     | 470/987 [01:41<01:33,  5.50it/s]"
     ]
    },
    {
     "name": "stdout",
     "output_type": "stream",
     "text": [
      "当前查询次数268\n",
      "average: 0.7\n"
     ]
    },
    {
     "name": "stderr",
     "output_type": "stream",
     "text": [
      "\n",
      "Processed prompts: 100%|██████████| 1/1 [00:00<00:00, 16.39it/s]\n",
      "\n",
      "Processed prompts: 100%|██████████| 1/1 [00:00<00:00, 19.33it/s]\n",
      " 48%|████▊     | 471/987 [01:41<01:24,  6.13it/s]\n",
      "Processed prompts: 100%|██████████| 1/1 [00:00<00:00, 16.70it/s]\n",
      "\n",
      "Processed prompts: 100%|██████████| 1/1 [00:00<00:00, 19.44it/s]\n",
      " 48%|████▊     | 472/987 [01:41<01:17,  6.67it/s]\n",
      "Processed prompts: 100%|██████████| 1/1 [00:00<00:00, 16.51it/s]\n",
      "\n",
      "Processed prompts: 100%|██████████| 1/1 [00:00<00:00, 19.36it/s]\n",
      " 48%|████▊     | 473/987 [01:41<01:12,  7.11it/s]\n",
      "Processed prompts: 100%|██████████| 1/1 [00:00<00:00, 16.57it/s]\n",
      "\n",
      "Processed prompts: 100%|██████████| 1/1 [00:00<00:00, 19.47it/s]\n",
      " 48%|████▊     | 474/987 [01:41<01:09,  7.43it/s]\n",
      "Processed prompts: 100%|██████████| 1/1 [00:00<00:00, 16.68it/s]\n",
      "\n",
      "Processed prompts:   0%|          | 0/5 [00:00<?, ?it/s]\u001b[A\n",
      "Processed prompts: 100%|██████████| 5/5 [00:00<00:00, 25.61it/s]\u001b[A\n",
      " 48%|████▊     | 475/987 [01:42<01:29,  5.74it/s]"
     ]
    },
    {
     "name": "stdout",
     "output_type": "stream",
     "text": [
      "当前查询次数269\n"
     ]
    },
    {
     "name": "stderr",
     "output_type": "stream",
     "text": [
      "\n",
      "Processed prompts: 100%|██████████| 1/1 [00:00<00:00, 16.62it/s]\n",
      "\n",
      "Processed prompts: 100%|██████████| 1/1 [00:00<00:00, 19.56it/s]\n",
      " 48%|████▊     | 476/987 [01:42<01:20,  6.35it/s]\n",
      "Processed prompts: 100%|██████████| 1/1 [00:00<00:00, 16.65it/s]\n",
      "\n",
      "Processed prompts: 100%|██████████| 1/1 [00:00<00:00, 19.39it/s]\n",
      " 48%|████▊     | 477/987 [01:42<01:14,  6.86it/s]\n",
      "Processed prompts: 100%|██████████| 1/1 [00:00<00:00, 16.55it/s]\n",
      "\n",
      "Processed prompts:   0%|          | 0/5 [00:00<?, ?it/s]\u001b[A\n",
      "Processed prompts: 100%|██████████| 5/5 [00:00<00:00, 23.74it/s]\u001b[A\n",
      " 48%|████▊     | 478/987 [01:42<01:34,  5.36it/s]"
     ]
    },
    {
     "name": "stdout",
     "output_type": "stream",
     "text": [
      "当前查询次数270\n"
     ]
    },
    {
     "name": "stderr",
     "output_type": "stream",
     "text": [
      "\n",
      "Processed prompts: 100%|██████████| 1/1 [00:00<00:00, 16.60it/s]\n",
      "\n",
      "Processed prompts:   0%|          | 0/5 [00:00<?, ?it/s]\u001b[A\n",
      "Processed prompts: 100%|██████████| 5/5 [00:00<00:00, 21.22it/s]\u001b[A\n",
      " 49%|████▊     | 479/987 [01:42<01:53,  4.49it/s]"
     ]
    },
    {
     "name": "stdout",
     "output_type": "stream",
     "text": [
      "当前查询次数271\n"
     ]
    },
    {
     "name": "stderr",
     "output_type": "stream",
     "text": [
      "\n",
      "Processed prompts: 100%|██████████| 1/1 [00:00<00:00, 16.33it/s]\n",
      "\n",
      "Processed prompts: 100%|██████████| 1/1 [00:00<00:00, 19.36it/s]\n",
      " 49%|████▊     | 480/987 [01:43<01:37,  5.21it/s]"
     ]
    },
    {
     "name": "stdout",
     "output_type": "stream",
     "text": [
      "average: 0.6\n"
     ]
    },
    {
     "name": "stderr",
     "output_type": "stream",
     "text": [
      "\n",
      "Processed prompts: 100%|██████████| 1/1 [00:00<00:00, 16.57it/s]\n",
      "\n",
      "Processed prompts: 100%|██████████| 1/1 [00:00<00:00, 19.38it/s]\n",
      " 49%|████▊     | 481/987 [01:43<01:26,  5.88it/s]\n",
      "Processed prompts: 100%|██████████| 1/1 [00:00<00:00, 16.77it/s]\n",
      "\n",
      "Processed prompts:   0%|          | 0/5 [00:00<?, ?it/s]\u001b[A\n",
      "Processed prompts: 100%|██████████| 5/5 [00:00<00:00, 23.66it/s]\u001b[A\n",
      " 49%|████▉     | 482/987 [01:43<01:42,  4.91it/s]"
     ]
    },
    {
     "name": "stdout",
     "output_type": "stream",
     "text": [
      "当前查询次数272\n"
     ]
    },
    {
     "name": "stderr",
     "output_type": "stream",
     "text": [
      "\n",
      "Processed prompts: 100%|██████████| 1/1 [00:00<00:00, 16.45it/s]\n",
      "\n",
      "Processed prompts: 100%|██████████| 1/1 [00:00<00:00, 19.40it/s]\n",
      " 49%|████▉     | 483/987 [01:43<01:29,  5.60it/s]\n",
      "Processed prompts: 100%|██████████| 1/1 [00:00<00:00, 16.41it/s]\n",
      "\n",
      "Processed prompts: 100%|██████████| 1/1 [00:00<00:00, 19.25it/s]\n",
      " 49%|████▉     | 484/987 [01:43<01:21,  6.21it/s]\n",
      "Processed prompts: 100%|██████████| 1/1 [00:00<00:00, 16.75it/s]\n",
      "\n",
      "Processed prompts: 100%|██████████| 1/1 [00:00<00:00, 19.44it/s]\n",
      " 49%|████▉     | 485/987 [01:43<01:14,  6.75it/s]\n",
      "Processed prompts: 100%|██████████| 1/1 [00:00<00:00, 16.56it/s]\n",
      "\n",
      "Processed prompts:   0%|          | 0/5 [00:00<?, ?it/s]\u001b[A\n",
      "Processed prompts: 100%|██████████| 5/5 [00:00<00:00, 25.79it/s]\u001b[A\n",
      " 49%|████▉     | 486/987 [01:44<01:31,  5.46it/s]"
     ]
    },
    {
     "name": "stdout",
     "output_type": "stream",
     "text": [
      "当前查询次数273\n"
     ]
    },
    {
     "name": "stderr",
     "output_type": "stream",
     "text": [
      "\n",
      "Processed prompts: 100%|██████████| 1/1 [00:00<00:00, 16.45it/s]\n",
      "\n",
      "Processed prompts:   0%|          | 0/5 [00:00<?, ?it/s]\u001b[A\n",
      "Processed prompts: 100%|██████████| 5/5 [00:00<00:00, 20.52it/s]\u001b[A\n",
      " 49%|████▉     | 487/987 [01:44<01:51,  4.48it/s]"
     ]
    },
    {
     "name": "stdout",
     "output_type": "stream",
     "text": [
      "当前查询次数274\n"
     ]
    },
    {
     "name": "stderr",
     "output_type": "stream",
     "text": [
      "\n",
      "Processed prompts: 100%|██████████| 1/1 [00:00<00:00, 16.36it/s]\n",
      "\n",
      "Processed prompts:   0%|          | 0/5 [00:00<?, ?it/s]\u001b[A\n",
      "Processed prompts: 100%|██████████| 5/5 [00:00<00:00, 23.79it/s]\u001b[A\n",
      " 49%|████▉     | 488/987 [01:44<02:00,  4.15it/s]"
     ]
    },
    {
     "name": "stdout",
     "output_type": "stream",
     "text": [
      "当前查询次数275\n"
     ]
    },
    {
     "name": "stderr",
     "output_type": "stream",
     "text": [
      "\n",
      "Processed prompts: 100%|██████████| 1/1 [00:00<00:00, 16.39it/s]\n",
      "\n",
      "Processed prompts:   0%|          | 0/5 [00:00<?, ?it/s]\u001b[A\n",
      "Processed prompts: 100%|██████████| 5/5 [00:00<00:00, 26.04it/s]\u001b[A\n",
      " 50%|████▉     | 489/987 [01:44<02:03,  4.04it/s]"
     ]
    },
    {
     "name": "stdout",
     "output_type": "stream",
     "text": [
      "当前查询次数276\n"
     ]
    },
    {
     "name": "stderr",
     "output_type": "stream",
     "text": [
      "\n",
      "Processed prompts: 100%|██████████| 1/1 [00:00<00:00, 16.50it/s]\n",
      "\n",
      "Processed prompts: 100%|██████████| 1/1 [00:00<00:00, 19.25it/s]\n",
      " 50%|████▉     | 490/987 [01:45<01:44,  4.77it/s]"
     ]
    },
    {
     "name": "stdout",
     "output_type": "stream",
     "text": [
      "average: 0.9\n"
     ]
    },
    {
     "name": "stderr",
     "output_type": "stream",
     "text": [
      "\n",
      "Processed prompts: 100%|██████████| 1/1 [00:00<00:00, 15.97it/s]\n",
      "\n",
      "Processed prompts:   0%|          | 0/5 [00:00<?, ?it/s]\u001b[A\n",
      "Processed prompts: 100%|██████████| 5/5 [00:00<00:00, 23.45it/s]\u001b[A\n",
      " 50%|████▉     | 491/987 [01:45<01:55,  4.29it/s]"
     ]
    },
    {
     "name": "stdout",
     "output_type": "stream",
     "text": [
      "当前查询次数277\n"
     ]
    },
    {
     "name": "stderr",
     "output_type": "stream",
     "text": [
      "\n",
      "Processed prompts: 100%|██████████| 1/1 [00:00<00:00, 16.49it/s]\n",
      "\n",
      "Processed prompts:   0%|          | 0/5 [00:00<?, ?it/s]\u001b[A\n",
      "Processed prompts: 100%|██████████| 5/5 [00:00<00:00, 23.58it/s]\u001b[A\n",
      " 50%|████▉     | 492/987 [01:45<02:02,  4.03it/s]"
     ]
    },
    {
     "name": "stdout",
     "output_type": "stream",
     "text": [
      "当前查询次数278\n"
     ]
    },
    {
     "name": "stderr",
     "output_type": "stream",
     "text": [
      "\n",
      "Processed prompts: 100%|██████████| 1/1 [00:00<00:00, 16.42it/s]\n",
      "\n",
      "Processed prompts:   0%|          | 0/5 [00:00<?, ?it/s]\u001b[A\n",
      "Processed prompts: 100%|██████████| 5/5 [00:00<00:00, 23.65it/s]\u001b[A\n",
      " 50%|████▉     | 493/987 [01:45<02:07,  3.87it/s]"
     ]
    },
    {
     "name": "stdout",
     "output_type": "stream",
     "text": [
      "当前查询次数279\n"
     ]
    },
    {
     "name": "stderr",
     "output_type": "stream",
     "text": [
      "\n",
      "Processed prompts: 100%|██████████| 1/1 [00:00<00:00, 16.50it/s]\n",
      "\n",
      "Processed prompts: 100%|██████████| 1/1 [00:00<00:00, 19.46it/s]\n",
      " 50%|█████     | 494/987 [01:46<01:46,  4.61it/s]\n",
      "Processed prompts: 100%|██████████| 1/1 [00:00<00:00, 16.71it/s]\n",
      "\n",
      "Processed prompts:   0%|          | 0/5 [00:00<?, ?it/s]\u001b[A\n",
      "Processed prompts: 100%|██████████| 5/5 [00:00<00:00, 24.02it/s]\u001b[A\n",
      " 50%|█████     | 495/987 [01:46<01:55,  4.24it/s]"
     ]
    },
    {
     "name": "stdout",
     "output_type": "stream",
     "text": [
      "当前查询次数280\n"
     ]
    },
    {
     "name": "stderr",
     "output_type": "stream",
     "text": [
      "\n",
      "Processed prompts: 100%|██████████| 1/1 [00:00<00:00, 16.60it/s]\n",
      "\n",
      "Processed prompts:   0%|          | 0/5 [00:00<?, ?it/s]\u001b[A\n",
      "Processed prompts: 100%|██████████| 5/5 [00:00<00:00, 25.50it/s]\u001b[A\n",
      " 50%|█████     | 496/987 [01:46<02:00,  4.08it/s]"
     ]
    },
    {
     "name": "stdout",
     "output_type": "stream",
     "text": [
      "当前查询次数281\n"
     ]
    },
    {
     "name": "stderr",
     "output_type": "stream",
     "text": [
      "\n",
      "Processed prompts: 100%|██████████| 1/1 [00:00<00:00, 16.41it/s]\n",
      "\n",
      "Processed prompts:   0%|          | 0/5 [00:00<?, ?it/s]\u001b[A\n",
      "Processed prompts: 100%|██████████| 5/5 [00:00<00:00, 20.65it/s]\u001b[A\n",
      " 50%|█████     | 497/987 [01:46<02:10,  3.76it/s]"
     ]
    },
    {
     "name": "stdout",
     "output_type": "stream",
     "text": [
      "当前查询次数282\n"
     ]
    },
    {
     "name": "stderr",
     "output_type": "stream",
     "text": [
      "\n",
      "Processed prompts: 100%|██████████| 1/1 [00:00<00:00, 16.44it/s]\n",
      "\n",
      "Processed prompts:   0%|          | 0/5 [00:00<?, ?it/s]\u001b[A\n",
      "Processed prompts: 100%|██████████| 5/5 [00:00<00:00, 21.27it/s]\u001b[A\n",
      " 50%|█████     | 498/987 [01:47<02:16,  3.60it/s]"
     ]
    },
    {
     "name": "stdout",
     "output_type": "stream",
     "text": [
      "当前查询次数283\n"
     ]
    },
    {
     "name": "stderr",
     "output_type": "stream",
     "text": [
      "\n",
      "Processed prompts: 100%|██████████| 1/1 [00:00<00:00, 16.38it/s]\n",
      "\n",
      "Processed prompts: 100%|██████████| 1/1 [00:00<00:00, 19.40it/s]\n",
      " 51%|█████     | 499/987 [01:47<01:52,  4.33it/s]\n",
      "Processed prompts: 100%|██████████| 1/1 [00:00<00:00, 16.49it/s]\n",
      "\n",
      "Processed prompts:   0%|          | 0/5 [00:00<?, ?it/s]\u001b[A\n",
      "Processed prompts: 100%|██████████| 5/5 [00:00<00:00, 21.31it/s]\u001b[A\n",
      " 51%|█████     | 500/987 [01:47<02:03,  3.95it/s]"
     ]
    },
    {
     "name": "stdout",
     "output_type": "stream",
     "text": [
      "当前查询次数284\n",
      "average: 0.7\n"
     ]
    },
    {
     "name": "stderr",
     "output_type": "stream",
     "text": [
      "\n",
      "Processed prompts: 100%|██████████| 1/1 [00:00<00:00, 16.41it/s]\n",
      "\n",
      "Processed prompts:   0%|          | 0/5 [00:00<?, ?it/s]\u001b[A\n",
      "Processed prompts: 100%|██████████| 5/5 [00:00<00:00, 23.60it/s]\u001b[A\n",
      " 51%|█████     | 501/987 [01:47<02:07,  3.81it/s]"
     ]
    },
    {
     "name": "stdout",
     "output_type": "stream",
     "text": [
      "当前查询次数285\n"
     ]
    },
    {
     "name": "stderr",
     "output_type": "stream",
     "text": [
      "\n",
      "Processed prompts: 100%|██████████| 1/1 [00:00<00:00, 16.44it/s]\n",
      "\n",
      "Processed prompts:   0%|          | 0/5 [00:00<?, ?it/s]\u001b[A\n",
      "Processed prompts: 100%|██████████| 5/5 [00:00<00:00, 23.67it/s]\u001b[A\n",
      " 51%|█████     | 502/987 [01:48<02:10,  3.72it/s]"
     ]
    },
    {
     "name": "stdout",
     "output_type": "stream",
     "text": [
      "当前查询次数286\n"
     ]
    },
    {
     "name": "stderr",
     "output_type": "stream",
     "text": [
      "\n",
      "Processed prompts: 100%|██████████| 1/1 [00:00<00:00, 16.42it/s]\n",
      "\n",
      "Processed prompts: 100%|██████████| 1/1 [00:00<00:00, 19.38it/s]\n",
      " 51%|█████     | 503/987 [01:48<01:48,  4.46it/s]\n",
      "Processed prompts: 100%|██████████| 1/1 [00:00<00:00, 16.60it/s]\n",
      "\n",
      "Processed prompts: 100%|██████████| 1/1 [00:00<00:00, 19.42it/s]\n",
      " 51%|█████     | 504/987 [01:48<01:32,  5.19it/s]\n",
      "Processed prompts: 100%|██████████| 1/1 [00:00<00:00, 16.64it/s]\n",
      "\n",
      "Processed prompts:   0%|          | 0/5 [00:00<?, ?it/s]\u001b[A\n",
      "Processed prompts: 100%|██████████| 5/5 [00:00<00:00, 23.90it/s]\u001b[A\n",
      " 51%|█████     | 505/987 [01:48<01:45,  4.57it/s]"
     ]
    },
    {
     "name": "stdout",
     "output_type": "stream",
     "text": [
      "当前查询次数287\n"
     ]
    },
    {
     "name": "stderr",
     "output_type": "stream",
     "text": [
      "\n",
      "Processed prompts: 100%|██████████| 1/1 [00:00<00:00, 16.54it/s]\n",
      "\n",
      "Processed prompts: 100%|██████████| 1/1 [00:00<00:00, 19.38it/s]\n",
      " 51%|█████▏    | 506/987 [01:48<01:30,  5.29it/s]\n",
      "Processed prompts: 100%|██████████| 1/1 [00:00<00:00, 16.63it/s]\n",
      "\n",
      "Processed prompts:   0%|          | 0/5 [00:00<?, ?it/s]\u001b[A\n",
      "Processed prompts: 100%|██████████| 5/5 [00:00<00:00, 20.69it/s]\u001b[A\n",
      " 51%|█████▏    | 507/987 [01:49<01:48,  4.42it/s]"
     ]
    },
    {
     "name": "stdout",
     "output_type": "stream",
     "text": [
      "当前查询次数288\n"
     ]
    },
    {
     "name": "stderr",
     "output_type": "stream",
     "text": [
      "\n",
      "Processed prompts: 100%|██████████| 1/1 [00:00<00:00, 16.45it/s]\n",
      "\n",
      "Processed prompts:   0%|          | 0/5 [00:00<?, ?it/s]\u001b[A\n",
      "Processed prompts: 100%|██████████| 5/5 [00:00<00:00, 21.28it/s]\u001b[A\n",
      " 51%|█████▏    | 508/987 [01:49<01:59,  3.99it/s]"
     ]
    },
    {
     "name": "stdout",
     "output_type": "stream",
     "text": [
      "当前查询次数289\n"
     ]
    },
    {
     "name": "stderr",
     "output_type": "stream",
     "text": [
      "\n",
      "Processed prompts: 100%|██████████| 1/1 [00:00<00:00, 16.45it/s]\n",
      "\n",
      "Processed prompts: 100%|██████████| 1/1 [00:00<00:00, 19.29it/s]\n",
      " 52%|█████▏    | 509/987 [01:49<01:40,  4.74it/s]\n",
      "Processed prompts: 100%|██████████| 1/1 [00:00<00:00, 16.57it/s]\n",
      "\n",
      "Processed prompts: 100%|██████████| 1/1 [00:00<00:00, 19.43it/s]\n",
      " 52%|█████▏    | 510/987 [01:49<01:27,  5.45it/s]"
     ]
    },
    {
     "name": "stdout",
     "output_type": "stream",
     "text": [
      "average: 0.6\n"
     ]
    },
    {
     "name": "stderr",
     "output_type": "stream",
     "text": [
      "\n",
      "Processed prompts: 100%|██████████| 1/1 [00:00<00:00, 16.55it/s]\n",
      "\n",
      "Processed prompts:   0%|          | 0/5 [00:00<?, ?it/s]\u001b[A\n",
      "Processed prompts: 100%|██████████| 5/5 [00:00<00:00, 23.59it/s]\u001b[A\n",
      " 52%|█████▏    | 511/987 [01:49<01:41,  4.68it/s]"
     ]
    },
    {
     "name": "stdout",
     "output_type": "stream",
     "text": [
      "当前查询次数290\n"
     ]
    },
    {
     "name": "stderr",
     "output_type": "stream",
     "text": [
      "\n",
      "Processed prompts:   0%|          | 0/1 [00:00<?, ?it/s]\u001b[A\n",
      "Processed prompts: 100%|██████████| 1/1 [00:00<00:00,  6.58it/s]\u001b[A\n",
      "\n",
      "Processed prompts: 100%|██████████| 1/1 [00:00<00:00, 19.65it/s]\n",
      " 52%|█████▏    | 512/987 [01:50<01:41,  4.69it/s]\n",
      "Processed prompts: 100%|██████████| 1/1 [00:00<00:00, 16.76it/s]\n",
      "\n",
      "Processed prompts: 100%|██████████| 1/1 [00:00<00:00, 19.45it/s]\n",
      " 52%|█████▏    | 513/987 [01:50<01:27,  5.41it/s]\n",
      "Processed prompts: 100%|██████████| 1/1 [00:00<00:00, 16.69it/s]\n",
      "\n",
      "Processed prompts:   0%|          | 0/5 [00:00<?, ?it/s]\u001b[A\n",
      "Processed prompts: 100%|██████████| 5/5 [00:00<00:00, 23.94it/s]\u001b[A\n",
      " 52%|█████▏    | 514/987 [01:50<01:40,  4.69it/s]"
     ]
    },
    {
     "name": "stdout",
     "output_type": "stream",
     "text": [
      "当前查询次数291\n"
     ]
    },
    {
     "name": "stderr",
     "output_type": "stream",
     "text": [
      "\n",
      "Processed prompts: 100%|██████████| 1/1 [00:00<00:00, 16.38it/s]\n",
      "\n",
      "Processed prompts: 100%|██████████| 1/1 [00:00<00:00, 19.40it/s]\n",
      " 52%|█████▏    | 515/987 [01:50<01:27,  5.38it/s]\n",
      "Processed prompts: 100%|██████████| 1/1 [00:00<00:00, 16.37it/s]\n",
      "\n",
      "Processed prompts: 100%|██████████| 1/1 [00:00<00:00, 19.28it/s]\n",
      " 52%|█████▏    | 516/987 [01:50<01:18,  6.01it/s]\n",
      "Processed prompts: 100%|██████████| 1/1 [00:00<00:00, 16.63it/s]\n",
      "\n",
      "Processed prompts:   0%|          | 0/5 [00:00<?, ?it/s]\u001b[A\n",
      "Processed prompts: 100%|██████████| 5/5 [00:00<00:00, 23.36it/s]\u001b[A\n",
      " 52%|█████▏    | 517/987 [01:51<01:35,  4.95it/s]"
     ]
    },
    {
     "name": "stdout",
     "output_type": "stream",
     "text": [
      "当前查询次数292\n"
     ]
    },
    {
     "name": "stderr",
     "output_type": "stream",
     "text": [
      "\n",
      "Processed prompts: 100%|██████████| 1/1 [00:00<00:00, 16.26it/s]\n",
      "\n",
      "Processed prompts:   0%|          | 0/5 [00:00<?, ?it/s]\u001b[A\n",
      "Processed prompts: 100%|██████████| 5/5 [00:00<00:00, 20.96it/s]\u001b[A\n",
      " 52%|█████▏    | 518/987 [01:51<01:50,  4.25it/s]"
     ]
    },
    {
     "name": "stdout",
     "output_type": "stream",
     "text": [
      "当前查询次数293\n"
     ]
    },
    {
     "name": "stderr",
     "output_type": "stream",
     "text": [
      "\n",
      "Processed prompts: 100%|██████████| 1/1 [00:00<00:00, 16.29it/s]\n",
      "\n",
      "Processed prompts:   0%|          | 0/5 [00:00<?, ?it/s]\u001b[A\n",
      "Processed prompts: 100%|██████████| 5/5 [00:00<00:00, 23.01it/s]\u001b[A\n",
      " 53%|█████▎    | 519/987 [01:51<01:57,  3.97it/s]"
     ]
    },
    {
     "name": "stdout",
     "output_type": "stream",
     "text": [
      "当前查询次数294\n"
     ]
    },
    {
     "name": "stderr",
     "output_type": "stream",
     "text": [
      "\n",
      "Processed prompts: 100%|██████████| 1/1 [00:00<00:00, 16.40it/s]\n",
      "\n",
      "Processed prompts:   0%|          | 0/5 [00:00<?, ?it/s]\u001b[A\n",
      "Processed prompts: 100%|██████████| 5/5 [00:00<00:00, 25.79it/s]\u001b[A\n",
      " 53%|█████▎    | 520/987 [01:51<01:59,  3.90it/s]"
     ]
    },
    {
     "name": "stdout",
     "output_type": "stream",
     "text": [
      "当前查询次数295\n",
      "average: 0.9\n"
     ]
    },
    {
     "name": "stderr",
     "output_type": "stream",
     "text": [
      "\n",
      "Processed prompts: 100%|██████████| 1/1 [00:00<00:00, 16.29it/s]\n",
      "\n",
      "Processed prompts: 100%|██████████| 1/1 [00:00<00:00, 18.64it/s]\n",
      " 53%|█████▎    | 521/987 [01:52<01:40,  4.62it/s]\n",
      "Processed prompts: 100%|██████████| 1/1 [00:00<00:00, 16.60it/s]\n",
      "\n",
      "Processed prompts: 100%|██████████| 1/1 [00:00<00:00, 19.36it/s]\n",
      " 53%|█████▎    | 522/987 [01:52<01:27,  5.32it/s]\n",
      "Processed prompts: 100%|██████████| 1/1 [00:00<00:00, 16.04it/s]\n",
      "\n",
      "Processed prompts: 100%|██████████| 1/1 [00:00<00:00, 19.03it/s]\n",
      " 53%|█████▎    | 523/987 [01:52<01:18,  5.93it/s]\n",
      "Processed prompts: 100%|██████████| 1/1 [00:00<00:00, 16.31it/s]\n",
      "\n",
      "Processed prompts: 100%|██████████| 1/1 [00:00<00:00, 19.26it/s]\n",
      " 53%|█████▎    | 524/987 [01:52<01:11,  6.47it/s]\n",
      "Processed prompts: 100%|██████████| 1/1 [00:00<00:00, 15.99it/s]\n",
      "\n",
      "Processed prompts: 100%|██████████| 1/1 [00:00<00:00, 18.66it/s]\n",
      " 53%|█████▎    | 525/987 [01:52<01:07,  6.87it/s]\n",
      "Processed prompts: 100%|██████████| 1/1 [00:00<00:00, 16.45it/s]\n",
      "\n",
      "Processed prompts: 100%|██████████| 1/1 [00:00<00:00, 19.21it/s]\n",
      " 53%|█████▎    | 526/987 [01:52<01:03,  7.24it/s]\n",
      "Processed prompts: 100%|██████████| 1/1 [00:00<00:00, 16.19it/s]\n",
      "\n",
      "Processed prompts: 100%|██████████| 1/1 [00:00<00:00, 19.31it/s]\n",
      " 53%|█████▎    | 527/987 [01:52<01:01,  7.50it/s]\n",
      "Processed prompts: 100%|██████████| 1/1 [00:00<00:00, 16.13it/s]\n",
      "\n",
      "Processed prompts:   0%|          | 0/5 [00:00<?, ?it/s]\u001b[A\n",
      "Processed prompts: 100%|██████████| 5/5 [00:00<00:00, 23.38it/s]\u001b[A\n",
      " 53%|█████▎    | 528/987 [01:53<01:22,  5.57it/s]"
     ]
    },
    {
     "name": "stdout",
     "output_type": "stream",
     "text": [
      "当前查询次数296\n"
     ]
    },
    {
     "name": "stderr",
     "output_type": "stream",
     "text": [
      "\n",
      "Processed prompts: 100%|██████████| 1/1 [00:00<00:00, 16.17it/s]\n",
      "\n",
      "Processed prompts: 100%|██████████| 1/1 [00:00<00:00, 19.23it/s]\n",
      " 54%|█████▎    | 529/987 [01:53<01:14,  6.16it/s]\n",
      "Processed prompts: 100%|██████████| 1/1 [00:00<00:00, 16.59it/s]\n",
      "\n",
      "Processed prompts:   0%|          | 0/5 [00:00<?, ?it/s]\u001b[A\n",
      "Processed prompts: 100%|██████████| 5/5 [00:00<00:00, 23.32it/s]\u001b[A\n",
      " 54%|█████▎    | 530/987 [01:53<01:31,  5.01it/s]"
     ]
    },
    {
     "name": "stdout",
     "output_type": "stream",
     "text": [
      "当前查询次数297\n",
      "average: 0.5\n"
     ]
    },
    {
     "name": "stderr",
     "output_type": "stream",
     "text": [
      "\n",
      "Processed prompts: 100%|██████████| 1/1 [00:00<00:00, 16.52it/s]\n",
      "\n",
      "Processed prompts: 100%|██████████| 1/1 [00:00<00:00, 19.34it/s]\n",
      " 54%|█████▍    | 531/987 [01:53<01:20,  5.68it/s]\n",
      "Processed prompts: 100%|██████████| 1/1 [00:00<00:00, 16.35it/s]\n",
      "\n",
      "Processed prompts:   0%|          | 0/5 [00:00<?, ?it/s]\u001b[A\n",
      "Processed prompts: 100%|██████████| 5/5 [00:00<00:00, 25.77it/s]\u001b[A\n",
      " 54%|█████▍    | 532/987 [01:53<01:32,  4.93it/s]"
     ]
    },
    {
     "name": "stdout",
     "output_type": "stream",
     "text": [
      "当前查询次数298\n"
     ]
    },
    {
     "name": "stderr",
     "output_type": "stream",
     "text": [
      "\n",
      "Processed prompts: 100%|██████████| 1/1 [00:00<00:00, 16.39it/s]\n",
      "\n",
      "Processed prompts: 100%|██████████| 1/1 [00:00<00:00, 19.42it/s]\n",
      " 54%|█████▍    | 533/987 [01:54<01:20,  5.61it/s]\n",
      "Processed prompts: 100%|██████████| 1/1 [00:00<00:00, 16.50it/s]\n",
      "\n",
      "Processed prompts:   0%|          | 0/5 [00:00<?, ?it/s]\u001b[A\n",
      "Processed prompts: 100%|██████████| 5/5 [00:00<00:00, 23.21it/s]\u001b[A\n",
      " 54%|█████▍    | 534/987 [01:54<01:35,  4.74it/s]"
     ]
    },
    {
     "name": "stdout",
     "output_type": "stream",
     "text": [
      "当前查询次数299\n"
     ]
    },
    {
     "name": "stderr",
     "output_type": "stream",
     "text": [
      "\n",
      "Processed prompts: 100%|██████████| 1/1 [00:00<00:00, 16.43it/s]\n",
      "\n",
      "Processed prompts: 100%|██████████| 1/1 [00:00<00:00, 19.41it/s]\n",
      " 54%|█████▍    | 535/987 [01:54<01:23,  5.45it/s]\n",
      "Processed prompts: 100%|██████████| 1/1 [00:00<00:00, 15.81it/s]\n",
      "\n",
      "Processed prompts: 100%|██████████| 1/1 [00:00<00:00, 18.99it/s]\n",
      " 54%|█████▍    | 536/987 [01:54<01:14,  6.05it/s]\n",
      "Processed prompts: 100%|██████████| 1/1 [00:00<00:00, 16.48it/s]\n",
      "\n",
      "Processed prompts:   0%|          | 0/5 [00:00<?, ?it/s]\u001b[A\n",
      "Processed prompts: 100%|██████████| 5/5 [00:00<00:00, 23.73it/s]\u001b[A\n",
      " 54%|█████▍    | 537/987 [01:54<01:30,  4.99it/s]"
     ]
    },
    {
     "name": "stdout",
     "output_type": "stream",
     "text": [
      "当前查询次数300\n"
     ]
    },
    {
     "name": "stderr",
     "output_type": "stream",
     "text": [
      "\n",
      "Processed prompts: 100%|██████████| 1/1 [00:00<00:00, 16.47it/s]\n",
      "\n",
      "Processed prompts:   0%|          | 0/5 [00:00<?, ?it/s]\u001b[A\n",
      "Processed prompts: 100%|██████████| 5/5 [00:00<00:00, 21.32it/s]\u001b[A\n",
      " 55%|█████▍    | 538/987 [01:55<01:44,  4.31it/s]"
     ]
    },
    {
     "name": "stdout",
     "output_type": "stream",
     "text": [
      "当前查询次数301\n"
     ]
    },
    {
     "name": "stderr",
     "output_type": "stream",
     "text": [
      "\n",
      "Processed prompts: 100%|██████████| 1/1 [00:00<00:00, 16.47it/s]\n",
      "\n",
      "Processed prompts: 100%|██████████| 1/1 [00:00<00:00, 19.08it/s]\n",
      " 55%|█████▍    | 539/987 [01:55<01:28,  5.04it/s]\n",
      "Processed prompts: 100%|██████████| 1/1 [00:00<00:00, 16.46it/s]\n",
      "\n",
      "Processed prompts:   0%|          | 0/5 [00:00<?, ?it/s]\u001b[A\n",
      "Processed prompts: 100%|██████████| 5/5 [00:00<00:00, 21.35it/s]\u001b[A\n",
      " 55%|█████▍    | 540/987 [01:55<01:43,  4.34it/s]"
     ]
    },
    {
     "name": "stdout",
     "output_type": "stream",
     "text": [
      "当前查询次数302\n",
      "average: 0.7\n"
     ]
    },
    {
     "name": "stderr",
     "output_type": "stream",
     "text": [
      "\n",
      "Processed prompts: 100%|██████████| 1/1 [00:00<00:00, 16.50it/s]\n",
      "\n",
      "Processed prompts: 100%|██████████| 1/1 [00:00<00:00, 19.40it/s]\n",
      " 55%|█████▍    | 541/987 [01:55<01:27,  5.07it/s]\n",
      "Processed prompts: 100%|██████████| 1/1 [00:00<00:00, 16.50it/s]\n",
      "\n",
      "Processed prompts:   0%|          | 0/5 [00:00<?, ?it/s]\u001b[A\n",
      "Processed prompts: 100%|██████████| 5/5 [00:00<00:00, 21.63it/s]\u001b[A\n",
      " 55%|█████▍    | 542/987 [01:55<01:41,  4.37it/s]"
     ]
    },
    {
     "name": "stdout",
     "output_type": "stream",
     "text": [
      "当前查询次数303\n"
     ]
    },
    {
     "name": "stderr",
     "output_type": "stream",
     "text": [
      "\n",
      "Processed prompts: 100%|██████████| 1/1 [00:00<00:00, 16.42it/s]\n",
      "\n",
      "Processed prompts:   0%|          | 0/5 [00:00<?, ?it/s]\u001b[A\n",
      "Processed prompts: 100%|██████████| 5/5 [00:00<00:00, 23.75it/s]\u001b[A\n",
      " 55%|█████▌    | 543/987 [01:56<01:48,  4.09it/s]"
     ]
    },
    {
     "name": "stdout",
     "output_type": "stream",
     "text": [
      "当前查询次数304\n"
     ]
    },
    {
     "name": "stderr",
     "output_type": "stream",
     "text": [
      "\n",
      "Processed prompts: 100%|██████████| 1/1 [00:00<00:00, 16.45it/s]\n",
      "\n",
      "Processed prompts: 100%|██████████| 1/1 [00:00<00:00, 19.36it/s]\n",
      " 55%|█████▌    | 544/987 [01:56<01:31,  4.83it/s]\n",
      "Processed prompts: 100%|██████████| 1/1 [00:00<00:00, 16.66it/s]\n",
      "\n",
      "Processed prompts:   0%|          | 0/5 [00:00<?, ?it/s]\u001b[A\n",
      "Processed prompts: 100%|██████████| 5/5 [00:00<00:00, 23.99it/s]\u001b[A\n",
      " 55%|█████▌    | 545/987 [01:56<01:41,  4.37it/s]"
     ]
    },
    {
     "name": "stdout",
     "output_type": "stream",
     "text": [
      "当前查询次数305\n"
     ]
    },
    {
     "name": "stderr",
     "output_type": "stream",
     "text": [
      "\n",
      "Processed prompts: 100%|██████████| 1/1 [00:00<00:00, 16.50it/s]\n",
      "\n",
      "Processed prompts: 100%|██████████| 1/1 [00:00<00:00, 19.24it/s]\n",
      " 55%|█████▌    | 546/987 [01:56<01:26,  5.10it/s]\n",
      "Processed prompts: 100%|██████████| 1/1 [00:00<00:00, 16.20it/s]\n",
      "\n",
      "Processed prompts:   0%|          | 0/5 [00:00<?, ?it/s]\u001b[A\n",
      "Processed prompts: 100%|██████████| 5/5 [00:00<00:00, 25.61it/s]\u001b[A\n",
      " 55%|█████▌    | 547/987 [01:57<01:35,  4.60it/s]"
     ]
    },
    {
     "name": "stdout",
     "output_type": "stream",
     "text": [
      "当前查询次数306\n"
     ]
    },
    {
     "name": "stderr",
     "output_type": "stream",
     "text": [
      "\n",
      "Processed prompts: 100%|██████████| 1/1 [00:00<00:00, 16.10it/s]\n",
      "\n",
      "Processed prompts: 100%|██████████| 1/1 [00:00<00:00, 19.25it/s]\n",
      " 56%|█████▌    | 548/987 [01:57<01:22,  5.29it/s]\n",
      "Processed prompts: 100%|██████████| 1/1 [00:00<00:00, 16.63it/s]\n",
      "\n",
      "Processed prompts:   0%|          | 0/5 [00:00<?, ?it/s]\u001b[A\n",
      "Processed prompts: 100%|██████████| 5/5 [00:00<00:00, 23.75it/s]\u001b[A\n",
      " 56%|█████▌    | 549/987 [01:57<01:35,  4.61it/s]"
     ]
    },
    {
     "name": "stdout",
     "output_type": "stream",
     "text": [
      "当前查询次数307\n"
     ]
    },
    {
     "name": "stderr",
     "output_type": "stream",
     "text": [
      "\n",
      "Processed prompts: 100%|██████████| 1/1 [00:00<00:00, 16.51it/s]\n",
      "\n",
      "Processed prompts:   0%|          | 0/5 [00:00<?, ?it/s]\u001b[A\n",
      "Processed prompts: 100%|██████████| 5/5 [00:00<00:00, 23.96it/s]\u001b[A\n",
      " 56%|█████▌    | 550/987 [01:57<01:43,  4.23it/s]"
     ]
    },
    {
     "name": "stdout",
     "output_type": "stream",
     "text": [
      "当前查询次数308\n",
      "average: 0.6\n"
     ]
    },
    {
     "name": "stderr",
     "output_type": "stream",
     "text": [
      "\n",
      "Processed prompts: 100%|██████████| 1/1 [00:00<00:00, 16.32it/s]\n",
      "\n",
      "Processed prompts:   0%|          | 0/5 [00:00<?, ?it/s]\u001b[A\n",
      "Processed prompts: 100%|██████████| 5/5 [00:00<00:00, 25.60it/s]\u001b[A\n",
      " 56%|█████▌    | 551/987 [01:58<01:47,  4.06it/s]"
     ]
    },
    {
     "name": "stdout",
     "output_type": "stream",
     "text": [
      "当前查询次数309\n"
     ]
    },
    {
     "name": "stderr",
     "output_type": "stream",
     "text": [
      "\n",
      "Processed prompts: 100%|██████████| 1/1 [00:00<00:00, 16.32it/s]\n",
      "\n",
      "Processed prompts:   0%|          | 0/5 [00:00<?, ?it/s]\u001b[A\n",
      "Processed prompts: 100%|██████████| 5/5 [00:00<00:00, 23.42it/s]\u001b[A\n",
      " 56%|█████▌    | 552/987 [01:58<01:52,  3.87it/s]"
     ]
    },
    {
     "name": "stdout",
     "output_type": "stream",
     "text": [
      "当前查询次数310\n"
     ]
    },
    {
     "name": "stderr",
     "output_type": "stream",
     "text": [
      "\n",
      "Processed prompts: 100%|██████████| 1/1 [00:00<00:00, 16.42it/s]\n",
      "\n",
      "Processed prompts:   0%|          | 0/5 [00:00<?, ?it/s]\u001b[A\n",
      "Processed prompts: 100%|██████████| 5/5 [00:00<00:00, 25.69it/s]\u001b[A\n",
      " 56%|█████▌    | 553/987 [01:58<01:53,  3.83it/s]"
     ]
    },
    {
     "name": "stdout",
     "output_type": "stream",
     "text": [
      "当前查询次数311\n"
     ]
    },
    {
     "name": "stderr",
     "output_type": "stream",
     "text": [
      "\n",
      "Processed prompts: 100%|██████████| 1/1 [00:00<00:00, 16.38it/s]\n",
      "\n",
      "Processed prompts:   0%|          | 0/5 [00:00<?, ?it/s]\u001b[A\n",
      "Processed prompts: 100%|██████████| 5/5 [00:00<00:00, 25.56it/s]\u001b[A\n",
      " 56%|█████▌    | 554/987 [01:58<01:54,  3.80it/s]"
     ]
    },
    {
     "name": "stdout",
     "output_type": "stream",
     "text": [
      "当前查询次数312\n"
     ]
    },
    {
     "name": "stderr",
     "output_type": "stream",
     "text": [
      "\n",
      "Processed prompts: 100%|██████████| 1/1 [00:00<00:00, 16.36it/s]\n",
      "\n",
      "Processed prompts: 100%|██████████| 1/1 [00:00<00:00, 19.26it/s]\n",
      " 56%|█████▌    | 555/987 [01:58<01:35,  4.53it/s]\n",
      "Processed prompts: 100%|██████████| 1/1 [00:00<00:00, 16.45it/s]\n",
      "\n",
      "Processed prompts: 100%|██████████| 1/1 [00:00<00:00, 19.35it/s]\n",
      " 56%|█████▋    | 556/987 [01:59<01:22,  5.25it/s]\n",
      "Processed prompts: 100%|██████████| 1/1 [00:00<00:00, 16.72it/s]\n",
      "\n",
      "Processed prompts:   0%|          | 0/5 [00:00<?, ?it/s]\u001b[A\n",
      "Processed prompts: 100%|██████████| 5/5 [00:00<00:00, 23.65it/s]\u001b[A\n",
      " 56%|█████▋    | 557/987 [01:59<01:33,  4.58it/s]"
     ]
    },
    {
     "name": "stdout",
     "output_type": "stream",
     "text": [
      "当前查询次数313\n"
     ]
    },
    {
     "name": "stderr",
     "output_type": "stream",
     "text": [
      "\n",
      "Processed prompts: 100%|██████████| 1/1 [00:00<00:00, 16.14it/s]\n",
      "\n",
      "Processed prompts: 100%|██████████| 1/1 [00:00<00:00, 19.08it/s]\n",
      " 57%|█████▋    | 558/987 [01:59<01:21,  5.27it/s]\n",
      "Processed prompts: 100%|██████████| 1/1 [00:00<00:00, 16.62it/s]\n",
      "\n",
      "Processed prompts:   0%|          | 0/5 [00:00<?, ?it/s]\u001b[A\n",
      "Processed prompts: 100%|██████████| 5/5 [00:00<00:00, 23.64it/s]\u001b[A\n",
      " 57%|█████▋    | 559/987 [01:59<01:33,  4.60it/s]"
     ]
    },
    {
     "name": "stdout",
     "output_type": "stream",
     "text": [
      "当前查询次数314\n"
     ]
    },
    {
     "name": "stderr",
     "output_type": "stream",
     "text": [
      "\n",
      "Processed prompts: 100%|██████████| 1/1 [00:00<00:00, 16.40it/s]\n",
      "\n",
      "Processed prompts: 100%|██████████| 1/1 [00:00<00:00, 19.18it/s]\n",
      " 57%|█████▋    | 560/987 [01:59<01:20,  5.30it/s]"
     ]
    },
    {
     "name": "stdout",
     "output_type": "stream",
     "text": [
      "average: 0.8\n"
     ]
    },
    {
     "name": "stderr",
     "output_type": "stream",
     "text": [
      "\n",
      "Processed prompts: 100%|██████████| 1/1 [00:00<00:00, 16.75it/s]\n",
      "\n",
      "Processed prompts:   0%|          | 0/5 [00:00<?, ?it/s]\u001b[A\n",
      "Processed prompts: 100%|██████████| 5/5 [00:00<00:00, 20.51it/s]\u001b[A\n",
      " 57%|█████▋    | 561/987 [02:00<01:36,  4.41it/s]"
     ]
    },
    {
     "name": "stdout",
     "output_type": "stream",
     "text": [
      "当前查询次数315\n"
     ]
    },
    {
     "name": "stderr",
     "output_type": "stream",
     "text": [
      "\n",
      "Processed prompts: 100%|██████████| 1/1 [00:00<00:00, 16.46it/s]\n",
      "\n",
      "Processed prompts: 100%|██████████| 1/1 [00:00<00:00, 19.27it/s]\n",
      " 57%|█████▋    | 562/987 [02:00<01:22,  5.14it/s]\n",
      "Processed prompts: 100%|██████████| 1/1 [00:00<00:00, 16.73it/s]\n",
      "\n",
      "Processed prompts:   0%|          | 0/5 [00:00<?, ?it/s]\u001b[A\n",
      "Processed prompts: 100%|██████████| 5/5 [00:00<00:00, 23.49it/s]\u001b[A\n",
      " 57%|█████▋    | 563/987 [02:00<01:33,  4.52it/s]"
     ]
    },
    {
     "name": "stdout",
     "output_type": "stream",
     "text": [
      "当前查询次数316\n"
     ]
    },
    {
     "name": "stderr",
     "output_type": "stream",
     "text": [
      "\n",
      "Processed prompts: 100%|██████████| 1/1 [00:00<00:00, 16.56it/s]\n",
      "\n",
      "Processed prompts: 100%|██████████| 1/1 [00:00<00:00, 19.42it/s]\n",
      " 57%|█████▋    | 564/987 [02:00<01:20,  5.24it/s]\n",
      "Processed prompts: 100%|██████████| 1/1 [00:00<00:00, 16.63it/s]\n",
      "\n",
      "Processed prompts:   0%|          | 0/5 [00:00<?, ?it/s]\u001b[A\n",
      "Processed prompts: 100%|██████████| 5/5 [00:00<00:00, 23.37it/s]\u001b[A\n",
      " 57%|█████▋    | 565/987 [02:01<01:32,  4.56it/s]"
     ]
    },
    {
     "name": "stdout",
     "output_type": "stream",
     "text": [
      "当前查询次数317\n"
     ]
    },
    {
     "name": "stderr",
     "output_type": "stream",
     "text": [
      "\n",
      "Processed prompts: 100%|██████████| 1/1 [00:00<00:00, 15.64it/s]\n",
      "\n",
      "Processed prompts: 100%|██████████| 1/1 [00:00<00:00, 19.61it/s]\n",
      " 57%|█████▋    | 566/987 [02:01<01:20,  5.25it/s]\n",
      "Processed prompts: 100%|██████████| 1/1 [00:00<00:00, 16.74it/s]\n",
      "\n",
      "Processed prompts:   0%|          | 0/5 [00:00<?, ?it/s]\u001b[A\n",
      "Processed prompts: 100%|██████████| 5/5 [00:00<00:00, 23.73it/s]\u001b[A\n",
      " 57%|█████▋    | 567/987 [02:01<01:31,  4.59it/s]"
     ]
    },
    {
     "name": "stdout",
     "output_type": "stream",
     "text": [
      "当前查询次数318\n"
     ]
    },
    {
     "name": "stderr",
     "output_type": "stream",
     "text": [
      "\n",
      "Processed prompts: 100%|██████████| 1/1 [00:00<00:00, 16.38it/s]\n",
      "\n",
      "Processed prompts:   0%|          | 0/5 [00:00<?, ?it/s]\u001b[A\n",
      "Processed prompts: 100%|██████████| 5/5 [00:00<00:00, 21.37it/s]\u001b[A\n",
      " 58%|█████▊    | 568/987 [02:01<01:42,  4.09it/s]"
     ]
    },
    {
     "name": "stdout",
     "output_type": "stream",
     "text": [
      "当前查询次数319\n"
     ]
    },
    {
     "name": "stderr",
     "output_type": "stream",
     "text": [
      "\n",
      "Processed prompts: 100%|██████████| 1/1 [00:00<00:00, 16.45it/s]\n",
      "\n",
      "Processed prompts: 100%|██████████| 1/1 [00:00<00:00, 19.34it/s]\n",
      " 58%|█████▊    | 569/987 [02:01<01:26,  4.82it/s]\n",
      "Processed prompts: 100%|██████████| 1/1 [00:00<00:00, 16.61it/s]\n",
      "\n",
      "Processed prompts:   0%|          | 0/5 [00:00<?, ?it/s]\u001b[A\n",
      "Processed prompts: 100%|██████████| 5/5 [00:00<00:00, 23.44it/s]\u001b[A\n",
      " 58%|█████▊    | 570/987 [02:02<01:36,  4.33it/s]"
     ]
    },
    {
     "name": "stdout",
     "output_type": "stream",
     "text": [
      "当前查询次数320\n",
      "average: 0.5\n"
     ]
    },
    {
     "name": "stderr",
     "output_type": "stream",
     "text": [
      "\n",
      "Processed prompts: 100%|██████████| 1/1 [00:00<00:00, 16.47it/s]\n",
      "\n",
      "Processed prompts:   0%|          | 0/5 [00:00<?, ?it/s]\u001b[A\n",
      "Processed prompts: 100%|██████████| 5/5 [00:00<00:00, 23.77it/s]\u001b[A\n",
      " 58%|█████▊    | 571/987 [02:02<01:42,  4.05it/s]"
     ]
    },
    {
     "name": "stdout",
     "output_type": "stream",
     "text": [
      "当前查询次数321\n"
     ]
    },
    {
     "name": "stderr",
     "output_type": "stream",
     "text": [
      "\n",
      "Processed prompts: 100%|██████████| 1/1 [00:00<00:00, 16.31it/s]\n",
      "\n",
      "Processed prompts:   0%|          | 0/5 [00:00<?, ?it/s]\u001b[A\n",
      "Processed prompts: 100%|██████████| 5/5 [00:00<00:00, 21.33it/s]\u001b[A\n",
      " 58%|█████▊    | 572/987 [02:02<01:49,  3.78it/s]"
     ]
    },
    {
     "name": "stdout",
     "output_type": "stream",
     "text": [
      "当前查询次数322\n"
     ]
    },
    {
     "name": "stderr",
     "output_type": "stream",
     "text": [
      "\n",
      "Processed prompts: 100%|██████████| 1/1 [00:00<00:00, 16.04it/s]\n",
      "\n",
      "Processed prompts: 100%|██████████| 1/1 [00:00<00:00, 19.26it/s]\n",
      " 58%|█████▊    | 573/987 [02:02<01:31,  4.51it/s]\n",
      "Processed prompts: 100%|██████████| 1/1 [00:00<00:00, 16.77it/s]\n",
      "\n",
      "Processed prompts: 100%|██████████| 1/1 [00:00<00:00, 19.59it/s]\n",
      " 58%|█████▊    | 574/987 [02:02<01:18,  5.25it/s]\n",
      "Processed prompts: 100%|██████████| 1/1 [00:00<00:00, 16.53it/s]\n",
      "\n",
      "Processed prompts:   0%|          | 0/5 [00:00<?, ?it/s]\u001b[A\n",
      "Processed prompts: 100%|██████████| 5/5 [00:00<00:00, 22.29it/s]\u001b[A\n",
      " 58%|█████▊    | 575/987 [02:03<01:31,  4.50it/s]"
     ]
    },
    {
     "name": "stdout",
     "output_type": "stream",
     "text": [
      "当前查询次数323\n"
     ]
    },
    {
     "name": "stderr",
     "output_type": "stream",
     "text": [
      "\n",
      "Processed prompts: 100%|██████████| 1/1 [00:00<00:00, 15.88it/s]\n",
      "\n",
      "Processed prompts: 100%|██████████| 1/1 [00:00<00:00, 19.09it/s]\n",
      " 58%|█████▊    | 576/987 [02:03<01:18,  5.20it/s]\n",
      "Processed prompts: 100%|██████████| 1/1 [00:00<00:00, 16.67it/s]\n",
      "\n",
      "Processed prompts:   0%|          | 0/5 [00:00<?, ?it/s]\u001b[A\n",
      "Processed prompts: 100%|██████████| 5/5 [00:00<00:00, 25.67it/s]\u001b[A\n",
      " 58%|█████▊    | 577/987 [02:03<01:27,  4.67it/s]"
     ]
    },
    {
     "name": "stdout",
     "output_type": "stream",
     "text": [
      "当前查询次数324\n"
     ]
    },
    {
     "name": "stderr",
     "output_type": "stream",
     "text": [
      "\n",
      "Processed prompts: 100%|██████████| 1/1 [00:00<00:00, 16.38it/s]\n",
      "\n",
      "Processed prompts: 100%|██████████| 1/1 [00:00<00:00, 19.19it/s]\n",
      " 59%|█████▊    | 578/987 [02:03<01:16,  5.38it/s]\n",
      "Processed prompts: 100%|██████████| 1/1 [00:00<00:00, 16.48it/s]\n",
      "\n",
      "Processed prompts: 100%|██████████| 1/1 [00:00<00:00, 19.43it/s]\n",
      " 59%|█████▊    | 579/987 [02:03<01:07,  6.03it/s]\n",
      "Processed prompts: 100%|██████████| 1/1 [00:00<00:00, 16.54it/s]\n",
      "\n",
      "Processed prompts:   0%|          | 0/5 [00:00<?, ?it/s]\u001b[A\n",
      "Processed prompts: 100%|██████████| 5/5 [00:00<00:00, 22.22it/s]\u001b[A\n",
      " 59%|█████▉    | 580/987 [02:04<01:23,  4.88it/s]"
     ]
    },
    {
     "name": "stdout",
     "output_type": "stream",
     "text": [
      "当前查询次数325\n",
      "average: 0.6\n"
     ]
    },
    {
     "name": "stderr",
     "output_type": "stream",
     "text": [
      "\n",
      "Processed prompts: 100%|██████████| 1/1 [00:00<00:00, 16.43it/s]\n",
      "\n",
      "Processed prompts:   0%|          | 0/5 [00:00<?, ?it/s]\u001b[A\n",
      "Processed prompts: 100%|██████████| 5/5 [00:00<00:00, 23.51it/s]\u001b[A\n",
      " 59%|█████▉    | 581/987 [02:04<01:33,  4.36it/s]"
     ]
    },
    {
     "name": "stdout",
     "output_type": "stream",
     "text": [
      "当前查询次数326\n"
     ]
    },
    {
     "name": "stderr",
     "output_type": "stream",
     "text": [
      "\n",
      "Processed prompts: 100%|██████████| 1/1 [00:00<00:00, 16.35it/s]\n",
      "\n",
      "Processed prompts: 100%|██████████| 1/1 [00:00<00:00, 19.33it/s]\n",
      " 59%|█████▉    | 582/987 [02:04<01:19,  5.09it/s]\n",
      "Processed prompts: 100%|██████████| 1/1 [00:00<00:00, 16.53it/s]\n",
      "\n",
      "Processed prompts:   0%|          | 0/5 [00:00<?, ?it/s]\u001b[A\n",
      "Processed prompts: 100%|██████████| 5/5 [00:00<00:00, 25.83it/s]\u001b[A\n",
      " 59%|█████▉    | 583/987 [02:04<01:27,  4.61it/s]"
     ]
    },
    {
     "name": "stdout",
     "output_type": "stream",
     "text": [
      "当前查询次数327\n"
     ]
    },
    {
     "name": "stderr",
     "output_type": "stream",
     "text": [
      "\n",
      "Processed prompts: 100%|██████████| 1/1 [00:00<00:00, 16.60it/s]\n",
      "\n",
      "Processed prompts: 100%|██████████| 1/1 [00:00<00:00, 19.53it/s]\n",
      " 59%|█████▉    | 584/987 [02:04<01:15,  5.33it/s]\n",
      "Processed prompts: 100%|██████████| 1/1 [00:00<00:00, 16.51it/s]\n",
      "\n",
      "Processed prompts: 100%|██████████| 1/1 [00:00<00:00, 19.60it/s]\n",
      " 59%|█████▉    | 585/987 [02:05<01:07,  5.99it/s]\n",
      "Processed prompts: 100%|██████████| 1/1 [00:00<00:00, 16.47it/s]\n",
      "\n",
      "Processed prompts: 100%|██████████| 1/1 [00:00<00:00, 19.39it/s]\n",
      " 59%|█████▉    | 586/987 [02:05<01:01,  6.54it/s]\n",
      "Processed prompts: 100%|██████████| 1/1 [00:00<00:00, 16.42it/s]\n",
      "\n",
      "Processed prompts:   0%|          | 0/5 [00:00<?, ?it/s]\u001b[A\n",
      "Processed prompts: 100%|██████████| 5/5 [00:00<00:00, 23.64it/s]\u001b[A\n",
      " 59%|█████▉    | 587/987 [02:05<01:16,  5.21it/s]"
     ]
    },
    {
     "name": "stdout",
     "output_type": "stream",
     "text": [
      "当前查询次数328\n"
     ]
    },
    {
     "name": "stderr",
     "output_type": "stream",
     "text": [
      "\n",
      "Processed prompts: 100%|██████████| 1/1 [00:00<00:00, 16.42it/s]\n",
      "\n",
      "Processed prompts: 100%|██████████| 1/1 [00:00<00:00, 19.23it/s]\n",
      " 60%|█████▉    | 588/987 [02:05<01:07,  5.87it/s]\n",
      "Processed prompts: 100%|██████████| 1/1 [00:00<00:00, 16.75it/s]\n",
      "\n",
      "Processed prompts: 100%|██████████| 1/1 [00:00<00:00, 19.43it/s]\n",
      " 60%|█████▉    | 589/987 [02:05<01:01,  6.46it/s]\n",
      "Processed prompts: 100%|██████████| 1/1 [00:00<00:00, 16.24it/s]\n",
      "\n",
      "Processed prompts:   0%|          | 0/5 [00:00<?, ?it/s]\u001b[A\n",
      "Processed prompts: 100%|██████████| 5/5 [00:00<00:00, 22.94it/s]\u001b[A\n",
      " 60%|█████▉    | 590/987 [02:06<01:17,  5.11it/s]"
     ]
    },
    {
     "name": "stdout",
     "output_type": "stream",
     "text": [
      "当前查询次数329\n",
      "average: 0.7\n"
     ]
    },
    {
     "name": "stderr",
     "output_type": "stream",
     "text": [
      "\n",
      "Processed prompts: 100%|██████████| 1/1 [00:00<00:00, 16.40it/s]\n",
      "\n",
      "Processed prompts:   0%|          | 0/5 [00:00<?, ?it/s]\u001b[A\n",
      "Processed prompts: 100%|██████████| 5/5 [00:00<00:00, 21.33it/s]\u001b[A\n",
      " 60%|█████▉    | 591/987 [02:06<01:30,  4.37it/s]"
     ]
    },
    {
     "name": "stdout",
     "output_type": "stream",
     "text": [
      "当前查询次数330\n"
     ]
    },
    {
     "name": "stderr",
     "output_type": "stream",
     "text": [
      "\n",
      "Processed prompts: 100%|██████████| 1/1 [00:00<00:00, 16.57it/s]\n",
      "\n",
      "Processed prompts: 100%|██████████| 1/1 [00:00<00:00, 19.53it/s]\n",
      " 60%|█████▉    | 592/987 [02:06<01:17,  5.11it/s]\n",
      "Processed prompts: 100%|██████████| 1/1 [00:00<00:00, 16.63it/s]\n",
      "\n",
      "Processed prompts: 100%|██████████| 1/1 [00:00<00:00, 19.33it/s]\n",
      " 60%|██████    | 593/987 [02:06<01:08,  5.79it/s]\n",
      "Processed prompts: 100%|██████████| 1/1 [00:00<00:00, 16.20it/s]\n",
      "\n",
      "Processed prompts: 100%|██████████| 1/1 [00:00<00:00, 19.11it/s]\n",
      " 60%|██████    | 594/987 [02:06<01:01,  6.36it/s]\n",
      "Processed prompts: 100%|██████████| 1/1 [00:00<00:00, 16.42it/s]\n",
      "\n",
      "Processed prompts: 100%|██████████| 1/1 [00:00<00:00, 19.32it/s]\n",
      " 60%|██████    | 595/987 [02:06<00:57,  6.84it/s]\n",
      "Processed prompts: 100%|██████████| 1/1 [00:00<00:00, 16.43it/s]\n",
      "\n",
      "Processed prompts: 100%|██████████| 1/1 [00:00<00:00, 19.45it/s]\n",
      " 60%|██████    | 596/987 [02:06<00:54,  7.24it/s]\n",
      "Processed prompts: 100%|██████████| 1/1 [00:00<00:00, 16.65it/s]\n",
      "\n",
      "Processed prompts:   0%|          | 0/5 [00:00<?, ?it/s]\u001b[A\n",
      "Processed prompts: 100%|██████████| 5/5 [00:00<00:00, 21.23it/s]\u001b[A\n",
      " 60%|██████    | 597/987 [02:07<01:13,  5.30it/s]"
     ]
    },
    {
     "name": "stdout",
     "output_type": "stream",
     "text": [
      "当前查询次数331\n"
     ]
    },
    {
     "name": "stderr",
     "output_type": "stream",
     "text": [
      "\n",
      "Processed prompts: 100%|██████████| 1/1 [00:00<00:00, 16.50it/s]\n",
      "\n",
      "Processed prompts: 100%|██████████| 1/1 [00:00<00:00, 19.47it/s]\n",
      " 61%|██████    | 598/987 [02:07<01:05,  5.94it/s]\n",
      "Processed prompts: 100%|██████████| 1/1 [00:00<00:00, 16.70it/s]\n",
      "\n",
      "Processed prompts: 100%|██████████| 1/1 [00:00<00:00, 19.45it/s]\n",
      " 61%|██████    | 599/987 [02:07<00:59,  6.52it/s]\n",
      "Processed prompts: 100%|██████████| 1/1 [00:00<00:00, 16.62it/s]\n",
      "\n",
      "Processed prompts:   0%|          | 0/5 [00:00<?, ?it/s]\u001b[A\n",
      "Processed prompts: 100%|██████████| 5/5 [00:00<00:00, 23.53it/s]\u001b[A\n",
      " 61%|██████    | 600/987 [02:07<01:14,  5.20it/s]"
     ]
    },
    {
     "name": "stdout",
     "output_type": "stream",
     "text": [
      "当前查询次数332\n",
      "average: 0.7\n"
     ]
    },
    {
     "name": "stderr",
     "output_type": "stream",
     "text": [
      "\n",
      "Processed prompts: 100%|██████████| 1/1 [00:00<00:00, 16.30it/s]\n",
      "\n",
      "Processed prompts:   0%|          | 0/5 [00:00<?, ?it/s]\u001b[A\n",
      "Processed prompts: 100%|██████████| 5/5 [00:00<00:00, 23.46it/s]\u001b[A\n",
      " 61%|██████    | 601/987 [02:08<01:25,  4.53it/s]"
     ]
    },
    {
     "name": "stdout",
     "output_type": "stream",
     "text": [
      "当前查询次数333\n"
     ]
    },
    {
     "name": "stderr",
     "output_type": "stream",
     "text": [
      "\n",
      "Processed prompts: 100%|██████████| 1/1 [00:00<00:00, 16.48it/s]\n",
      "\n",
      "Processed prompts:   0%|          | 0/5 [00:00<?, ?it/s]\u001b[A\n",
      "Processed prompts: 100%|██████████| 5/5 [00:00<00:00, 19.67it/s]\u001b[A\n",
      " 61%|██████    | 602/987 [02:08<01:37,  3.96it/s]"
     ]
    },
    {
     "name": "stdout",
     "output_type": "stream",
     "text": [
      "当前查询次数334\n"
     ]
    },
    {
     "name": "stderr",
     "output_type": "stream",
     "text": [
      "\n",
      "Processed prompts: 100%|██████████| 1/1 [00:00<00:00, 16.46it/s]\n",
      "\n",
      "Processed prompts:   0%|          | 0/5 [00:00<?, ?it/s]\u001b[A\n",
      "Processed prompts: 100%|██████████| 5/5 [00:00<00:00, 23.65it/s]\u001b[A\n",
      " 61%|██████    | 603/987 [02:08<01:40,  3.82it/s]"
     ]
    },
    {
     "name": "stdout",
     "output_type": "stream",
     "text": [
      "当前查询次数335\n"
     ]
    },
    {
     "name": "stderr",
     "output_type": "stream",
     "text": [
      "\n",
      "Processed prompts: 100%|██████████| 1/1 [00:00<00:00, 16.48it/s]\n",
      "\n",
      "Processed prompts:   0%|          | 0/5 [00:00<?, ?it/s]\u001b[A\n",
      "Processed prompts: 100%|██████████| 5/5 [00:00<00:00, 23.90it/s]\u001b[A\n",
      " 61%|██████    | 604/987 [02:08<01:42,  3.74it/s]"
     ]
    },
    {
     "name": "stdout",
     "output_type": "stream",
     "text": [
      "当前查询次数336\n"
     ]
    },
    {
     "name": "stderr",
     "output_type": "stream",
     "text": [
      "\n",
      "Processed prompts: 100%|██████████| 1/1 [00:00<00:00, 16.48it/s]\n",
      "\n",
      "Processed prompts: 100%|██████████| 1/1 [00:00<00:00, 19.47it/s]\n",
      " 61%|██████▏   | 605/987 [02:09<01:25,  4.48it/s]\n",
      "Processed prompts: 100%|██████████| 1/1 [00:00<00:00, 16.70it/s]\n",
      "\n",
      "Processed prompts:   0%|          | 0/5 [00:00<?, ?it/s]\u001b[A\n",
      "Processed prompts: 100%|██████████| 5/5 [00:00<00:00, 23.08it/s]\u001b[A\n",
      " 61%|██████▏   | 606/987 [02:09<01:32,  4.13it/s]"
     ]
    },
    {
     "name": "stdout",
     "output_type": "stream",
     "text": [
      "当前查询次数337\n"
     ]
    },
    {
     "name": "stderr",
     "output_type": "stream",
     "text": [
      "\n",
      "Processed prompts: 100%|██████████| 1/1 [00:00<00:00, 16.48it/s]\n",
      "\n",
      "Processed prompts: 100%|██████████| 1/1 [00:00<00:00, 19.40it/s]\n",
      " 61%|██████▏   | 607/987 [02:09<01:18,  4.86it/s]\n",
      "Processed prompts: 100%|██████████| 1/1 [00:00<00:00, 16.63it/s]\n",
      "\n",
      "Processed prompts:   0%|          | 0/5 [00:00<?, ?it/s]\u001b[A\n",
      "Processed prompts: 100%|██████████| 5/5 [00:00<00:00, 21.36it/s]\u001b[A\n",
      " 62%|██████▏   | 608/987 [02:09<01:29,  4.24it/s]"
     ]
    },
    {
     "name": "stdout",
     "output_type": "stream",
     "text": [
      "当前查询次数338\n"
     ]
    },
    {
     "name": "stderr",
     "output_type": "stream",
     "text": [
      "\n",
      "Processed prompts: 100%|██████████| 1/1 [00:00<00:00, 16.22it/s]\n",
      "\n",
      "Processed prompts:   0%|          | 0/5 [00:00<?, ?it/s]\u001b[A\n",
      "Processed prompts: 100%|██████████| 5/5 [00:00<00:00, 23.75it/s]\u001b[A\n",
      " 62%|██████▏   | 609/987 [02:10<01:34,  4.00it/s]"
     ]
    },
    {
     "name": "stdout",
     "output_type": "stream",
     "text": [
      "当前查询次数339\n"
     ]
    },
    {
     "name": "stderr",
     "output_type": "stream",
     "text": [
      "\n",
      "Processed prompts: 100%|██████████| 1/1 [00:00<00:00, 16.34it/s]\n",
      "\n",
      "Processed prompts: 100%|██████████| 1/1 [00:00<00:00, 19.58it/s]\n",
      " 62%|██████▏   | 610/987 [02:10<01:19,  4.74it/s]"
     ]
    },
    {
     "name": "stdout",
     "output_type": "stream",
     "text": [
      "average: 0.8\n"
     ]
    },
    {
     "name": "stderr",
     "output_type": "stream",
     "text": [
      "\n",
      "Processed prompts: 100%|██████████| 1/1 [00:00<00:00, 16.63it/s]\n",
      "\n",
      "Processed prompts:   0%|          | 0/5 [00:00<?, ?it/s]\u001b[A\n",
      "Processed prompts: 100%|██████████| 5/5 [00:00<00:00, 23.08it/s]\u001b[A\n",
      " 62%|██████▏   | 611/987 [02:10<01:27,  4.28it/s]"
     ]
    },
    {
     "name": "stdout",
     "output_type": "stream",
     "text": [
      "当前查询次数340\n"
     ]
    },
    {
     "name": "stderr",
     "output_type": "stream",
     "text": [
      "\n",
      "Processed prompts: 100%|██████████| 1/1 [00:00<00:00, 16.46it/s]\n",
      "\n",
      "Processed prompts: 100%|██████████| 1/1 [00:00<00:00, 19.30it/s]\n",
      " 62%|██████▏   | 612/987 [02:10<01:14,  5.01it/s]\n",
      "Processed prompts: 100%|██████████| 1/1 [00:00<00:00, 16.75it/s]\n",
      "\n",
      "Processed prompts:   0%|          | 0/5 [00:00<?, ?it/s]\u001b[A\n",
      "Processed prompts: 100%|██████████| 5/5 [00:00<00:00, 21.53it/s]\u001b[A\n",
      " 62%|██████▏   | 613/987 [02:10<01:26,  4.34it/s]"
     ]
    },
    {
     "name": "stdout",
     "output_type": "stream",
     "text": [
      "当前查询次数341\n"
     ]
    },
    {
     "name": "stderr",
     "output_type": "stream",
     "text": [
      "\n",
      "Processed prompts: 100%|██████████| 1/1 [00:00<00:00, 16.47it/s]\n",
      "\n",
      "Processed prompts: 100%|██████████| 1/1 [00:00<00:00, 19.44it/s]\n",
      " 62%|██████▏   | 614/987 [02:11<01:13,  5.07it/s]\n",
      "Processed prompts: 100%|██████████| 1/1 [00:00<00:00, 16.65it/s]\n",
      "\n",
      "Processed prompts:   0%|          | 0/5 [00:00<?, ?it/s]\u001b[A\n",
      "Processed prompts: 100%|██████████| 5/5 [00:00<00:00, 21.39it/s]\u001b[A\n",
      " 62%|██████▏   | 615/987 [02:11<01:25,  4.36it/s]"
     ]
    },
    {
     "name": "stdout",
     "output_type": "stream",
     "text": [
      "当前查询次数342\n"
     ]
    },
    {
     "name": "stderr",
     "output_type": "stream",
     "text": [
      "\n",
      "Processed prompts: 100%|██████████| 1/1 [00:00<00:00, 16.35it/s]\n",
      "\n",
      "Processed prompts: 100%|██████████| 1/1 [00:00<00:00, 19.23it/s]\n",
      " 62%|██████▏   | 616/987 [02:11<01:12,  5.09it/s]\n",
      "Processed prompts: 100%|██████████| 1/1 [00:00<00:00, 16.58it/s]\n",
      "\n",
      "Processed prompts:   0%|          | 0/5 [00:00<?, ?it/s]\u001b[A\n",
      "Processed prompts: 100%|██████████| 5/5 [00:00<00:00, 23.53it/s]\u001b[A\n",
      " 63%|██████▎   | 617/987 [02:11<01:22,  4.49it/s]"
     ]
    },
    {
     "name": "stdout",
     "output_type": "stream",
     "text": [
      "当前查询次数343\n"
     ]
    },
    {
     "name": "stderr",
     "output_type": "stream",
     "text": [
      "\n",
      "Processed prompts: 100%|██████████| 1/1 [00:00<00:00, 16.43it/s]\n",
      "\n",
      "Processed prompts:   0%|          | 0/5 [00:00<?, ?it/s]\u001b[A\n",
      "Processed prompts: 100%|██████████| 5/5 [00:00<00:00, 23.52it/s]\u001b[A\n",
      " 63%|██████▎   | 618/987 [02:11<01:29,  4.15it/s]"
     ]
    },
    {
     "name": "stdout",
     "output_type": "stream",
     "text": [
      "当前查询次数344\n"
     ]
    },
    {
     "name": "stderr",
     "output_type": "stream",
     "text": [
      "\n",
      "Processed prompts: 100%|██████████| 1/1 [00:00<00:00, 16.48it/s]\n",
      "\n",
      "Processed prompts:   0%|          | 0/5 [00:00<?, ?it/s]\u001b[A\n",
      "Processed prompts: 100%|██████████| 5/5 [00:00<00:00, 23.61it/s]\u001b[A\n",
      " 63%|██████▎   | 619/987 [02:12<01:33,  3.94it/s]"
     ]
    },
    {
     "name": "stdout",
     "output_type": "stream",
     "text": [
      "当前查询次数345\n"
     ]
    },
    {
     "name": "stderr",
     "output_type": "stream",
     "text": [
      "\n",
      "Processed prompts: 100%|██████████| 1/1 [00:00<00:00, 16.53it/s]\n",
      "\n",
      "Processed prompts:   0%|          | 0/5 [00:00<?, ?it/s]\u001b[A\n",
      "Processed prompts: 100%|██████████| 5/5 [00:00<00:00, 25.85it/s]\u001b[A\n",
      " 63%|██████▎   | 620/987 [02:12<01:34,  3.89it/s]"
     ]
    },
    {
     "name": "stdout",
     "output_type": "stream",
     "text": [
      "当前查询次数346\n",
      "average: 0.8\n"
     ]
    },
    {
     "name": "stderr",
     "output_type": "stream",
     "text": [
      "\n",
      "Processed prompts: 100%|██████████| 1/1 [00:00<00:00, 16.35it/s]\n",
      "\n",
      "Processed prompts:   0%|          | 0/5 [00:00<?, ?it/s]\u001b[A\n",
      "Processed prompts: 100%|██████████| 5/5 [00:00<00:00, 20.62it/s]\u001b[A\n",
      " 63%|██████▎   | 621/987 [02:12<01:40,  3.65it/s]"
     ]
    },
    {
     "name": "stdout",
     "output_type": "stream",
     "text": [
      "当前查询次数347\n"
     ]
    },
    {
     "name": "stderr",
     "output_type": "stream",
     "text": [
      "\n",
      "Processed prompts: 100%|██████████| 1/1 [00:00<00:00, 16.20it/s]\n",
      "\n",
      "Processed prompts: 100%|██████████| 1/1 [00:00<00:00, 19.22it/s]\n",
      " 63%|██████▎   | 622/987 [02:12<01:23,  4.38it/s]\n",
      "Processed prompts: 100%|██████████| 1/1 [00:00<00:00, 16.30it/s]\n",
      "\n",
      "Processed prompts:   0%|          | 0/5 [00:00<?, ?it/s]\u001b[A\n",
      "Processed prompts: 100%|██████████| 5/5 [00:00<00:00, 23.46it/s]\u001b[A\n",
      " 63%|██████▎   | 623/987 [02:13<01:29,  4.07it/s]"
     ]
    },
    {
     "name": "stdout",
     "output_type": "stream",
     "text": [
      "当前查询次数348\n"
     ]
    },
    {
     "name": "stderr",
     "output_type": "stream",
     "text": [
      "\n",
      "Processed prompts: 100%|██████████| 1/1 [00:00<00:00, 15.88it/s]\n",
      "\n",
      "Processed prompts:   0%|          | 0/5 [00:00<?, ?it/s]\u001b[A\n",
      "Processed prompts: 100%|██████████| 5/5 [00:00<00:00, 23.70it/s]\u001b[A\n",
      " 63%|██████▎   | 624/987 [02:13<01:33,  3.88it/s]"
     ]
    },
    {
     "name": "stdout",
     "output_type": "stream",
     "text": [
      "当前查询次数349\n"
     ]
    },
    {
     "name": "stderr",
     "output_type": "stream",
     "text": [
      "\n",
      "Processed prompts: 100%|██████████| 1/1 [00:00<00:00, 16.42it/s]\n",
      "\n",
      "Processed prompts: 100%|██████████| 1/1 [00:00<00:00, 19.23it/s]\n",
      " 63%|██████▎   | 625/987 [02:13<01:18,  4.62it/s]\n",
      "Processed prompts: 100%|██████████| 1/1 [00:00<00:00, 16.42it/s]\n",
      "\n",
      "Processed prompts:   0%|          | 0/5 [00:00<?, ?it/s]\u001b[A\n",
      "Processed prompts: 100%|██████████| 5/5 [00:00<00:00, 23.63it/s]\u001b[A\n",
      " 63%|██████▎   | 626/987 [02:13<01:25,  4.23it/s]"
     ]
    },
    {
     "name": "stdout",
     "output_type": "stream",
     "text": [
      "当前查询次数350\n"
     ]
    },
    {
     "name": "stderr",
     "output_type": "stream",
     "text": [
      "\n",
      "Processed prompts: 100%|██████████| 1/1 [00:00<00:00, 16.48it/s]\n",
      "\n",
      "Processed prompts: 100%|██████████| 1/1 [00:00<00:00, 19.41it/s]\n",
      " 64%|██████▎   | 627/987 [02:14<01:12,  4.97it/s]\n",
      "Processed prompts: 100%|██████████| 1/1 [00:00<00:00, 16.58it/s]\n",
      "\n",
      "Processed prompts:   0%|          | 0/5 [00:00<?, ?it/s]\u001b[A\n",
      "Processed prompts: 100%|██████████| 5/5 [00:00<00:00, 23.57it/s]\u001b[A\n",
      " 64%|██████▎   | 628/987 [02:14<01:21,  4.43it/s]"
     ]
    },
    {
     "name": "stdout",
     "output_type": "stream",
     "text": [
      "当前查询次数351\n"
     ]
    },
    {
     "name": "stderr",
     "output_type": "stream",
     "text": [
      "\n",
      "Processed prompts: 100%|██████████| 1/1 [00:00<00:00, 16.34it/s]\n",
      "\n",
      "Processed prompts: 100%|██████████| 1/1 [00:00<00:00, 19.17it/s]\n",
      " 64%|██████▎   | 629/987 [02:14<01:09,  5.15it/s]\n",
      "Processed prompts: 100%|██████████| 1/1 [00:00<00:00, 16.54it/s]\n",
      "\n",
      "Processed prompts: 100%|██████████| 1/1 [00:00<00:00, 19.38it/s]\n",
      " 64%|██████▍   | 630/987 [02:14<01:01,  5.82it/s]"
     ]
    },
    {
     "name": "stdout",
     "output_type": "stream",
     "text": [
      "average: 0.6\n"
     ]
    },
    {
     "name": "stderr",
     "output_type": "stream",
     "text": [
      "\n",
      "Processed prompts: 100%|██████████| 1/1 [00:00<00:00, 16.50it/s]\n",
      "\n",
      "Processed prompts:   0%|          | 0/5 [00:00<?, ?it/s]\u001b[A\n",
      "Processed prompts: 100%|██████████| 5/5 [00:00<00:00, 23.51it/s]\u001b[A\n",
      " 64%|██████▍   | 631/987 [02:14<01:13,  4.87it/s]"
     ]
    },
    {
     "name": "stdout",
     "output_type": "stream",
     "text": [
      "当前查询次数352\n"
     ]
    },
    {
     "name": "stderr",
     "output_type": "stream",
     "text": [
      "\n",
      "Processed prompts: 100%|██████████| 1/1 [00:00<00:00, 16.36it/s]\n",
      "\n",
      "Processed prompts: 100%|██████████| 1/1 [00:00<00:00, 19.33it/s]\n",
      " 64%|██████▍   | 632/987 [02:15<01:03,  5.56it/s]\n",
      "Processed prompts: 100%|██████████| 1/1 [00:00<00:00, 16.16it/s]\n",
      "\n",
      "Processed prompts: 100%|██████████| 1/1 [00:00<00:00, 19.17it/s]\n",
      " 64%|██████▍   | 633/987 [02:15<00:57,  6.16it/s]\n",
      "Processed prompts: 100%|██████████| 1/1 [00:00<00:00, 16.35it/s]\n",
      "\n",
      "Processed prompts:   0%|          | 0/5 [00:00<?, ?it/s]\u001b[A\n",
      "Processed prompts: 100%|██████████| 5/5 [00:00<00:00, 23.56it/s]\u001b[A\n",
      " 64%|██████▍   | 634/987 [02:15<01:10,  5.01it/s]"
     ]
    },
    {
     "name": "stdout",
     "output_type": "stream",
     "text": [
      "当前查询次数353\n"
     ]
    },
    {
     "name": "stderr",
     "output_type": "stream",
     "text": [
      "\n",
      "Processed prompts: 100%|██████████| 1/1 [00:00<00:00, 16.56it/s]\n",
      "\n",
      "Processed prompts:   0%|          | 0/5 [00:00<?, ?it/s]\u001b[A\n",
      "Processed prompts: 100%|██████████| 5/5 [00:00<00:00, 23.51it/s]\u001b[A\n",
      " 64%|██████▍   | 635/987 [02:15<01:19,  4.44it/s]"
     ]
    },
    {
     "name": "stdout",
     "output_type": "stream",
     "text": [
      "当前查询次数354\n"
     ]
    },
    {
     "name": "stderr",
     "output_type": "stream",
     "text": [
      "\n",
      "Processed prompts: 100%|██████████| 1/1 [00:00<00:00, 16.32it/s]\n",
      "\n",
      "Processed prompts:   0%|          | 0/5 [00:00<?, ?it/s]\u001b[A\n",
      "Processed prompts: 100%|██████████| 5/5 [00:00<00:00, 23.05it/s]\u001b[A\n",
      " 64%|██████▍   | 636/987 [02:15<01:25,  4.10it/s]"
     ]
    },
    {
     "name": "stdout",
     "output_type": "stream",
     "text": [
      "当前查询次数355\n"
     ]
    },
    {
     "name": "stderr",
     "output_type": "stream",
     "text": [
      "\n",
      "Processed prompts: 100%|██████████| 1/1 [00:00<00:00, 16.40it/s]\n",
      "\n",
      "Processed prompts:   0%|          | 0/5 [00:00<?, ?it/s]\u001b[A\n",
      "Processed prompts: 100%|██████████| 5/5 [00:00<00:00, 21.24it/s]\u001b[A\n",
      " 65%|██████▍   | 637/987 [02:16<01:32,  3.80it/s]"
     ]
    },
    {
     "name": "stdout",
     "output_type": "stream",
     "text": [
      "当前查询次数356\n"
     ]
    },
    {
     "name": "stderr",
     "output_type": "stream",
     "text": [
      "\n",
      "Processed prompts: 100%|██████████| 1/1 [00:00<00:00, 16.30it/s]\n",
      "\n",
      "Processed prompts:   0%|          | 0/5 [00:00<?, ?it/s]\u001b[A\n",
      "Processed prompts: 100%|██████████| 5/5 [00:00<00:00, 23.44it/s]\u001b[A\n",
      " 65%|██████▍   | 638/987 [02:16<01:34,  3.70it/s]"
     ]
    },
    {
     "name": "stdout",
     "output_type": "stream",
     "text": [
      "当前查询次数357\n"
     ]
    },
    {
     "name": "stderr",
     "output_type": "stream",
     "text": [
      "\n",
      "Processed prompts: 100%|██████████| 1/1 [00:00<00:00, 16.38it/s]\n",
      "\n",
      "Processed prompts:   0%|          | 0/5 [00:00<?, ?it/s]\u001b[A\n",
      "Processed prompts: 100%|██████████| 5/5 [00:00<00:00, 23.56it/s]\u001b[A\n",
      " 65%|██████▍   | 639/987 [02:16<01:35,  3.65it/s]"
     ]
    },
    {
     "name": "stdout",
     "output_type": "stream",
     "text": [
      "当前查询次数358\n"
     ]
    },
    {
     "name": "stderr",
     "output_type": "stream",
     "text": [
      "\n",
      "Processed prompts: 100%|██████████| 1/1 [00:00<00:00, 16.45it/s]\n",
      "\n",
      "Processed prompts:   0%|          | 0/5 [00:00<?, ?it/s]\u001b[A\n",
      "Processed prompts: 100%|██████████| 5/5 [00:00<00:00, 23.83it/s]\u001b[A\n",
      " 65%|██████▍   | 640/987 [02:17<01:35,  3.61it/s]"
     ]
    },
    {
     "name": "stdout",
     "output_type": "stream",
     "text": [
      "当前查询次数359\n",
      "average: 0.7\n"
     ]
    },
    {
     "name": "stderr",
     "output_type": "stream",
     "text": [
      "\n",
      "Processed prompts: 100%|██████████| 1/1 [00:00<00:00, 16.44it/s]\n",
      "\n",
      "Processed prompts:   0%|          | 0/5 [00:00<?, ?it/s]\u001b[A\n",
      "Processed prompts: 100%|██████████| 5/5 [00:00<00:00, 23.18it/s]\u001b[A\n",
      " 65%|██████▍   | 641/987 [02:17<01:36,  3.57it/s]"
     ]
    },
    {
     "name": "stdout",
     "output_type": "stream",
     "text": [
      "当前查询次数360\n"
     ]
    },
    {
     "name": "stderr",
     "output_type": "stream",
     "text": [
      "\n",
      "Processed prompts: 100%|██████████| 1/1 [00:00<00:00, 16.29it/s]\n",
      "\n",
      "Processed prompts: 100%|██████████| 1/1 [00:00<00:00, 19.27it/s]\n",
      " 65%|██████▌   | 642/987 [02:17<01:20,  4.31it/s]\n",
      "Processed prompts: 100%|██████████| 1/1 [00:00<00:00, 16.42it/s]\n",
      "\n",
      "Processed prompts: 100%|██████████| 1/1 [00:00<00:00, 19.57it/s]\n",
      " 65%|██████▌   | 643/987 [02:17<01:08,  5.04it/s]\n",
      "Processed prompts: 100%|██████████| 1/1 [00:00<00:00, 16.59it/s]\n",
      "\n",
      "Processed prompts: 100%|██████████| 1/1 [00:00<00:00, 19.25it/s]\n",
      " 65%|██████▌   | 644/987 [02:17<00:59,  5.72it/s]\n",
      "Processed prompts: 100%|██████████| 1/1 [00:00<00:00, 16.34it/s]\n",
      "\n",
      "Processed prompts: 100%|██████████| 1/1 [00:00<00:00, 19.26it/s]\n",
      " 65%|██████▌   | 645/987 [02:17<00:54,  6.32it/s]\n",
      "Processed prompts: 100%|██████████| 1/1 [00:00<00:00, 16.51it/s]\n",
      "\n",
      "Processed prompts: 100%|██████████| 1/1 [00:00<00:00, 19.31it/s]\n",
      " 65%|██████▌   | 646/987 [02:18<00:50,  6.81it/s]\n",
      "Processed prompts: 100%|██████████| 1/1 [00:00<00:00, 16.46it/s]\n",
      "\n",
      "Processed prompts: 100%|██████████| 1/1 [00:00<00:00, 19.07it/s]\n",
      " 66%|██████▌   | 647/987 [02:18<00:47,  7.20it/s]\n",
      "Processed prompts: 100%|██████████| 1/1 [00:00<00:00, 16.57it/s]\n",
      "\n",
      "Processed prompts: 100%|██████████| 1/1 [00:00<00:00, 19.32it/s]\n",
      " 66%|██████▌   | 648/987 [02:18<00:45,  7.52it/s]\n",
      "Processed prompts: 100%|██████████| 1/1 [00:00<00:00, 16.37it/s]\n",
      "\n",
      "Processed prompts:   0%|          | 0/5 [00:00<?, ?it/s]\u001b[A\n",
      "Processed prompts: 100%|██████████| 5/5 [00:00<00:00, 23.67it/s]\u001b[A\n",
      " 66%|██████▌   | 649/987 [02:18<01:00,  5.62it/s]"
     ]
    },
    {
     "name": "stdout",
     "output_type": "stream",
     "text": [
      "当前查询次数361\n"
     ]
    },
    {
     "name": "stderr",
     "output_type": "stream",
     "text": [
      "\n",
      "Processed prompts: 100%|██████████| 1/1 [00:00<00:00, 16.31it/s]\n",
      "\n",
      "Processed prompts:   0%|          | 0/5 [00:00<?, ?it/s]\u001b[A\n",
      "Processed prompts: 100%|██████████| 5/5 [00:00<00:00, 23.84it/s]\u001b[A\n",
      " 66%|██████▌   | 650/987 [02:18<01:10,  4.78it/s]"
     ]
    },
    {
     "name": "stdout",
     "output_type": "stream",
     "text": [
      "当前查询次数362\n",
      "average: 0.3\n"
     ]
    },
    {
     "name": "stderr",
     "output_type": "stream",
     "text": [
      "\n",
      "Processed prompts: 100%|██████████| 1/1 [00:00<00:00, 16.28it/s]\n",
      "\n",
      "Processed prompts:   0%|          | 0/5 [00:00<?, ?it/s]\u001b[A\n",
      "Processed prompts: 100%|██████████| 5/5 [00:00<00:00, 25.93it/s]\u001b[A\n",
      " 66%|██████▌   | 651/987 [02:19<01:15,  4.43it/s]"
     ]
    },
    {
     "name": "stdout",
     "output_type": "stream",
     "text": [
      "当前查询次数363\n"
     ]
    },
    {
     "name": "stderr",
     "output_type": "stream",
     "text": [
      "\n",
      "Processed prompts: 100%|██████████| 1/1 [00:00<00:00, 16.32it/s]\n",
      "\n",
      "Processed prompts: 100%|██████████| 1/1 [00:00<00:00, 19.27it/s]\n",
      " 66%|██████▌   | 652/987 [02:19<01:05,  5.14it/s]\n",
      "Processed prompts: 100%|██████████| 1/1 [00:00<00:00, 16.45it/s]\n",
      "\n",
      "Processed prompts:   0%|          | 0/5 [00:00<?, ?it/s]\u001b[A\n",
      "Processed prompts: 100%|██████████| 5/5 [00:00<00:00, 23.86it/s]\u001b[A\n",
      " 66%|██████▌   | 653/987 [02:19<01:13,  4.54it/s]"
     ]
    },
    {
     "name": "stdout",
     "output_type": "stream",
     "text": [
      "当前查询次数364\n"
     ]
    },
    {
     "name": "stderr",
     "output_type": "stream",
     "text": [
      "\n",
      "Processed prompts: 100%|██████████| 1/1 [00:00<00:00, 16.47it/s]\n",
      "\n",
      "Processed prompts:   0%|          | 0/5 [00:00<?, ?it/s]\u001b[A\n",
      "Processed prompts: 100%|██████████| 5/5 [00:00<00:00, 25.35it/s]\u001b[A\n",
      " 66%|██████▋   | 654/987 [02:19<01:18,  4.24it/s]"
     ]
    },
    {
     "name": "stdout",
     "output_type": "stream",
     "text": [
      "当前查询次数365\n"
     ]
    },
    {
     "name": "stderr",
     "output_type": "stream",
     "text": [
      "\n",
      "Processed prompts: 100%|██████████| 1/1 [00:00<00:00, 16.48it/s]\n",
      "\n",
      "Processed prompts:   0%|          | 0/5 [00:00<?, ?it/s]\u001b[A\n",
      "Processed prompts: 100%|██████████| 5/5 [00:00<00:00, 21.43it/s]\u001b[A\n",
      " 66%|██████▋   | 655/987 [02:20<01:25,  3.89it/s]"
     ]
    },
    {
     "name": "stdout",
     "output_type": "stream",
     "text": [
      "当前查询次数366\n"
     ]
    },
    {
     "name": "stderr",
     "output_type": "stream",
     "text": [
      "\n",
      "Processed prompts: 100%|██████████| 1/1 [00:00<00:00, 16.48it/s]\n",
      "\n",
      "Processed prompts:   0%|          | 0/5 [00:00<?, ?it/s]\u001b[A\n",
      "Processed prompts: 100%|██████████| 5/5 [00:00<00:00, 23.56it/s]\u001b[A\n",
      " 66%|██████▋   | 656/987 [02:20<01:27,  3.78it/s]"
     ]
    },
    {
     "name": "stdout",
     "output_type": "stream",
     "text": [
      "当前查询次数367\n"
     ]
    },
    {
     "name": "stderr",
     "output_type": "stream",
     "text": [
      "\n",
      "Processed prompts: 100%|██████████| 1/1 [00:00<00:00, 16.39it/s]\n",
      "\n",
      "Processed prompts:   0%|          | 0/5 [00:00<?, ?it/s]\u001b[A\n",
      "Processed prompts: 100%|██████████| 5/5 [00:00<00:00, 23.67it/s]\u001b[A\n",
      " 67%|██████▋   | 657/987 [02:20<01:29,  3.70it/s]"
     ]
    },
    {
     "name": "stdout",
     "output_type": "stream",
     "text": [
      "当前查询次数368\n"
     ]
    },
    {
     "name": "stderr",
     "output_type": "stream",
     "text": [
      "\n",
      "Processed prompts: 100%|██████████| 1/1 [00:00<00:00, 16.34it/s]\n",
      "\n",
      "Processed prompts:   0%|          | 0/5 [00:00<?, ?it/s]\u001b[A\n",
      "Processed prompts: 100%|██████████| 5/5 [00:00<00:00, 23.50it/s]\u001b[A\n",
      " 67%|██████▋   | 658/987 [02:20<01:30,  3.64it/s]"
     ]
    },
    {
     "name": "stdout",
     "output_type": "stream",
     "text": [
      "当前查询次数369\n"
     ]
    },
    {
     "name": "stderr",
     "output_type": "stream",
     "text": [
      "\n",
      "Processed prompts: 100%|██████████| 1/1 [00:00<00:00, 16.31it/s]\n",
      "\n",
      "Processed prompts: 100%|██████████| 1/1 [00:00<00:00, 19.34it/s]\n",
      " 67%|██████▋   | 659/987 [02:21<01:14,  4.38it/s]\n",
      "Processed prompts: 100%|██████████| 1/1 [00:00<00:00, 16.57it/s]\n",
      "\n",
      "Processed prompts: 100%|██████████| 1/1 [00:00<00:00, 19.34it/s]\n",
      " 67%|██████▋   | 660/987 [02:21<01:04,  5.10it/s]"
     ]
    },
    {
     "name": "stdout",
     "output_type": "stream",
     "text": [
      "average: 0.9\n"
     ]
    },
    {
     "name": "stderr",
     "output_type": "stream",
     "text": [
      "\n",
      "Processed prompts: 100%|██████████| 1/1 [00:00<00:00, 16.32it/s]\n",
      "\n",
      "Processed prompts:   0%|          | 0/5 [00:00<?, ?it/s]\u001b[A\n",
      "Processed prompts: 100%|██████████| 5/5 [00:00<00:00, 21.27it/s]\u001b[A\n",
      " 67%|██████▋   | 661/987 [02:21<01:14,  4.36it/s]"
     ]
    },
    {
     "name": "stdout",
     "output_type": "stream",
     "text": [
      "当前查询次数370\n"
     ]
    },
    {
     "name": "stderr",
     "output_type": "stream",
     "text": [
      "\n",
      "Processed prompts: 100%|██████████| 1/1 [00:00<00:00, 16.39it/s]\n",
      "\n",
      "Processed prompts: 100%|██████████| 1/1 [00:00<00:00, 19.34it/s]\n",
      " 67%|██████▋   | 662/987 [02:21<01:03,  5.09it/s]\n",
      "Processed prompts: 100%|██████████| 1/1 [00:00<00:00, 16.41it/s]\n",
      "\n",
      "Processed prompts:   0%|          | 0/5 [00:00<?, ?it/s]\u001b[A\n",
      "Processed prompts: 100%|██████████| 5/5 [00:00<00:00, 21.21it/s]\u001b[A\n",
      " 67%|██████▋   | 663/987 [02:21<01:14,  4.35it/s]"
     ]
    },
    {
     "name": "stdout",
     "output_type": "stream",
     "text": [
      "当前查询次数371\n"
     ]
    },
    {
     "name": "stderr",
     "output_type": "stream",
     "text": [
      "\n",
      "Processed prompts: 100%|██████████| 1/1 [00:00<00:00, 16.29it/s]\n",
      "\n",
      "Processed prompts:   0%|          | 0/5 [00:00<?, ?it/s]\u001b[A\n",
      "Processed prompts: 100%|██████████| 5/5 [00:00<00:00, 23.65it/s]\u001b[A\n",
      " 67%|██████▋   | 664/987 [02:22<01:19,  4.06it/s]"
     ]
    },
    {
     "name": "stdout",
     "output_type": "stream",
     "text": [
      "当前查询次数372\n"
     ]
    },
    {
     "name": "stderr",
     "output_type": "stream",
     "text": [
      "\n",
      "Processed prompts: 100%|██████████| 1/1 [00:00<00:00, 16.25it/s]\n",
      "\n",
      "Processed prompts: 100%|██████████| 1/1 [00:00<00:00, 19.30it/s]\n",
      " 67%|██████▋   | 665/987 [02:22<01:07,  4.79it/s]\n",
      "Processed prompts: 100%|██████████| 1/1 [00:00<00:00, 16.63it/s]\n",
      "\n",
      "Processed prompts: 100%|██████████| 1/1 [00:00<00:00, 19.52it/s]\n",
      " 67%|██████▋   | 666/987 [02:22<00:58,  5.51it/s]\n",
      "Processed prompts: 100%|██████████| 1/1 [00:00<00:00, 16.45it/s]\n",
      "\n",
      "Processed prompts: 100%|██████████| 1/1 [00:00<00:00, 19.31it/s]\n",
      " 68%|██████▊   | 667/987 [02:22<00:52,  6.14it/s]\n",
      "Processed prompts: 100%|██████████| 1/1 [00:00<00:00, 16.55it/s]\n",
      "\n",
      "Processed prompts: 100%|██████████| 1/1 [00:00<00:00, 19.53it/s]\n",
      " 68%|██████▊   | 668/987 [02:22<00:47,  6.70it/s]\n",
      "Processed prompts: 100%|██████████| 1/1 [00:00<00:00, 16.22it/s]\n",
      "\n",
      "Processed prompts:   0%|          | 0/5 [00:00<?, ?it/s]\u001b[A\n",
      "Processed prompts: 100%|██████████| 5/5 [00:00<00:00, 25.83it/s]\u001b[A\n",
      " 68%|██████▊   | 669/987 [02:22<00:58,  5.43it/s]"
     ]
    },
    {
     "name": "stdout",
     "output_type": "stream",
     "text": [
      "当前查询次数373\n"
     ]
    },
    {
     "name": "stderr",
     "output_type": "stream",
     "text": [
      "\n",
      "Processed prompts: 100%|██████████| 1/1 [00:00<00:00, 16.00it/s]\n",
      "\n",
      "Processed prompts: 100%|██████████| 1/1 [00:00<00:00, 19.47it/s]\n",
      " 68%|██████▊   | 670/987 [02:23<00:52,  6.03it/s]"
     ]
    },
    {
     "name": "stdout",
     "output_type": "stream",
     "text": [
      "average: 0.8\n"
     ]
    },
    {
     "name": "stderr",
     "output_type": "stream",
     "text": [
      "\n",
      "Processed prompts: 100%|██████████| 1/1 [00:00<00:00, 16.51it/s]\n",
      "\n",
      "Processed prompts: 100%|██████████| 1/1 [00:00<00:00, 19.43it/s]\n",
      " 68%|██████▊   | 671/987 [02:23<00:48,  6.57it/s]\n",
      "Processed prompts: 100%|██████████| 1/1 [00:00<00:00, 16.21it/s]\n",
      "\n",
      "Processed prompts:   0%|          | 0/5 [00:00<?, ?it/s]\u001b[A\n",
      "Processed prompts: 100%|██████████| 5/5 [00:00<00:00, 23.46it/s]\u001b[A\n",
      " 68%|██████▊   | 672/987 [02:23<01:00,  5.20it/s]"
     ]
    },
    {
     "name": "stdout",
     "output_type": "stream",
     "text": [
      "当前查询次数374\n"
     ]
    },
    {
     "name": "stderr",
     "output_type": "stream",
     "text": [
      "\n",
      "Processed prompts: 100%|██████████| 1/1 [00:00<00:00, 16.48it/s]\n",
      "\n",
      "Processed prompts: 100%|██████████| 1/1 [00:00<00:00, 19.44it/s]\n",
      " 68%|██████▊   | 673/987 [02:23<00:53,  5.86it/s]\n",
      "Processed prompts: 100%|██████████| 1/1 [00:00<00:00, 16.51it/s]\n",
      "\n",
      "Processed prompts:   0%|          | 0/5 [00:00<?, ?it/s]\u001b[A\n",
      "Processed prompts: 100%|██████████| 5/5 [00:00<00:00, 23.44it/s]\u001b[A\n",
      " 68%|██████▊   | 674/987 [02:23<01:04,  4.88it/s]"
     ]
    },
    {
     "name": "stdout",
     "output_type": "stream",
     "text": [
      "当前查询次数375\n"
     ]
    },
    {
     "name": "stderr",
     "output_type": "stream",
     "text": [
      "\n",
      "Processed prompts: 100%|██████████| 1/1 [00:00<00:00, 16.43it/s]\n",
      "\n",
      "Processed prompts:   0%|          | 0/5 [00:00<?, ?it/s]\u001b[A\n",
      "Processed prompts: 100%|██████████| 5/5 [00:00<00:00, 23.51it/s]\u001b[A\n",
      " 68%|██████▊   | 675/987 [02:24<01:11,  4.37it/s]"
     ]
    },
    {
     "name": "stdout",
     "output_type": "stream",
     "text": [
      "当前查询次数376\n"
     ]
    },
    {
     "name": "stderr",
     "output_type": "stream",
     "text": [
      "\n",
      "Processed prompts: 100%|██████████| 1/1 [00:00<00:00, 16.42it/s]\n",
      "\n",
      "Processed prompts: 100%|██████████| 1/1 [00:00<00:00, 19.26it/s]\n",
      " 68%|██████▊   | 676/987 [02:24<01:00,  5.10it/s]\n",
      "Processed prompts: 100%|██████████| 1/1 [00:00<00:00, 16.49it/s]\n",
      "\n",
      "Processed prompts:   0%|          | 0/5 [00:00<?, ?it/s]\u001b[A\n",
      "Processed prompts: 100%|██████████| 5/5 [00:00<00:00, 21.10it/s]\u001b[A\n",
      " 69%|██████▊   | 677/987 [02:24<01:11,  4.35it/s]"
     ]
    },
    {
     "name": "stdout",
     "output_type": "stream",
     "text": [
      "当前查询次数377\n"
     ]
    },
    {
     "name": "stderr",
     "output_type": "stream",
     "text": [
      "\n",
      "Processed prompts: 100%|██████████| 1/1 [00:00<00:00, 16.45it/s]\n",
      "\n",
      "Processed prompts: 100%|██████████| 1/1 [00:00<00:00, 19.33it/s]\n",
      " 69%|██████▊   | 678/987 [02:24<01:00,  5.09it/s]\n",
      "Processed prompts: 100%|██████████| 1/1 [00:00<00:00, 16.51it/s]\n",
      "\n",
      "Processed prompts: 100%|██████████| 1/1 [00:00<00:00, 19.40it/s]\n",
      " 69%|██████▉   | 679/987 [02:24<00:53,  5.77it/s]\n",
      "Processed prompts: 100%|██████████| 1/1 [00:00<00:00, 16.35it/s]\n",
      "\n",
      "Processed prompts: 100%|██████████| 1/1 [00:00<00:00, 19.34it/s]\n",
      " 69%|██████▉   | 680/987 [02:24<00:48,  6.36it/s]"
     ]
    },
    {
     "name": "stdout",
     "output_type": "stream",
     "text": [
      "average: 0.6\n"
     ]
    },
    {
     "name": "stderr",
     "output_type": "stream",
     "text": [
      "\n",
      "Processed prompts: 100%|██████████| 1/1 [00:00<00:00, 16.48it/s]\n",
      "\n",
      "Processed prompts:   0%|          | 0/5 [00:00<?, ?it/s]\u001b[A\n",
      "Processed prompts: 100%|██████████| 5/5 [00:00<00:00, 21.08it/s]\u001b[A\n",
      " 69%|██████▉   | 681/987 [02:25<01:02,  4.94it/s]"
     ]
    },
    {
     "name": "stdout",
     "output_type": "stream",
     "text": [
      "当前查询次数378\n"
     ]
    },
    {
     "name": "stderr",
     "output_type": "stream",
     "text": [
      "\n",
      "Processed prompts: 100%|██████████| 1/1 [00:00<00:00, 16.37it/s]\n",
      "\n",
      "Processed prompts:   0%|          | 0/5 [00:00<?, ?it/s]\u001b[A\n",
      "Processed prompts: 100%|██████████| 5/5 [00:00<00:00, 21.27it/s]\u001b[A\n",
      " 69%|██████▉   | 682/987 [02:25<01:11,  4.28it/s]"
     ]
    },
    {
     "name": "stdout",
     "output_type": "stream",
     "text": [
      "当前查询次数379\n"
     ]
    },
    {
     "name": "stderr",
     "output_type": "stream",
     "text": [
      "\n",
      "Processed prompts: 100%|██████████| 1/1 [00:00<00:00, 16.53it/s]\n",
      "\n",
      "Processed prompts: 100%|██████████| 1/1 [00:00<00:00, 19.49it/s]\n",
      " 69%|██████▉   | 683/987 [02:25<01:00,  5.02it/s]\n",
      "Processed prompts: 100%|██████████| 1/1 [00:00<00:00, 16.44it/s]\n",
      "\n",
      "Processed prompts: 100%|██████████| 1/1 [00:00<00:00, 19.20it/s]\n",
      " 69%|██████▉   | 684/987 [02:25<00:53,  5.70it/s]\n",
      "Processed prompts: 100%|██████████| 1/1 [00:00<00:00, 16.46it/s]\n",
      "\n",
      "Processed prompts:   0%|          | 0/5 [00:00<?, ?it/s]\u001b[A\n",
      "Processed prompts: 100%|██████████| 5/5 [00:00<00:00, 21.19it/s]\u001b[A\n",
      " 69%|██████▉   | 685/987 [02:26<01:04,  4.65it/s]"
     ]
    },
    {
     "name": "stdout",
     "output_type": "stream",
     "text": [
      "当前查询次数380\n"
     ]
    },
    {
     "name": "stderr",
     "output_type": "stream",
     "text": [
      "\n",
      "Processed prompts: 100%|██████████| 1/1 [00:00<00:00, 16.26it/s]\n",
      "\n",
      "Processed prompts: 100%|██████████| 1/1 [00:00<00:00, 19.24it/s]\n",
      " 70%|██████▉   | 686/987 [02:26<00:56,  5.35it/s]\n",
      "Processed prompts: 100%|██████████| 1/1 [00:00<00:00, 16.45it/s]\n",
      "\n",
      "Processed prompts:   0%|          | 0/5 [00:00<?, ?it/s]\u001b[A\n",
      "Processed prompts: 100%|██████████| 5/5 [00:00<00:00, 25.72it/s]\u001b[A\n",
      " 70%|██████▉   | 687/987 [02:26<01:03,  4.74it/s]"
     ]
    },
    {
     "name": "stdout",
     "output_type": "stream",
     "text": [
      "当前查询次数381\n"
     ]
    },
    {
     "name": "stderr",
     "output_type": "stream",
     "text": [
      "\n",
      "Processed prompts: 100%|██████████| 1/1 [00:00<00:00, 16.58it/s]\n",
      "\n",
      "Processed prompts: 100%|██████████| 1/1 [00:00<00:00, 19.45it/s]\n",
      " 70%|██████▉   | 688/987 [02:26<00:54,  5.45it/s]\n",
      "Processed prompts: 100%|██████████| 1/1 [00:00<00:00, 16.44it/s]\n",
      "\n",
      "Processed prompts: 100%|██████████| 1/1 [00:00<00:00, 19.14it/s]\n",
      " 70%|██████▉   | 689/987 [02:26<00:49,  6.08it/s]\n",
      "Processed prompts: 100%|██████████| 1/1 [00:00<00:00, 16.52it/s]\n",
      "\n",
      "Processed prompts:   0%|          | 0/5 [00:00<?, ?it/s]\u001b[A\n",
      "Processed prompts: 100%|██████████| 5/5 [00:00<00:00, 23.45it/s]\u001b[A\n",
      " 70%|██████▉   | 690/987 [02:27<00:59,  4.98it/s]"
     ]
    },
    {
     "name": "stdout",
     "output_type": "stream",
     "text": [
      "当前查询次数382\n",
      "average: 0.8\n"
     ]
    },
    {
     "name": "stderr",
     "output_type": "stream",
     "text": [
      "\n",
      "Processed prompts: 100%|██████████| 1/1 [00:00<00:00, 16.43it/s]\n",
      "\n",
      "Processed prompts:   0%|          | 0/5 [00:00<?, ?it/s]\u001b[A\n",
      "Processed prompts: 100%|██████████| 5/5 [00:00<00:00, 25.87it/s]\u001b[A\n",
      " 70%|███████   | 691/987 [02:27<01:05,  4.54it/s]"
     ]
    },
    {
     "name": "stdout",
     "output_type": "stream",
     "text": [
      "当前查询次数383\n"
     ]
    },
    {
     "name": "stderr",
     "output_type": "stream",
     "text": [
      "\n",
      "Processed prompts: 100%|██████████| 1/1 [00:00<00:00, 16.32it/s]\n",
      "\n",
      "Processed prompts:   0%|          | 0/5 [00:00<?, ?it/s]\u001b[A\n",
      "Processed prompts: 100%|██████████| 5/5 [00:00<00:00, 21.39it/s]\u001b[A\n",
      " 70%|███████   | 692/987 [02:27<01:12,  4.07it/s]"
     ]
    },
    {
     "name": "stdout",
     "output_type": "stream",
     "text": [
      "当前查询次数384\n"
     ]
    },
    {
     "name": "stderr",
     "output_type": "stream",
     "text": [
      "\n",
      "Processed prompts: 100%|██████████| 1/1 [00:00<00:00, 16.51it/s]\n",
      "\n",
      "Processed prompts:   0%|          | 0/5 [00:00<?, ?it/s]\u001b[A\n",
      "Processed prompts: 100%|██████████| 5/5 [00:00<00:00, 25.70it/s]\u001b[A\n",
      " 70%|███████   | 693/987 [02:27<01:14,  3.97it/s]"
     ]
    },
    {
     "name": "stdout",
     "output_type": "stream",
     "text": [
      "当前查询次数385\n"
     ]
    },
    {
     "name": "stderr",
     "output_type": "stream",
     "text": [
      "\n",
      "Processed prompts: 100%|██████████| 1/1 [00:00<00:00, 16.35it/s]\n",
      "\n",
      "Processed prompts: 100%|██████████| 1/1 [00:00<00:00, 19.38it/s]\n",
      " 70%|███████   | 694/987 [02:27<01:02,  4.71it/s]\n",
      "Processed prompts: 100%|██████████| 1/1 [00:00<00:00, 16.49it/s]\n",
      "\n",
      "Processed prompts: 100%|██████████| 1/1 [00:00<00:00, 19.28it/s]\n",
      " 70%|███████   | 695/987 [02:28<00:53,  5.43it/s]\n",
      "Processed prompts: 100%|██████████| 1/1 [00:00<00:00, 16.48it/s]\n",
      "\n",
      "Processed prompts:   0%|          | 0/5 [00:00<?, ?it/s]\u001b[A\n",
      "Processed prompts: 100%|██████████| 5/5 [00:00<00:00, 23.45it/s]\u001b[A\n",
      " 71%|███████   | 696/987 [02:28<01:02,  4.67it/s]"
     ]
    },
    {
     "name": "stdout",
     "output_type": "stream",
     "text": [
      "当前查询次数386\n"
     ]
    },
    {
     "name": "stderr",
     "output_type": "stream",
     "text": [
      "\n",
      "Processed prompts: 100%|██████████| 1/1 [00:00<00:00, 16.49it/s]\n",
      "\n",
      "Processed prompts: 100%|██████████| 1/1 [00:00<00:00, 19.44it/s]\n",
      " 71%|███████   | 697/987 [02:28<00:53,  5.37it/s]\n",
      "Processed prompts: 100%|██████████| 1/1 [00:00<00:00, 16.36it/s]\n",
      "\n",
      "Processed prompts:   0%|          | 0/5 [00:00<?, ?it/s]\u001b[A\n",
      "Processed prompts: 100%|██████████| 5/5 [00:00<00:00, 23.43it/s]\u001b[A\n",
      " 71%|███████   | 698/987 [02:28<01:02,  4.63it/s]"
     ]
    },
    {
     "name": "stdout",
     "output_type": "stream",
     "text": [
      "当前查询次数387\n"
     ]
    },
    {
     "name": "stderr",
     "output_type": "stream",
     "text": [
      "\n",
      "Processed prompts: 100%|██████████| 1/1 [00:00<00:00, 16.12it/s]\n",
      "\n",
      "Processed prompts: 100%|██████████| 1/1 [00:00<00:00, 19.37it/s]\n",
      " 71%|███████   | 699/987 [02:28<00:54,  5.33it/s]\n",
      "Processed prompts: 100%|██████████| 1/1 [00:00<00:00, 16.48it/s]\n",
      "\n",
      "Processed prompts:   0%|          | 0/5 [00:00<?, ?it/s]\u001b[A\n",
      "Processed prompts: 100%|██████████| 5/5 [00:00<00:00, 23.88it/s]\u001b[A\n",
      " 71%|███████   | 700/987 [02:29<01:01,  4.64it/s]"
     ]
    },
    {
     "name": "stdout",
     "output_type": "stream",
     "text": [
      "当前查询次数388\n",
      "average: 0.7\n"
     ]
    },
    {
     "name": "stderr",
     "output_type": "stream",
     "text": [
      "\n",
      "Processed prompts: 100%|██████████| 1/1 [00:00<00:00, 16.38it/s]\n",
      "\n",
      "Processed prompts:   0%|          | 0/5 [00:00<?, ?it/s]\u001b[A\n",
      "Processed prompts: 100%|██████████| 5/5 [00:00<00:00, 23.70it/s]\u001b[A\n",
      " 71%|███████   | 701/987 [02:29<01:07,  4.24it/s]"
     ]
    },
    {
     "name": "stdout",
     "output_type": "stream",
     "text": [
      "当前查询次数389\n"
     ]
    },
    {
     "name": "stderr",
     "output_type": "stream",
     "text": [
      "\n",
      "Processed prompts: 100%|██████████| 1/1 [00:00<00:00, 16.42it/s]\n",
      "\n",
      "Processed prompts: 100%|██████████| 1/1 [00:00<00:00, 19.47it/s]\n",
      " 71%|███████   | 702/987 [02:29<00:57,  4.97it/s]\n",
      "Processed prompts: 100%|██████████| 1/1 [00:00<00:00, 16.47it/s]\n",
      "\n",
      "Processed prompts: 100%|██████████| 1/1 [00:00<00:00, 19.30it/s]\n",
      " 71%|███████   | 703/987 [02:29<00:50,  5.65it/s]\n",
      "Processed prompts: 100%|██████████| 1/1 [00:00<00:00, 16.18it/s]\n",
      "\n",
      "Processed prompts: 100%|██████████| 1/1 [00:00<00:00, 19.31it/s]\n",
      " 71%|███████▏  | 704/987 [02:29<00:45,  6.25it/s]\n",
      "Processed prompts: 100%|██████████| 1/1 [00:00<00:00, 16.55it/s]\n",
      "\n",
      "Processed prompts: 100%|██████████| 1/1 [00:00<00:00, 19.51it/s]\n",
      " 71%|███████▏  | 705/987 [02:29<00:41,  6.77it/s]\n",
      "Processed prompts: 100%|██████████| 1/1 [00:00<00:00, 16.48it/s]\n",
      "\n",
      "Processed prompts: 100%|██████████| 1/1 [00:00<00:00, 19.31it/s]\n",
      " 72%|███████▏  | 706/987 [02:30<00:39,  7.19it/s]\n",
      "Processed prompts: 100%|██████████| 1/1 [00:00<00:00, 16.19it/s]\n",
      "\n",
      "Processed prompts:   0%|          | 0/5 [00:00<?, ?it/s]\u001b[A\n",
      "Processed prompts: 100%|██████████| 5/5 [00:00<00:00, 20.27it/s]\u001b[A\n",
      " 72%|███████▏  | 707/987 [02:30<00:54,  5.18it/s]"
     ]
    },
    {
     "name": "stdout",
     "output_type": "stream",
     "text": [
      "当前查询次数390\n"
     ]
    },
    {
     "name": "stderr",
     "output_type": "stream",
     "text": [
      "\n",
      "Processed prompts: 100%|██████████| 1/1 [00:00<00:00, 16.34it/s]\n",
      "\n",
      "Processed prompts:   0%|          | 0/5 [00:00<?, ?it/s]\u001b[A\n",
      "Processed prompts: 100%|██████████| 5/5 [00:00<00:00, 25.73it/s]\u001b[A\n",
      " 72%|███████▏  | 708/987 [02:30<00:59,  4.65it/s]"
     ]
    },
    {
     "name": "stdout",
     "output_type": "stream",
     "text": [
      "当前查询次数391\n"
     ]
    },
    {
     "name": "stderr",
     "output_type": "stream",
     "text": [
      "\n",
      "Processed prompts: 100%|██████████| 1/1 [00:00<00:00, 16.27it/s]\n",
      "\n",
      "Processed prompts: 100%|██████████| 1/1 [00:00<00:00, 18.88it/s]\n",
      " 72%|███████▏  | 709/987 [02:30<00:52,  5.34it/s]\n",
      "Processed prompts: 100%|██████████| 1/1 [00:00<00:00, 16.45it/s]\n",
      "\n",
      "Processed prompts: 100%|██████████| 1/1 [00:00<00:00, 19.31it/s]\n",
      " 72%|███████▏  | 710/987 [02:30<00:46,  5.99it/s]"
     ]
    },
    {
     "name": "stdout",
     "output_type": "stream",
     "text": [
      "average: 0.4\n"
     ]
    },
    {
     "name": "stderr",
     "output_type": "stream",
     "text": [
      "\n",
      "Processed prompts: 100%|██████████| 1/1 [00:00<00:00, 16.50it/s]\n",
      "\n",
      "Processed prompts:   0%|          | 0/5 [00:00<?, ?it/s]\u001b[A\n",
      "Processed prompts: 100%|██████████| 5/5 [00:00<00:00, 24.02it/s]\u001b[A\n",
      " 72%|███████▏  | 711/987 [02:31<00:55,  4.99it/s]"
     ]
    },
    {
     "name": "stdout",
     "output_type": "stream",
     "text": [
      "当前查询次数392\n"
     ]
    },
    {
     "name": "stderr",
     "output_type": "stream",
     "text": [
      "\n",
      "Processed prompts: 100%|██████████| 1/1 [00:00<00:00, 16.36it/s]\n",
      "\n",
      "Processed prompts: 100%|██████████| 1/1 [00:00<00:00, 19.21it/s]\n",
      " 72%|███████▏  | 712/987 [02:31<00:48,  5.67it/s]\n",
      "Processed prompts: 100%|██████████| 1/1 [00:00<00:00, 16.43it/s]\n",
      "\n",
      "Processed prompts:   0%|          | 0/5 [00:00<?, ?it/s]\u001b[A\n",
      "Processed prompts: 100%|██████████| 5/5 [00:00<00:00, 25.70it/s]\u001b[A\n",
      " 72%|███████▏  | 713/987 [02:31<00:55,  4.93it/s]"
     ]
    },
    {
     "name": "stdout",
     "output_type": "stream",
     "text": [
      "当前查询次数393\n"
     ]
    },
    {
     "name": "stderr",
     "output_type": "stream",
     "text": [
      "\n",
      "Processed prompts: 100%|██████████| 1/1 [00:00<00:00, 16.56it/s]\n",
      "\n",
      "Processed prompts: 100%|██████████| 1/1 [00:00<00:00, 19.39it/s]\n",
      " 72%|███████▏  | 714/987 [02:31<00:48,  5.62it/s]\n",
      "Processed prompts: 100%|██████████| 1/1 [00:00<00:00, 16.64it/s]\n",
      "\n",
      "Processed prompts: 100%|██████████| 1/1 [00:00<00:00, 19.21it/s]\n",
      " 72%|███████▏  | 715/987 [02:31<00:43,  6.25it/s]\n",
      "Processed prompts: 100%|██████████| 1/1 [00:00<00:00, 16.56it/s]\n",
      "\n",
      "Processed prompts: 100%|██████████| 1/1 [00:00<00:00, 19.36it/s]\n",
      " 73%|███████▎  | 716/987 [02:31<00:39,  6.78it/s]\n",
      "Processed prompts: 100%|██████████| 1/1 [00:00<00:00, 16.57it/s]\n",
      "\n",
      "Processed prompts: 100%|██████████| 1/1 [00:00<00:00, 19.41it/s]\n",
      " 73%|███████▎  | 717/987 [02:32<00:37,  7.21it/s]\n",
      "Processed prompts: 100%|██████████| 1/1 [00:00<00:00, 16.49it/s]\n",
      "\n",
      "Processed prompts: 100%|██████████| 1/1 [00:00<00:00, 19.42it/s]\n",
      " 73%|███████▎  | 718/987 [02:32<00:35,  7.54it/s]\n",
      "Processed prompts: 100%|██████████| 1/1 [00:00<00:00, 16.57it/s]\n",
      "\n",
      "Processed prompts:   0%|          | 0/5 [00:00<?, ?it/s]\u001b[A\n",
      "Processed prompts: 100%|██████████| 5/5 [00:00<00:00, 23.72it/s]\u001b[A\n",
      " 73%|███████▎  | 719/987 [02:32<00:47,  5.64it/s]"
     ]
    },
    {
     "name": "stdout",
     "output_type": "stream",
     "text": [
      "当前查询次数394\n"
     ]
    },
    {
     "name": "stderr",
     "output_type": "stream",
     "text": [
      "\n",
      "Processed prompts: 100%|██████████| 1/1 [00:00<00:00, 16.51it/s]\n",
      "\n",
      "Processed prompts:   0%|          | 0/5 [00:00<?, ?it/s]\u001b[A\n",
      "Processed prompts: 100%|██████████| 5/5 [00:00<00:00, 21.28it/s]\u001b[A\n",
      " 73%|███████▎  | 720/987 [02:32<00:57,  4.63it/s]"
     ]
    },
    {
     "name": "stdout",
     "output_type": "stream",
     "text": [
      "当前查询次数395\n",
      "average: 0.7\n"
     ]
    },
    {
     "name": "stderr",
     "output_type": "stream",
     "text": [
      "\n",
      "Processed prompts: 100%|██████████| 1/1 [00:00<00:00, 16.35it/s]\n",
      "\n",
      "Processed prompts:   0%|          | 0/5 [00:00<?, ?it/s]\u001b[A\n",
      "Processed prompts: 100%|██████████| 5/5 [00:00<00:00, 23.38it/s]\u001b[A\n",
      " 73%|███████▎  | 721/987 [02:33<01:03,  4.22it/s]"
     ]
    },
    {
     "name": "stdout",
     "output_type": "stream",
     "text": [
      "当前查询次数396\n"
     ]
    },
    {
     "name": "stderr",
     "output_type": "stream",
     "text": [
      "\n",
      "Processed prompts: 100%|██████████| 1/1 [00:00<00:00, 16.25it/s]\n",
      "\n",
      "Processed prompts:   0%|          | 0/5 [00:00<?, ?it/s]\u001b[A\n",
      "Processed prompts: 100%|██████████| 5/5 [00:00<00:00, 23.34it/s]\u001b[A\n",
      " 73%|███████▎  | 722/987 [02:33<01:06,  3.97it/s]"
     ]
    },
    {
     "name": "stdout",
     "output_type": "stream",
     "text": [
      "当前查询次数397\n"
     ]
    },
    {
     "name": "stderr",
     "output_type": "stream",
     "text": [
      "\n",
      "Processed prompts: 100%|██████████| 1/1 [00:00<00:00, 16.48it/s]\n",
      "\n",
      "Processed prompts: 100%|██████████| 1/1 [00:00<00:00, 19.57it/s]\n",
      " 73%|███████▎  | 723/987 [02:33<00:55,  4.72it/s]\n",
      "Processed prompts: 100%|██████████| 1/1 [00:00<00:00, 16.49it/s]\n",
      "\n",
      "Processed prompts: 100%|██████████| 1/1 [00:00<00:00, 19.38it/s]\n",
      " 73%|███████▎  | 724/987 [02:33<00:48,  5.44it/s]\n",
      "Processed prompts: 100%|██████████| 1/1 [00:00<00:00, 16.54it/s]\n",
      "\n",
      "Processed prompts:   0%|          | 0/5 [00:00<?, ?it/s]\u001b[A\n",
      "Processed prompts: 100%|██████████| 5/5 [00:00<00:00, 23.64it/s]\u001b[A\n",
      " 73%|███████▎  | 725/987 [02:33<00:55,  4.69it/s]"
     ]
    },
    {
     "name": "stdout",
     "output_type": "stream",
     "text": [
      "当前查询次数398\n"
     ]
    },
    {
     "name": "stderr",
     "output_type": "stream",
     "text": [
      "\n",
      "Processed prompts: 100%|██████████| 1/1 [00:00<00:00, 16.48it/s]\n",
      "\n",
      "Processed prompts: 100%|██████████| 1/1 [00:00<00:00, 19.53it/s]\n",
      " 74%|███████▎  | 726/987 [02:33<00:48,  5.40it/s]\n",
      "Processed prompts: 100%|██████████| 1/1 [00:00<00:00, 16.52it/s]\n",
      "\n",
      "Processed prompts:   0%|          | 0/5 [00:00<?, ?it/s]\u001b[A\n",
      "Processed prompts: 100%|██████████| 5/5 [00:00<00:00, 23.24it/s]\u001b[A\n",
      " 74%|███████▎  | 727/987 [02:34<00:55,  4.65it/s]"
     ]
    },
    {
     "name": "stdout",
     "output_type": "stream",
     "text": [
      "当前查询次数399\n"
     ]
    },
    {
     "name": "stderr",
     "output_type": "stream",
     "text": [
      "\n",
      "Processed prompts: 100%|██████████| 1/1 [00:00<00:00, 16.48it/s]\n",
      "\n",
      "Processed prompts: 100%|██████████| 1/1 [00:00<00:00, 19.44it/s]\n",
      " 74%|███████▍  | 728/987 [02:34<00:48,  5.37it/s]\n",
      "Processed prompts: 100%|██████████| 1/1 [00:00<00:00, 16.62it/s]\n",
      "\n",
      "Processed prompts: 100%|██████████| 1/1 [00:00<00:00, 19.40it/s]\n",
      " 74%|███████▍  | 729/987 [02:34<00:42,  6.03it/s]\n",
      "Processed prompts: 100%|██████████| 1/1 [00:00<00:00, 16.55it/s]\n",
      "\n",
      "Processed prompts:   0%|          | 0/5 [00:00<?, ?it/s]\u001b[A\n",
      "Processed prompts: 100%|██████████| 5/5 [00:00<00:00, 21.25it/s]\u001b[A\n",
      " 74%|███████▍  | 730/987 [02:34<00:53,  4.81it/s]"
     ]
    },
    {
     "name": "stdout",
     "output_type": "stream",
     "text": [
      "当前查询次数400\n",
      "average: 0.8\n"
     ]
    },
    {
     "name": "stderr",
     "output_type": "stream",
     "text": [
      "\n",
      "Processed prompts: 100%|██████████| 1/1 [00:00<00:00, 16.39it/s]\n",
      "\n",
      "Processed prompts: 100%|██████████| 1/1 [00:00<00:00, 19.47it/s]\n",
      " 74%|███████▍  | 731/987 [02:34<00:46,  5.51it/s]\n",
      "Processed prompts: 100%|██████████| 1/1 [00:00<00:00, 16.51it/s]\n",
      "\n",
      "Processed prompts: 100%|██████████| 1/1 [00:00<00:00, 19.37it/s]\n",
      " 74%|███████▍  | 732/987 [02:35<00:41,  6.15it/s]\n",
      "Processed prompts: 100%|██████████| 1/1 [00:00<00:00, 16.59it/s]\n",
      "\n",
      "Processed prompts: 100%|██████████| 1/1 [00:00<00:00, 19.39it/s]\n",
      " 74%|███████▍  | 733/987 [02:35<00:37,  6.70it/s]\n",
      "Processed prompts: 100%|██████████| 1/1 [00:00<00:00, 16.58it/s]\n",
      "\n",
      "Processed prompts:   0%|          | 0/5 [00:00<?, ?it/s]\u001b[A\n",
      "Processed prompts: 100%|██████████| 5/5 [00:00<00:00, 20.35it/s]\u001b[A\n",
      " 74%|███████▍  | 734/987 [02:35<00:50,  5.01it/s]"
     ]
    },
    {
     "name": "stdout",
     "output_type": "stream",
     "text": [
      "当前查询次数401\n"
     ]
    },
    {
     "name": "stderr",
     "output_type": "stream",
     "text": [
      "\n",
      "Processed prompts: 100%|██████████| 1/1 [00:00<00:00, 16.52it/s]\n",
      "\n",
      "Processed prompts: 100%|██████████| 1/1 [00:00<00:00, 19.49it/s]\n",
      " 74%|███████▍  | 735/987 [02:35<00:44,  5.70it/s]\n",
      "Processed prompts: 100%|██████████| 1/1 [00:00<00:00, 16.42it/s]\n",
      "\n",
      "Processed prompts: 100%|██████████| 1/1 [00:00<00:00, 18.75it/s]\n",
      " 75%|███████▍  | 736/987 [02:35<00:39,  6.28it/s]\n",
      "Processed prompts: 100%|██████████| 1/1 [00:00<00:00, 16.47it/s]\n",
      "\n",
      "Processed prompts:   0%|          | 0/5 [00:00<?, ?it/s]\u001b[A\n",
      "Processed prompts: 100%|██████████| 5/5 [00:00<00:00, 23.73it/s]\u001b[A\n",
      " 75%|███████▍  | 737/987 [02:35<00:48,  5.10it/s]"
     ]
    },
    {
     "name": "stdout",
     "output_type": "stream",
     "text": [
      "当前查询次数402\n"
     ]
    },
    {
     "name": "stderr",
     "output_type": "stream",
     "text": [
      "\n",
      "Processed prompts: 100%|██████████| 1/1 [00:00<00:00, 16.51it/s]\n",
      "\n",
      "Processed prompts:   0%|          | 0/5 [00:00<?, ?it/s]\u001b[A\n",
      "Processed prompts: 100%|██████████| 5/5 [00:00<00:00, 25.99it/s]\u001b[A\n",
      " 75%|███████▍  | 738/987 [02:36<00:53,  4.62it/s]"
     ]
    },
    {
     "name": "stdout",
     "output_type": "stream",
     "text": [
      "当前查询次数403\n"
     ]
    },
    {
     "name": "stderr",
     "output_type": "stream",
     "text": [
      "\n",
      "Processed prompts: 100%|██████████| 1/1 [00:00<00:00, 16.20it/s]\n",
      "\n",
      "Processed prompts: 100%|██████████| 1/1 [00:00<00:00, 19.35it/s]\n",
      " 75%|███████▍  | 739/987 [02:36<00:46,  5.33it/s]\n",
      "Processed prompts: 100%|██████████| 1/1 [00:00<00:00, 16.37it/s]\n",
      "\n",
      "Processed prompts: 100%|██████████| 1/1 [00:00<00:00, 19.38it/s]\n",
      " 75%|███████▍  | 740/987 [02:36<00:41,  5.98it/s]"
     ]
    },
    {
     "name": "stdout",
     "output_type": "stream",
     "text": [
      "average: 0.8\n"
     ]
    },
    {
     "name": "stderr",
     "output_type": "stream",
     "text": [
      "\n",
      "Processed prompts: 100%|██████████| 1/1 [00:00<00:00, 16.35it/s]\n",
      "\n",
      "Processed prompts:   0%|          | 0/5 [00:00<?, ?it/s]\u001b[A\n",
      "Processed prompts: 100%|██████████| 5/5 [00:00<00:00, 23.46it/s]\u001b[A\n",
      " 75%|███████▌  | 741/987 [02:36<00:49,  4.93it/s]"
     ]
    },
    {
     "name": "stdout",
     "output_type": "stream",
     "text": [
      "当前查询次数404\n"
     ]
    },
    {
     "name": "stderr",
     "output_type": "stream",
     "text": [
      "\n",
      "Processed prompts: 100%|██████████| 1/1 [00:00<00:00, 16.31it/s]\n",
      "\n",
      "Processed prompts: 100%|██████████| 1/1 [00:00<00:00, 19.30it/s]\n",
      " 75%|███████▌  | 742/987 [02:36<00:43,  5.61it/s]\n",
      "Processed prompts: 100%|██████████| 1/1 [00:00<00:00, 16.49it/s]\n",
      "\n",
      "Processed prompts: 100%|██████████| 1/1 [00:00<00:00, 19.41it/s]\n",
      " 75%|███████▌  | 743/987 [02:37<00:39,  6.23it/s]\n",
      "Processed prompts: 100%|██████████| 1/1 [00:00<00:00, 16.55it/s]\n",
      "\n",
      "Processed prompts: 100%|██████████| 1/1 [00:00<00:00, 19.49it/s]\n",
      " 75%|███████▌  | 744/987 [02:37<00:35,  6.76it/s]\n",
      "Processed prompts: 100%|██████████| 1/1 [00:00<00:00, 16.13it/s]\n",
      "\n",
      "Processed prompts: 100%|██████████| 1/1 [00:00<00:00, 19.23it/s]\n",
      " 75%|███████▌  | 745/987 [02:37<00:33,  7.16it/s]\n",
      "Processed prompts: 100%|██████████| 1/1 [00:00<00:00, 16.38it/s]\n",
      "\n",
      "Processed prompts:   0%|          | 0/5 [00:00<?, ?it/s]\u001b[A\n",
      "Processed prompts: 100%|██████████| 5/5 [00:00<00:00, 23.10it/s]\u001b[A\n",
      " 76%|███████▌  | 746/987 [02:37<00:44,  5.42it/s]"
     ]
    },
    {
     "name": "stdout",
     "output_type": "stream",
     "text": [
      "当前查询次数405\n"
     ]
    },
    {
     "name": "stderr",
     "output_type": "stream",
     "text": [
      "\n",
      "Processed prompts: 100%|██████████| 1/1 [00:00<00:00, 16.29it/s]\n",
      "\n",
      "Processed prompts:   0%|          | 0/5 [00:00<?, ?it/s]\u001b[A\n",
      "Processed prompts: 100%|██████████| 5/5 [00:00<00:00, 23.67it/s]\u001b[A\n",
      " 76%|███████▌  | 747/987 [02:37<00:51,  4.67it/s]"
     ]
    },
    {
     "name": "stdout",
     "output_type": "stream",
     "text": [
      "当前查询次数406\n"
     ]
    },
    {
     "name": "stderr",
     "output_type": "stream",
     "text": [
      "\n",
      "Processed prompts: 100%|██████████| 1/1 [00:00<00:00, 16.36it/s]\n",
      "\n",
      "Processed prompts: 100%|██████████| 1/1 [00:00<00:00, 19.52it/s]\n",
      " 76%|███████▌  | 748/987 [02:37<00:44,  5.38it/s]\n",
      "Processed prompts: 100%|██████████| 1/1 [00:00<00:00, 16.44it/s]\n",
      "\n",
      "Processed prompts: 100%|██████████| 1/1 [00:00<00:00, 19.12it/s]\n",
      " 76%|███████▌  | 749/987 [02:38<00:39,  6.01it/s]\n",
      "Processed prompts: 100%|██████████| 1/1 [00:00<00:00, 16.31it/s]\n",
      "\n",
      "Processed prompts: 100%|██████████| 1/1 [00:00<00:00, 19.38it/s]\n",
      " 76%|███████▌  | 750/987 [02:38<00:36,  6.54it/s]"
     ]
    },
    {
     "name": "stdout",
     "output_type": "stream",
     "text": [
      "average: 0.7\n"
     ]
    },
    {
     "name": "stderr",
     "output_type": "stream",
     "text": [
      "\n",
      "Processed prompts: 100%|██████████| 1/1 [00:00<00:00, 16.22it/s]\n",
      "\n",
      "Processed prompts: 100%|██████████| 1/1 [00:00<00:00, 19.18it/s]\n",
      " 76%|███████▌  | 751/987 [02:38<00:33,  6.96it/s]\n",
      "Processed prompts: 100%|██████████| 1/1 [00:00<00:00, 16.36it/s]\n",
      "\n",
      "Processed prompts:   0%|          | 0/5 [00:00<?, ?it/s]\u001b[A\n",
      "Processed prompts: 100%|██████████| 5/5 [00:00<00:00, 21.33it/s]\u001b[A\n",
      " 76%|███████▌  | 752/987 [02:38<00:45,  5.19it/s]"
     ]
    },
    {
     "name": "stdout",
     "output_type": "stream",
     "text": [
      "当前查询次数407\n"
     ]
    },
    {
     "name": "stderr",
     "output_type": "stream",
     "text": [
      "\n",
      "Processed prompts: 100%|██████████| 1/1 [00:00<00:00, 16.39it/s]\n",
      "\n",
      "Processed prompts:   0%|          | 0/5 [00:00<?, ?it/s]\u001b[A\n",
      "Processed prompts: 100%|██████████| 5/5 [00:00<00:00, 21.38it/s]\u001b[A\n",
      " 76%|███████▋  | 753/987 [02:38<00:53,  4.41it/s]"
     ]
    },
    {
     "name": "stdout",
     "output_type": "stream",
     "text": [
      "当前查询次数408\n"
     ]
    },
    {
     "name": "stderr",
     "output_type": "stream",
     "text": [
      "\n",
      "Processed prompts: 100%|██████████| 1/1 [00:00<00:00, 16.34it/s]\n",
      "\n",
      "Processed prompts:   0%|          | 0/5 [00:00<?, ?it/s]\u001b[A\n",
      "Processed prompts: 100%|██████████| 5/5 [00:00<00:00, 23.70it/s]\u001b[A\n",
      " 76%|███████▋  | 754/987 [02:39<00:56,  4.10it/s]"
     ]
    },
    {
     "name": "stdout",
     "output_type": "stream",
     "text": [
      "当前查询次数409\n"
     ]
    },
    {
     "name": "stderr",
     "output_type": "stream",
     "text": [
      "\n",
      "Processed prompts: 100%|██████████| 1/1 [00:00<00:00, 16.33it/s]\n",
      "\n",
      "Processed prompts: 100%|██████████| 1/1 [00:00<00:00, 19.30it/s]\n",
      " 76%|███████▋  | 755/987 [02:39<00:48,  4.82it/s]\n",
      "Processed prompts: 100%|██████████| 1/1 [00:00<00:00, 16.56it/s]\n",
      "\n",
      "Processed prompts:   0%|          | 0/5 [00:00<?, ?it/s]\u001b[A\n",
      "Processed prompts: 100%|██████████| 5/5 [00:00<00:00, 23.94it/s]\u001b[A\n",
      " 77%|███████▋  | 756/987 [02:39<00:52,  4.36it/s]"
     ]
    },
    {
     "name": "stdout",
     "output_type": "stream",
     "text": [
      "当前查询次数410\n"
     ]
    },
    {
     "name": "stderr",
     "output_type": "stream",
     "text": [
      "\n",
      "Processed prompts: 100%|██████████| 1/1 [00:00<00:00, 16.35it/s]\n",
      "\n",
      "Processed prompts: 100%|██████████| 1/1 [00:00<00:00, 19.44it/s]\n",
      " 77%|███████▋  | 757/987 [02:39<00:45,  5.08it/s]\n",
      "Processed prompts: 100%|██████████| 1/1 [00:00<00:00, 16.34it/s]\n",
      "\n",
      "Processed prompts:   0%|          | 0/5 [00:00<?, ?it/s]\u001b[A\n",
      "Processed prompts: 100%|██████████| 5/5 [00:00<00:00, 23.50it/s]\u001b[A\n",
      " 77%|███████▋  | 758/987 [02:40<00:51,  4.47it/s]"
     ]
    },
    {
     "name": "stdout",
     "output_type": "stream",
     "text": [
      "当前查询次数411\n"
     ]
    },
    {
     "name": "stderr",
     "output_type": "stream",
     "text": [
      "\n",
      "Processed prompts: 100%|██████████| 1/1 [00:00<00:00, 16.28it/s]\n",
      "\n",
      "Processed prompts: 100%|██████████| 1/1 [00:00<00:00, 19.32it/s]\n",
      " 77%|███████▋  | 759/987 [02:40<00:44,  5.18it/s]\n",
      "Processed prompts: 100%|██████████| 1/1 [00:00<00:00, 16.47it/s]\n",
      "\n",
      "Processed prompts: 100%|██████████| 1/1 [00:00<00:00, 19.23it/s]\n",
      " 77%|███████▋  | 760/987 [02:40<00:38,  5.83it/s]"
     ]
    },
    {
     "name": "stdout",
     "output_type": "stream",
     "text": [
      "average: 0.7\n"
     ]
    },
    {
     "name": "stderr",
     "output_type": "stream",
     "text": [
      "\n",
      "Processed prompts: 100%|██████████| 1/1 [00:00<00:00, 16.41it/s]\n",
      "\n",
      "Processed prompts: 100%|██████████| 1/1 [00:00<00:00, 19.37it/s]\n",
      " 77%|███████▋  | 761/987 [02:40<00:35,  6.39it/s]\n",
      "Processed prompts: 100%|██████████| 1/1 [00:00<00:00, 16.23it/s]\n",
      "\n",
      "Processed prompts:   0%|          | 0/5 [00:00<?, ?it/s]\u001b[A\n",
      "Processed prompts: 100%|██████████| 5/5 [00:00<00:00, 23.39it/s]\u001b[A\n",
      " 77%|███████▋  | 762/987 [02:40<00:44,  5.11it/s]"
     ]
    },
    {
     "name": "stdout",
     "output_type": "stream",
     "text": [
      "当前查询次数412\n"
     ]
    },
    {
     "name": "stderr",
     "output_type": "stream",
     "text": [
      "\n",
      "Processed prompts: 100%|██████████| 1/1 [00:00<00:00, 16.33it/s]\n",
      "\n",
      "Processed prompts:   0%|          | 0/5 [00:00<?, ?it/s]\u001b[A\n",
      "Processed prompts: 100%|██████████| 5/5 [00:00<00:00, 23.62it/s]\u001b[A\n",
      " 77%|███████▋  | 763/987 [02:40<00:49,  4.50it/s]"
     ]
    },
    {
     "name": "stdout",
     "output_type": "stream",
     "text": [
      "当前查询次数413\n"
     ]
    },
    {
     "name": "stderr",
     "output_type": "stream",
     "text": [
      "\n",
      "Processed prompts: 100%|██████████| 1/1 [00:00<00:00, 16.31it/s]\n",
      "\n",
      "Processed prompts:   0%|          | 0/5 [00:00<?, ?it/s]\u001b[A\n",
      "Processed prompts: 100%|██████████| 5/5 [00:00<00:00, 21.02it/s]\u001b[A\n",
      " 77%|███████▋  | 764/987 [02:41<00:55,  4.02it/s]"
     ]
    },
    {
     "name": "stdout",
     "output_type": "stream",
     "text": [
      "当前查询次数414\n"
     ]
    },
    {
     "name": "stderr",
     "output_type": "stream",
     "text": [
      "\n",
      "Processed prompts: 100%|██████████| 1/1 [00:00<00:00, 16.28it/s]\n",
      "\n",
      "Processed prompts: 100%|██████████| 1/1 [00:00<00:00, 19.25it/s]\n",
      " 78%|███████▊  | 765/987 [02:41<00:46,  4.75it/s]\n",
      "Processed prompts: 100%|██████████| 1/1 [00:00<00:00, 16.44it/s]\n",
      "\n",
      "Processed prompts: 100%|██████████| 1/1 [00:00<00:00, 19.36it/s]\n",
      " 78%|███████▊  | 766/987 [02:41<00:40,  5.46it/s]\n",
      "Processed prompts: 100%|██████████| 1/1 [00:00<00:00, 16.39it/s]\n",
      "\n",
      "Processed prompts:   0%|          | 0/5 [00:00<?, ?it/s]\u001b[A\n",
      "Processed prompts: 100%|██████████| 5/5 [00:00<00:00, 25.69it/s]\u001b[A\n",
      " 78%|███████▊  | 767/987 [02:41<00:45,  4.80it/s]"
     ]
    },
    {
     "name": "stdout",
     "output_type": "stream",
     "text": [
      "当前查询次数415\n"
     ]
    },
    {
     "name": "stderr",
     "output_type": "stream",
     "text": [
      "\n",
      "Processed prompts: 100%|██████████| 1/1 [00:00<00:00, 16.33it/s]\n",
      "\n",
      "Processed prompts:   0%|          | 0/5 [00:00<?, ?it/s]\u001b[A\n",
      "Processed prompts: 100%|██████████| 5/5 [00:00<00:00, 25.78it/s]\u001b[A\n",
      " 78%|███████▊  | 768/987 [02:42<00:49,  4.43it/s]"
     ]
    },
    {
     "name": "stdout",
     "output_type": "stream",
     "text": [
      "当前查询次数416\n"
     ]
    },
    {
     "name": "stderr",
     "output_type": "stream",
     "text": [
      "\n",
      "Processed prompts: 100%|██████████| 1/1 [00:00<00:00, 16.39it/s]\n",
      "\n",
      "Processed prompts:   0%|          | 0/5 [00:00<?, ?it/s]\u001b[A\n",
      "Processed prompts: 100%|██████████| 5/5 [00:00<00:00, 23.74it/s]\u001b[A\n",
      " 78%|███████▊  | 769/987 [02:42<00:52,  4.11it/s]"
     ]
    },
    {
     "name": "stdout",
     "output_type": "stream",
     "text": [
      "当前查询次数417\n"
     ]
    },
    {
     "name": "stderr",
     "output_type": "stream",
     "text": [
      "\n",
      "Processed prompts: 100%|██████████| 1/1 [00:00<00:00, 16.28it/s]\n",
      "\n",
      "Processed prompts: 100%|██████████| 1/1 [00:00<00:00, 18.97it/s]\n",
      " 78%|███████▊  | 770/987 [02:42<00:44,  4.84it/s]"
     ]
    },
    {
     "name": "stdout",
     "output_type": "stream",
     "text": [
      "average: 0.8\n"
     ]
    },
    {
     "name": "stderr",
     "output_type": "stream",
     "text": [
      "\n",
      "Processed prompts: 100%|██████████| 1/1 [00:00<00:00, 16.47it/s]\n",
      "\n",
      "Processed prompts:   0%|          | 0/5 [00:00<?, ?it/s]\u001b[A\n",
      "Processed prompts: 100%|██████████| 5/5 [00:00<00:00, 23.76it/s]\u001b[A\n",
      " 78%|███████▊  | 771/987 [02:42<00:49,  4.35it/s]"
     ]
    },
    {
     "name": "stdout",
     "output_type": "stream",
     "text": [
      "当前查询次数418\n"
     ]
    },
    {
     "name": "stderr",
     "output_type": "stream",
     "text": [
      "\n",
      "Processed prompts: 100%|██████████| 1/1 [00:00<00:00, 16.16it/s]\n",
      "\n",
      "Processed prompts:   0%|          | 0/5 [00:00<?, ?it/s]\u001b[A\n",
      "Processed prompts: 100%|██████████| 5/5 [00:00<00:00, 23.48it/s]\u001b[A\n",
      " 78%|███████▊  | 772/987 [02:43<00:53,  4.05it/s]"
     ]
    },
    {
     "name": "stdout",
     "output_type": "stream",
     "text": [
      "当前查询次数419\n"
     ]
    },
    {
     "name": "stderr",
     "output_type": "stream",
     "text": [
      "\n",
      "Processed prompts: 100%|██████████| 1/1 [00:00<00:00, 16.40it/s]\n",
      "\n",
      "Processed prompts: 100%|██████████| 1/1 [00:00<00:00, 19.40it/s]\n",
      " 78%|███████▊  | 773/987 [02:43<00:44,  4.78it/s]\n",
      "Processed prompts: 100%|██████████| 1/1 [00:00<00:00, 16.35it/s]\n",
      "\n",
      "Processed prompts: 100%|██████████| 1/1 [00:00<00:00, 19.12it/s]\n",
      " 78%|███████▊  | 774/987 [02:43<00:38,  5.48it/s]\n",
      "Processed prompts: 100%|██████████| 1/1 [00:00<00:00, 16.37it/s]\n",
      "\n",
      "Processed prompts: 100%|██████████| 1/1 [00:00<00:00, 19.29it/s]\n",
      " 79%|███████▊  | 775/987 [02:43<00:34,  6.09it/s]\n",
      "Processed prompts: 100%|██████████| 1/1 [00:00<00:00, 16.44it/s]\n",
      "\n",
      "Processed prompts:   0%|          | 0/5 [00:00<?, ?it/s]\u001b[A\n",
      "Processed prompts: 100%|██████████| 5/5 [00:00<00:00, 23.53it/s]\u001b[A\n",
      " 79%|███████▊  | 776/987 [02:43<00:42,  4.99it/s]"
     ]
    },
    {
     "name": "stdout",
     "output_type": "stream",
     "text": [
      "当前查询次数420\n"
     ]
    },
    {
     "name": "stderr",
     "output_type": "stream",
     "text": [
      "\n",
      "Processed prompts: 100%|██████████| 1/1 [00:00<00:00, 16.40it/s]\n",
      "\n",
      "Processed prompts:   0%|          | 0/5 [00:00<?, ?it/s]\u001b[A\n",
      "Processed prompts: 100%|██████████| 5/5 [00:00<00:00, 23.60it/s]\u001b[A\n",
      " 79%|███████▊  | 777/987 [02:43<00:47,  4.44it/s]"
     ]
    },
    {
     "name": "stdout",
     "output_type": "stream",
     "text": [
      "当前查询次数421\n"
     ]
    },
    {
     "name": "stderr",
     "output_type": "stream",
     "text": [
      "\n",
      "Processed prompts: 100%|██████████| 1/1 [00:00<00:00, 16.45it/s]\n",
      "\n",
      "Processed prompts:   0%|          | 0/5 [00:00<?, ?it/s]\u001b[A\n",
      "Processed prompts: 100%|██████████| 5/5 [00:00<00:00, 23.76it/s]\u001b[A\n",
      " 79%|███████▉  | 778/987 [02:44<00:50,  4.13it/s]"
     ]
    },
    {
     "name": "stdout",
     "output_type": "stream",
     "text": [
      "当前查询次数422\n"
     ]
    },
    {
     "name": "stderr",
     "output_type": "stream",
     "text": [
      "\n",
      "Processed prompts: 100%|██████████| 1/1 [00:00<00:00, 16.24it/s]\n",
      "\n",
      "Processed prompts: 100%|██████████| 1/1 [00:00<00:00, 19.20it/s]\n",
      " 79%|███████▉  | 779/987 [02:44<00:42,  4.85it/s]\n",
      "Processed prompts: 100%|██████████| 1/1 [00:00<00:00, 16.55it/s]\n",
      "\n",
      "Processed prompts: 100%|██████████| 1/1 [00:00<00:00, 19.57it/s]\n",
      " 79%|███████▉  | 780/987 [02:44<00:37,  5.56it/s]"
     ]
    },
    {
     "name": "stdout",
     "output_type": "stream",
     "text": [
      "average: 0.6\n"
     ]
    },
    {
     "name": "stderr",
     "output_type": "stream",
     "text": [
      "\n",
      "Processed prompts: 100%|██████████| 1/1 [00:00<00:00, 16.51it/s]\n",
      "\n",
      "Processed prompts: 100%|██████████| 1/1 [00:00<00:00, 19.40it/s]\n",
      " 79%|███████▉  | 781/987 [02:44<00:33,  6.18it/s]\n",
      "Processed prompts: 100%|██████████| 1/1 [00:00<00:00, 16.43it/s]\n",
      "\n",
      "Processed prompts:   0%|          | 0/5 [00:00<?, ?it/s]\u001b[A\n",
      "Processed prompts: 100%|██████████| 5/5 [00:00<00:00, 25.70it/s]\u001b[A\n",
      " 79%|███████▉  | 782/987 [02:44<00:39,  5.18it/s]"
     ]
    },
    {
     "name": "stdout",
     "output_type": "stream",
     "text": [
      "当前查询次数423\n"
     ]
    },
    {
     "name": "stderr",
     "output_type": "stream",
     "text": [
      "\n",
      "Processed prompts: 100%|██████████| 1/1 [00:00<00:00, 16.35it/s]\n",
      "\n",
      "Processed prompts:   0%|          | 0/5 [00:00<?, ?it/s]\u001b[A\n",
      "Processed prompts: 100%|██████████| 5/5 [00:00<00:00, 23.72it/s]\u001b[A\n",
      " 79%|███████▉  | 783/987 [02:45<00:44,  4.55it/s]"
     ]
    },
    {
     "name": "stdout",
     "output_type": "stream",
     "text": [
      "当前查询次数424\n"
     ]
    },
    {
     "name": "stderr",
     "output_type": "stream",
     "text": [
      "\n",
      "Processed prompts: 100%|██████████| 1/1 [00:00<00:00, 16.38it/s]\n",
      "\n",
      "Processed prompts:   0%|          | 0/5 [00:00<?, ?it/s]\u001b[A\n",
      "Processed prompts: 100%|██████████| 5/5 [00:00<00:00, 25.63it/s]\u001b[A\n",
      " 79%|███████▉  | 784/987 [02:45<00:47,  4.27it/s]"
     ]
    },
    {
     "name": "stdout",
     "output_type": "stream",
     "text": [
      "当前查询次数425\n"
     ]
    },
    {
     "name": "stderr",
     "output_type": "stream",
     "text": [
      "\n",
      "Processed prompts: 100%|██████████| 1/1 [00:00<00:00, 16.25it/s]\n",
      "\n",
      "Processed prompts:   0%|          | 0/5 [00:00<?, ?it/s]\u001b[A\n",
      "Processed prompts: 100%|██████████| 5/5 [00:00<00:00, 23.79it/s]\u001b[A\n",
      " 80%|███████▉  | 785/987 [02:45<00:50,  4.02it/s]"
     ]
    },
    {
     "name": "stdout",
     "output_type": "stream",
     "text": [
      "当前查询次数426\n"
     ]
    },
    {
     "name": "stderr",
     "output_type": "stream",
     "text": [
      "\n",
      "Processed prompts: 100%|██████████| 1/1 [00:00<00:00, 16.18it/s]\n",
      "\n",
      "Processed prompts: 100%|██████████| 1/1 [00:00<00:00, 19.27it/s]\n",
      " 80%|███████▉  | 786/987 [02:45<00:42,  4.75it/s]\n",
      "Processed prompts: 100%|██████████| 1/1 [00:00<00:00, 16.52it/s]\n",
      "\n",
      "Processed prompts: 100%|██████████| 1/1 [00:00<00:00, 19.23it/s]\n",
      " 80%|███████▉  | 787/987 [02:45<00:36,  5.45it/s]\n",
      "Processed prompts: 100%|██████████| 1/1 [00:00<00:00, 16.43it/s]\n",
      "\n",
      "Processed prompts: 100%|██████████| 1/1 [00:00<00:00, 19.23it/s]\n",
      " 80%|███████▉  | 788/987 [02:46<00:32,  6.08it/s]\n",
      "Processed prompts: 100%|██████████| 1/1 [00:00<00:00, 16.54it/s]\n",
      "\n",
      "Processed prompts: 100%|██████████| 1/1 [00:00<00:00, 19.29it/s]\n",
      " 80%|███████▉  | 789/987 [02:46<00:29,  6.63it/s]\n",
      "Processed prompts: 100%|██████████| 1/1 [00:00<00:00, 16.55it/s]\n",
      "\n",
      "Processed prompts:   0%|          | 0/5 [00:00<?, ?it/s]\u001b[A\n",
      "Processed prompts: 100%|██████████| 5/5 [00:00<00:00, 23.41it/s]\u001b[A\n",
      " 80%|████████  | 790/987 [02:46<00:37,  5.23it/s]"
     ]
    },
    {
     "name": "stdout",
     "output_type": "stream",
     "text": [
      "当前查询次数427\n",
      "average: 0.8\n"
     ]
    },
    {
     "name": "stderr",
     "output_type": "stream",
     "text": [
      "\n",
      "Processed prompts: 100%|██████████| 1/1 [00:00<00:00, 16.29it/s]\n",
      "\n",
      "Processed prompts: 100%|██████████| 1/1 [00:00<00:00, 19.27it/s]\n",
      " 80%|████████  | 791/987 [02:46<00:33,  5.88it/s]\n",
      "Processed prompts: 100%|██████████| 1/1 [00:00<00:00, 16.38it/s]\n",
      "\n",
      "Processed prompts:   0%|          | 0/5 [00:00<?, ?it/s]\u001b[A\n",
      "Processed prompts: 100%|██████████| 5/5 [00:00<00:00, 23.53it/s]\u001b[A\n",
      " 80%|████████  | 792/987 [02:46<00:39,  4.89it/s]"
     ]
    },
    {
     "name": "stdout",
     "output_type": "stream",
     "text": [
      "当前查询次数428\n"
     ]
    },
    {
     "name": "stderr",
     "output_type": "stream",
     "text": [
      "\n",
      "Processed prompts: 100%|██████████| 1/1 [00:00<00:00, 16.45it/s]\n",
      "\n",
      "Processed prompts: 100%|██████████| 1/1 [00:00<00:00, 19.49it/s]\n",
      " 80%|████████  | 793/987 [02:46<00:34,  5.59it/s]\n",
      "Processed prompts: 100%|██████████| 1/1 [00:00<00:00, 16.62it/s]\n",
      "\n",
      "Processed prompts: 100%|██████████| 1/1 [00:00<00:00, 19.33it/s]\n",
      " 80%|████████  | 794/987 [02:47<00:31,  6.21it/s]\n",
      "Processed prompts: 100%|██████████| 1/1 [00:00<00:00, 16.30it/s]\n",
      "\n",
      "Processed prompts: 100%|██████████| 1/1 [00:00<00:00, 19.30it/s]\n",
      " 81%|████████  | 795/987 [02:47<00:28,  6.72it/s]\n",
      "Processed prompts: 100%|██████████| 1/1 [00:00<00:00, 16.50it/s]\n",
      "\n",
      "Processed prompts: 100%|██████████| 1/1 [00:00<00:00, 19.34it/s]\n",
      " 81%|████████  | 796/987 [02:47<00:26,  7.14it/s]\n",
      "Processed prompts: 100%|██████████| 1/1 [00:00<00:00, 16.43it/s]\n",
      "\n",
      "Processed prompts:   0%|          | 0/5 [00:00<?, ?it/s]\u001b[A\n",
      "Processed prompts: 100%|██████████| 5/5 [00:00<00:00, 25.80it/s]\u001b[A\n",
      " 81%|████████  | 797/987 [02:47<00:33,  5.62it/s]"
     ]
    },
    {
     "name": "stdout",
     "output_type": "stream",
     "text": [
      "当前查询次数429\n"
     ]
    },
    {
     "name": "stderr",
     "output_type": "stream",
     "text": [
      "\n",
      "Processed prompts: 100%|██████████| 1/1 [00:00<00:00, 16.27it/s]\n",
      "\n",
      "Processed prompts: 100%|██████████| 1/1 [00:00<00:00, 19.28it/s]\n",
      " 81%|████████  | 798/987 [02:47<00:30,  6.22it/s]\n",
      "Processed prompts: 100%|██████████| 1/1 [00:00<00:00, 16.47it/s]\n",
      "\n",
      "Processed prompts: 100%|██████████| 1/1 [00:00<00:00, 19.27it/s]\n",
      " 81%|████████  | 799/987 [02:47<00:27,  6.73it/s]\n",
      "Processed prompts: 100%|██████████| 1/1 [00:00<00:00, 16.16it/s]\n",
      "\n",
      "Processed prompts:   0%|          | 0/5 [00:00<?, ?it/s]\u001b[A\n",
      "Processed prompts: 100%|██████████| 5/5 [00:00<00:00, 21.31it/s]\u001b[A\n",
      " 81%|████████  | 800/987 [02:48<00:36,  5.09it/s]"
     ]
    },
    {
     "name": "stdout",
     "output_type": "stream",
     "text": [
      "当前查询次数430\n",
      "average: 0.8\n"
     ]
    },
    {
     "name": "stderr",
     "output_type": "stream",
     "text": [
      "\n",
      "Processed prompts: 100%|██████████| 1/1 [00:00<00:00, 16.31it/s]\n",
      "\n",
      "Processed prompts:   0%|          | 0/5 [00:00<?, ?it/s]\u001b[A\n",
      "Processed prompts: 100%|██████████| 5/5 [00:00<00:00, 22.84it/s]\u001b[A\n",
      " 81%|████████  | 801/987 [02:48<00:41,  4.45it/s]"
     ]
    },
    {
     "name": "stdout",
     "output_type": "stream",
     "text": [
      "当前查询次数431\n"
     ]
    },
    {
     "name": "stderr",
     "output_type": "stream",
     "text": [
      "\n",
      "Processed prompts: 100%|██████████| 1/1 [00:00<00:00, 16.47it/s]\n",
      "\n",
      "Processed prompts:   0%|          | 0/5 [00:00<?, ?it/s]\u001b[A\n",
      "Processed prompts: 100%|██████████| 5/5 [00:00<00:00, 21.98it/s]\u001b[A\n",
      " 81%|████████▏ | 802/987 [02:48<00:45,  4.04it/s]"
     ]
    },
    {
     "name": "stdout",
     "output_type": "stream",
     "text": [
      "当前查询次数432\n"
     ]
    },
    {
     "name": "stderr",
     "output_type": "stream",
     "text": [
      "\n",
      "Processed prompts: 100%|██████████| 1/1 [00:00<00:00, 16.47it/s]\n",
      "\n",
      "Processed prompts:   0%|          | 0/5 [00:00<?, ?it/s]\u001b[A\n",
      "Processed prompts: 100%|██████████| 5/5 [00:00<00:00, 21.55it/s]\u001b[A\n",
      " 81%|████████▏ | 803/987 [02:49<00:48,  3.78it/s]"
     ]
    },
    {
     "name": "stdout",
     "output_type": "stream",
     "text": [
      "当前查询次数433\n"
     ]
    },
    {
     "name": "stderr",
     "output_type": "stream",
     "text": [
      "\n",
      "Processed prompts: 100%|██████████| 1/1 [00:00<00:00, 16.36it/s]\n",
      "\n",
      "Processed prompts: 100%|██████████| 1/1 [00:00<00:00, 19.32it/s]\n",
      " 81%|████████▏ | 804/987 [02:49<00:40,  4.52it/s]\n",
      "Processed prompts: 100%|██████████| 1/1 [00:00<00:00, 16.55it/s]\n",
      "\n",
      "Processed prompts:   0%|          | 0/5 [00:00<?, ?it/s]\u001b[A\n",
      "Processed prompts: 100%|██████████| 5/5 [00:00<00:00, 21.16it/s]\u001b[A\n",
      " 82%|████████▏ | 805/987 [02:49<00:44,  4.04it/s]"
     ]
    },
    {
     "name": "stdout",
     "output_type": "stream",
     "text": [
      "当前查询次数434\n"
     ]
    },
    {
     "name": "stderr",
     "output_type": "stream",
     "text": [
      "\n",
      "Processed prompts: 100%|██████████| 1/1 [00:00<00:00, 16.45it/s]\n",
      "\n",
      "Processed prompts: 100%|██████████| 1/1 [00:00<00:00, 19.47it/s]\n",
      " 82%|████████▏ | 806/987 [02:49<00:37,  4.77it/s]\n",
      "Processed prompts: 100%|██████████| 1/1 [00:00<00:00, 16.51it/s]\n",
      "\n",
      "Processed prompts:   0%|          | 0/5 [00:00<?, ?it/s]\u001b[A\n",
      "Processed prompts: 100%|██████████| 5/5 [00:00<00:00, 23.10it/s]\u001b[A\n",
      " 82%|████████▏ | 807/987 [02:49<00:41,  4.29it/s]"
     ]
    },
    {
     "name": "stdout",
     "output_type": "stream",
     "text": [
      "当前查询次数435\n"
     ]
    },
    {
     "name": "stderr",
     "output_type": "stream",
     "text": [
      "\n",
      "Processed prompts: 100%|██████████| 1/1 [00:00<00:00, 16.28it/s]\n",
      "\n",
      "Processed prompts:   0%|          | 0/5 [00:00<?, ?it/s]\u001b[A\n",
      "Processed prompts: 100%|██████████| 5/5 [00:00<00:00, 23.37it/s]\u001b[A\n",
      " 82%|████████▏ | 808/987 [02:50<00:44,  4.02it/s]"
     ]
    },
    {
     "name": "stdout",
     "output_type": "stream",
     "text": [
      "当前查询次数436\n"
     ]
    },
    {
     "name": "stderr",
     "output_type": "stream",
     "text": [
      "\n",
      "Processed prompts: 100%|██████████| 1/1 [00:00<00:00, 16.20it/s]\n",
      "\n",
      "Processed prompts:   0%|          | 0/5 [00:00<?, ?it/s]\u001b[A\n",
      "Processed prompts: 100%|██████████| 5/5 [00:00<00:00, 20.40it/s]\u001b[A\n",
      " 82%|████████▏ | 809/987 [02:50<00:48,  3.71it/s]"
     ]
    },
    {
     "name": "stdout",
     "output_type": "stream",
     "text": [
      "当前查询次数437\n"
     ]
    },
    {
     "name": "stderr",
     "output_type": "stream",
     "text": [
      "\n",
      "Processed prompts: 100%|██████████| 1/1 [00:00<00:00, 16.20it/s]\n",
      "\n",
      "Processed prompts:   0%|          | 0/5 [00:00<?, ?it/s]\u001b[A\n",
      "Processed prompts: 100%|██████████| 5/5 [00:00<00:00, 23.62it/s]\u001b[A\n",
      " 82%|████████▏ | 810/987 [02:50<00:48,  3.65it/s]"
     ]
    },
    {
     "name": "stdout",
     "output_type": "stream",
     "text": [
      "当前查询次数438\n",
      "average: 0.7\n"
     ]
    },
    {
     "name": "stderr",
     "output_type": "stream",
     "text": [
      "\n",
      "Processed prompts: 100%|██████████| 1/1 [00:00<00:00, 16.31it/s]\n",
      "\n",
      "Processed prompts: 100%|██████████| 1/1 [00:00<00:00, 19.31it/s]\n",
      " 82%|████████▏ | 811/987 [02:50<00:40,  4.38it/s]\n",
      "Processed prompts: 100%|██████████| 1/1 [00:00<00:00, 16.59it/s]\n",
      "\n",
      "Processed prompts:   0%|          | 0/5 [00:00<?, ?it/s]\u001b[A\n",
      "Processed prompts: 100%|██████████| 5/5 [00:00<00:00, 23.70it/s]\u001b[A\n",
      " 82%|████████▏ | 812/987 [02:51<00:42,  4.09it/s]"
     ]
    },
    {
     "name": "stdout",
     "output_type": "stream",
     "text": [
      "当前查询次数439\n"
     ]
    },
    {
     "name": "stderr",
     "output_type": "stream",
     "text": [
      "\n",
      "Processed prompts: 100%|██████████| 1/1 [00:00<00:00, 16.19it/s]\n",
      "\n",
      "Processed prompts:   0%|          | 0/5 [00:00<?, ?it/s]\u001b[A\n",
      "Processed prompts: 100%|██████████| 5/5 [00:00<00:00, 22.19it/s]\u001b[A\n",
      " 82%|████████▏ | 813/987 [02:51<00:45,  3.84it/s]"
     ]
    },
    {
     "name": "stdout",
     "output_type": "stream",
     "text": [
      "当前查询次数440\n"
     ]
    },
    {
     "name": "stderr",
     "output_type": "stream",
     "text": [
      "\n",
      "Processed prompts: 100%|██████████| 1/1 [00:00<00:00, 16.38it/s]\n",
      "\n",
      "Processed prompts:   0%|          | 0/5 [00:00<?, ?it/s]\u001b[A\n",
      "Processed prompts: 100%|██████████| 5/5 [00:00<00:00, 23.70it/s]\u001b[A\n",
      " 82%|████████▏ | 814/987 [02:51<00:46,  3.74it/s]"
     ]
    },
    {
     "name": "stdout",
     "output_type": "stream",
     "text": [
      "当前查询次数441\n"
     ]
    },
    {
     "name": "stderr",
     "output_type": "stream",
     "text": [
      "\n",
      "Processed prompts: 100%|██████████| 1/1 [00:00<00:00, 16.34it/s]\n",
      "\n",
      "Processed prompts: 100%|██████████| 1/1 [00:00<00:00, 19.27it/s]\n",
      " 83%|████████▎ | 815/987 [02:51<00:38,  4.47it/s]\n",
      "Processed prompts: 100%|██████████| 1/1 [00:00<00:00, 16.34it/s]\n",
      "\n",
      "Processed prompts:   0%|          | 0/5 [00:00<?, ?it/s]\u001b[A\n",
      "Processed prompts: 100%|██████████| 5/5 [00:00<00:00, 23.20it/s]\u001b[A\n",
      " 83%|████████▎ | 816/987 [02:52<00:41,  4.12it/s]"
     ]
    },
    {
     "name": "stdout",
     "output_type": "stream",
     "text": [
      "当前查询次数442\n"
     ]
    },
    {
     "name": "stderr",
     "output_type": "stream",
     "text": [
      "\n",
      "Processed prompts: 100%|██████████| 1/1 [00:00<00:00, 16.16it/s]\n",
      "\n",
      "Processed prompts:   0%|          | 0/5 [00:00<?, ?it/s]\u001b[A\n",
      "Processed prompts: 100%|██████████| 5/5 [00:00<00:00, 23.20it/s]\u001b[A\n",
      " 83%|████████▎ | 817/987 [02:52<00:43,  3.89it/s]"
     ]
    },
    {
     "name": "stdout",
     "output_type": "stream",
     "text": [
      "当前查询次数443\n"
     ]
    },
    {
     "name": "stderr",
     "output_type": "stream",
     "text": [
      "\n",
      "Processed prompts: 100%|██████████| 1/1 [00:00<00:00, 15.94it/s]\n",
      "\n",
      "Processed prompts: 100%|██████████| 1/1 [00:00<00:00, 19.25it/s]\n",
      " 83%|████████▎ | 818/987 [02:52<00:36,  4.62it/s]\n",
      "Processed prompts: 100%|██████████| 1/1 [00:00<00:00, 16.37it/s]\n",
      "\n",
      "Processed prompts:   0%|          | 0/5 [00:00<?, ?it/s]\u001b[A\n",
      "Processed prompts: 100%|██████████| 5/5 [00:00<00:00, 22.07it/s]\u001b[A\n",
      " 83%|████████▎ | 819/987 [02:52<00:40,  4.15it/s]"
     ]
    },
    {
     "name": "stdout",
     "output_type": "stream",
     "text": [
      "当前查询次数444\n"
     ]
    },
    {
     "name": "stderr",
     "output_type": "stream",
     "text": [
      "\n",
      "Processed prompts: 100%|██████████| 1/1 [00:00<00:00, 16.28it/s]\n",
      "\n",
      "Processed prompts: 100%|██████████| 1/1 [00:00<00:00, 19.36it/s]\n",
      " 83%|████████▎ | 820/987 [02:52<00:34,  4.88it/s]"
     ]
    },
    {
     "name": "stdout",
     "output_type": "stream",
     "text": [
      "average: 0.7\n"
     ]
    },
    {
     "name": "stderr",
     "output_type": "stream",
     "text": [
      "\n",
      "Processed prompts: 100%|██████████| 1/1 [00:00<00:00, 16.53it/s]\n",
      "\n",
      "Processed prompts:   0%|          | 0/5 [00:00<?, ?it/s]\u001b[A\n",
      "Processed prompts: 100%|██████████| 5/5 [00:00<00:00, 21.14it/s]\u001b[A\n",
      " 83%|████████▎ | 821/987 [02:53<00:39,  4.23it/s]"
     ]
    },
    {
     "name": "stdout",
     "output_type": "stream",
     "text": [
      "当前查询次数445\n"
     ]
    },
    {
     "name": "stderr",
     "output_type": "stream",
     "text": [
      "\n",
      "Processed prompts: 100%|██████████| 1/1 [00:00<00:00, 16.35it/s]\n",
      "\n",
      "Processed prompts:   0%|          | 0/5 [00:00<?, ?it/s]\u001b[A\n",
      "Processed prompts: 100%|██████████| 5/5 [00:00<00:00, 23.30it/s]\u001b[A\n",
      " 83%|████████▎ | 822/987 [02:53<00:41,  3.97it/s]"
     ]
    },
    {
     "name": "stdout",
     "output_type": "stream",
     "text": [
      "当前查询次数446\n"
     ]
    },
    {
     "name": "stderr",
     "output_type": "stream",
     "text": [
      "\n",
      "Processed prompts: 100%|██████████| 1/1 [00:00<00:00, 16.34it/s]\n",
      "\n",
      "Processed prompts: 100%|██████████| 1/1 [00:00<00:00, 19.38it/s]\n",
      " 83%|████████▎ | 823/987 [02:53<00:34,  4.71it/s]\n",
      "Processed prompts: 100%|██████████| 1/1 [00:00<00:00, 16.19it/s]\n",
      "\n",
      "Processed prompts: 100%|██████████| 1/1 [00:00<00:00, 18.82it/s]\n",
      " 83%|████████▎ | 824/987 [02:53<00:30,  5.40it/s]\n",
      "Processed prompts: 100%|██████████| 1/1 [00:00<00:00, 16.26it/s]\n",
      "\n",
      "Processed prompts: 100%|██████████| 1/1 [00:00<00:00, 19.44it/s]\n",
      " 84%|████████▎ | 825/987 [02:53<00:26,  6.03it/s]\n",
      "Processed prompts: 100%|██████████| 1/1 [00:00<00:00, 16.56it/s]\n",
      "\n",
      "Processed prompts:   0%|          | 0/5 [00:00<?, ?it/s]\u001b[A\n",
      "Processed prompts: 100%|██████████| 5/5 [00:00<00:00, 23.63it/s]\u001b[A\n",
      " 84%|████████▎ | 826/987 [02:54<00:32,  4.97it/s]"
     ]
    },
    {
     "name": "stdout",
     "output_type": "stream",
     "text": [
      "当前查询次数447\n"
     ]
    },
    {
     "name": "stderr",
     "output_type": "stream",
     "text": [
      "\n",
      "Processed prompts: 100%|██████████| 1/1 [00:00<00:00, 16.15it/s]\n",
      "\n",
      "Processed prompts: 100%|██████████| 1/1 [00:00<00:00, 19.20it/s]\n",
      " 84%|████████▍ | 827/987 [02:54<00:28,  5.64it/s]\n",
      "Processed prompts: 100%|██████████| 1/1 [00:00<00:00, 16.45it/s]\n",
      "\n",
      "Processed prompts: 100%|██████████| 1/1 [00:00<00:00, 19.29it/s]\n",
      " 84%|████████▍ | 828/987 [02:54<00:25,  6.24it/s]\n",
      "Processed prompts: 100%|██████████| 1/1 [00:00<00:00, 16.46it/s]\n",
      "\n",
      "Processed prompts: 100%|██████████| 1/1 [00:00<00:00, 19.23it/s]\n",
      " 84%|████████▍ | 829/987 [02:54<00:23,  6.74it/s]\n",
      "Processed prompts: 100%|██████████| 1/1 [00:00<00:00, 16.53it/s]\n",
      "\n",
      "Processed prompts:   0%|          | 0/5 [00:00<?, ?it/s]\u001b[A\n",
      "Processed prompts: 100%|██████████| 5/5 [00:00<00:00, 23.39it/s]\u001b[A\n",
      " 84%|████████▍ | 830/987 [02:54<00:29,  5.28it/s]"
     ]
    },
    {
     "name": "stdout",
     "output_type": "stream",
     "text": [
      "当前查询次数448\n",
      "average: 0.7\n"
     ]
    },
    {
     "name": "stderr",
     "output_type": "stream",
     "text": [
      "\n",
      "Processed prompts: 100%|██████████| 1/1 [00:00<00:00, 15.42it/s]\n",
      "\n",
      "Processed prompts: 100%|██████████| 1/1 [00:00<00:00, 19.18it/s]\n",
      " 84%|████████▍ | 831/987 [02:55<00:26,  5.88it/s]\n",
      "Processed prompts: 100%|██████████| 1/1 [00:00<00:00, 16.37it/s]\n",
      "\n",
      "Processed prompts: 100%|██████████| 1/1 [00:00<00:00, 19.25it/s]\n",
      " 84%|████████▍ | 832/987 [02:55<00:24,  6.43it/s]\n",
      "Processed prompts: 100%|██████████| 1/1 [00:00<00:00, 16.27it/s]\n",
      "\n",
      "Processed prompts:   0%|          | 0/5 [00:00<?, ?it/s]\u001b[A\n",
      "Processed prompts: 100%|██████████| 5/5 [00:00<00:00, 23.30it/s]\u001b[A\n",
      " 84%|████████▍ | 833/987 [02:55<00:30,  5.13it/s]"
     ]
    },
    {
     "name": "stdout",
     "output_type": "stream",
     "text": [
      "当前查询次数449\n"
     ]
    },
    {
     "name": "stderr",
     "output_type": "stream",
     "text": [
      "\n",
      "Processed prompts: 100%|██████████| 1/1 [00:00<00:00, 16.38it/s]\n",
      "\n",
      "Processed prompts: 100%|██████████| 1/1 [00:00<00:00, 19.30it/s]\n",
      " 84%|████████▍ | 834/987 [02:55<00:26,  5.78it/s]\n",
      "Processed prompts: 100%|██████████| 1/1 [00:00<00:00, 16.54it/s]\n",
      "\n",
      "Processed prompts:   0%|          | 0/5 [00:00<?, ?it/s]\u001b[A\n",
      "Processed prompts: 100%|██████████| 5/5 [00:00<00:00, 25.86it/s]\u001b[A\n",
      " 85%|████████▍ | 835/987 [02:55<00:30,  4.99it/s]"
     ]
    },
    {
     "name": "stdout",
     "output_type": "stream",
     "text": [
      "当前查询次数450\n"
     ]
    },
    {
     "name": "stderr",
     "output_type": "stream",
     "text": [
      "\n",
      "Processed prompts: 100%|██████████| 1/1 [00:00<00:00, 16.22it/s]\n",
      "\n",
      "Processed prompts: 100%|██████████| 1/1 [00:00<00:00, 19.26it/s]\n",
      " 85%|████████▍ | 836/987 [02:55<00:26,  5.66it/s]\n",
      "Processed prompts: 100%|██████████| 1/1 [00:00<00:00, 16.43it/s]\n",
      "\n",
      "Processed prompts: 100%|██████████| 1/1 [00:00<00:00, 19.35it/s]\n",
      " 85%|████████▍ | 837/987 [02:56<00:23,  6.26it/s]\n",
      "Processed prompts: 100%|██████████| 1/1 [00:00<00:00, 16.45it/s]\n",
      "\n",
      "Processed prompts: 100%|██████████| 1/1 [00:00<00:00, 19.17it/s]\n",
      " 85%|████████▍ | 838/987 [02:56<00:22,  6.76it/s]\n",
      "Processed prompts: 100%|██████████| 1/1 [00:00<00:00, 16.51it/s]\n",
      "\n",
      "Processed prompts:   0%|          | 0/5 [00:00<?, ?it/s]\u001b[A\n",
      "Processed prompts: 100%|██████████| 5/5 [00:00<00:00, 21.14it/s]\u001b[A\n",
      " 85%|████████▌ | 839/987 [02:56<00:29,  5.10it/s]"
     ]
    },
    {
     "name": "stdout",
     "output_type": "stream",
     "text": [
      "当前查询次数451\n"
     ]
    },
    {
     "name": "stderr",
     "output_type": "stream",
     "text": [
      "\n",
      "Processed prompts: 100%|██████████| 1/1 [00:00<00:00, 16.24it/s]\n",
      "\n",
      "Processed prompts: 100%|██████████| 1/1 [00:00<00:00, 19.09it/s]\n",
      " 85%|████████▌ | 840/987 [02:56<00:25,  5.76it/s]"
     ]
    },
    {
     "name": "stdout",
     "output_type": "stream",
     "text": [
      "average: 0.6\n"
     ]
    },
    {
     "name": "stderr",
     "output_type": "stream",
     "text": [
      "\n",
      "Processed prompts: 100%|██████████| 1/1 [00:00<00:00, 16.40it/s]\n",
      "\n",
      "Processed prompts:   0%|          | 0/5 [00:00<?, ?it/s]\u001b[A\n",
      "Processed prompts: 100%|██████████| 5/5 [00:00<00:00, 21.07it/s]\u001b[A\n",
      " 85%|████████▌ | 841/987 [02:56<00:31,  4.66it/s]"
     ]
    },
    {
     "name": "stdout",
     "output_type": "stream",
     "text": [
      "当前查询次数452\n"
     ]
    },
    {
     "name": "stderr",
     "output_type": "stream",
     "text": [
      "\n",
      "Processed prompts: 100%|██████████| 1/1 [00:00<00:00, 16.25it/s]\n",
      "\n",
      "Processed prompts:   0%|          | 0/5 [00:00<?, ?it/s]\u001b[A\n",
      "Processed prompts: 100%|██████████| 5/5 [00:00<00:00, 23.00it/s]\u001b[A\n",
      " 85%|████████▌ | 842/987 [02:57<00:34,  4.22it/s]"
     ]
    },
    {
     "name": "stdout",
     "output_type": "stream",
     "text": [
      "当前查询次数453\n"
     ]
    },
    {
     "name": "stderr",
     "output_type": "stream",
     "text": [
      "\n",
      "Processed prompts: 100%|██████████| 1/1 [00:00<00:00, 16.16it/s]\n",
      "\n",
      "Processed prompts: 100%|██████████| 1/1 [00:00<00:00, 19.03it/s]\n",
      " 85%|████████▌ | 843/987 [02:57<00:29,  4.94it/s]\n",
      "Processed prompts: 100%|██████████| 1/1 [00:00<00:00, 16.34it/s]\n",
      "\n",
      "Processed prompts: 100%|██████████| 1/1 [00:00<00:00, 19.38it/s]\n",
      " 86%|████████▌ | 844/987 [02:57<00:25,  5.63it/s]\n",
      "Processed prompts: 100%|██████████| 1/1 [00:00<00:00, 16.38it/s]\n",
      "\n",
      "Processed prompts:   0%|          | 0/5 [00:00<?, ?it/s]\u001b[A\n",
      "Processed prompts: 100%|██████████| 5/5 [00:00<00:00, 23.57it/s]\u001b[A\n",
      " 86%|████████▌ | 845/987 [02:57<00:29,  4.77it/s]"
     ]
    },
    {
     "name": "stdout",
     "output_type": "stream",
     "text": [
      "当前查询次数454\n"
     ]
    },
    {
     "name": "stderr",
     "output_type": "stream",
     "text": [
      "\n",
      "Processed prompts: 100%|██████████| 1/1 [00:00<00:00, 16.47it/s]\n",
      "\n",
      "Processed prompts:   0%|          | 0/5 [00:00<?, ?it/s]\u001b[A\n",
      "Processed prompts: 100%|██████████| 5/5 [00:00<00:00, 26.08it/s]\u001b[A\n",
      " 86%|████████▌ | 846/987 [02:57<00:31,  4.43it/s]"
     ]
    },
    {
     "name": "stdout",
     "output_type": "stream",
     "text": [
      "当前查询次数455\n"
     ]
    },
    {
     "name": "stderr",
     "output_type": "stream",
     "text": [
      "\n",
      "Processed prompts: 100%|██████████| 1/1 [00:00<00:00, 15.74it/s]\n",
      "\n",
      "Processed prompts: 100%|██████████| 1/1 [00:00<00:00, 18.64it/s]\n",
      " 86%|████████▌ | 847/987 [02:58<00:27,  5.11it/s]\n",
      "Processed prompts: 100%|██████████| 1/1 [00:00<00:00, 16.39it/s]\n",
      "\n",
      "Processed prompts:   0%|          | 0/5 [00:00<?, ?it/s]\u001b[A\n",
      "Processed prompts: 100%|██████████| 5/5 [00:00<00:00, 21.08it/s]\u001b[A\n",
      " 86%|████████▌ | 848/987 [02:58<00:31,  4.36it/s]"
     ]
    },
    {
     "name": "stdout",
     "output_type": "stream",
     "text": [
      "当前查询次数456\n"
     ]
    },
    {
     "name": "stderr",
     "output_type": "stream",
     "text": [
      "\n",
      "Processed prompts: 100%|██████████| 1/1 [00:00<00:00, 16.48it/s]\n",
      "\n",
      "Processed prompts:   0%|          | 0/5 [00:00<?, ?it/s]\u001b[A\n",
      "Processed prompts: 100%|██████████| 5/5 [00:00<00:00, 25.87it/s]\u001b[A\n",
      " 86%|████████▌ | 849/987 [02:58<00:33,  4.16it/s]"
     ]
    },
    {
     "name": "stdout",
     "output_type": "stream",
     "text": [
      "当前查询次数457\n"
     ]
    },
    {
     "name": "stderr",
     "output_type": "stream",
     "text": [
      "\n",
      "Processed prompts: 100%|██████████| 1/1 [00:00<00:00, 16.49it/s]\n",
      "\n",
      "Processed prompts: 100%|██████████| 1/1 [00:00<00:00, 19.20it/s]\n",
      " 86%|████████▌ | 850/987 [02:58<00:27,  4.90it/s]"
     ]
    },
    {
     "name": "stdout",
     "output_type": "stream",
     "text": [
      "average: 0.9\n"
     ]
    },
    {
     "name": "stderr",
     "output_type": "stream",
     "text": [
      "\n",
      "Processed prompts: 100%|██████████| 1/1 [00:00<00:00, 16.41it/s]\n",
      "\n",
      "Processed prompts:   0%|          | 0/5 [00:00<?, ?it/s]\u001b[A\n",
      "Processed prompts: 100%|██████████| 5/5 [00:00<00:00, 23.42it/s]\u001b[A\n",
      " 86%|████████▌ | 851/987 [02:59<00:31,  4.38it/s]"
     ]
    },
    {
     "name": "stdout",
     "output_type": "stream",
     "text": [
      "当前查询次数458\n"
     ]
    },
    {
     "name": "stderr",
     "output_type": "stream",
     "text": [
      "\n",
      "Processed prompts: 100%|██████████| 1/1 [00:00<00:00, 16.27it/s]\n",
      "\n",
      "Processed prompts:   0%|          | 0/5 [00:00<?, ?it/s]\u001b[A\n",
      "Processed prompts: 100%|██████████| 5/5 [00:00<00:00, 23.37it/s]\u001b[A\n",
      " 86%|████████▋ | 852/987 [02:59<00:33,  4.06it/s]"
     ]
    },
    {
     "name": "stdout",
     "output_type": "stream",
     "text": [
      "当前查询次数459\n"
     ]
    },
    {
     "name": "stderr",
     "output_type": "stream",
     "text": [
      "\n",
      "Processed prompts: 100%|██████████| 1/1 [00:00<00:00, 16.45it/s]\n",
      "\n",
      "Processed prompts:   0%|          | 0/5 [00:00<?, ?it/s]\u001b[A\n",
      "Processed prompts: 100%|██████████| 5/5 [00:00<00:00, 23.44it/s]\u001b[A\n",
      " 86%|████████▋ | 853/987 [02:59<00:34,  3.88it/s]"
     ]
    },
    {
     "name": "stdout",
     "output_type": "stream",
     "text": [
      "当前查询次数460\n"
     ]
    },
    {
     "name": "stderr",
     "output_type": "stream",
     "text": [
      "\n",
      "Processed prompts: 100%|██████████| 1/1 [00:00<00:00, 16.37it/s]\n",
      "\n",
      "Processed prompts:   0%|          | 0/5 [00:00<?, ?it/s]\u001b[A\n",
      "Processed prompts: 100%|██████████| 5/5 [00:00<00:00, 25.92it/s]\u001b[A\n",
      " 87%|████████▋ | 854/987 [02:59<00:34,  3.85it/s]"
     ]
    },
    {
     "name": "stdout",
     "output_type": "stream",
     "text": [
      "当前查询次数461\n"
     ]
    },
    {
     "name": "stderr",
     "output_type": "stream",
     "text": [
      "\n",
      "Processed prompts: 100%|██████████| 1/1 [00:00<00:00, 16.31it/s]\n",
      "\n",
      "Processed prompts:   0%|          | 0/5 [00:00<?, ?it/s]\u001b[A\n",
      "Processed prompts: 100%|██████████| 5/5 [00:00<00:00, 25.83it/s]\u001b[A\n",
      " 87%|████████▋ | 855/987 [03:00<00:34,  3.82it/s]"
     ]
    },
    {
     "name": "stdout",
     "output_type": "stream",
     "text": [
      "当前查询次数462\n"
     ]
    },
    {
     "name": "stderr",
     "output_type": "stream",
     "text": [
      "\n",
      "Processed prompts: 100%|██████████| 1/1 [00:00<00:00, 15.66it/s]\n",
      "\n",
      "Processed prompts:   0%|          | 0/5 [00:00<?, ?it/s]\u001b[A\n",
      "Processed prompts: 100%|██████████| 5/5 [00:00<00:00, 22.18it/s]\u001b[A\n",
      " 87%|████████▋ | 856/987 [03:00<00:35,  3.65it/s]"
     ]
    },
    {
     "name": "stdout",
     "output_type": "stream",
     "text": [
      "当前查询次数463\n"
     ]
    },
    {
     "name": "stderr",
     "output_type": "stream",
     "text": [
      "\n",
      "Processed prompts: 100%|██████████| 1/1 [00:00<00:00, 16.07it/s]\n",
      "\n",
      "Processed prompts:   0%|          | 0/5 [00:00<?, ?it/s]\u001b[A\n",
      "Processed prompts: 100%|██████████| 5/5 [00:00<00:00, 23.40it/s]\u001b[A\n",
      " 87%|████████▋ | 857/987 [03:00<00:36,  3.59it/s]"
     ]
    },
    {
     "name": "stdout",
     "output_type": "stream",
     "text": [
      "当前查询次数464\n"
     ]
    },
    {
     "name": "stderr",
     "output_type": "stream",
     "text": [
      "\n",
      "Processed prompts: 100%|██████████| 1/1 [00:00<00:00, 16.25it/s]\n",
      "\n",
      "Processed prompts: 100%|██████████| 1/1 [00:00<00:00, 19.19it/s]\n",
      " 87%|████████▋ | 858/987 [03:00<00:29,  4.32it/s]\n",
      "Processed prompts: 100%|██████████| 1/1 [00:00<00:00, 16.29it/s]\n",
      "\n",
      "Processed prompts:   0%|          | 0/5 [00:00<?, ?it/s]\u001b[A\n",
      "Processed prompts: 100%|██████████| 5/5 [00:00<00:00, 23.44it/s]\u001b[A\n",
      " 87%|████████▋ | 859/987 [03:01<00:31,  4.03it/s]"
     ]
    },
    {
     "name": "stdout",
     "output_type": "stream",
     "text": [
      "当前查询次数465\n"
     ]
    },
    {
     "name": "stderr",
     "output_type": "stream",
     "text": [
      "\n",
      "Processed prompts: 100%|██████████| 1/1 [00:00<00:00, 16.17it/s]\n",
      "\n",
      "Processed prompts: 100%|██████████| 1/1 [00:00<00:00, 19.32it/s]\n",
      " 87%|████████▋ | 860/987 [03:01<00:26,  4.75it/s]"
     ]
    },
    {
     "name": "stdout",
     "output_type": "stream",
     "text": [
      "average: 0.6\n"
     ]
    },
    {
     "name": "stderr",
     "output_type": "stream",
     "text": [
      "\n",
      "Processed prompts: 100%|██████████| 1/1 [00:00<00:00, 16.39it/s]\n",
      "\n",
      "Processed prompts:   0%|          | 0/5 [00:00<?, ?it/s]\u001b[A\n",
      "Processed prompts: 100%|██████████| 5/5 [00:00<00:00, 25.74it/s]\u001b[A\n",
      " 87%|████████▋ | 861/987 [03:01<00:28,  4.40it/s]"
     ]
    },
    {
     "name": "stdout",
     "output_type": "stream",
     "text": [
      "当前查询次数466\n"
     ]
    },
    {
     "name": "stderr",
     "output_type": "stream",
     "text": [
      "\n",
      "Processed prompts: 100%|██████████| 1/1 [00:00<00:00, 16.40it/s]\n",
      "\n",
      "Processed prompts: 100%|██████████| 1/1 [00:00<00:00, 19.28it/s]\n",
      " 87%|████████▋ | 862/987 [03:01<00:24,  5.12it/s]\n",
      "Processed prompts: 100%|██████████| 1/1 [00:00<00:00, 16.65it/s]\n",
      "\n",
      "Processed prompts:   0%|          | 0/5 [00:00<?, ?it/s]\u001b[A\n",
      "Processed prompts: 100%|██████████| 5/5 [00:00<00:00, 23.95it/s]\u001b[A\n",
      " 87%|████████▋ | 863/987 [03:01<00:27,  4.54it/s]"
     ]
    },
    {
     "name": "stdout",
     "output_type": "stream",
     "text": [
      "当前查询次数467\n"
     ]
    },
    {
     "name": "stderr",
     "output_type": "stream",
     "text": [
      "\n",
      "Processed prompts: 100%|██████████| 1/1 [00:00<00:00, 16.39it/s]\n",
      "\n",
      "Processed prompts: 100%|██████████| 1/1 [00:00<00:00, 19.54it/s]\n",
      " 88%|████████▊ | 864/987 [03:02<00:23,  5.26it/s]\n",
      "Processed prompts: 100%|██████████| 1/1 [00:00<00:00, 16.39it/s]\n",
      "\n",
      "Processed prompts:   0%|          | 0/5 [00:00<?, ?it/s]\u001b[A\n",
      "Processed prompts: 100%|██████████| 5/5 [00:00<00:00, 25.73it/s]\u001b[A\n",
      " 88%|████████▊ | 865/987 [03:02<00:25,  4.70it/s]"
     ]
    },
    {
     "name": "stdout",
     "output_type": "stream",
     "text": [
      "当前查询次数468\n"
     ]
    },
    {
     "name": "stderr",
     "output_type": "stream",
     "text": [
      "\n",
      "Processed prompts: 100%|██████████| 1/1 [00:00<00:00, 16.41it/s]\n",
      "\n",
      "Processed prompts: 100%|██████████| 1/1 [00:00<00:00, 19.33it/s]\n",
      " 88%|████████▊ | 866/987 [03:02<00:22,  5.41it/s]\n",
      "Processed prompts: 100%|██████████| 1/1 [00:00<00:00, 16.59it/s]\n",
      "\n",
      "Processed prompts:   0%|          | 0/5 [00:00<?, ?it/s]\u001b[A\n",
      "Processed prompts: 100%|██████████| 5/5 [00:00<00:00, 23.61it/s]\u001b[A\n",
      " 88%|████████▊ | 867/987 [03:02<00:25,  4.67it/s]"
     ]
    },
    {
     "name": "stdout",
     "output_type": "stream",
     "text": [
      "当前查询次数469\n"
     ]
    },
    {
     "name": "stderr",
     "output_type": "stream",
     "text": [
      "\n",
      "Processed prompts: 100%|██████████| 1/1 [00:00<00:00, 16.33it/s]\n",
      "\n",
      "Processed prompts: 100%|██████████| 1/1 [00:00<00:00, 19.46it/s]\n",
      " 88%|████████▊ | 868/987 [03:02<00:22,  5.37it/s]\n",
      "Processed prompts: 100%|██████████| 1/1 [00:00<00:00, 16.43it/s]\n",
      "\n",
      "Processed prompts: 100%|██████████| 1/1 [00:00<00:00, 19.54it/s]\n",
      " 88%|████████▊ | 869/987 [03:03<00:19,  6.02it/s]\n",
      "Processed prompts: 100%|██████████| 1/1 [00:00<00:00, 16.18it/s]\n",
      "\n",
      "Processed prompts: 100%|██████████| 1/1 [00:00<00:00, 19.23it/s]\n",
      " 88%|████████▊ | 870/987 [03:03<00:17,  6.55it/s]"
     ]
    },
    {
     "name": "stdout",
     "output_type": "stream",
     "text": [
      "average: 0.7\n"
     ]
    },
    {
     "name": "stderr",
     "output_type": "stream",
     "text": [
      "\n",
      "Processed prompts: 100%|██████████| 1/1 [00:00<00:00, 16.55it/s]\n",
      "\n",
      "Processed prompts:   0%|          | 0/5 [00:00<?, ?it/s]\u001b[A\n",
      "Processed prompts: 100%|██████████| 5/5 [00:00<00:00, 23.91it/s]\u001b[A\n",
      " 88%|████████▊ | 871/987 [03:03<00:22,  5.24it/s]"
     ]
    },
    {
     "name": "stdout",
     "output_type": "stream",
     "text": [
      "当前查询次数470\n"
     ]
    },
    {
     "name": "stderr",
     "output_type": "stream",
     "text": [
      "\n",
      "Processed prompts: 100%|██████████| 1/1 [00:00<00:00, 16.25it/s]\n",
      "\n",
      "Processed prompts: 100%|██████████| 1/1 [00:00<00:00, 19.21it/s]\n",
      " 88%|████████▊ | 872/987 [03:03<00:19,  5.89it/s]\n",
      "Processed prompts: 100%|██████████| 1/1 [00:00<00:00, 16.45it/s]\n",
      "\n",
      "Processed prompts:   0%|          | 0/5 [00:00<?, ?it/s]\u001b[A\n",
      "Processed prompts: 100%|██████████| 5/5 [00:00<00:00, 22.20it/s]\u001b[A\n",
      " 88%|████████▊ | 873/987 [03:03<00:23,  4.81it/s]"
     ]
    },
    {
     "name": "stdout",
     "output_type": "stream",
     "text": [
      "当前查询次数471\n"
     ]
    },
    {
     "name": "stderr",
     "output_type": "stream",
     "text": [
      "\n",
      "Processed prompts: 100%|██████████| 1/1 [00:00<00:00, 16.31it/s]\n",
      "\n",
      "Processed prompts: 100%|██████████| 1/1 [00:00<00:00, 19.42it/s]\n",
      " 89%|████████▊ | 874/987 [03:03<00:20,  5.51it/s]\n",
      "Processed prompts: 100%|██████████| 1/1 [00:00<00:00, 16.55it/s]\n",
      "\n",
      "Processed prompts:   0%|          | 0/5 [00:00<?, ?it/s]\u001b[A\n",
      "Processed prompts: 100%|██████████| 5/5 [00:00<00:00, 21.52it/s]\u001b[A\n",
      " 89%|████████▊ | 875/987 [03:04<00:24,  4.59it/s]"
     ]
    },
    {
     "name": "stdout",
     "output_type": "stream",
     "text": [
      "当前查询次数472\n"
     ]
    },
    {
     "name": "stderr",
     "output_type": "stream",
     "text": [
      "\n",
      "Processed prompts: 100%|██████████| 1/1 [00:00<00:00, 16.44it/s]\n",
      "\n",
      "Processed prompts:   0%|          | 0/5 [00:00<?, ?it/s]\u001b[A\n",
      "Processed prompts: 100%|██████████| 5/5 [00:00<00:00, 23.79it/s]\u001b[A\n",
      " 89%|████████▉ | 876/987 [03:04<00:26,  4.22it/s]"
     ]
    },
    {
     "name": "stdout",
     "output_type": "stream",
     "text": [
      "当前查询次数473\n"
     ]
    },
    {
     "name": "stderr",
     "output_type": "stream",
     "text": [
      "\n",
      "Processed prompts: 100%|██████████| 1/1 [00:00<00:00, 16.33it/s]\n",
      "\n",
      "Processed prompts:   0%|          | 0/5 [00:00<?, ?it/s]\u001b[A\n",
      "Processed prompts: 100%|██████████| 5/5 [00:00<00:00, 20.40it/s]\u001b[A\n",
      " 89%|████████▉ | 877/987 [03:04<00:28,  3.83it/s]"
     ]
    },
    {
     "name": "stdout",
     "output_type": "stream",
     "text": [
      "当前查询次数474\n"
     ]
    },
    {
     "name": "stderr",
     "output_type": "stream",
     "text": [
      "\n",
      "Processed prompts: 100%|██████████| 1/1 [00:00<00:00, 16.38it/s]\n",
      "\n",
      "Processed prompts:   0%|          | 0/5 [00:00<?, ?it/s]\u001b[A\n",
      "Processed prompts: 100%|██████████| 5/5 [00:00<00:00, 23.69it/s]\u001b[A\n",
      " 89%|████████▉ | 878/987 [03:05<00:29,  3.74it/s]"
     ]
    },
    {
     "name": "stdout",
     "output_type": "stream",
     "text": [
      "当前查询次数475\n"
     ]
    },
    {
     "name": "stderr",
     "output_type": "stream",
     "text": [
      "\n",
      "Processed prompts: 100%|██████████| 1/1 [00:00<00:00, 16.27it/s]\n",
      "\n",
      "Processed prompts:   0%|          | 0/5 [00:00<?, ?it/s]\u001b[A\n",
      "Processed prompts: 100%|██████████| 5/5 [00:00<00:00, 21.05it/s]\u001b[A\n",
      " 89%|████████▉ | 879/987 [03:05<00:30,  3.57it/s]"
     ]
    },
    {
     "name": "stdout",
     "output_type": "stream",
     "text": [
      "当前查询次数476\n"
     ]
    },
    {
     "name": "stderr",
     "output_type": "stream",
     "text": [
      "\n",
      "Processed prompts: 100%|██████████| 1/1 [00:00<00:00, 16.33it/s]\n",
      "\n",
      "Processed prompts:   0%|          | 0/5 [00:00<?, ?it/s]\u001b[A\n",
      "Processed prompts: 100%|██████████| 5/5 [00:00<00:00, 23.44it/s]\u001b[A\n",
      " 89%|████████▉ | 880/987 [03:05<00:30,  3.55it/s]"
     ]
    },
    {
     "name": "stdout",
     "output_type": "stream",
     "text": [
      "当前查询次数477\n",
      "average: 0.6\n"
     ]
    },
    {
     "name": "stderr",
     "output_type": "stream",
     "text": [
      "\n",
      "Processed prompts: 100%|██████████| 1/1 [00:00<00:00, 16.37it/s]\n",
      "\n",
      "Processed prompts:   0%|          | 0/5 [00:00<?, ?it/s]\u001b[A\n",
      "Processed prompts: 100%|██████████| 5/5 [00:00<00:00, 21.27it/s]\u001b[A\n",
      " 89%|████████▉ | 881/987 [03:06<00:30,  3.45it/s]"
     ]
    },
    {
     "name": "stdout",
     "output_type": "stream",
     "text": [
      "当前查询次数478\n"
     ]
    },
    {
     "name": "stderr",
     "output_type": "stream",
     "text": [
      "\n",
      "Processed prompts: 100%|██████████| 1/1 [00:00<00:00, 16.37it/s]\n",
      "\n",
      "Processed prompts: 100%|██████████| 1/1 [00:00<00:00, 19.34it/s]\n",
      " 89%|████████▉ | 882/987 [03:06<00:25,  4.19it/s]\n",
      "Processed prompts: 100%|██████████| 1/1 [00:00<00:00, 16.43it/s]\n",
      "\n",
      "Processed prompts: 100%|██████████| 1/1 [00:00<00:00, 19.24it/s]\n",
      " 89%|████████▉ | 883/987 [03:06<00:21,  4.92it/s]\n",
      "Processed prompts: 100%|██████████| 1/1 [00:00<00:00, 16.00it/s]\n",
      "\n",
      "Processed prompts:   0%|          | 0/5 [00:00<?, ?it/s]\u001b[A\n",
      "Processed prompts: 100%|██████████| 5/5 [00:00<00:00, 20.47it/s]\u001b[A\n",
      " 90%|████████▉ | 884/987 [03:06<00:24,  4.21it/s]"
     ]
    },
    {
     "name": "stdout",
     "output_type": "stream",
     "text": [
      "当前查询次数479\n"
     ]
    },
    {
     "name": "stderr",
     "output_type": "stream",
     "text": [
      "\n",
      "Processed prompts: 100%|██████████| 1/1 [00:00<00:00, 16.21it/s]\n",
      "\n",
      "Processed prompts:   0%|          | 0/5 [00:00<?, ?it/s]\u001b[A\n",
      "Processed prompts: 100%|██████████| 5/5 [00:00<00:00, 23.46it/s]\u001b[A\n",
      " 90%|████████▉ | 885/987 [03:06<00:25,  3.96it/s]"
     ]
    },
    {
     "name": "stdout",
     "output_type": "stream",
     "text": [
      "当前查询次数480\n"
     ]
    },
    {
     "name": "stderr",
     "output_type": "stream",
     "text": [
      "\n",
      "Processed prompts: 100%|██████████| 1/1 [00:00<00:00, 16.09it/s]\n",
      "\n",
      "Processed prompts:   0%|          | 0/5 [00:00<?, ?it/s]\u001b[A\n",
      "Processed prompts: 100%|██████████| 5/5 [00:00<00:00, 21.26it/s]\u001b[A\n",
      " 90%|████████▉ | 886/987 [03:07<00:27,  3.71it/s]"
     ]
    },
    {
     "name": "stdout",
     "output_type": "stream",
     "text": [
      "当前查询次数481\n"
     ]
    },
    {
     "name": "stderr",
     "output_type": "stream",
     "text": [
      "\n",
      "Processed prompts: 100%|██████████| 1/1 [00:00<00:00, 16.29it/s]\n",
      "\n",
      "Processed prompts: 100%|██████████| 1/1 [00:00<00:00, 19.30it/s]\n",
      " 90%|████████▉ | 887/987 [03:07<00:22,  4.45it/s]\n",
      "Processed prompts: 100%|██████████| 1/1 [00:00<00:00, 16.12it/s]\n",
      "\n",
      "Processed prompts: 100%|██████████| 1/1 [00:00<00:00, 18.76it/s]\n",
      " 90%|████████▉ | 888/987 [03:07<00:19,  5.15it/s]\n",
      "Processed prompts: 100%|██████████| 1/1 [00:00<00:00, 16.54it/s]\n",
      "\n",
      "Processed prompts:   0%|          | 0/5 [00:00<?, ?it/s]\u001b[A\n",
      "Processed prompts: 100%|██████████| 5/5 [00:00<00:00, 23.74it/s]\u001b[A\n",
      " 90%|█████████ | 889/987 [03:07<00:21,  4.53it/s]"
     ]
    },
    {
     "name": "stdout",
     "output_type": "stream",
     "text": [
      "当前查询次数482\n"
     ]
    },
    {
     "name": "stderr",
     "output_type": "stream",
     "text": [
      "\n",
      "Processed prompts: 100%|██████████| 1/1 [00:00<00:00, 15.94it/s]\n",
      "\n",
      "Processed prompts:   0%|          | 0/5 [00:00<?, ?it/s]\u001b[A\n",
      "Processed prompts: 100%|██████████| 5/5 [00:00<00:00, 21.29it/s]\u001b[A\n",
      " 90%|█████████ | 890/987 [03:08<00:23,  4.04it/s]"
     ]
    },
    {
     "name": "stdout",
     "output_type": "stream",
     "text": [
      "当前查询次数483\n",
      "average: 0.3\n"
     ]
    },
    {
     "name": "stderr",
     "output_type": "stream",
     "text": [
      "\n",
      "Processed prompts: 100%|██████████| 1/1 [00:00<00:00, 16.29it/s]\n",
      "\n",
      "Processed prompts: 100%|██████████| 1/1 [00:00<00:00, 19.25it/s]\n",
      " 90%|█████████ | 891/987 [03:08<00:20,  4.78it/s]\n",
      "Processed prompts: 100%|██████████| 1/1 [00:00<00:00, 16.34it/s]\n",
      "\n",
      "Processed prompts: 100%|██████████| 1/1 [00:00<00:00, 19.27it/s]\n",
      " 90%|█████████ | 892/987 [03:08<00:17,  5.48it/s]\n",
      "Processed prompts: 100%|██████████| 1/1 [00:00<00:00, 16.61it/s]\n",
      "\n",
      "Processed prompts:   0%|          | 0/5 [00:00<?, ?it/s]\u001b[A\n",
      "Processed prompts: 100%|██████████| 5/5 [00:00<00:00, 23.57it/s]\u001b[A\n",
      " 90%|█████████ | 893/987 [03:08<00:20,  4.70it/s]"
     ]
    },
    {
     "name": "stdout",
     "output_type": "stream",
     "text": [
      "当前查询次数484\n"
     ]
    },
    {
     "name": "stderr",
     "output_type": "stream",
     "text": [
      "\n",
      "Processed prompts: 100%|██████████| 1/1 [00:00<00:00, 16.29it/s]\n",
      "\n",
      "Processed prompts: 100%|██████████| 1/1 [00:00<00:00, 19.29it/s]\n",
      " 91%|█████████ | 894/987 [03:08<00:17,  5.40it/s]\n",
      "Processed prompts: 100%|██████████| 1/1 [00:00<00:00, 15.98it/s]\n",
      "\n",
      "Processed prompts:   0%|          | 0/5 [00:00<?, ?it/s]\u001b[A\n",
      "Processed prompts: 100%|██████████| 5/5 [00:00<00:00, 20.71it/s]\u001b[A\n",
      " 91%|█████████ | 895/987 [03:08<00:20,  4.46it/s]"
     ]
    },
    {
     "name": "stdout",
     "output_type": "stream",
     "text": [
      "当前查询次数485\n"
     ]
    },
    {
     "name": "stderr",
     "output_type": "stream",
     "text": [
      "\n",
      "Processed prompts: 100%|██████████| 1/1 [00:00<00:00, 16.36it/s]\n",
      "\n",
      "Processed prompts:   0%|          | 0/5 [00:00<?, ?it/s]\u001b[A\n",
      "Processed prompts: 100%|██████████| 5/5 [00:00<00:00, 21.23it/s]\u001b[A\n",
      " 91%|█████████ | 896/987 [03:09<00:22,  4.01it/s]"
     ]
    },
    {
     "name": "stdout",
     "output_type": "stream",
     "text": [
      "当前查询次数486\n"
     ]
    },
    {
     "name": "stderr",
     "output_type": "stream",
     "text": [
      "\n",
      "Processed prompts: 100%|██████████| 1/1 [00:00<00:00, 16.54it/s]\n",
      "\n",
      "Processed prompts:   0%|          | 0/5 [00:00<?, ?it/s]\u001b[A\n",
      "Processed prompts: 100%|██████████| 5/5 [00:00<00:00, 23.34it/s]\u001b[A\n",
      " 91%|█████████ | 897/987 [03:09<00:23,  3.84it/s]"
     ]
    },
    {
     "name": "stdout",
     "output_type": "stream",
     "text": [
      "当前查询次数487\n"
     ]
    },
    {
     "name": "stderr",
     "output_type": "stream",
     "text": [
      "\n",
      "Processed prompts: 100%|██████████| 1/1 [00:00<00:00, 16.33it/s]\n",
      "\n",
      "Processed prompts: 100%|██████████| 1/1 [00:00<00:00, 19.42it/s]\n",
      " 91%|█████████ | 898/987 [03:09<00:19,  4.58it/s]\n",
      "Processed prompts: 100%|██████████| 1/1 [00:00<00:00, 16.10it/s]\n",
      "\n",
      "Processed prompts:   0%|          | 0/5 [00:00<?, ?it/s]\u001b[A\n",
      "Processed prompts: 100%|██████████| 5/5 [00:00<00:00, 23.54it/s]\u001b[A\n",
      " 91%|█████████ | 899/987 [03:09<00:20,  4.19it/s]"
     ]
    },
    {
     "name": "stdout",
     "output_type": "stream",
     "text": [
      "当前查询次数488\n"
     ]
    },
    {
     "name": "stderr",
     "output_type": "stream",
     "text": [
      "\n",
      "Processed prompts: 100%|██████████| 1/1 [00:00<00:00, 16.32it/s]\n",
      "\n",
      "Processed prompts: 100%|██████████| 1/1 [00:00<00:00, 19.26it/s]\n",
      " 91%|█████████ | 900/987 [03:10<00:17,  4.92it/s]"
     ]
    },
    {
     "name": "stdout",
     "output_type": "stream",
     "text": [
      "average: 0.8\n"
     ]
    },
    {
     "name": "stderr",
     "output_type": "stream",
     "text": [
      "\n",
      "Processed prompts: 100%|██████████| 1/1 [00:00<00:00, 16.50it/s]\n",
      "\n",
      "Processed prompts: 100%|██████████| 1/1 [00:00<00:00, 19.45it/s]\n",
      " 91%|█████████▏| 901/987 [03:10<00:15,  5.62it/s]\n",
      "Processed prompts: 100%|██████████| 1/1 [00:00<00:00, 16.40it/s]\n",
      "\n",
      "Processed prompts:   0%|          | 0/5 [00:00<?, ?it/s]\u001b[A\n",
      "Processed prompts: 100%|██████████| 5/5 [00:00<00:00, 23.73it/s]\u001b[A\n",
      " 91%|█████████▏| 902/987 [03:10<00:17,  4.78it/s]"
     ]
    },
    {
     "name": "stdout",
     "output_type": "stream",
     "text": [
      "当前查询次数489\n"
     ]
    },
    {
     "name": "stderr",
     "output_type": "stream",
     "text": [
      "\n",
      "Processed prompts: 100%|██████████| 1/1 [00:00<00:00, 16.13it/s]\n",
      "\n",
      "Processed prompts:   0%|          | 0/5 [00:00<?, ?it/s]\u001b[A\n",
      "Processed prompts: 100%|██████████| 5/5 [00:00<00:00, 23.77it/s]\u001b[A\n",
      " 91%|█████████▏| 903/987 [03:10<00:19,  4.31it/s]"
     ]
    },
    {
     "name": "stdout",
     "output_type": "stream",
     "text": [
      "当前查询次数490\n"
     ]
    },
    {
     "name": "stderr",
     "output_type": "stream",
     "text": [
      "\n",
      "Processed prompts: 100%|██████████| 1/1 [00:00<00:00, 16.31it/s]\n",
      "\n",
      "Processed prompts: 100%|██████████| 1/1 [00:00<00:00, 19.19it/s]\n",
      " 92%|█████████▏| 904/987 [03:10<00:16,  5.03it/s]\n",
      "Processed prompts: 100%|██████████| 1/1 [00:00<00:00, 16.52it/s]\n",
      "\n",
      "Processed prompts: 100%|██████████| 1/1 [00:00<00:00, 19.45it/s]\n",
      " 92%|█████████▏| 905/987 [03:11<00:14,  5.72it/s]\n",
      "Processed prompts: 100%|██████████| 1/1 [00:00<00:00, 16.36it/s]\n",
      "\n",
      "Processed prompts:   0%|          | 0/5 [00:00<?, ?it/s]\u001b[A\n",
      "Processed prompts: 100%|██████████| 5/5 [00:00<00:00, 23.76it/s]\u001b[A\n",
      " 92%|█████████▏| 906/987 [03:11<00:16,  4.83it/s]"
     ]
    },
    {
     "name": "stdout",
     "output_type": "stream",
     "text": [
      "当前查询次数491\n"
     ]
    },
    {
     "name": "stderr",
     "output_type": "stream",
     "text": [
      "\n",
      "Processed prompts: 100%|██████████| 1/1 [00:00<00:00, 16.43it/s]\n",
      "\n",
      "Processed prompts: 100%|██████████| 1/1 [00:00<00:00, 19.34it/s]\n",
      " 92%|█████████▏| 907/987 [03:11<00:14,  5.53it/s]\n",
      "Processed prompts: 100%|██████████| 1/1 [00:00<00:00, 16.39it/s]\n",
      "\n",
      "Processed prompts:   0%|          | 0/5 [00:00<?, ?it/s]\u001b[A\n",
      "Processed prompts: 100%|██████████| 5/5 [00:00<00:00, 21.13it/s]\u001b[A\n",
      " 92%|█████████▏| 908/987 [03:11<00:17,  4.56it/s]"
     ]
    },
    {
     "name": "stdout",
     "output_type": "stream",
     "text": [
      "当前查询次数492\n"
     ]
    },
    {
     "name": "stderr",
     "output_type": "stream",
     "text": [
      "\n",
      "Processed prompts: 100%|██████████| 1/1 [00:00<00:00, 16.38it/s]\n",
      "\n",
      "Processed prompts: 100%|██████████| 1/1 [00:00<00:00, 19.35it/s]\n",
      " 92%|█████████▏| 909/987 [03:11<00:14,  5.27it/s]\n",
      "Processed prompts: 100%|██████████| 1/1 [00:00<00:00, 16.47it/s]\n",
      "\n",
      "Processed prompts:   0%|          | 0/5 [00:00<?, ?it/s]\u001b[A\n",
      "Processed prompts: 100%|██████████| 5/5 [00:00<00:00, 23.91it/s]\u001b[A\n",
      " 92%|█████████▏| 910/987 [03:12<00:16,  4.61it/s]"
     ]
    },
    {
     "name": "stdout",
     "output_type": "stream",
     "text": [
      "当前查询次数493\n",
      "average: 0.6\n"
     ]
    },
    {
     "name": "stderr",
     "output_type": "stream",
     "text": [
      "\n",
      "Processed prompts: 100%|██████████| 1/1 [00:00<00:00, 16.26it/s]\n",
      "\n",
      "Processed prompts: 100%|██████████| 1/1 [00:00<00:00, 19.16it/s]\n",
      " 92%|█████████▏| 911/987 [03:12<00:14,  5.31it/s]\n",
      "Processed prompts: 100%|██████████| 1/1 [00:00<00:00, 16.31it/s]\n",
      "\n",
      "Processed prompts:   0%|          | 0/5 [00:00<?, ?it/s]\u001b[A\n",
      "Processed prompts: 100%|██████████| 5/5 [00:00<00:00, 25.82it/s]\u001b[A\n",
      " 92%|█████████▏| 912/987 [03:12<00:15,  4.72it/s]"
     ]
    },
    {
     "name": "stdout",
     "output_type": "stream",
     "text": [
      "当前查询次数494\n"
     ]
    },
    {
     "name": "stderr",
     "output_type": "stream",
     "text": [
      "\n",
      "Processed prompts: 100%|██████████| 1/1 [00:00<00:00, 16.30it/s]\n",
      "\n",
      "Processed prompts: 100%|██████████| 1/1 [00:00<00:00, 19.15it/s]\n",
      " 93%|█████████▎| 913/987 [03:12<00:13,  5.41it/s]\n",
      "Processed prompts: 100%|██████████| 1/1 [00:00<00:00, 16.42it/s]\n",
      "\n",
      "Processed prompts:   0%|          | 0/5 [00:00<?, ?it/s]\u001b[A\n",
      "Processed prompts: 100%|██████████| 5/5 [00:00<00:00, 25.84it/s]\u001b[A\n",
      " 93%|█████████▎| 914/987 [03:12<00:15,  4.79it/s]"
     ]
    },
    {
     "name": "stdout",
     "output_type": "stream",
     "text": [
      "当前查询次数495\n"
     ]
    },
    {
     "name": "stderr",
     "output_type": "stream",
     "text": [
      "\n",
      "Processed prompts: 100%|██████████| 1/1 [00:00<00:00, 16.37it/s]\n",
      "\n",
      "Processed prompts: 100%|██████████| 1/1 [00:00<00:00, 19.28it/s]\n",
      " 93%|█████████▎| 915/987 [03:13<00:13,  5.48it/s]\n",
      "Processed prompts: 100%|██████████| 1/1 [00:00<00:00, 16.25it/s]\n",
      "\n",
      "Processed prompts:   0%|          | 0/5 [00:00<?, ?it/s]\u001b[A\n",
      "Processed prompts: 100%|██████████| 5/5 [00:00<00:00, 25.93it/s]\u001b[A\n",
      " 93%|█████████▎| 916/987 [03:13<00:14,  4.81it/s]"
     ]
    },
    {
     "name": "stdout",
     "output_type": "stream",
     "text": [
      "当前查询次数496\n"
     ]
    },
    {
     "name": "stderr",
     "output_type": "stream",
     "text": [
      "\n",
      "Processed prompts: 100%|██████████| 1/1 [00:00<00:00, 16.29it/s]\n",
      "\n",
      "Processed prompts: 100%|██████████| 1/1 [00:00<00:00, 19.34it/s]\n",
      " 93%|█████████▎| 917/987 [03:13<00:12,  5.50it/s]\n",
      "Processed prompts: 100%|██████████| 1/1 [00:00<00:00, 16.42it/s]\n",
      "\n",
      "Processed prompts:   0%|          | 0/5 [00:00<?, ?it/s]\u001b[A\n",
      "Processed prompts: 100%|██████████| 5/5 [00:00<00:00, 23.37it/s]\u001b[A\n",
      " 93%|█████████▎| 918/987 [03:13<00:14,  4.69it/s]"
     ]
    },
    {
     "name": "stdout",
     "output_type": "stream",
     "text": [
      "当前查询次数497\n"
     ]
    },
    {
     "name": "stderr",
     "output_type": "stream",
     "text": [
      "\n",
      "Processed prompts: 100%|██████████| 1/1 [00:00<00:00, 16.36it/s]\n",
      "\n",
      "Processed prompts:   0%|          | 0/5 [00:00<?, ?it/s]\u001b[A\n",
      "Processed prompts: 100%|██████████| 5/5 [00:00<00:00, 23.37it/s]\u001b[A\n",
      " 93%|█████████▎| 919/987 [03:13<00:15,  4.25it/s]"
     ]
    },
    {
     "name": "stdout",
     "output_type": "stream",
     "text": [
      "当前查询次数498\n"
     ]
    },
    {
     "name": "stderr",
     "output_type": "stream",
     "text": [
      "\n",
      "Processed prompts: 100%|██████████| 1/1 [00:00<00:00, 16.22it/s]\n",
      "\n",
      "Processed prompts:   0%|          | 0/5 [00:00<?, ?it/s]\u001b[A\n",
      "Processed prompts: 100%|██████████| 5/5 [00:00<00:00, 21.29it/s]\u001b[A\n",
      " 93%|█████████▎| 920/987 [03:14<00:17,  3.89it/s]"
     ]
    },
    {
     "name": "stdout",
     "output_type": "stream",
     "text": [
      "当前查询次数499\n",
      "average: 0.7\n"
     ]
    },
    {
     "name": "stderr",
     "output_type": "stream",
     "text": [
      "\n",
      "Processed prompts: 100%|██████████| 1/1 [00:00<00:00, 16.33it/s]\n",
      "\n",
      "Processed prompts: 100%|██████████| 1/1 [00:00<00:00, 19.19it/s]\n",
      " 93%|█████████▎| 921/987 [03:14<00:14,  4.62it/s]\n",
      "Processed prompts: 100%|██████████| 1/1 [00:00<00:00, 16.46it/s]\n",
      "\n",
      "Processed prompts:   0%|          | 0/5 [00:00<?, ?it/s]\u001b[A\n",
      "Processed prompts: 100%|██████████| 5/5 [00:00<00:00, 23.61it/s]\u001b[A\n",
      " 93%|█████████▎| 922/987 [03:14<00:15,  4.23it/s]"
     ]
    },
    {
     "name": "stdout",
     "output_type": "stream",
     "text": [
      "当前查询次数500\n"
     ]
    },
    {
     "name": "stderr",
     "output_type": "stream",
     "text": [
      "\n",
      "Processed prompts: 100%|██████████| 1/1 [00:00<00:00, 16.25it/s]\n",
      "\n",
      "Processed prompts: 100%|██████████| 1/1 [00:00<00:00, 19.35it/s]\n",
      " 94%|█████████▎| 923/987 [03:14<00:12,  4.96it/s]\n",
      "Processed prompts: 100%|██████████| 1/1 [00:00<00:00, 16.42it/s]\n",
      "\n",
      "Processed prompts:   0%|          | 0/5 [00:00<?, ?it/s]\u001b[A\n",
      "Processed prompts: 100%|██████████| 5/5 [00:00<00:00, 23.30it/s]\u001b[A\n",
      " 94%|█████████▎| 924/987 [03:15<00:14,  4.41it/s]"
     ]
    },
    {
     "name": "stdout",
     "output_type": "stream",
     "text": [
      "当前查询次数501\n"
     ]
    },
    {
     "name": "stderr",
     "output_type": "stream",
     "text": [
      "\n",
      "Processed prompts: 100%|██████████| 1/1 [00:00<00:00, 16.42it/s]\n",
      "\n",
      "Processed prompts:   0%|          | 0/5 [00:00<?, ?it/s]\u001b[A\n",
      "Processed prompts: 100%|██████████| 5/5 [00:00<00:00, 23.25it/s]\u001b[A\n",
      " 94%|█████████▎| 925/987 [03:15<00:15,  4.08it/s]"
     ]
    },
    {
     "name": "stdout",
     "output_type": "stream",
     "text": [
      "当前查询次数502\n"
     ]
    },
    {
     "name": "stderr",
     "output_type": "stream",
     "text": [
      "\n",
      "Processed prompts: 100%|██████████| 1/1 [00:00<00:00, 16.37it/s]\n",
      "\n",
      "Processed prompts:   0%|          | 0/5 [00:00<?, ?it/s]\u001b[A\n",
      "Processed prompts: 100%|██████████| 5/5 [00:00<00:00, 23.78it/s]\u001b[A\n",
      " 94%|█████████▍| 926/987 [03:15<00:15,  3.89it/s]"
     ]
    },
    {
     "name": "stdout",
     "output_type": "stream",
     "text": [
      "当前查询次数503\n"
     ]
    },
    {
     "name": "stderr",
     "output_type": "stream",
     "text": [
      "\n",
      "Processed prompts: 100%|██████████| 1/1 [00:00<00:00, 16.21it/s]\n",
      "\n",
      "Processed prompts: 100%|██████████| 1/1 [00:00<00:00, 19.18it/s]\n",
      " 94%|█████████▍| 927/987 [03:15<00:12,  4.62it/s]\n",
      "Processed prompts: 100%|██████████| 1/1 [00:00<00:00, 16.24it/s]\n",
      "\n",
      "Processed prompts:   0%|          | 0/5 [00:00<?, ?it/s]\u001b[A\n",
      "Processed prompts: 100%|██████████| 5/5 [00:00<00:00, 20.27it/s]\u001b[A\n",
      " 94%|█████████▍| 928/987 [03:16<00:14,  4.04it/s]"
     ]
    },
    {
     "name": "stdout",
     "output_type": "stream",
     "text": [
      "当前查询次数504\n"
     ]
    },
    {
     "name": "stderr",
     "output_type": "stream",
     "text": [
      "\n",
      "Processed prompts: 100%|██████████| 1/1 [00:00<00:00, 16.25it/s]\n",
      "\n",
      "Processed prompts: 100%|██████████| 1/1 [00:00<00:00, 19.21it/s]\n",
      " 94%|█████████▍| 929/987 [03:16<00:12,  4.76it/s]\n",
      "Processed prompts: 100%|██████████| 1/1 [00:00<00:00, 16.40it/s]\n",
      "\n",
      "Processed prompts:   0%|          | 0/5 [00:00<?, ?it/s]\u001b[A\n",
      "Processed prompts: 100%|██████████| 5/5 [00:00<00:00, 23.41it/s]\u001b[A\n",
      " 94%|█████████▍| 930/987 [03:16<00:13,  4.30it/s]"
     ]
    },
    {
     "name": "stdout",
     "output_type": "stream",
     "text": [
      "当前查询次数505\n",
      "average: 0.7\n"
     ]
    },
    {
     "name": "stderr",
     "output_type": "stream",
     "text": [
      "\n",
      "Processed prompts: 100%|██████████| 1/1 [00:00<00:00, 16.38it/s]\n",
      "\n",
      "Processed prompts:   0%|          | 0/5 [00:00<?, ?it/s]\u001b[A\n",
      "Processed prompts: 100%|██████████| 5/5 [00:00<00:00, 23.63it/s]\u001b[A\n",
      " 94%|█████████▍| 931/987 [03:16<00:13,  4.03it/s]"
     ]
    },
    {
     "name": "stdout",
     "output_type": "stream",
     "text": [
      "当前查询次数506\n"
     ]
    },
    {
     "name": "stderr",
     "output_type": "stream",
     "text": [
      "\n",
      "Processed prompts: 100%|██████████| 1/1 [00:00<00:00, 16.35it/s]\n",
      "\n",
      "Processed prompts: 100%|██████████| 1/1 [00:00<00:00, 19.33it/s]\n",
      " 94%|█████████▍| 932/987 [03:16<00:11,  4.76it/s]\n",
      "Processed prompts: 100%|██████████| 1/1 [00:00<00:00, 16.40it/s]\n",
      "\n",
      "Processed prompts:   0%|          | 0/5 [00:00<?, ?it/s]\u001b[A\n",
      "Processed prompts: 100%|██████████| 5/5 [00:00<00:00, 23.63it/s]\u001b[A\n",
      " 95%|█████████▍| 933/987 [03:17<00:12,  4.30it/s]"
     ]
    },
    {
     "name": "stdout",
     "output_type": "stream",
     "text": [
      "当前查询次数507\n"
     ]
    },
    {
     "name": "stderr",
     "output_type": "stream",
     "text": [
      "\n",
      "Processed prompts: 100%|██████████| 1/1 [00:00<00:00, 16.16it/s]\n",
      "\n",
      "Processed prompts: 100%|██████████| 1/1 [00:00<00:00, 19.24it/s]\n",
      " 95%|█████████▍| 934/987 [03:17<00:10,  5.02it/s]\n",
      "Processed prompts: 100%|██████████| 1/1 [00:00<00:00, 16.42it/s]\n",
      "\n",
      "Processed prompts:   0%|          | 0/5 [00:00<?, ?it/s]\u001b[A\n",
      "Processed prompts: 100%|██████████| 5/5 [00:00<00:00, 21.40it/s]\u001b[A\n",
      " 95%|█████████▍| 935/987 [03:17<00:12,  4.32it/s]"
     ]
    },
    {
     "name": "stdout",
     "output_type": "stream",
     "text": [
      "当前查询次数508\n"
     ]
    },
    {
     "name": "stderr",
     "output_type": "stream",
     "text": [
      "\n",
      "Processed prompts: 100%|██████████| 1/1 [00:00<00:00, 16.33it/s]\n",
      "\n",
      "Processed prompts: 100%|██████████| 1/1 [00:00<00:00, 19.29it/s]\n",
      " 95%|█████████▍| 936/987 [03:17<00:10,  5.04it/s]\n",
      "Processed prompts: 100%|██████████| 1/1 [00:00<00:00, 16.27it/s]\n",
      "\n",
      "Processed prompts: 100%|██████████| 1/1 [00:00<00:00, 19.38it/s]\n",
      " 95%|█████████▍| 937/987 [03:17<00:08,  5.71it/s]\n",
      "Processed prompts: 100%|██████████| 1/1 [00:00<00:00, 16.20it/s]\n",
      "\n",
      "Processed prompts:   0%|          | 0/5 [00:00<?, ?it/s]\u001b[A\n",
      "Processed prompts: 100%|██████████| 5/5 [00:00<00:00, 21.01it/s]\u001b[A\n",
      " 95%|█████████▌| 938/987 [03:18<00:10,  4.63it/s]"
     ]
    },
    {
     "name": "stdout",
     "output_type": "stream",
     "text": [
      "当前查询次数509\n"
     ]
    },
    {
     "name": "stderr",
     "output_type": "stream",
     "text": [
      "\n",
      "Processed prompts: 100%|██████████| 1/1 [00:00<00:00, 16.32it/s]\n",
      "\n",
      "Processed prompts:   0%|          | 0/5 [00:00<?, ?it/s]\u001b[A\n",
      "Processed prompts: 100%|██████████| 5/5 [00:00<00:00, 23.55it/s]\u001b[A\n",
      " 95%|█████████▌| 939/987 [03:18<00:11,  4.22it/s]"
     ]
    },
    {
     "name": "stdout",
     "output_type": "stream",
     "text": [
      "当前查询次数510\n"
     ]
    },
    {
     "name": "stderr",
     "output_type": "stream",
     "text": [
      "\n",
      "Processed prompts: 100%|██████████| 1/1 [00:00<00:00, 16.55it/s]\n",
      "\n",
      "Processed prompts: 100%|██████████| 1/1 [00:00<00:00, 19.43it/s]\n",
      " 95%|█████████▌| 940/987 [03:18<00:09,  4.96it/s]"
     ]
    },
    {
     "name": "stdout",
     "output_type": "stream",
     "text": [
      "average: 0.8\n"
     ]
    },
    {
     "name": "stderr",
     "output_type": "stream",
     "text": [
      "\n",
      "Processed prompts: 100%|██████████| 1/1 [00:00<00:00, 16.27it/s]\n",
      "\n",
      "Processed prompts:   0%|          | 0/5 [00:00<?, ?it/s]\u001b[A\n",
      "Processed prompts: 100%|██████████| 5/5 [00:00<00:00, 23.68it/s]\u001b[A\n",
      " 95%|█████████▌| 941/987 [03:18<00:10,  4.42it/s]"
     ]
    },
    {
     "name": "stdout",
     "output_type": "stream",
     "text": [
      "当前查询次数511\n"
     ]
    },
    {
     "name": "stderr",
     "output_type": "stream",
     "text": [
      "\n",
      "Processed prompts: 100%|██████████| 1/1 [00:00<00:00, 16.44it/s]\n",
      "\n",
      "Processed prompts:   0%|          | 0/5 [00:00<?, ?it/s]\u001b[A\n",
      "Processed prompts: 100%|██████████| 5/5 [00:00<00:00, 21.50it/s]\u001b[A\n",
      " 95%|█████████▌| 942/987 [03:19<00:11,  4.00it/s]"
     ]
    },
    {
     "name": "stdout",
     "output_type": "stream",
     "text": [
      "当前查询次数512\n"
     ]
    },
    {
     "name": "stderr",
     "output_type": "stream",
     "text": [
      "\n",
      "Processed prompts: 100%|██████████| 1/1 [00:00<00:00, 16.33it/s]\n",
      "\n",
      "Processed prompts:   0%|          | 0/5 [00:00<?, ?it/s]\u001b[A\n",
      "Processed prompts: 100%|██████████| 5/5 [00:00<00:00, 23.73it/s]\u001b[A\n",
      " 96%|█████████▌| 943/987 [03:19<00:11,  3.85it/s]"
     ]
    },
    {
     "name": "stdout",
     "output_type": "stream",
     "text": [
      "当前查询次数513\n"
     ]
    },
    {
     "name": "stderr",
     "output_type": "stream",
     "text": [
      "\n",
      "Processed prompts: 100%|██████████| 1/1 [00:00<00:00, 16.33it/s]\n",
      "\n",
      "Processed prompts: 100%|██████████| 1/1 [00:00<00:00, 19.35it/s]\n",
      " 96%|█████████▌| 944/987 [03:19<00:09,  4.60it/s]\n",
      "Processed prompts: 100%|██████████| 1/1 [00:00<00:00, 16.44it/s]\n",
      "\n",
      "Processed prompts:   0%|          | 0/5 [00:00<?, ?it/s]\u001b[A\n",
      "Processed prompts: 100%|██████████| 5/5 [00:00<00:00, 25.80it/s]\u001b[A\n",
      " 96%|█████████▌| 945/987 [03:19<00:09,  4.32it/s]"
     ]
    },
    {
     "name": "stdout",
     "output_type": "stream",
     "text": [
      "当前查询次数514\n"
     ]
    },
    {
     "name": "stderr",
     "output_type": "stream",
     "text": [
      "\n",
      "Processed prompts: 100%|██████████| 1/1 [00:00<00:00, 16.34it/s]\n",
      "\n",
      "Processed prompts: 100%|██████████| 1/1 [00:00<00:00, 19.30it/s]\n",
      " 96%|█████████▌| 946/987 [03:19<00:08,  5.04it/s]\n",
      "Processed prompts: 100%|██████████| 1/1 [00:00<00:00, 16.36it/s]\n",
      "\n",
      "Processed prompts: 100%|██████████| 1/1 [00:00<00:00, 19.27it/s]\n",
      " 96%|█████████▌| 947/987 [03:20<00:07,  5.71it/s]\n",
      "Processed prompts: 100%|██████████| 1/1 [00:00<00:00, 16.35it/s]\n",
      "\n",
      "Processed prompts: 100%|██████████| 1/1 [00:00<00:00, 19.31it/s]\n",
      " 96%|█████████▌| 948/987 [03:20<00:06,  6.30it/s]\n",
      "Processed prompts: 100%|██████████| 1/1 [00:00<00:00, 16.38it/s]\n",
      "\n",
      "Processed prompts: 100%|██████████| 1/1 [00:00<00:00, 19.35it/s]\n",
      " 96%|█████████▌| 949/987 [03:20<00:05,  6.79it/s]\n",
      "Processed prompts: 100%|██████████| 1/1 [00:00<00:00, 16.27it/s]\n",
      "\n",
      "Processed prompts:   0%|          | 0/5 [00:00<?, ?it/s]\u001b[A\n",
      "Processed prompts: 100%|██████████| 5/5 [00:00<00:00, 23.81it/s]\u001b[A\n",
      " 96%|█████████▋| 950/987 [03:20<00:06,  5.33it/s]"
     ]
    },
    {
     "name": "stdout",
     "output_type": "stream",
     "text": [
      "当前查询次数515\n",
      "average: 0.7\n"
     ]
    },
    {
     "name": "stderr",
     "output_type": "stream",
     "text": [
      "\n",
      "Processed prompts: 100%|██████████| 1/1 [00:00<00:00, 16.05it/s]\n",
      "\n",
      "Processed prompts:   0%|          | 0/5 [00:00<?, ?it/s]\u001b[A\n",
      "Processed prompts: 100%|██████████| 5/5 [00:00<00:00, 23.53it/s]\u001b[A\n",
      " 96%|█████████▋| 951/987 [03:20<00:07,  4.61it/s]"
     ]
    },
    {
     "name": "stdout",
     "output_type": "stream",
     "text": [
      "当前查询次数516\n"
     ]
    },
    {
     "name": "stderr",
     "output_type": "stream",
     "text": [
      "\n",
      "Processed prompts: 100%|██████████| 1/1 [00:00<00:00, 16.29it/s]\n",
      "\n",
      "Processed prompts:   0%|          | 0/5 [00:00<?, ?it/s]\u001b[A\n",
      "Processed prompts: 100%|██████████| 5/5 [00:00<00:00, 23.48it/s]\u001b[A\n",
      " 96%|█████████▋| 952/987 [03:21<00:08,  4.21it/s]"
     ]
    },
    {
     "name": "stdout",
     "output_type": "stream",
     "text": [
      "当前查询次数517\n"
     ]
    },
    {
     "name": "stderr",
     "output_type": "stream",
     "text": [
      "\n",
      "Processed prompts: 100%|██████████| 1/1 [00:00<00:00, 16.27it/s]\n",
      "\n",
      "Processed prompts:   0%|          | 0/5 [00:00<?, ?it/s]\u001b[A\n",
      "Processed prompts: 100%|██████████| 5/5 [00:00<00:00, 23.54it/s]\u001b[A\n",
      " 97%|█████████▋| 953/987 [03:21<00:08,  3.97it/s]"
     ]
    },
    {
     "name": "stdout",
     "output_type": "stream",
     "text": [
      "当前查询次数518\n"
     ]
    },
    {
     "name": "stderr",
     "output_type": "stream",
     "text": [
      "\n",
      "Processed prompts: 100%|██████████| 1/1 [00:00<00:00, 16.48it/s]\n",
      "\n",
      "Processed prompts: 100%|██████████| 1/1 [00:00<00:00, 19.38it/s]\n",
      " 97%|█████████▋| 954/987 [03:21<00:06,  4.72it/s]\n",
      "Processed prompts: 100%|██████████| 1/1 [00:00<00:00, 16.08it/s]\n",
      "\n",
      "Processed prompts: 100%|██████████| 1/1 [00:00<00:00, 19.30it/s]\n",
      " 97%|█████████▋| 955/987 [03:21<00:05,  5.41it/s]\n",
      "Processed prompts: 100%|██████████| 1/1 [00:00<00:00, 16.33it/s]\n",
      "\n",
      "Processed prompts: 100%|██████████| 1/1 [00:00<00:00, 19.23it/s]\n",
      " 97%|█████████▋| 956/987 [03:21<00:05,  6.04it/s]\n",
      "Processed prompts: 100%|██████████| 1/1 [00:00<00:00, 15.89it/s]\n",
      "\n",
      "Processed prompts: 100%|██████████| 1/1 [00:00<00:00, 19.30it/s]\n",
      " 97%|█████████▋| 957/987 [03:21<00:04,  6.55it/s]\n",
      "Processed prompts: 100%|██████████| 1/1 [00:00<00:00, 16.34it/s]\n",
      "\n",
      "Processed prompts:   0%|          | 0/5 [00:00<?, ?it/s]\u001b[A\n",
      "Processed prompts: 100%|██████████| 5/5 [00:00<00:00, 23.55it/s]\u001b[A\n",
      " 97%|█████████▋| 958/987 [03:22<00:05,  5.21it/s]"
     ]
    },
    {
     "name": "stdout",
     "output_type": "stream",
     "text": [
      "当前查询次数519\n"
     ]
    },
    {
     "name": "stderr",
     "output_type": "stream",
     "text": [
      "\n",
      "Processed prompts: 100%|██████████| 1/1 [00:00<00:00, 16.30it/s]\n",
      "\n",
      "Processed prompts: 100%|██████████| 1/1 [00:00<00:00, 19.38it/s]\n",
      " 97%|█████████▋| 959/987 [03:22<00:04,  5.86it/s]\n",
      "Processed prompts: 100%|██████████| 1/1 [00:00<00:00, 16.18it/s]\n",
      "\n",
      "Processed prompts:   0%|          | 0/5 [00:00<?, ?it/s]\u001b[A\n",
      "Processed prompts: 100%|██████████| 5/5 [00:00<00:00, 23.47it/s]\u001b[A\n",
      " 97%|█████████▋| 960/987 [03:22<00:05,  4.87it/s]"
     ]
    },
    {
     "name": "stdout",
     "output_type": "stream",
     "text": [
      "当前查询次数520\n",
      "average: 0.6\n"
     ]
    },
    {
     "name": "stderr",
     "output_type": "stream",
     "text": [
      "\n",
      "Processed prompts: 100%|██████████| 1/1 [00:00<00:00, 15.72it/s]\n",
      "\n",
      "Processed prompts: 100%|██████████| 1/1 [00:00<00:00, 19.10it/s]\n",
      " 97%|█████████▋| 961/987 [03:22<00:04,  5.53it/s]\n",
      "Processed prompts: 100%|██████████| 1/1 [00:00<00:00, 16.18it/s]\n",
      "\n",
      "Processed prompts:   0%|          | 0/5 [00:00<?, ?it/s]\u001b[A\n",
      "Processed prompts: 100%|██████████| 5/5 [00:00<00:00, 21.33it/s]\u001b[A\n",
      " 97%|█████████▋| 962/987 [03:23<00:05,  4.57it/s]"
     ]
    },
    {
     "name": "stdout",
     "output_type": "stream",
     "text": [
      "当前查询次数521\n"
     ]
    },
    {
     "name": "stderr",
     "output_type": "stream",
     "text": [
      "\n",
      "Processed prompts: 100%|██████████| 1/1 [00:00<00:00, 16.26it/s]\n",
      "\n",
      "Processed prompts:   0%|          | 0/5 [00:00<?, ?it/s]\u001b[A\n",
      "Processed prompts: 100%|██████████| 5/5 [00:00<00:00, 23.52it/s]\u001b[A\n",
      " 98%|█████████▊| 963/987 [03:23<00:05,  4.19it/s]"
     ]
    },
    {
     "name": "stdout",
     "output_type": "stream",
     "text": [
      "当前查询次数522\n"
     ]
    },
    {
     "name": "stderr",
     "output_type": "stream",
     "text": [
      "\n",
      "Processed prompts: 100%|██████████| 1/1 [00:00<00:00, 16.29it/s]\n",
      "\n",
      "Processed prompts:   0%|          | 0/5 [00:00<?, ?it/s]\u001b[A\n",
      "Processed prompts: 100%|██████████| 5/5 [00:00<00:00, 25.72it/s]\u001b[A\n",
      " 98%|█████████▊| 964/987 [03:23<00:05,  4.04it/s]"
     ]
    },
    {
     "name": "stdout",
     "output_type": "stream",
     "text": [
      "当前查询次数523\n"
     ]
    },
    {
     "name": "stderr",
     "output_type": "stream",
     "text": [
      "\n",
      "Processed prompts: 100%|██████████| 1/1 [00:00<00:00, 16.21it/s]\n",
      "\n",
      "Processed prompts: 100%|██████████| 1/1 [00:00<00:00, 19.19it/s]\n",
      " 98%|█████████▊| 965/987 [03:23<00:04,  4.77it/s]\n",
      "Processed prompts: 100%|██████████| 1/1 [00:00<00:00, 16.42it/s]\n",
      "\n",
      "Processed prompts: 100%|██████████| 1/1 [00:00<00:00, 19.44it/s]\n",
      " 98%|█████████▊| 966/987 [03:23<00:03,  5.47it/s]\n",
      "Processed prompts: 100%|██████████| 1/1 [00:00<00:00, 16.41it/s]\n",
      "\n",
      "Processed prompts: 100%|██████████| 1/1 [00:00<00:00, 19.32it/s]\n",
      " 98%|█████████▊| 967/987 [03:24<00:03,  6.09it/s]\n",
      "Processed prompts: 100%|██████████| 1/1 [00:00<00:00, 16.56it/s]\n",
      "\n",
      "Processed prompts:   0%|          | 0/5 [00:00<?, ?it/s]\u001b[A\n",
      "Processed prompts: 100%|██████████| 5/5 [00:00<00:00, 25.53it/s]\u001b[A\n",
      " 98%|█████████▊| 968/987 [03:24<00:03,  5.12it/s]"
     ]
    },
    {
     "name": "stdout",
     "output_type": "stream",
     "text": [
      "当前查询次数524\n"
     ]
    },
    {
     "name": "stderr",
     "output_type": "stream",
     "text": [
      "\n",
      "Processed prompts: 100%|██████████| 1/1 [00:00<00:00, 16.24it/s]\n",
      "\n",
      "Processed prompts: 100%|██████████| 1/1 [00:00<00:00, 19.30it/s]\n",
      " 98%|█████████▊| 969/987 [03:24<00:03,  5.76it/s]\n",
      "Processed prompts: 100%|██████████| 1/1 [00:00<00:00, 16.34it/s]\n",
      "\n",
      "Processed prompts:   0%|          | 0/5 [00:00<?, ?it/s]\u001b[A\n",
      "Processed prompts: 100%|██████████| 5/5 [00:00<00:00, 23.61it/s]\u001b[A\n",
      " 98%|█████████▊| 970/987 [03:24<00:03,  4.83it/s]"
     ]
    },
    {
     "name": "stdout",
     "output_type": "stream",
     "text": [
      "当前查询次数525\n",
      "average: 0.7\n"
     ]
    },
    {
     "name": "stderr",
     "output_type": "stream",
     "text": [
      "\n",
      "Processed prompts: 100%|██████████| 1/1 [00:00<00:00, 16.37it/s]\n",
      "\n",
      "Processed prompts: 100%|██████████| 1/1 [00:00<00:00, 19.28it/s]\n",
      " 98%|█████████▊| 971/987 [03:24<00:02,  5.51it/s]\n",
      "Processed prompts: 100%|██████████| 1/1 [00:00<00:00, 16.50it/s]\n",
      "\n",
      "Processed prompts:   0%|          | 0/5 [00:00<?, ?it/s]\u001b[A\n",
      "Processed prompts: 100%|██████████| 5/5 [00:00<00:00, 20.18it/s]\u001b[A\n",
      " 98%|█████████▊| 972/987 [03:25<00:03,  4.48it/s]"
     ]
    },
    {
     "name": "stdout",
     "output_type": "stream",
     "text": [
      "当前查询次数526\n"
     ]
    },
    {
     "name": "stderr",
     "output_type": "stream",
     "text": [
      "\n",
      "Processed prompts: 100%|██████████| 1/1 [00:00<00:00, 16.25it/s]\n",
      "\n",
      "Processed prompts: 100%|██████████| 1/1 [00:00<00:00, 19.43it/s]\n",
      " 99%|█████████▊| 973/987 [03:25<00:02,  5.19it/s]\n",
      "Processed prompts: 100%|██████████| 1/1 [00:00<00:00, 16.30it/s]\n",
      "\n",
      "Processed prompts:   0%|          | 0/5 [00:00<?, ?it/s]\u001b[A\n",
      "Processed prompts: 100%|██████████| 5/5 [00:00<00:00, 20.65it/s]\u001b[A\n",
      " 99%|█████████▊| 974/987 [03:25<00:02,  4.36it/s]"
     ]
    },
    {
     "name": "stdout",
     "output_type": "stream",
     "text": [
      "当前查询次数527\n"
     ]
    },
    {
     "name": "stderr",
     "output_type": "stream",
     "text": [
      "\n",
      "Processed prompts: 100%|██████████| 1/1 [00:00<00:00, 16.10it/s]\n",
      "\n",
      "Processed prompts: 100%|██████████| 1/1 [00:00<00:00, 19.09it/s]\n",
      " 99%|█████████▉| 975/987 [03:25<00:02,  5.07it/s]\n",
      "Processed prompts: 100%|██████████| 1/1 [00:00<00:00, 16.40it/s]\n",
      "\n",
      "Processed prompts: 100%|██████████| 1/1 [00:00<00:00, 19.24it/s]\n",
      " 99%|█████████▉| 976/987 [03:25<00:01,  5.73it/s]\n",
      "Processed prompts: 100%|██████████| 1/1 [00:00<00:00, 16.44it/s]\n",
      "\n",
      "Processed prompts:   0%|          | 0/5 [00:00<?, ?it/s]\u001b[A\n",
      "Processed prompts: 100%|██████████| 5/5 [00:00<00:00, 21.17it/s]\u001b[A\n",
      " 99%|█████████▉| 977/987 [03:26<00:02,  4.66it/s]"
     ]
    },
    {
     "name": "stdout",
     "output_type": "stream",
     "text": [
      "当前查询次数528\n"
     ]
    },
    {
     "name": "stderr",
     "output_type": "stream",
     "text": [
      "\n",
      "Processed prompts: 100%|██████████| 1/1 [00:00<00:00, 16.28it/s]\n",
      "\n",
      "Processed prompts:   0%|          | 0/5 [00:00<?, ?it/s]\u001b[A\n",
      "Processed prompts: 100%|██████████| 5/5 [00:00<00:00, 23.50it/s]\u001b[A\n",
      " 99%|█████████▉| 978/987 [03:26<00:02,  4.23it/s]"
     ]
    },
    {
     "name": "stdout",
     "output_type": "stream",
     "text": [
      "当前查询次数529\n"
     ]
    },
    {
     "name": "stderr",
     "output_type": "stream",
     "text": [
      "\n",
      "Processed prompts: 100%|██████████| 1/1 [00:00<00:00, 16.32it/s]\n",
      "\n",
      "Processed prompts:   0%|          | 0/5 [00:00<?, ?it/s]\u001b[A\n",
      "Processed prompts: 100%|██████████| 5/5 [00:00<00:00, 21.13it/s]\u001b[A\n",
      " 99%|█████████▉| 979/987 [03:26<00:02,  3.87it/s]"
     ]
    },
    {
     "name": "stdout",
     "output_type": "stream",
     "text": [
      "当前查询次数530\n"
     ]
    },
    {
     "name": "stderr",
     "output_type": "stream",
     "text": [
      "\n",
      "Processed prompts: 100%|██████████| 1/1 [00:00<00:00, 16.39it/s]\n",
      "\n",
      "Processed prompts: 100%|██████████| 1/1 [00:00<00:00, 19.39it/s]\n",
      " 99%|█████████▉| 980/987 [03:26<00:01,  4.60it/s]"
     ]
    },
    {
     "name": "stdout",
     "output_type": "stream",
     "text": [
      "average: 0.4\n"
     ]
    },
    {
     "name": "stderr",
     "output_type": "stream",
     "text": [
      "\n",
      "Processed prompts: 100%|██████████| 1/1 [00:00<00:00, 16.26it/s]\n",
      "\n",
      "Processed prompts:   0%|          | 0/5 [00:00<?, ?it/s]\u001b[A\n",
      "Processed prompts: 100%|██████████| 5/5 [00:00<00:00, 21.09it/s]\u001b[A\n",
      " 99%|█████████▉| 981/987 [03:27<00:01,  4.08it/s]"
     ]
    },
    {
     "name": "stdout",
     "output_type": "stream",
     "text": [
      "当前查询次数531\n"
     ]
    },
    {
     "name": "stderr",
     "output_type": "stream",
     "text": [
      "\n",
      "Processed prompts: 100%|██████████| 1/1 [00:00<00:00, 16.29it/s]\n",
      "\n",
      "Processed prompts: 100%|██████████| 1/1 [00:00<00:00, 19.26it/s]\n",
      " 99%|█████████▉| 982/987 [03:27<00:01,  4.80it/s]\n",
      "Processed prompts: 100%|██████████| 1/1 [00:00<00:00, 16.53it/s]\n",
      "\n",
      "Processed prompts: 100%|██████████| 1/1 [00:00<00:00, 19.42it/s]\n",
      "100%|█████████▉| 983/987 [03:27<00:00,  5.50it/s]\n",
      "Processed prompts: 100%|██████████| 1/1 [00:00<00:00, 16.30it/s]\n",
      "\n",
      "Processed prompts:   0%|          | 0/5 [00:00<?, ?it/s]\u001b[A\n",
      "Processed prompts: 100%|██████████| 5/5 [00:00<00:00, 23.13it/s]\u001b[A\n",
      "100%|█████████▉| 984/987 [03:27<00:00,  4.67it/s]"
     ]
    },
    {
     "name": "stdout",
     "output_type": "stream",
     "text": [
      "当前查询次数532\n"
     ]
    },
    {
     "name": "stderr",
     "output_type": "stream",
     "text": [
      "\n",
      "Processed prompts: 100%|██████████| 1/1 [00:00<00:00, 16.16it/s]\n",
      "\n",
      "Processed prompts: 100%|██████████| 1/1 [00:00<00:00, 19.44it/s]\n",
      "100%|█████████▉| 985/987 [03:27<00:00,  5.37it/s]\n",
      "Processed prompts: 100%|██████████| 1/1 [00:00<00:00, 16.39it/s]\n",
      "\n",
      "Processed prompts:   0%|          | 0/5 [00:00<?, ?it/s]\u001b[A\n",
      "Processed prompts: 100%|██████████| 5/5 [00:00<00:00, 23.23it/s]\u001b[A\n",
      "100%|█████████▉| 986/987 [03:28<00:00,  4.61it/s]"
     ]
    },
    {
     "name": "stdout",
     "output_type": "stream",
     "text": [
      "当前查询次数533\n"
     ]
    },
    {
     "name": "stderr",
     "output_type": "stream",
     "text": [
      "\n",
      "Processed prompts: 100%|██████████| 1/1 [00:00<00:00, 16.23it/s]\n",
      "\n",
      "Processed prompts:   0%|          | 0/5 [00:00<?, ?it/s]\u001b[A\n",
      "Processed prompts: 100%|██████████| 5/5 [00:00<00:00, 23.65it/s]\u001b[A\n",
      "100%|██████████| 987/987 [03:28<00:00,  4.74it/s]"
     ]
    },
    {
     "name": "stdout",
     "output_type": "stream",
     "text": [
      "当前查询次数534\n",
      "Retrieval Frequencies: 0.541033434650456\n"
     ]
    },
    {
     "name": "stderr",
     "output_type": "stream",
     "text": [
      "\n"
     ]
    }
   ],
   "source": [
    "metric_results, all_results, partitial_right = main()"
   ]
  },
  {
   "cell_type": "code",
   "execution_count": 29,
   "id": "a81a29d2-4255-4827-9874-055cb59b96ec",
   "metadata": {},
   "outputs": [
    {
     "name": "stdout",
     "output_type": "stream",
     "text": [
      "Final result: 0.6970618034447822\n"
     ]
    }
   ],
   "source": [
    "print(\"Final result: {0}\".format(np.mean(metric_results)))\n"
   ]
  },
  {
   "cell_type": "code",
   "execution_count": 9,
   "id": "8689ab7d-03ff-4169-b57c-ae2bfb7ed7a8",
   "metadata": {},
   "outputs": [
    {
     "name": "stdout",
     "output_type": "stream",
     "text": [
      "{'0': ['no_retrieval'], '3': ['no_retrieval'], '4': ['no_retrieval', 'retrieval_4'], '8': ['retrieval_4'], '18': ['retrieval_4'], '19': ['no_retrieval'], '22': ['no_retrieval'], '23': ['no_retrieval'], '26': ['retrieval_4'], '32': ['no_retrieval'], '34': ['no_retrieval', 'retrieval_0', 'retrieval_2', 'retrieval_4'], '36': ['no_retrieval'], '40': ['no_retrieval'], '43': ['no_retrieval'], '47': ['no_retrieval'], '48': ['no_retrieval'], '56': ['no_retrieval'], '57': ['no_retrieval', 'retrieval_0', 'retrieval_1', 'retrieval_4'], '67': ['no_retrieval'], '68': ['no_retrieval'], '69': ['no_retrieval', 'retrieval_4'], '70': ['no_retrieval'], '72': ['no_retrieval'], '73': ['no_retrieval'], '74': ['no_retrieval', 'retrieval_4'], '75': ['retrieval_2', 'retrieval_4'], '80': ['no_retrieval'], '83': ['no_retrieval'], '91': ['no_retrieval', ''], '99': ['retrieval_4'], '100': ['no_retrieval'], '103': ['no_retrieval'], '108': ['retrieval_4'], '109': ['no_retrieval'], '118': ['no_retrieval', 'retrieval_4'], '120': ['retrieval_4'], '122': ['no_retrieval'], '123': ['no_retrieval'], '125': ['no_retrieval', ''], '136': ['retrieval_4'], '139': ['no_retrieval'], '140': ['retrieval_4'], '142': ['no_retrieval', 'retrieval_0', 'retrieval_1', 'retrieval_4'], '148': ['retrieval_4'], '149': ['no_retrieval', ''], '151': ['no_retrieval'], '158': ['retrieval_4'], '160': ['no_retrieval'], '161': ['no_retrieval'], '163': ['no_retrieval', 'retrieval_4'], '166': ['no_retrieval'], '167': ['no_retrieval', 'retrieval_2', 'retrieval_3', 'retrieval_4', 'retrieval_1'], '171': ['no_retrieval', 'retrieval_4'], '181': ['retrieval_4'], '194': ['no_retrieval', 'retrieval_4'], '195': ['retrieval_4'], '197': ['no_retrieval'], '199': ['no_retrieval', 'retrieval_2', 'retrieval_4'], '200': ['retrieval_4'], '205': ['retrieval_4'], '210': ['retrieval_4'], '212': ['retrieval_4'], '214': ['retrieval_4'], '219': ['no_retrieval'], '222': ['no_retrieval'], '234': ['no_retrieval', 'retrieval_4'], '240': ['no_retrieval', 'retrieval_4'], '247': ['retrieval_4'], '249': ['no_retrieval'], '253': ['no_retrieval'], '254': ['no_retrieval', 'retrieval_4'], '258': ['retrieval_4'], '261': ['no_retrieval'], '262': ['no_retrieval', 'retrieval_4'], '265': ['no_retrieval'], '272': ['retrieval_4'], '273': ['no_retrieval'], '277': ['no_retrieval'], '279': ['retrieval_4'], '281': ['no_retrieval'], '282': ['retrieval_4'], '284': ['no_retrieval'], '287': ['no_retrieval'], '291': ['retrieval_4'], '296': ['retrieval_1', 'retrieval_4'], '312': ['retrieval_4'], '316': ['no_retrieval', 'retrieval_1', 'retrieval_4', 'retrieval_3'], '317': ['no_retrieval', 'retrieval_0', 'retrieval_2', 'retrieval_4'], '319': ['retrieval_4'], '320': ['no_retrieval'], '332': ['no_retrieval'], '333': ['retrieval_4'], '335': ['no_retrieval', 'retrieval_4'], '337': ['no_retrieval', 'retrieval_1', 'retrieval_3', 'retrieval_4'], '338': ['no_retrieval'], '339': ['no_retrieval'], '340': ['no_retrieval'], '343': ['no_retrieval'], '351': ['retrieval_4'], '352': ['retrieval_0', 'retrieval_2', 'retrieval_4'], '353': ['retrieval_1', 'retrieval_4', 'retrieval_3'], '362': ['no_retrieval', 'retrieval_1', 'retrieval_4'], '363': ['retrieval_4'], '366': ['no_retrieval'], '368': ['no_retrieval', 'retrieval_1', 'retrieval_2', 'retrieval_4'], '377': ['no_retrieval'], '379': ['no_retrieval', 'retrieval_4'], '381': ['no_retrieval'], '382': ['no_retrieval'], '384': ['retrieval_4'], '386': ['no_retrieval', 'retrieval_4'], '392': ['no_retrieval'], '396': ['no_retrieval'], '397': ['no_retrieval', 'retrieval_4'], '399': ['no_retrieval', 'retrieval_4'], '403': ['no_retrieval'], '405': ['no_retrieval', 'retrieval_4'], '420': ['no_retrieval'], '421': ['no_retrieval'], '427': ['no_retrieval'], '429': ['no_retrieval'], '432': ['no_retrieval'], '434': ['no_retrieval'], '436': ['no_retrieval'], '438': ['retrieval_4'], '442': ['retrieval_4'], '445': ['retrieval_4'], '451': ['retrieval_4'], '458': ['no_retrieval', 'retrieval_4'], '461': ['no_retrieval'], '467': ['no_retrieval', ''], '468': ['no_retrieval'], '470': ['no_retrieval'], '472': ['no_retrieval'], '475': ['no_retrieval'], '477': ['retrieval_4'], '487': ['no_retrieval', 'retrieval_4'], '491': ['no_retrieval', 'retrieval_4'], '493': ['no_retrieval', ''], '498': ['no_retrieval'], '502': ['no_retrieval'], '507': ['retrieval_4'], '508': ['no_retrieval', ''], '509': ['no_retrieval'], '514': ['no_retrieval'], '520': ['no_retrieval'], '521': ['no_retrieval'], '522': ['no_retrieval'], '528': ['no_retrieval'], '529': ['retrieval_4'], '531': ['retrieval_4'], '532': ['no_retrieval'], '539': ['no_retrieval', 'retrieval_4'], '540': ['no_retrieval'], '542': ['no_retrieval', 'retrieval_4'], '543': ['no_retrieval'], '544': ['retrieval_4'], '556': ['no_retrieval', 'retrieval_4'], '557': ['no_retrieval'], '560': ['retrieval_4'], '563': ['no_retrieval'], '564': ['retrieval_3', 'retrieval_4', 'retrieval_2'], '566': ['retrieval_4'], '569': ['no_retrieval', 'retrieval_4'], '571': ['no_retrieval', 'retrieval_4'], '573': ['no_retrieval', ''], '576': ['no_retrieval', 'retrieval_4'], '578': ['no_retrieval'], '584': ['no_retrieval'], '587': ['no_retrieval'], '588': ['no_retrieval'], '593': ['no_retrieval'], '595': ['no_retrieval'], '596': ['retrieval_4'], '604': ['no_retrieval'], '606': ['no_retrieval'], '612': ['retrieval_4'], '614': ['retrieval_4'], '624': ['no_retrieval'], '626': ['no_retrieval'], '628': ['no_retrieval'], '629': ['no_retrieval'], '632': ['no_retrieval'], '637': ['retrieval_4'], '639': ['retrieval_4'], '640': ['no_retrieval', 'retrieval_4'], '643': ['no_retrieval'], '644': ['no_retrieval'], '645': ['no_retrieval'], '646': ['no_retrieval'], '647': ['no_retrieval'], '648': ['retrieval_4'], '651': ['no_retrieval'], '665': ['no_retrieval'], '667': ['no_retrieval'], '670': ['no_retrieval'], '671': ['no_retrieval', 'retrieval_4'], '672': ['no_retrieval'], '676': ['retrieval_4'], '688': ['no_retrieval'], '689': ['retrieval_4'], '696': ['no_retrieval'], '697': ['retrieval_4'], '699': ['no_retrieval', 'retrieval_2', 'retrieval_4'], '701': ['no_retrieval'], '704': ['no_retrieval'], '705': ['no_retrieval'], '706': ['retrieval_4'], '707': ['retrieval_4'], '708': ['no_retrieval'], '714': ['no_retrieval'], '718': ['retrieval_4'], '719': ['retrieval_4'], '725': ['no_retrieval'], '729': ['no_retrieval', 'retrieval_2', 'retrieval_4', 'retrieval_3'], '733': ['retrieval_2', 'retrieval_4'], '735': ['no_retrieval', ''], '746': ['no_retrieval', 'retrieval_4'], '747': ['no_retrieval'], '748': ['no_retrieval'], '754': ['no_retrieval'], '757': ['no_retrieval', 'retrieval_4'], '759': ['no_retrieval'], '761': ['retrieval_1', 'retrieval_4'], '764': ['no_retrieval'], '773': ['no_retrieval'], '774': ['no_retrieval'], '776': ['no_retrieval', 'retrieval_4'], '779': ['no_retrieval'], '787': ['no_retrieval'], '788': ['no_retrieval'], '793': ['no_retrieval'], '794': ['no_retrieval'], '800': ['retrieval_4'], '802': ['no_retrieval', 'retrieval_4'], '808': ['retrieval_4'], '814': ['no_retrieval'], '815': ['no_retrieval', 'retrieval_4'], '819': ['no_retrieval'], '824': ['no_retrieval'], '825': ['retrieval_4'], '826': ['no_retrieval'], '831': ['no_retrieval'], '832': ['no_retrieval', 'retrieval_4'], '837': ['no_retrieval'], '839': ['no_retrieval'], '849': ['no_retrieval'], '853': ['no_retrieval', 'retrieval_4'], '854': ['no_retrieval', 'retrieval_4'], '857': ['no_retrieval'], '858': ['no_retrieval', 'retrieval_4'], '860': ['no_retrieval', 'retrieval_0', 'retrieval_3', 'retrieval_4'], '868': ['no_retrieval'], '869': ['no_retrieval'], '871': ['no_retrieval'], '872': ['retrieval_4'], '876': ['retrieval_4'], '879': ['no_retrieval', 'retrieval_1', 'retrieval_2', 'retrieval_4'], '882': ['no_retrieval'], '883': ['retrieval_4', 'retrieval_3'], '885': ['retrieval_4'], '886': ['no_retrieval'], '887': ['no_retrieval', ''], '888': ['retrieval_4'], '889': ['no_retrieval', 'retrieval_4'], '895': ['retrieval_4'], '897': ['no_retrieval'], '902': ['no_retrieval', 'retrieval_4'], '905': ['retrieval_4'], '906': ['no_retrieval'], '907': ['retrieval_4'], '910': ['no_retrieval'], '911': ['no_retrieval', 'retrieval_4'], '916': ['no_retrieval'], '922': ['no_retrieval'], '927': ['retrieval_4'], '929': ['retrieval_4'], '934': ['retrieval_4'], '939': ['no_retrieval'], '943': ['no_retrieval'], '946': ['no_retrieval'], '949': ['retrieval_4'], '950': ['retrieval_4'], '951': ['no_retrieval', 'retrieval_4'], '955': ['no_retrieval'], '957': ['no_retrieval', 'retrieval_0', 'retrieval_1', 'retrieval_4'], '965': ['no_retrieval'], '967': ['no_retrieval', 'retrieval_4'], '968': ['no_retrieval'], '973': ['retrieval_4'], '974': ['no_retrieval'], '975': ['no_retrieval'], '976': ['retrieval_4'], '978': ['retrieval_3', 'retrieval_4'], '979': ['no_retrieval'], '981': ['no_retrieval'], '983': ['no_retrieval', 'retrieval_4'], '984': ['no_retrieval'], '985': ['no_retrieval', 'retrieval_4']}\n"
     ]
    }
   ],
   "source": [
    "print(partitial_right)"
   ]
  },
  {
   "cell_type": "code",
   "execution_count": 10,
   "id": "e54541e0-67c6-4f33-bf18-7c7578f162aa",
   "metadata": {},
   "outputs": [],
   "source": [
    "no_metric_results, no_results, no_partitial_right  = metric_results, all_results, partitial_right"
   ]
  },
  {
   "cell_type": "code",
   "execution_count": 11,
   "id": "2e70c094-d991-4773-adbd-335766a2d575",
   "metadata": {},
   "outputs": [],
   "source": [
    "fu_metric_results, fu_results, fu_partitial_right  = metric_results, all_results, partitial_right"
   ]
  },
  {
   "cell_type": "code",
   "execution_count": 12,
   "id": "40e4a0fe-f1d9-48e1-bbce-8177b71b36de",
   "metadata": {},
   "outputs": [],
   "source": [
    "ad_metric_results, ad_results, ad_partitial_right  = metric_results, all_results, partitial_right"
   ]
  },
  {
   "cell_type": "code",
   "execution_count": 13,
   "id": "653347ba-208d-4dac-93d3-55eb2f5c36d3",
   "metadata": {},
   "outputs": [
    {
     "name": "stdout",
     "output_type": "stream",
     "text": [
      "[0, 1, 1, 0, 0, 1, 1, 1, 0, 1, 1, 1, 1, 1, 1, 1, 1, 1, 0, 0, 1, 1, 0, 0, 1, 1, 0, 1, 1, 1, 1, 1, 0, 1, 0, 1, 0, 1, 1, 1, 0, 1, 1, 0, 1, 1, 1, 0, 0, 1, 1, 1, 1, 1, 1, 1, 0, 0, 1, 1, 1, 1, 1, 1, 1, 1, 1, 0, 0, 0, 0, 1, 0, 0, 0, 0, 1, 1, 1, 1, 0, 1, 1, 0, 1, 1, 1, 1, 1, 1, 1, 0, 1, 1, 1, 1, 1, 1, 1, 0, 0, 1, 1, 0, 1, 1, 1, 1, 0, 0, 1, 1, 1, 1, 1, 1, 1, 1, 0, 1, 0, 1, 0, 0, 1, 0, 1, 1, 1, 1, 1, 1, 1, 1, 1, 1, 0, 1, 1, 0, 0, 1, 0, 1, 1, 1, 1, 1, 0, 0, 1, 0, 1, 1, 1, 1, 1, 1, 0, 1, 0, 0, 1, 0, 1, 1, 0, 0, 1, 1, 1, 0, 1, 1, 1, 1, 1, 1, 1, 1, 1, 0, 1, 1, 1, 1, 1, 1, 1, 1, 1, 1, 1, 1, 0, 0, 1, 0, 1, 0, 0, 1, 1, 1, 1, 0, 1, 1, 1, 1, 0, 1, 0, 1, 0, 1, 1, 1, 1, 0, 1, 1, 0, 1, 1, 1, 1, 1, 1, 1, 1, 1, 1, 1, 0, 1, 1, 1, 1, 1, 0, 1, 1, 1, 1, 1, 1, 0, 1, 0, 1, 1, 1, 0, 0, 1, 1, 1, 0, 1, 1, 0, 0, 1, 1, 0, 1, 1, 1, 1, 1, 1, 0, 0, 1, 1, 1, 0, 1, 0, 1, 0, 0, 1, 0, 1, 1, 0, 1, 1, 1, 0, 1, 1, 1, 1, 0, 1, 1, 1, 1, 1, 1, 1, 1, 1, 1, 1, 1, 1, 1, 1, 0, 1, 1, 1, 0, 0, 1, 0, 0, 1, 1, 1, 1, 1, 1, 1, 1, 1, 1, 1, 0, 0, 1, 0, 1, 0, 0, 0, 0, 1, 1, 0, 1, 1, 1, 1, 1, 1, 1, 0, 0, 0, 1, 1, 1, 1, 1, 1, 1, 1, 0, 0, 1, 1, 0, 1, 0, 1, 1, 1, 1, 1, 1, 1, 1, 0, 1, 0, 1, 0, 0, 1, 0, 1, 0, 1, 1, 1, 1, 1, 0, 1, 1, 1, 0, 0, 1, 0, 1, 1, 1, 0, 1, 0, 1, 1, 1, 1, 1, 1, 1, 1, 1, 1, 1, 1, 1, 1, 0, 0, 1, 1, 1, 1, 1, 0, 1, 0, 1, 1, 0, 1, 0, 1, 0, 1, 0, 1, 1, 1, 0, 1, 1, 0, 1, 1, 1, 1, 1, 0, 1, 1, 1, 1, 1, 1, 0, 1, 1, 0, 1, 1, 1, 1, 1, 0, 0, 1, 0, 1, 0, 1, 1, 0, 1, 0, 1, 1, 1, 1, 1, 1, 1, 1, 1, 0, 1, 1, 1, 0, 1, 0, 1, 1, 1, 1, 0, 1, 1, 1, 0, 1, 1, 1, 1, 0, 0, 0, 1, 1, 1, 1, 0, 1, 1, 1, 1, 1, 0, 0, 0, 1, 1, 1, 1, 1, 0, 0, 1, 0, 0, 1, 1, 1, 1, 1, 1, 0, 0, 1, 0, 0, 0, 1, 1, 1, 1, 1, 1, 1, 1, 1, 1, 1, 0, 0, 1, 1, 0, 1, 1, 0, 0, 1, 0, 1, 1, 0, 1, 0, 1, 0, 1, 1, 0, 1, 0, 1, 1, 1, 1, 1, 0, 1, 1, 0, 0, 1, 1, 1, 1, 0, 1, 0, 0, 1, 1, 1, 1, 1, 1, 1, 0, 1, 0, 1, 1, 1, 1, 1, 0, 1, 0, 1, 1, 1, 1, 1, 1, 1, 1, 1, 0, 1, 0, 1, 0, 0, 1, 1, 0, 1, 1, 1, 1, 0, 1, 0, 0, 1, 1, 0, 0, 0, 0, 0, 0, 1, 1, 0, 1, 1, 1, 1, 1, 1, 1, 1, 1, 1, 1, 1, 1, 0, 1, 0, 1, 1, 0, 0, 0, 1, 1, 1, 0, 1, 1, 1, 1, 1, 1, 1, 1, 1, 1, 1, 0, 0, 1, 1, 1, 1, 1, 1, 0, 0, 1, 0, 1, 0, 1, 1, 0, 0, 0, 0, 0, 1, 1, 1, 1, 1, 0, 1, 1, 1, 0, 0, 1, 1, 1, 1, 1, 0, 1, 1, 1, 0, 1, 1, 1, 0, 1, 0, 1, 1, 1, 1, 1, 1, 1, 1, 1, 1, 0, 0, 0, 1, 1, 1, 1, 1, 0, 1, 1, 0, 1, 0, 1, 0, 1, 1, 0, 1, 1, 1, 1, 1, 1, 1, 1, 0, 0, 1, 0, 1, 1, 0, 1, 1, 1, 1, 1, 1, 1, 0, 0, 1, 1, 1, 1, 0, 0, 1, 1, 1, 1, 1, 0, 1, 0, 1, 1, 1, 1, 1, 0, 1, 1, 1, 1, 1, 0, 0, 1, 1, 1, 0, 1, 1, 1, 1, 0, 0, 0, 1, 1, 1, 1, 0, 0, 1, 1, 1, 1, 0, 1, 0, 1, 1, 1, 1, 1, 1, 1, 1, 1, 0, 1, 1, 1, 0, 0, 1, 1, 0, 0, 1, 0, 1, 1, 1, 1, 1, 1, 1, 0, 0, 1, 0, 0, 1, 1, 1, 0, 1, 1, 0, 1, 1, 0, 0, 1, 0, 0, 0, 0, 0, 1, 1, 1, 1, 1, 0, 1, 0, 1, 1, 1, 1, 0, 1, 1, 0, 0, 0, 1, 1, 0, 0, 1, 1, 1, 1, 0, 1, 1, 1, 1, 1, 0, 1, 1, 1, 1, 0, 1, 0, 1, 1, 1, 1, 0, 1, 1, 1, 1, 0, 1, 1, 1, 0, 1, 1, 0, 1, 1, 0, 0, 0, 1, 1, 1, 0, 1, 0, 1, 1, 1, 1, 1, 1, 1, 0, 1, 0, 0, 1, 1, 1, 1, 0, 0, 0, 0, 1, 0, 0, 1, 0, 1, 0, 0, 0, 1]\n"
     ]
    }
   ],
   "source": [
    "print(no_metric_results)"
   ]
  },
  {
   "cell_type": "code",
   "execution_count": 14,
   "id": "8f43de9d-6d5f-49d6-9a05-1a0511cc7c32",
   "metadata": {},
   "outputs": [
    {
     "name": "stdout",
     "output_type": "stream",
     "text": [
      "[0, 1, 1, 0, 0, 1, 1, 1, 0, 1, 1, 1, 1, 1, 1, 1, 1, 1, 0, 0, 1, 1, 0, 0, 1, 1, 0, 1, 1, 1, 1, 1, 0, 1, 0, 1, 0, 1, 1, 1, 0, 1, 1, 0, 1, 1, 1, 0, 0, 1, 1, 1, 1, 1, 1, 1, 0, 0, 1, 1, 1, 1, 1, 1, 1, 1, 1, 0, 0, 0, 0, 1, 0, 0, 0, 0, 1, 1, 1, 1, 0, 1, 1, 0, 1, 1, 1, 1, 1, 1, 1, 0, 1, 1, 1, 1, 1, 1, 1, 0, 0, 1, 1, 0, 1, 1, 1, 1, 0, 0, 1, 1, 1, 1, 1, 1, 1, 1, 0, 1, 0, 1, 0, 0, 1, 0, 1, 1, 1, 1, 1, 1, 1, 1, 1, 1, 0, 1, 1, 0, 0, 1, 0, 1, 1, 1, 1, 1, 0, 0, 1, 0, 1, 1, 1, 1, 1, 1, 0, 1, 0, 0, 1, 0, 1, 1, 0, 0, 1, 1, 1, 0, 1, 1, 1, 1, 1, 1, 1, 1, 1, 0, 1, 1, 1, 1, 1, 1, 1, 1, 1, 1, 1, 1, 0, 0, 1, 0, 1, 0, 0, 1, 1, 1, 1, 0, 1, 1, 1, 1, 0, 1, 0, 1, 0, 1, 1, 1, 1, 0, 1, 1, 0, 1, 1, 1, 1, 1, 1, 1, 1, 1, 1, 1, 0, 1, 1, 1, 1, 1, 0, 1, 1, 1, 1, 1, 1, 0, 1, 0, 1, 1, 1, 0, 0, 1, 1, 1, 0, 1, 1, 0, 0, 1, 1, 0, 1, 1, 1, 1, 1, 1, 0, 0, 1, 1, 1, 0, 1, 0, 1, 0, 0, 1, 0, 1, 1, 0, 1, 1, 1, 0, 1, 1, 1, 1, 0, 1, 1, 1, 1, 1, 1, 1, 1, 1, 1, 1, 1, 1, 1, 1, 0, 1, 1, 1, 0, 0, 1, 0, 0, 1, 1, 1, 1, 1, 1, 1, 1, 1, 1, 1, 0, 0, 1, 0, 1, 0, 0, 0, 0, 1, 1, 0, 1, 1, 1, 1, 1, 1, 1, 0, 0, 0, 1, 1, 1, 1, 1, 1, 1, 1, 0, 0, 1, 1, 0, 1, 0, 1, 1, 1, 1, 1, 1, 1, 1, 0, 1, 0, 1, 0, 0, 1, 0, 1, 0, 1, 1, 1, 1, 1, 0, 1, 1, 1, 0, 0, 1, 0, 1, 1, 1, 0, 1, 0, 1, 1, 1, 1, 1, 1, 1, 1, 1, 1, 1, 1, 1, 1, 0, 0, 1, 1, 1, 1, 1, 0, 1, 0, 1, 1, 0, 1, 0, 1, 0, 1, 0, 1, 1, 1, 0, 1, 1, 0, 1, 1, 1, 1, 1, 0, 1, 1, 1, 1, 1, 1, 0, 1, 1, 0, 1, 1, 1, 1, 1, 0, 0, 1, 0, 1, 0, 1, 1, 0, 1, 0, 1, 1, 1, 1, 1, 1, 1, 1, 1, 0, 1, 1, 1, 0, 1, 0, 1, 1, 1, 1, 0, 1, 1, 1, 0, 1, 1, 1, 1, 0, 0, 0, 1, 1, 1, 1, 0, 1, 1, 1, 1, 1, 0, 0, 0, 1, 1, 1, 1, 1, 0, 0, 1, 0, 0, 1, 1, 1, 1, 1, 1, 0, 0, 1, 0, 0, 0, 1, 1, 1, 1, 1, 1, 1, 1, 1, 1, 1, 0, 0, 1, 1, 0, 1, 1, 0, 0, 1, 0, 1, 1, 0, 1, 0, 1, 0, 1, 1, 0, 1, 0, 1, 1, 1, 1, 1, 0, 1, 1, 0, 0, 1, 1, 1, 1, 0, 1, 0, 0, 1, 1, 1, 1, 1, 1, 1, 0, 1, 0, 1, 1, 1, 1, 1, 0, 1, 0, 1, 1, 1, 1, 1, 1, 1, 1, 1, 0, 1, 0, 1, 0, 0, 1, 1, 0, 1, 1, 1, 1, 0, 1, 0, 0, 1, 1, 0, 0, 0, 0, 0, 0, 1, 1, 0, 1, 1, 1, 1, 1, 1, 1, 1, 1, 1, 1, 1, 1, 0, 1, 0, 1, 1, 0, 0, 0, 1, 1, 1, 0, 1, 1, 1, 1, 1, 1, 1, 1, 1, 1, 1, 0, 0, 1, 1, 1, 1, 1, 1, 0, 0, 1, 0, 1, 0, 1, 1, 0, 0, 0, 0, 0, 1, 1, 1, 1, 1, 0, 1, 1, 1, 0, 0, 1, 1, 1, 1, 1, 0, 1, 1, 1, 0, 1, 1, 1, 0, 1, 0, 1, 1, 1, 1, 1, 1, 1, 1, 1, 1, 0, 0, 0, 1, 1, 1, 1, 1, 0, 1, 1, 0, 1, 0, 1, 0, 1, 1, 0, 1, 1, 1, 1, 1, 1, 1, 1, 0, 0, 1, 0, 1, 1, 0, 1, 1, 1, 1, 1, 1, 1, 0, 0, 1, 1, 1, 1, 0, 0, 1, 1, 1, 1, 1, 0, 1, 0, 1, 1, 1, 1, 1, 0, 1, 1, 1, 1, 1, 0, 0, 1, 1, 1, 0, 1, 1, 1, 1, 0, 0, 0, 1, 1, 1, 1, 0, 0, 1, 1, 1, 1, 0, 1, 0, 1, 1, 1, 1, 1, 1, 1, 1, 1, 0, 1, 1, 1, 0, 0, 1, 1, 0, 0, 1, 0, 1, 1, 1, 1, 1, 1, 1, 0, 0, 1, 0, 0, 1, 1, 1, 0, 1, 1, 0, 1, 1, 0, 0, 1, 0, 0, 0, 0, 0, 1, 1, 1, 1, 1, 0, 1, 0, 1, 1, 1, 1, 0, 1, 1, 0, 0, 0, 1, 1, 0, 0, 1, 1, 1, 1, 0, 1, 1, 1, 1, 1, 0, 1, 1, 1, 1, 0, 1, 0, 1, 1, 1, 1, 0, 1, 1, 1, 1, 0, 1, 1, 1, 0, 1, 1, 0, 1, 1, 0, 0, 0, 1, 1, 1, 0, 1, 0, 1, 1, 1, 1, 1, 1, 1, 0, 1, 0, 0, 1, 1, 1, 1, 0, 0, 0, 0, 1, 0, 0, 1, 0, 1, 0, 0, 0, 1]\n"
     ]
    }
   ],
   "source": [
    "print(fu_metric_results)"
   ]
  },
  {
   "cell_type": "code",
   "execution_count": 15,
   "id": "780dc800-a512-4e1c-86d1-4bba65b1a95a",
   "metadata": {},
   "outputs": [
    {
     "name": "stdout",
     "output_type": "stream",
     "text": [
      "[0, 1, 1, 0, 0, 1, 1, 1, 0, 1, 1, 1, 1, 1, 1, 1, 1, 1, 0, 0, 1, 1, 0, 0, 1, 1, 0, 1, 1, 1, 1, 1, 0, 1, 0, 1, 0, 1, 1, 1, 0, 1, 1, 0, 1, 1, 1, 0, 0, 1, 1, 1, 1, 1, 1, 1, 0, 0, 1, 1, 1, 1, 1, 1, 1, 1, 1, 0, 0, 0, 0, 1, 0, 0, 0, 0, 1, 1, 1, 1, 0, 1, 1, 0, 1, 1, 1, 1, 1, 1, 1, 0, 1, 1, 1, 1, 1, 1, 1, 0, 0, 1, 1, 0, 1, 1, 1, 1, 0, 0, 1, 1, 1, 1, 1, 1, 1, 1, 0, 1, 0, 1, 0, 0, 1, 0, 1, 1, 1, 1, 1, 1, 1, 1, 1, 1, 0, 1, 1, 0, 0, 1, 0, 1, 1, 1, 1, 1, 0, 0, 1, 0, 1, 1, 1, 1, 1, 1, 0, 1, 0, 0, 1, 0, 1, 1, 0, 0, 1, 1, 1, 0, 1, 1, 1, 1, 1, 1, 1, 1, 1, 0, 1, 1, 1, 1, 1, 1, 1, 1, 1, 1, 1, 1, 0, 0, 1, 0, 1, 0, 0, 1, 1, 1, 1, 0, 1, 1, 1, 1, 0, 1, 0, 1, 0, 1, 1, 1, 1, 0, 1, 1, 0, 1, 1, 1, 1, 1, 1, 1, 1, 1, 1, 1, 0, 1, 1, 1, 1, 1, 0, 1, 1, 1, 1, 1, 1, 0, 1, 0, 1, 1, 1, 0, 0, 1, 1, 1, 0, 1, 1, 0, 0, 1, 1, 0, 1, 1, 1, 1, 1, 1, 0, 0, 1, 1, 1, 0, 1, 0, 1, 0, 0, 1, 0, 1, 1, 0, 1, 1, 1, 0, 1, 1, 1, 1, 0, 1, 1, 1, 1, 1, 1, 1, 1, 1, 1, 1, 1, 1, 1, 1, 0, 1, 1, 1, 0, 0, 1, 0, 0, 1, 1, 1, 1, 1, 1, 1, 1, 1, 1, 1, 0, 0, 1, 0, 1, 0, 0, 0, 0, 1, 1, 0, 1, 1, 1, 1, 1, 1, 1, 0, 0, 0, 1, 1, 1, 1, 1, 1, 1, 1, 0, 0, 1, 1, 0, 1, 0, 1, 1, 1, 1, 1, 1, 1, 1, 0, 1, 0, 1, 0, 0, 1, 0, 1, 0, 1, 1, 1, 1, 1, 0, 1, 1, 1, 0, 0, 1, 0, 1, 1, 1, 0, 1, 0, 1, 1, 1, 1, 1, 1, 1, 1, 1, 1, 1, 1, 1, 1, 0, 0, 1, 1, 1, 1, 1, 0, 1, 0, 1, 1, 0, 1, 0, 1, 0, 1, 0, 1, 1, 1, 0, 1, 1, 0, 1, 1, 1, 1, 1, 0, 1, 1, 1, 1, 1, 1, 0, 1, 1, 0, 1, 1, 1, 1, 1, 0, 0, 1, 0, 1, 0, 1, 1, 0, 1, 0, 1, 1, 1, 1, 1, 1, 1, 1, 1, 0, 1, 1, 1, 0, 1, 0, 1, 1, 1, 1, 0, 1, 1, 1, 0, 1, 1, 1, 1, 0, 0, 0, 1, 1, 1, 1, 0, 1, 1, 1, 1, 1, 0, 0, 0, 1, 1, 1, 1, 1, 0, 0, 1, 0, 0, 1, 1, 1, 1, 1, 1, 0, 0, 1, 0, 0, 0, 1, 1, 1, 1, 1, 1, 1, 1, 1, 1, 1, 0, 0, 1, 1, 0, 1, 1, 0, 0, 1, 0, 1, 1, 0, 1, 0, 1, 0, 1, 1, 0, 1, 0, 1, 1, 1, 1, 1, 0, 1, 1, 0, 0, 1, 1, 1, 1, 0, 1, 0, 0, 1, 1, 1, 1, 1, 1, 1, 0, 1, 0, 1, 1, 1, 1, 1, 0, 1, 0, 1, 1, 1, 1, 1, 1, 1, 1, 1, 0, 1, 0, 1, 0, 0, 1, 1, 0, 1, 1, 1, 1, 0, 1, 0, 0, 1, 1, 0, 0, 0, 0, 0, 0, 1, 1, 0, 1, 1, 1, 1, 1, 1, 1, 1, 1, 1, 1, 1, 1, 0, 1, 0, 1, 1, 0, 0, 0, 1, 1, 1, 0, 1, 1, 1, 1, 1, 1, 1, 1, 1, 1, 1, 0, 0, 1, 1, 1, 1, 1, 1, 0, 0, 1, 0, 1, 0, 1, 1, 0, 0, 0, 0, 0, 1, 1, 1, 1, 1, 0, 1, 1, 1, 0, 0, 1, 1, 1, 1, 1, 0, 1, 1, 1, 0, 1, 1, 1, 0, 1, 0, 1, 1, 1, 1, 1, 1, 1, 1, 1, 1, 0, 0, 0, 1, 1, 1, 1, 1, 0, 1, 1, 0, 1, 0, 1, 0, 1, 1, 0, 1, 1, 1, 1, 1, 1, 1, 1, 0, 0, 1, 0, 1, 1, 0, 1, 1, 1, 1, 1, 1, 1, 0, 0, 1, 1, 1, 1, 0, 0, 1, 1, 1, 1, 1, 0, 1, 0, 1, 1, 1, 1, 1, 0, 1, 1, 1, 1, 1, 0, 0, 1, 1, 1, 0, 1, 1, 1, 1, 0, 0, 0, 1, 1, 1, 1, 0, 0, 1, 1, 1, 1, 0, 1, 0, 1, 1, 1, 1, 1, 1, 1, 1, 1, 0, 1, 1, 1, 0, 0, 1, 1, 0, 0, 1, 0, 1, 1, 1, 1, 1, 1, 1, 0, 0, 1, 0, 0, 1, 1, 1, 0, 1, 1, 0, 1, 1, 0, 0, 1, 0, 0, 0, 0, 0, 1, 1, 1, 1, 1, 0, 1, 0, 1, 1, 1, 1, 0, 1, 1, 0, 0, 0, 1, 1, 0, 0, 1, 1, 1, 1, 0, 1, 1, 1, 1, 1, 0, 1, 1, 1, 1, 0, 1, 0, 1, 1, 1, 1, 0, 1, 1, 1, 1, 0, 1, 1, 1, 0, 1, 1, 0, 1, 1, 0, 0, 0, 1, 1, 1, 0, 1, 0, 1, 1, 1, 1, 1, 1, 1, 0, 1, 0, 0, 1, 1, 1, 1, 0, 0, 0, 0, 1, 0, 0, 1, 0, 1, 0, 0, 0, 1]\n"
     ]
    }
   ],
   "source": [
    "print(ad_metric_results)"
   ]
  },
  {
   "cell_type": "code",
   "execution_count": 16,
   "id": "b1c8d833-15d4-4c82-882c-d4bcae33831a",
   "metadata": {},
   "outputs": [
    {
     "name": "stdout",
     "output_type": "stream",
     "text": [
      "{'0': ['no_retrieval'], '3': ['no_retrieval'], '4': ['no_retrieval', 'retrieval_4'], '8': ['retrieval_4'], '18': ['retrieval_4'], '19': ['no_retrieval'], '22': ['no_retrieval'], '23': ['no_retrieval'], '26': ['retrieval_4'], '32': ['no_retrieval'], '34': ['no_retrieval', 'retrieval_0', 'retrieval_2', 'retrieval_4'], '36': ['no_retrieval'], '40': ['no_retrieval'], '43': ['no_retrieval'], '47': ['no_retrieval'], '48': ['no_retrieval'], '56': ['no_retrieval'], '57': ['no_retrieval', 'retrieval_0', 'retrieval_1', 'retrieval_4'], '67': ['no_retrieval'], '68': ['no_retrieval'], '69': ['no_retrieval', 'retrieval_4'], '70': ['no_retrieval'], '72': ['no_retrieval'], '73': ['no_retrieval'], '74': ['no_retrieval', 'retrieval_4'], '75': ['retrieval_2', 'retrieval_4'], '80': ['no_retrieval'], '83': ['no_retrieval'], '91': ['no_retrieval', ''], '99': ['retrieval_4'], '100': ['no_retrieval'], '103': ['no_retrieval'], '108': ['retrieval_4'], '109': ['no_retrieval'], '118': ['no_retrieval', 'retrieval_4'], '120': ['retrieval_4'], '122': ['no_retrieval'], '123': ['no_retrieval'], '125': ['no_retrieval', ''], '136': ['retrieval_4'], '139': ['no_retrieval'], '140': ['retrieval_4'], '142': ['no_retrieval', 'retrieval_0', 'retrieval_1', 'retrieval_4'], '148': ['retrieval_4'], '149': ['no_retrieval', ''], '151': ['no_retrieval'], '158': ['retrieval_4'], '160': ['no_retrieval'], '161': ['no_retrieval'], '163': ['no_retrieval', 'retrieval_4'], '166': ['no_retrieval'], '167': ['no_retrieval', 'retrieval_2', 'retrieval_3', 'retrieval_4', 'retrieval_1'], '171': ['no_retrieval', 'retrieval_4'], '181': ['retrieval_4'], '194': ['no_retrieval', 'retrieval_4'], '195': ['retrieval_4'], '197': ['no_retrieval'], '199': ['no_retrieval', 'retrieval_2', 'retrieval_4'], '200': ['retrieval_4'], '205': ['retrieval_4'], '210': ['retrieval_4'], '212': ['retrieval_4'], '214': ['retrieval_4'], '219': ['no_retrieval'], '222': ['no_retrieval'], '234': ['no_retrieval', 'retrieval_4'], '240': ['no_retrieval', 'retrieval_4'], '247': ['retrieval_4'], '249': ['no_retrieval'], '253': ['no_retrieval'], '254': ['no_retrieval', 'retrieval_4'], '258': ['retrieval_4'], '261': ['no_retrieval'], '262': ['no_retrieval', 'retrieval_4'], '265': ['no_retrieval'], '272': ['retrieval_4'], '273': ['no_retrieval'], '277': ['no_retrieval'], '279': ['retrieval_4'], '281': ['no_retrieval'], '282': ['retrieval_4'], '284': ['no_retrieval'], '287': ['no_retrieval'], '291': ['retrieval_4'], '296': ['retrieval_1', 'retrieval_4'], '312': ['retrieval_4'], '316': ['no_retrieval', 'retrieval_1', 'retrieval_4', 'retrieval_3'], '317': ['no_retrieval', 'retrieval_0', 'retrieval_2', 'retrieval_4'], '319': ['retrieval_4'], '320': ['no_retrieval'], '332': ['no_retrieval'], '333': ['retrieval_4'], '335': ['no_retrieval', 'retrieval_4'], '337': ['no_retrieval', 'retrieval_1', 'retrieval_3', 'retrieval_4'], '338': ['no_retrieval'], '339': ['no_retrieval'], '340': ['no_retrieval'], '343': ['no_retrieval'], '351': ['retrieval_4'], '352': ['retrieval_0', 'retrieval_2', 'retrieval_4'], '353': ['retrieval_1', 'retrieval_4', 'retrieval_3'], '362': ['no_retrieval', 'retrieval_1', 'retrieval_4'], '363': ['retrieval_4'], '366': ['no_retrieval'], '368': ['no_retrieval', 'retrieval_1', 'retrieval_2', 'retrieval_4'], '377': ['no_retrieval'], '379': ['no_retrieval', 'retrieval_4'], '381': ['no_retrieval'], '382': ['no_retrieval'], '384': ['retrieval_4'], '386': ['no_retrieval', 'retrieval_4'], '392': ['no_retrieval'], '396': ['no_retrieval'], '397': ['no_retrieval', 'retrieval_4'], '399': ['no_retrieval', 'retrieval_4'], '403': ['no_retrieval'], '405': ['no_retrieval', 'retrieval_4'], '420': ['no_retrieval'], '421': ['no_retrieval'], '427': ['no_retrieval'], '429': ['no_retrieval'], '432': ['no_retrieval'], '434': ['no_retrieval'], '436': ['no_retrieval'], '438': ['retrieval_4'], '442': ['retrieval_4'], '445': ['retrieval_4'], '451': ['retrieval_4'], '458': ['no_retrieval', 'retrieval_4'], '461': ['no_retrieval'], '467': ['no_retrieval', ''], '468': ['no_retrieval'], '470': ['no_retrieval'], '472': ['no_retrieval'], '475': ['no_retrieval'], '477': ['retrieval_4'], '487': ['no_retrieval', 'retrieval_4'], '491': ['no_retrieval', 'retrieval_4'], '493': ['no_retrieval', ''], '498': ['no_retrieval'], '502': ['no_retrieval'], '507': ['retrieval_4'], '508': ['no_retrieval', ''], '509': ['no_retrieval'], '514': ['no_retrieval'], '520': ['no_retrieval'], '521': ['no_retrieval'], '522': ['no_retrieval'], '528': ['no_retrieval'], '529': ['retrieval_4'], '531': ['retrieval_4'], '532': ['no_retrieval'], '539': ['no_retrieval', 'retrieval_4'], '540': ['no_retrieval'], '542': ['no_retrieval', 'retrieval_4'], '543': ['no_retrieval'], '544': ['retrieval_4'], '556': ['no_retrieval', 'retrieval_4'], '557': ['no_retrieval'], '560': ['retrieval_4'], '563': ['no_retrieval'], '564': ['retrieval_3', 'retrieval_4', 'retrieval_2'], '566': ['retrieval_4'], '569': ['no_retrieval', 'retrieval_4'], '571': ['no_retrieval', 'retrieval_4'], '573': ['no_retrieval', ''], '576': ['no_retrieval', 'retrieval_4'], '578': ['no_retrieval'], '584': ['no_retrieval'], '587': ['no_retrieval'], '588': ['no_retrieval'], '593': ['no_retrieval'], '595': ['no_retrieval'], '596': ['retrieval_4'], '604': ['no_retrieval'], '606': ['no_retrieval'], '612': ['retrieval_4'], '614': ['retrieval_4'], '624': ['no_retrieval'], '626': ['no_retrieval'], '628': ['no_retrieval'], '629': ['no_retrieval'], '632': ['no_retrieval'], '637': ['retrieval_4'], '639': ['retrieval_4'], '640': ['no_retrieval', 'retrieval_4'], '643': ['no_retrieval'], '644': ['no_retrieval'], '645': ['no_retrieval'], '646': ['no_retrieval'], '647': ['no_retrieval'], '648': ['retrieval_4'], '651': ['no_retrieval'], '665': ['no_retrieval'], '667': ['no_retrieval'], '670': ['no_retrieval'], '671': ['no_retrieval', 'retrieval_4'], '672': ['no_retrieval'], '676': ['retrieval_4'], '688': ['no_retrieval'], '689': ['retrieval_4'], '696': ['no_retrieval'], '697': ['retrieval_4'], '699': ['no_retrieval', 'retrieval_2', 'retrieval_4'], '701': ['no_retrieval'], '704': ['no_retrieval'], '705': ['no_retrieval'], '706': ['retrieval_4'], '707': ['retrieval_4'], '708': ['no_retrieval'], '714': ['no_retrieval'], '718': ['retrieval_4'], '719': ['retrieval_4'], '725': ['no_retrieval'], '729': ['no_retrieval', 'retrieval_2', 'retrieval_4', 'retrieval_3'], '733': ['retrieval_2', 'retrieval_4'], '735': ['no_retrieval', ''], '746': ['no_retrieval', 'retrieval_4'], '747': ['no_retrieval'], '748': ['no_retrieval'], '754': ['no_retrieval'], '757': ['no_retrieval', 'retrieval_4'], '759': ['no_retrieval'], '761': ['retrieval_1', 'retrieval_4'], '764': ['no_retrieval'], '773': ['no_retrieval'], '774': ['no_retrieval'], '776': ['no_retrieval', 'retrieval_4'], '779': ['no_retrieval'], '787': ['no_retrieval'], '788': ['no_retrieval'], '793': ['no_retrieval'], '794': ['no_retrieval'], '800': ['retrieval_4'], '802': ['no_retrieval', 'retrieval_4'], '808': ['retrieval_4'], '814': ['no_retrieval'], '815': ['no_retrieval', 'retrieval_4'], '819': ['no_retrieval'], '824': ['no_retrieval'], '825': ['retrieval_4'], '826': ['no_retrieval'], '831': ['no_retrieval'], '832': ['no_retrieval', 'retrieval_4'], '837': ['no_retrieval'], '839': ['no_retrieval'], '849': ['no_retrieval'], '853': ['no_retrieval', 'retrieval_4'], '854': ['no_retrieval', 'retrieval_4'], '857': ['no_retrieval'], '858': ['no_retrieval', 'retrieval_4'], '860': ['no_retrieval', 'retrieval_0', 'retrieval_3', 'retrieval_4'], '868': ['no_retrieval'], '869': ['no_retrieval'], '871': ['no_retrieval'], '872': ['retrieval_4'], '876': ['retrieval_4'], '879': ['no_retrieval', 'retrieval_1', 'retrieval_2', 'retrieval_4'], '882': ['no_retrieval'], '883': ['retrieval_4', 'retrieval_3'], '885': ['retrieval_4'], '886': ['no_retrieval'], '887': ['no_retrieval', ''], '888': ['retrieval_4'], '889': ['no_retrieval', 'retrieval_4'], '895': ['retrieval_4'], '897': ['no_retrieval'], '902': ['no_retrieval', 'retrieval_4'], '905': ['retrieval_4'], '906': ['no_retrieval'], '907': ['retrieval_4'], '910': ['no_retrieval'], '911': ['no_retrieval', 'retrieval_4'], '916': ['no_retrieval'], '922': ['no_retrieval'], '927': ['retrieval_4'], '929': ['retrieval_4'], '934': ['retrieval_4'], '939': ['no_retrieval'], '943': ['no_retrieval'], '946': ['no_retrieval'], '949': ['retrieval_4'], '950': ['retrieval_4'], '951': ['no_retrieval', 'retrieval_4'], '955': ['no_retrieval'], '957': ['no_retrieval', 'retrieval_0', 'retrieval_1', 'retrieval_4'], '965': ['no_retrieval'], '967': ['no_retrieval', 'retrieval_4'], '968': ['no_retrieval'], '973': ['retrieval_4'], '974': ['no_retrieval'], '975': ['no_retrieval'], '976': ['retrieval_4'], '978': ['retrieval_3', 'retrieval_4'], '979': ['no_retrieval'], '981': ['no_retrieval'], '983': ['no_retrieval', 'retrieval_4'], '984': ['no_retrieval'], '985': ['no_retrieval', 'retrieval_4']}\n"
     ]
    }
   ],
   "source": [
    "print(ad_partitial_right)"
   ]
  },
  {
   "cell_type": "code",
   "execution_count": 17,
   "id": "0e1e2e78-f91e-418a-8f40-4c0f696cd6ef",
   "metadata": {},
   "outputs": [
    {
     "name": "stdout",
     "output_type": "stream",
     "text": [
      "{'0': ['no_retrieval'], '3': ['no_retrieval'], '4': ['no_retrieval', 'retrieval_4'], '8': ['retrieval_4'], '18': ['retrieval_4'], '19': ['no_retrieval'], '22': ['no_retrieval'], '23': ['no_retrieval'], '26': ['retrieval_4'], '32': ['no_retrieval'], '34': ['no_retrieval', 'retrieval_0', 'retrieval_2', 'retrieval_4'], '36': ['no_retrieval'], '40': ['no_retrieval'], '43': ['no_retrieval'], '47': ['no_retrieval'], '48': ['no_retrieval'], '56': ['no_retrieval'], '57': ['no_retrieval', 'retrieval_0', 'retrieval_1', 'retrieval_4'], '67': ['no_retrieval'], '68': ['no_retrieval'], '69': ['no_retrieval', 'retrieval_4'], '70': ['no_retrieval'], '72': ['no_retrieval'], '73': ['no_retrieval'], '74': ['no_retrieval', 'retrieval_4'], '75': ['retrieval_2', 'retrieval_4'], '80': ['no_retrieval'], '83': ['no_retrieval'], '91': ['no_retrieval', ''], '99': ['retrieval_4'], '100': ['no_retrieval'], '103': ['no_retrieval'], '108': ['retrieval_4'], '109': ['no_retrieval'], '118': ['no_retrieval', 'retrieval_4'], '120': ['retrieval_4'], '122': ['no_retrieval'], '123': ['no_retrieval'], '125': ['no_retrieval', ''], '136': ['retrieval_4'], '139': ['no_retrieval'], '140': ['retrieval_4'], '142': ['no_retrieval', 'retrieval_0', 'retrieval_1', 'retrieval_4'], '148': ['retrieval_4'], '149': ['no_retrieval', ''], '151': ['no_retrieval'], '158': ['retrieval_4'], '160': ['no_retrieval'], '161': ['no_retrieval'], '163': ['no_retrieval', 'retrieval_4'], '166': ['no_retrieval'], '167': ['no_retrieval', 'retrieval_2', 'retrieval_3', 'retrieval_4', 'retrieval_1'], '171': ['no_retrieval', 'retrieval_4'], '181': ['retrieval_4'], '194': ['no_retrieval', 'retrieval_4'], '195': ['retrieval_4'], '197': ['no_retrieval'], '199': ['no_retrieval', 'retrieval_2', 'retrieval_4'], '200': ['retrieval_4'], '205': ['retrieval_4'], '210': ['retrieval_4'], '212': ['retrieval_4'], '214': ['retrieval_4'], '219': ['no_retrieval'], '222': ['no_retrieval'], '234': ['no_retrieval', 'retrieval_4'], '240': ['no_retrieval', 'retrieval_4'], '247': ['retrieval_4'], '249': ['no_retrieval'], '253': ['no_retrieval'], '254': ['no_retrieval', 'retrieval_4'], '258': ['retrieval_4'], '261': ['no_retrieval'], '262': ['no_retrieval', 'retrieval_4'], '265': ['no_retrieval'], '272': ['retrieval_4'], '273': ['no_retrieval'], '277': ['no_retrieval'], '279': ['retrieval_4'], '281': ['no_retrieval'], '282': ['retrieval_4'], '284': ['no_retrieval'], '287': ['no_retrieval'], '291': ['retrieval_4'], '296': ['retrieval_1', 'retrieval_4'], '312': ['retrieval_4'], '316': ['no_retrieval', 'retrieval_1', 'retrieval_4', 'retrieval_3'], '317': ['no_retrieval', 'retrieval_0', 'retrieval_2', 'retrieval_4'], '319': ['retrieval_4'], '320': ['no_retrieval'], '332': ['no_retrieval'], '333': ['retrieval_4'], '335': ['no_retrieval', 'retrieval_4'], '337': ['no_retrieval', 'retrieval_1', 'retrieval_3', 'retrieval_4'], '338': ['no_retrieval'], '339': ['no_retrieval'], '340': ['no_retrieval'], '343': ['no_retrieval'], '351': ['retrieval_4'], '352': ['retrieval_0', 'retrieval_2', 'retrieval_4'], '353': ['retrieval_1', 'retrieval_4', 'retrieval_3'], '362': ['no_retrieval', 'retrieval_1', 'retrieval_4'], '363': ['retrieval_4'], '366': ['no_retrieval'], '368': ['no_retrieval', 'retrieval_1', 'retrieval_2', 'retrieval_4'], '377': ['no_retrieval'], '379': ['no_retrieval', 'retrieval_4'], '381': ['no_retrieval'], '382': ['no_retrieval'], '384': ['retrieval_4'], '386': ['no_retrieval', 'retrieval_4'], '392': ['no_retrieval'], '396': ['no_retrieval'], '397': ['no_retrieval', 'retrieval_4'], '399': ['no_retrieval', 'retrieval_4'], '403': ['no_retrieval'], '405': ['no_retrieval', 'retrieval_4'], '420': ['no_retrieval'], '421': ['no_retrieval'], '427': ['no_retrieval'], '429': ['no_retrieval'], '432': ['no_retrieval'], '434': ['no_retrieval'], '436': ['no_retrieval'], '438': ['retrieval_4'], '442': ['retrieval_4'], '445': ['retrieval_4'], '451': ['retrieval_4'], '458': ['no_retrieval', 'retrieval_4'], '461': ['no_retrieval'], '467': ['no_retrieval', ''], '468': ['no_retrieval'], '470': ['no_retrieval'], '472': ['no_retrieval'], '475': ['no_retrieval'], '477': ['retrieval_4'], '487': ['no_retrieval', 'retrieval_4'], '491': ['no_retrieval', 'retrieval_4'], '493': ['no_retrieval', ''], '498': ['no_retrieval'], '502': ['no_retrieval'], '507': ['retrieval_4'], '508': ['no_retrieval', ''], '509': ['no_retrieval'], '514': ['no_retrieval'], '520': ['no_retrieval'], '521': ['no_retrieval'], '522': ['no_retrieval'], '528': ['no_retrieval'], '529': ['retrieval_4'], '531': ['retrieval_4'], '532': ['no_retrieval'], '539': ['no_retrieval', 'retrieval_4'], '540': ['no_retrieval'], '542': ['no_retrieval', 'retrieval_4'], '543': ['no_retrieval'], '544': ['retrieval_4'], '556': ['no_retrieval', 'retrieval_4'], '557': ['no_retrieval'], '560': ['retrieval_4'], '563': ['no_retrieval'], '564': ['retrieval_3', 'retrieval_4', 'retrieval_2'], '566': ['retrieval_4'], '569': ['no_retrieval', 'retrieval_4'], '571': ['no_retrieval', 'retrieval_4'], '573': ['no_retrieval', ''], '576': ['no_retrieval', 'retrieval_4'], '578': ['no_retrieval'], '584': ['no_retrieval'], '587': ['no_retrieval'], '588': ['no_retrieval'], '593': ['no_retrieval'], '595': ['no_retrieval'], '596': ['retrieval_4'], '604': ['no_retrieval'], '606': ['no_retrieval'], '612': ['retrieval_4'], '614': ['retrieval_4'], '624': ['no_retrieval'], '626': ['no_retrieval'], '628': ['no_retrieval'], '629': ['no_retrieval'], '632': ['no_retrieval'], '637': ['retrieval_4'], '639': ['retrieval_4'], '640': ['no_retrieval', 'retrieval_4'], '643': ['no_retrieval'], '644': ['no_retrieval'], '645': ['no_retrieval'], '646': ['no_retrieval'], '647': ['no_retrieval'], '648': ['retrieval_4'], '651': ['no_retrieval'], '665': ['no_retrieval'], '667': ['no_retrieval'], '670': ['no_retrieval'], '671': ['no_retrieval', 'retrieval_4'], '672': ['no_retrieval'], '676': ['retrieval_4'], '688': ['no_retrieval'], '689': ['retrieval_4'], '696': ['no_retrieval'], '697': ['retrieval_4'], '699': ['no_retrieval', 'retrieval_2', 'retrieval_4'], '701': ['no_retrieval'], '704': ['no_retrieval'], '705': ['no_retrieval'], '706': ['retrieval_4'], '707': ['retrieval_4'], '708': ['no_retrieval'], '714': ['no_retrieval'], '718': ['retrieval_4'], '719': ['retrieval_4'], '725': ['no_retrieval'], '729': ['no_retrieval', 'retrieval_2', 'retrieval_4', 'retrieval_3'], '733': ['retrieval_2', 'retrieval_4'], '735': ['no_retrieval', ''], '746': ['no_retrieval', 'retrieval_4'], '747': ['no_retrieval'], '748': ['no_retrieval'], '754': ['no_retrieval'], '757': ['no_retrieval', 'retrieval_4'], '759': ['no_retrieval'], '761': ['retrieval_1', 'retrieval_4'], '764': ['no_retrieval'], '773': ['no_retrieval'], '774': ['no_retrieval'], '776': ['no_retrieval', 'retrieval_4'], '779': ['no_retrieval'], '787': ['no_retrieval'], '788': ['no_retrieval'], '793': ['no_retrieval'], '794': ['no_retrieval'], '800': ['retrieval_4'], '802': ['no_retrieval', 'retrieval_4'], '808': ['retrieval_4'], '814': ['no_retrieval'], '815': ['no_retrieval', 'retrieval_4'], '819': ['no_retrieval'], '824': ['no_retrieval'], '825': ['retrieval_4'], '826': ['no_retrieval'], '831': ['no_retrieval'], '832': ['no_retrieval', 'retrieval_4'], '837': ['no_retrieval'], '839': ['no_retrieval'], '849': ['no_retrieval'], '853': ['no_retrieval', 'retrieval_4'], '854': ['no_retrieval', 'retrieval_4'], '857': ['no_retrieval'], '858': ['no_retrieval', 'retrieval_4'], '860': ['no_retrieval', 'retrieval_0', 'retrieval_3', 'retrieval_4'], '868': ['no_retrieval'], '869': ['no_retrieval'], '871': ['no_retrieval'], '872': ['retrieval_4'], '876': ['retrieval_4'], '879': ['no_retrieval', 'retrieval_1', 'retrieval_2', 'retrieval_4'], '882': ['no_retrieval'], '883': ['retrieval_4', 'retrieval_3'], '885': ['retrieval_4'], '886': ['no_retrieval'], '887': ['no_retrieval', ''], '888': ['retrieval_4'], '889': ['no_retrieval', 'retrieval_4'], '895': ['retrieval_4'], '897': ['no_retrieval'], '902': ['no_retrieval', 'retrieval_4'], '905': ['retrieval_4'], '906': ['no_retrieval'], '907': ['retrieval_4'], '910': ['no_retrieval'], '911': ['no_retrieval', 'retrieval_4'], '916': ['no_retrieval'], '922': ['no_retrieval'], '927': ['retrieval_4'], '929': ['retrieval_4'], '934': ['retrieval_4'], '939': ['no_retrieval'], '943': ['no_retrieval'], '946': ['no_retrieval'], '949': ['retrieval_4'], '950': ['retrieval_4'], '951': ['no_retrieval', 'retrieval_4'], '955': ['no_retrieval'], '957': ['no_retrieval', 'retrieval_0', 'retrieval_1', 'retrieval_4'], '965': ['no_retrieval'], '967': ['no_retrieval', 'retrieval_4'], '968': ['no_retrieval'], '973': ['retrieval_4'], '974': ['no_retrieval'], '975': ['no_retrieval'], '976': ['retrieval_4'], '978': ['retrieval_3', 'retrieval_4'], '979': ['no_retrieval'], '981': ['no_retrieval'], '983': ['no_retrieval', 'retrieval_4'], '984': ['no_retrieval'], '985': ['no_retrieval', 'retrieval_4']}\n"
     ]
    }
   ],
   "source": [
    "print(fu_partitial_right)"
   ]
  },
  {
   "cell_type": "code",
   "execution_count": 18,
   "id": "c5d4952d-0582-4809-8b2b-f0895c403952",
   "metadata": {},
   "outputs": [],
   "source": [
    "# 部分出错280项(其中查询但是没有选对的有262项)\n"
   ]
  },
  {
   "cell_type": "code",
   "execution_count": 19,
   "id": "d607922b-6e9f-4e35-9272-a95ce76583b6",
   "metadata": {},
   "outputs": [
    {
     "name": "stdout",
     "output_type": "stream",
     "text": [
      "9\n"
     ]
    }
   ],
   "source": [
    "num = 0\n",
    "for key,value in ad_partitial_right.items():\n",
    "    if len(value) > 1 and value[0] != \"no_retrieval\":\n",
    "        num += 1\n",
    "print(num)"
   ]
  },
  {
   "cell_type": "code",
   "execution_count": 20,
   "id": "e9fab869-f0d9-4778-a548-a12407b37933",
   "metadata": {},
   "outputs": [
    {
     "data": {
      "text/plain": [
       "299"
      ]
     },
     "execution_count": 20,
     "metadata": {},
     "output_type": "execute_result"
    }
   ],
   "source": [
    "len(fu_partitial_right)"
   ]
  },
  {
   "cell_type": "code",
   "execution_count": 21,
   "id": "dfdc1ca4-696a-409c-aec4-47527afe989c",
   "metadata": {},
   "outputs": [
    {
     "name": "stdout",
     "output_type": "stream",
     "text": [
      "0\n"
     ]
    }
   ],
   "source": [
    "length = len(no_metric_results)\n",
    "num = 0\n",
    "for i in range(length):\n",
    "    if ad_metric_results[i] == 0 and fu_metric_results[i] == 1:\n",
    "        num += 1\n",
    "print(num)"
   ]
  },
  {
   "cell_type": "code",
   "execution_count": 22,
   "id": "89e3ea7a-1014-4cb7-9679-78fa2fff421f",
   "metadata": {},
   "outputs": [
    {
     "name": "stdout",
     "output_type": "stream",
     "text": [
      "0\n"
     ]
    }
   ],
   "source": [
    "length = len(no_metric_results)\n",
    "num = 0\n",
    "for i in range(length):\n",
    "    if ad_metric_results[i] == 0 and no_metric_results[i] == 1:\n",
    "        num += 1\n",
    "        print(i)\n",
    "        break\n",
    "print(num)"
   ]
  },
  {
   "cell_type": "code",
   "execution_count": 23,
   "id": "c0c37bf2-c6a9-400b-805d-b941c114cbe1",
   "metadata": {},
   "outputs": [
    {
     "name": "stderr",
     "output_type": "stream",
     "text": [
      "IOPub data rate exceeded.\n",
      "The Jupyter server will temporarily stop sending output\n",
      "to the client in order to avoid crashing it.\n",
      "To change this limit, set the config variable\n",
      "`--ServerApp.iopub_data_rate_limit`.\n",
      "\n",
      "Current values:\n",
      "ServerApp.iopub_data_rate_limit=1000000.0 (bytes/sec)\n",
      "ServerApp.rate_limit_window=3.0 (secs)\n",
      "\n"
     ]
    }
   ],
   "source": [
    "print(ad_results)"
   ]
  },
  {
   "cell_type": "code",
   "execution_count": 24,
   "id": "27d780f4-6c92-4949-85dd-12a9c5eb80c7",
   "metadata": {},
   "outputs": [
    {
     "ename": "NameError",
     "evalue": "name 'probs_true_list' is not defined",
     "output_type": "error",
     "traceback": [
      "\u001b[0;31m---------------------------------------------------------------------------\u001b[0m",
      "\u001b[0;31mNameError\u001b[0m                                 Traceback (most recent call last)",
      "Cell \u001b[0;32mIn[24], line 3\u001b[0m\n\u001b[1;32m      1\u001b[0m \u001b[38;5;28;01mimport\u001b[39;00m \u001b[38;5;21;01mmath\u001b[39;00m\n\u001b[1;32m      2\u001b[0m true_num \u001b[38;5;241m=\u001b[39m [\u001b[38;5;241m0\u001b[39m \u001b[38;5;28;01mfor\u001b[39;00m _ \u001b[38;5;129;01min\u001b[39;00m \u001b[38;5;28mrange\u001b[39m(\u001b[38;5;241m10\u001b[39m)]\n\u001b[0;32m----> 3\u001b[0m \u001b[38;5;28;01mfor\u001b[39;00m prob \u001b[38;5;129;01min\u001b[39;00m \u001b[43mprobs_true_list\u001b[49m:\n\u001b[1;32m      4\u001b[0m     true_num[math\u001b[38;5;241m.\u001b[39mfloor(prob\u001b[38;5;241m*\u001b[39m\u001b[38;5;241m10\u001b[39m)] \u001b[38;5;241m+\u001b[39m\u001b[38;5;241m=\u001b[39m \u001b[38;5;241m1\u001b[39m\n\u001b[1;32m      5\u001b[0m false_num \u001b[38;5;241m=\u001b[39m [\u001b[38;5;241m0\u001b[39m \u001b[38;5;28;01mfor\u001b[39;00m _ \u001b[38;5;129;01min\u001b[39;00m \u001b[38;5;28mrange\u001b[39m(\u001b[38;5;241m10\u001b[39m)]\n",
      "\u001b[0;31mNameError\u001b[0m: name 'probs_true_list' is not defined"
     ]
    }
   ],
   "source": [
    "import math\n",
    "true_num = [0 for _ in range(10)]\n",
    "for prob in probs_true_list:\n",
    "    true_num[math.floor(prob*10)] += 1\n",
    "false_num = [0 for _ in range(10)]\n",
    "for prob in probs_false_list:\n",
    "    false_num[math.floor(prob*10)] += 1"
   ]
  },
  {
   "cell_type": "code",
   "execution_count": null,
   "id": "0ce9f36f-2bf5-4450-b8db-f9ebd07cfefa",
   "metadata": {},
   "outputs": [],
   "source": [
    "print(false_num)\n",
    "print(true_num)"
   ]
  },
  {
   "cell_type": "code",
   "execution_count": null,
   "id": "1baa7ebf-c452-49ba-ac0c-11889afe77f1",
   "metadata": {},
   "outputs": [],
   "source": []
  },
  {
   "cell_type": "code",
   "execution_count": null,
   "id": "1613e0f4-5256-4a7c-939e-56f011f77a54",
   "metadata": {},
   "outputs": [],
   "source": []
  }
 ],
 "metadata": {
  "kernelspec": {
   "display_name": "Python 3 (ipykernel)",
   "language": "python",
   "name": "python3"
  },
  "language_info": {
   "codemirror_mode": {
    "name": "ipython",
    "version": 3
   },
   "file_extension": ".py",
   "mimetype": "text/x-python",
   "name": "python",
   "nbconvert_exporter": "python",
   "pygments_lexer": "ipython3",
   "version": "3.10.14"
  }
 },
 "nbformat": 4,
 "nbformat_minor": 5
}
